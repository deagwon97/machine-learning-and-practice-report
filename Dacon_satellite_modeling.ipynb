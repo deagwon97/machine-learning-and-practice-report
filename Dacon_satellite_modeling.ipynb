{
  "nbformat": 4,
  "nbformat_minor": 0,
  "metadata": {
    "colab": {
      "name": "Dacon_satellite_modeling",
      "provenance": [],
      "collapsed_sections": [
        "0pUOc4bq-IrZ",
        "AQjRogEpOqpf",
        "w43T-PjAeKQH",
        "lLF_ukIBpsF8",
        "sgWijWc9ppd2",
        "u7bcUPnI8U1v",
        "B5Ow6PMBCC5p",
        "B5Xoj0wdq8od",
        "H2hHh4QR8Yqe",
        "RW75SnGL8j3J",
        "SXC1WVvK84oQ",
        "6gLmdoXtcTw3",
        "L3-T5YK4iKdl",
        "jyIYO6Igw7AR",
        "UzI4J-BfcOks",
        "UsH7XLAoLoXK",
        "SJqmyZSdHHjf",
        "1xEUxqPMeaSr",
        "1ycUZowMvj50",
        "UdQ5PYjOMDSK",
        "dWIM8oNPvobI",
        "SeZfSI5Jvs-3",
        "bnqHoIT6vw12",
        "vvTBx2DhMVcP",
        "53smqQGLvcly",
        "NyKdUh4zvWQ3",
        "v1cCPIB7Jj7m",
        "IOdGPz-VL5HL",
        "GFbvKmgbY_LY",
        "po4djQhS09Vs",
        "ExUmF9Y6o-wi",
        "zRPigPivnHLJ",
        "sORRSVVO_Dji",
        "wjwTKm9K_RDp",
        "r0PenhS0JSz2",
        "AcxsCrKfJipR",
        "nhmwcLjsoP75",
        "B99lwUcLoVJL",
        "rgsCneTsjjY9",
        "74NW9R1Osp1O",
        "W6oy__wmrDLO",
        "JQynLNq1y3JW"
      ],
      "machine_shape": "hm",
      "include_colab_link": true
    },
    "kernelspec": {
      "name": "python3",
      "display_name": "Python 3"
    }
  },
  "cells": [
    {
      "cell_type": "markdown",
      "metadata": {
        "id": "view-in-github",
        "colab_type": "text"
      },
      "source": [
        "<a href=\"https://colab.research.google.com/github/curiosity806/machine-learning-and-practice-report/blob/master/Dacon_satellite_modeling.ipynb\" target=\"_parent\"><img src=\"https://colab.research.google.com/assets/colab-badge.svg\" alt=\"Open In Colab\"/></a>"
      ]
    },
    {
      "cell_type": "code",
      "metadata": {
        "id": "oi-MWY4HOblX",
        "colab_type": "code",
        "colab": {
          "base_uri": "https://localhost:8080/",
          "height": 125
        },
        "outputId": "3f7b6cdc-dafc-4399-f47f-0dc88c156212"
      },
      "source": [
        "from google.colab import drive\n",
        "drive.mount('/content/drive')"
      ],
      "execution_count": 1,
      "outputs": [
        {
          "output_type": "stream",
          "text": [
            "Go to this URL in a browser: https://accounts.google.com/o/oauth2/auth?client_id=947318989803-6bn6qk8qdgf4n4g3pfee6491hc0brc4i.apps.googleusercontent.com&redirect_uri=urn%3aietf%3awg%3aoauth%3a2.0%3aoob&response_type=code&scope=email%20https%3a%2f%2fwww.googleapis.com%2fauth%2fdocs.test%20https%3a%2f%2fwww.googleapis.com%2fauth%2fdrive%20https%3a%2f%2fwww.googleapis.com%2fauth%2fdrive.photos.readonly%20https%3a%2f%2fwww.googleapis.com%2fauth%2fpeopleapi.readonly\n",
            "\n",
            "Enter your authorization code:\n",
            "··········\n",
            "Mounted at /content/drive\n"
          ],
          "name": "stdout"
        }
      ]
    },
    {
      "cell_type": "markdown",
      "metadata": {
        "id": "0pUOc4bq-IrZ",
        "colab_type": "text"
      },
      "source": [
        "## 데이터 받아오기"
      ]
    },
    {
      "cell_type": "code",
      "metadata": {
        "id": "mkzJr8AuLC4Z",
        "colab_type": "code",
        "colab": {}
      },
      "source": [
        "# 훈련 데이터\n",
        "!cp '/content/drive/My Drive/2020 Kaggle Study/data/train.npy' train.npy\n",
        "!cp '/content/drive/My Drive/2020 Kaggle Study/data/orbit_no_shuffle/train_orbit.npy' train_orbit.npy"
      ],
      "execution_count": 2,
      "outputs": []
    },
    {
      "cell_type": "markdown",
      "metadata": {
        "id": "lLF_ukIBpsF8",
        "colab_type": "text"
      },
      "source": [
        "## 1. 필요한 라이브러리 import"
      ]
    },
    {
      "cell_type": "markdown",
      "metadata": {
        "id": "ypPzbtU-qBTs",
        "colab_type": "text"
      },
      "source": [
        "필요한 라이브러리를 import합니다.  \n",
        " 저희는 처음 데이터를 numpy파일로 묶어주는 작업 이외의 모든 작업은 colab에서 진행했습니다."
      ]
    },
    {
      "cell_type": "code",
      "metadata": {
        "id": "L_GtuyOcp0zA",
        "colab_type": "code",
        "colab": {
          "base_uri": "https://localhost:8080/",
          "height": 380
        },
        "outputId": "053b2c34-2dcd-4344-b534-4f3acc22c02e"
      },
      "source": [
        "import glob\n",
        "import pandas as pd\n",
        "import numpy as np\n",
        "import matplotlib.pylab as plt\n",
        "import seaborn as sns\n",
        "from tqdm import tqdm\n",
        "import matplotlib.pyplot as plt\n",
        "import tensorflow as tf\n",
        "import os\n",
        "import random\n",
        "from tensorflow.keras.layers import Dense, Conv2D, Dropout, Conv2DTranspose, MaxPooling2D, BatchNormalization, Activation, concatenate, Input, GlobalAveragePooling2D\n",
        "from tensorflow.keras import Model\n",
        "import warnings\n",
        "import gc\n",
        "import matplotlib.pyplot as plt\n",
        "import matplotlib.animation as animation\n",
        "from scipy import stats\n",
        "from mpl_toolkits.axes_grid1 import make_axes_locatable\n",
        "\n",
        "warnings.filterwarnings(\"ignore\")\n",
        "\n",
        "# 재생산성을 위해 시드 고정\n",
        "np.random.seed(7)\n",
        "random.seed(7)\n",
        "tf.random.set_seed(7)\n",
        "\n",
        "# style 설정\n",
        "plt.style.use('default')\n",
        "plt.style.use('seaborn-colorblind')\n",
        "\n",
        "# basemap 설치\n",
        "#!apt install proj-bin libproj-dev libgeos-dev\n",
        "#!pip install https://github.com/matplotlib/basemap/archive/v1.1.0.tar.gz\n",
        "#!pip install https://github.com/matplotlib/basemap/archive/master.zip\n",
        "from mpl_toolkits.basemap import Basemap"
      ],
      "execution_count": 1,
      "outputs": [
        {
          "output_type": "stream",
          "text": [
            "/usr/local/lib/python3.6/dist-packages/statsmodels/tools/_testing.py:19: FutureWarning: pandas.util.testing is deprecated. Use the functions in the public API at pandas.testing instead.\n",
            "  import pandas.util.testing as tm\n"
          ],
          "name": "stderr"
        },
        {
          "output_type": "error",
          "ename": "ModuleNotFoundError",
          "evalue": "ignored",
          "traceback": [
            "\u001b[0;31m---------------------------------------------------------------------------\u001b[0m",
            "\u001b[0;31mModuleNotFoundError\u001b[0m                       Traceback (most recent call last)",
            "\u001b[0;32m<ipython-input-1-64e33f2ba4a9>\u001b[0m in \u001b[0;36m<module>\u001b[0;34m()\u001b[0m\n\u001b[1;32m     33\u001b[0m \u001b[0;31m#!pip install https://github.com/matplotlib/basemap/archive/v1.1.0.tar.gz\u001b[0m\u001b[0;34m\u001b[0m\u001b[0;34m\u001b[0m\u001b[0;34m\u001b[0m\u001b[0m\n\u001b[1;32m     34\u001b[0m \u001b[0;31m#!pip install https://github.com/matplotlib/basemap/archive/master.zip\u001b[0m\u001b[0;34m\u001b[0m\u001b[0;34m\u001b[0m\u001b[0;34m\u001b[0m\u001b[0m\n\u001b[0;32m---> 35\u001b[0;31m \u001b[0;32mfrom\u001b[0m \u001b[0mmpl_toolkits\u001b[0m\u001b[0;34m.\u001b[0m\u001b[0mbasemap\u001b[0m \u001b[0;32mimport\u001b[0m \u001b[0mBasemap\u001b[0m\u001b[0;34m\u001b[0m\u001b[0;34m\u001b[0m\u001b[0m\n\u001b[0m",
            "\u001b[0;31mModuleNotFoundError\u001b[0m: No module named 'mpl_toolkits.basemap'",
            "",
            "\u001b[0;31m---------------------------------------------------------------------------\u001b[0;32m\nNOTE: If your import is failing due to a missing package, you can\nmanually install dependencies using either !pip or !apt.\n\nTo view examples of installing some common dependencies, click the\n\"Open Examples\" button below.\n\u001b[0;31m---------------------------------------------------------------------------\u001b[0m\n"
          ]
        }
      ]
    },
    {
      "cell_type": "code",
      "metadata": {
        "id": "-W90_MfglD-5",
        "colab_type": "code",
        "colab": {}
      },
      "source": [
        "train = np.load('train.npy')\n",
        "train_orbit = np.load('train_orbit.npy')"
      ],
      "execution_count": 2,
      "outputs": []
    },
    {
      "cell_type": "code",
      "metadata": {
        "id": "vq5bKKYUe6bo",
        "colab_type": "code",
        "colab": {
          "base_uri": "https://localhost:8080/",
          "height": 34
        },
        "outputId": "6b366f92-036d-4c3a-b651-4c57ddacdf5b"
      },
      "source": [
        "test.shape"
      ],
      "execution_count": 6,
      "outputs": [
        {
          "output_type": "execute_result",
          "data": {
            "text/plain": [
              "(4921600, 15)"
            ]
          },
          "metadata": {
            "tags": []
          },
          "execution_count": 6
        }
      ]
    },
    {
      "cell_type": "code",
      "metadata": {
        "id": "m2KqenRKe__B",
        "colab_type": "code",
        "colab": {
          "base_uri": "https://localhost:8080/",
          "height": 364
        },
        "outputId": "bb8fa6f4-2b81-46a5-803d-6d7c92d67799"
      },
      "source": [
        "plt.hist(test[:,-1], bins = 10000)"
      ],
      "execution_count": 8,
      "outputs": [
        {
          "output_type": "execute_result",
          "data": {
            "text/plain": [
              "(array([2.295e+03, 0.000e+00, 0.000e+00, ..., 0.000e+00, 2.000e+00,\n",
              "        1.090e+02]),\n",
              " array([-9999.9    , -9998.87   , -9997.841  , ...,   297.93784,\n",
              "          298.9678 ,   299.9978 ], dtype=float32),\n",
              " <a list of 10000 Patch objects>)"
            ]
          },
          "metadata": {
            "tags": []
          },
          "execution_count": 8
        },
        {
          "output_type": "display_data",
          "data": {
            "image/png": "[encoded data removed]",
            "text/plain": [
              "<Figure size 432x288 with 1 Axes>"
            ]
          },
          "metadata": {
            "tags": [],
            "needs_background": "light"
          }
        }
      ]
    },
    {
      "cell_type": "code",
      "metadata": {
        "id": "4-QsxT97frkW",
        "colab_type": "code",
        "colab": {}
      },
      "source": [
        ""
      ],
      "execution_count": null,
      "outputs": []
    },
    {
      "cell_type": "markdown",
      "metadata": {
        "id": "ou_g7H39JHfs",
        "colab_type": "text"
      },
      "source": [
        "## 레포트 서론에 들어가는 이미지 생성"
      ]
    },
    {
      "cell_type": "code",
      "metadata": {
        "id": "rcFVTeJxssfx",
        "colab_type": "code",
        "colab": {
          "base_uri": "https://localhost:8080/",
          "height": 301
        },
        "outputId": "f9e478b8-9c9b-48d5-c29c-53e81fa83340"
      },
      "source": [
        "fig, axes = plt.subplots(nrows=4, ncols=3)\n",
        "fig = plt.figure(figsize = (5,20))\n",
        "for i in range(4):\n",
        "    for j in range(3):\n",
        "        if j == 2:\n",
        "            axes[i,j].imshow(train[i+210,:,:,-1])\n",
        "        else:\n",
        "            axes[i,j].imshow(train[i+210,:,:,j])\n",
        "\n",
        "        if i == 3:\n",
        "            if j == 2:\n",
        "                axes[i,j].set_xlabel(f'precipication', size=10)\n",
        "            else:\n",
        "                axes[i,j].set_xlabel(f'ch{j}', size=10)\n",
        "        if j == 0:\n",
        "            axes[i,j].set_ylabel(f'sample{i}', size=10)\n",
        "plt.show()"
      ],
      "execution_count": 3,
      "outputs": [
        {
          "output_type": "display_data",
          "data": {
            "image/png": "[encoded data removed]",
            "text/plain": [
              "<Figure size 432x288 with 12 Axes>"
            ]
          },
          "metadata": {
            "tags": [],
            "needs_background": "light"
          }
        },
        {
          "output_type": "display_data",
          "data": {
            "text/plain": [
              "<Figure size 360x1440 with 0 Axes>"
            ]
          },
          "metadata": {
            "tags": []
          }
        }
      ]
    },
    {
      "cell_type": "code",
      "metadata": {
        "id": "oHIK8lSXJwMD",
        "colab_type": "code",
        "colab": {
          "base_uri": "https://localhost:8080/",
          "height": 34
        },
        "outputId": "d6c724ef-8ced-4609-be2d-8319de63ecec"
      },
      "source": [
        "train.shape"
      ],
      "execution_count": 4,
      "outputs": [
        {
          "output_type": "execute_result",
          "data": {
            "text/plain": [
              "(76345, 40, 40, 15)"
            ]
          },
          "metadata": {
            "tags": []
          },
          "execution_count": 4
        }
      ]
    },
    {
      "cell_type": "markdown",
      "metadata": {
        "id": "gvRoGOiNDTiI",
        "colab_type": "text"
      },
      "source": [
        "## train, test split\n",
        "\n",
        "train은 90%, test는 10% 비율로 split"
      ]
    },
    {
      "cell_type": "code",
      "metadata": {
        "id": "x-M11-SG6fKl",
        "colab_type": "code",
        "colab": {
          "base_uri": "https://localhost:8080/",
          "height": 239
        },
        "outputId": "d895ff87-2d83-499e-87e0-406306065168"
      },
      "source": [
        "from sklearn.model_selection import train_test_split\n",
        "#-------------------------------------------------------------------------------\n",
        "#강수량 합 50미만 제거\n",
        "train_labels = []\n",
        "for i in range(len(train)):\n",
        "    sample_lable = train[i,:,:,-1].reshape(-1)\n",
        "    cutoff_labels = np.where(sample_lable < 0, 0, sample_lable)\n",
        "    if (cutoff_labels > 0).sum() >= 50:\n",
        "        train_labels.append(i)\n",
        "train = train[train_labels]\n",
        "#-------------------------------------------------------------------------------\n",
        "# feature, target 분리\n",
        "train = train.reshape([-1,15])\n",
        "#-------------------------------------------------------------------------------\n",
        "#train test split\n",
        "train, test = train_test_split(train, test_size = 0.1, shuffle = True,\n",
        "                                                    random_state = 1015)\n",
        "\n",
        "print(train.shape)\n",
        "print(test.shape)"
      ],
      "execution_count": 9,
      "outputs": [
        {
          "output_type": "error",
          "ename": "IndexError",
          "evalue": "ignored",
          "traceback": [
            "\u001b[0;31m---------------------------------------------------------------------------\u001b[0m",
            "\u001b[0;31mIndexError\u001b[0m                                Traceback (most recent call last)",
            "\u001b[0;32m<ipython-input-9-ff4dd70b32b2>\u001b[0m in \u001b[0;36m<module>\u001b[0;34m()\u001b[0m\n\u001b[1;32m      4\u001b[0m \u001b[0mtrain_labels\u001b[0m \u001b[0;34m=\u001b[0m \u001b[0;34m[\u001b[0m\u001b[0;34m]\u001b[0m\u001b[0;34m\u001b[0m\u001b[0;34m\u001b[0m\u001b[0m\n\u001b[1;32m      5\u001b[0m \u001b[0;32mfor\u001b[0m \u001b[0mi\u001b[0m \u001b[0;32min\u001b[0m \u001b[0mrange\u001b[0m\u001b[0;34m(\u001b[0m\u001b[0mlen\u001b[0m\u001b[0;34m(\u001b[0m\u001b[0mtrain\u001b[0m\u001b[0;34m)\u001b[0m\u001b[0;34m)\u001b[0m\u001b[0;34m:\u001b[0m\u001b[0;34m\u001b[0m\u001b[0;34m\u001b[0m\u001b[0m\n\u001b[0;32m----> 6\u001b[0;31m     \u001b[0msample_lable\u001b[0m \u001b[0;34m=\u001b[0m \u001b[0mtrain\u001b[0m\u001b[0;34m[\u001b[0m\u001b[0mi\u001b[0m\u001b[0;34m,\u001b[0m\u001b[0;34m:\u001b[0m\u001b[0;34m,\u001b[0m\u001b[0;34m:\u001b[0m\u001b[0;34m,\u001b[0m\u001b[0;34m-\u001b[0m\u001b[0;36m1\u001b[0m\u001b[0;34m]\u001b[0m\u001b[0;34m.\u001b[0m\u001b[0mreshape\u001b[0m\u001b[0;34m(\u001b[0m\u001b[0;34m-\u001b[0m\u001b[0;36m1\u001b[0m\u001b[0;34m)\u001b[0m\u001b[0;34m\u001b[0m\u001b[0;34m\u001b[0m\u001b[0m\n\u001b[0m\u001b[1;32m      7\u001b[0m     \u001b[0mcutoff_labels\u001b[0m \u001b[0;34m=\u001b[0m \u001b[0mnp\u001b[0m\u001b[0;34m.\u001b[0m\u001b[0mwhere\u001b[0m\u001b[0;34m(\u001b[0m\u001b[0msample_lable\u001b[0m \u001b[0;34m<\u001b[0m \u001b[0;36m0\u001b[0m\u001b[0;34m,\u001b[0m \u001b[0;36m0\u001b[0m\u001b[0;34m,\u001b[0m \u001b[0msample_lable\u001b[0m\u001b[0;34m)\u001b[0m\u001b[0;34m\u001b[0m\u001b[0;34m\u001b[0m\u001b[0m\n\u001b[1;32m      8\u001b[0m     \u001b[0;32mif\u001b[0m \u001b[0;34m(\u001b[0m\u001b[0mcutoff_labels\u001b[0m \u001b[0;34m>\u001b[0m \u001b[0;36m0\u001b[0m\u001b[0;34m)\u001b[0m\u001b[0;34m.\u001b[0m\u001b[0msum\u001b[0m\u001b[0;34m(\u001b[0m\u001b[0;34m)\u001b[0m \u001b[0;34m>=\u001b[0m \u001b[0;36m50\u001b[0m\u001b[0;34m:\u001b[0m\u001b[0;34m\u001b[0m\u001b[0;34m\u001b[0m\u001b[0m\n",
            "\u001b[0;31mIndexError\u001b[0m: too many indices for array"
          ]
        }
      ]
    },
    {
      "cell_type": "markdown",
      "metadata": {
        "id": "D-XR17nNDW0F",
        "colab_type": "text"
      },
      "source": [
        "## score함수 생성"
      ]
    },
    {
      "cell_type": "code",
      "metadata": {
        "id": "qTqp-_l08ygx",
        "colab_type": "code",
        "colab": {}
      },
      "source": [
        "from sklearn.metrics import f1_score\n",
        "\n",
        "def mae(y_true, y_pred) :\n",
        "    y_true, y_pred = np.array(y_true), np.array(y_pred)\n",
        "    y_true = y_true.reshape(1, -1)[0]\n",
        "    y_pred = y_pred.reshape(1, -1)[0]\n",
        "    over_threshold = y_true >= 0.1\n",
        "    return np.mean(np.abs(y_true[over_threshold] - y_pred[over_threshold]))\n",
        "    \n",
        "def fscore(y_true, y_pred):\n",
        "    y_true, y_pred = np.array(y_true), np.array(y_pred)\n",
        "    y_true = y_true.reshape(1, -1)[0]\n",
        "    y_pred = y_pred.reshape(1, -1)[0]\n",
        "    remove_NAs = y_true >= 0\n",
        "    y_true = np.where(y_true[remove_NAs] >= 0.1, 1, 0)\n",
        "    y_pred = np.where(y_pred[remove_NAs] >= 0.1, 1, 0)\n",
        "    return(f1_score(y_true, y_pred))\n",
        "\n",
        "def maeOverFscore(y_true, y_pred):\n",
        "    return mae(y_true, y_pred) / (fscore(y_true, y_pred) + 1e-07)"
      ],
      "execution_count": 5,
      "outputs": []
    },
    {
      "cell_type": "code",
      "metadata": {
        "id": "8N6uL7n_dHda",
        "colab_type": "code",
        "colab": {}
      },
      "source": [
        ""
      ],
      "execution_count": null,
      "outputs": []
    },
    {
      "cell_type": "code",
      "metadata": {
        "id": "ZV-uqzvTWwRy",
        "colab_type": "code",
        "colab": {
          "base_uri": "https://localhost:8080/",
          "height": 70
        },
        "outputId": "ec062a31-5e38-45b7-93b8-64e5f033b64d"
      },
      "source": [
        "from sklearn.neighbors import LocalOutlierFactor\n",
        "clf = LocalOutlierFactor(n_neighbors = 100)\n",
        "clf.fit(test[:1000,[7,-1]])"
      ],
      "execution_count": 16,
      "outputs": [
        {
          "output_type": "execute_result",
          "data": {
            "text/plain": [
              "LocalOutlierFactor(algorithm='auto', contamination='auto', leaf_size=30,\n",
              "                   metric='minkowski', metric_params=None, n_jobs=None,\n",
              "                   n_neighbors=100, novelty=False, p=2)"
            ]
          },
          "metadata": {
            "tags": []
          },
          "execution_count": 16
        }
      ]
    },
    {
      "cell_type": "code",
      "metadata": {
        "id": "5ityWFmeDKSR",
        "colab_type": "code",
        "colab": {}
      },
      "source": [
        "from sklearn.svm import OneClassSVM\n",
        "clf = OneClassSVM(gamma = 0.01).fit(test[:100000,[7,-1]])"
      ],
      "execution_count": null,
      "outputs": []
    },
    {
      "cell_type": "code",
      "metadata": {
        "id": "KuDEd-n7YqmH",
        "colab_type": "code",
        "colab": {
          "base_uri": "https://localhost:8080/",
          "height": 312
        },
        "outputId": "c4def13e-cbdb-4038-f746-471459720cab"
      },
      "source": [
        "outlier = clf.predict(test[:100000,[7,-1]])"
      ],
      "execution_count": 19,
      "outputs": [
        {
          "output_type": "error",
          "ename": "AttributeError",
          "evalue": "ignored",
          "traceback": [
            "\u001b[0;31m---------------------------------------------------------------------------\u001b[0m",
            "\u001b[0;31mAttributeError\u001b[0m                            Traceback (most recent call last)",
            "\u001b[0;32m<ipython-input-19-3a92abc4f893>\u001b[0m in \u001b[0;36m<module>\u001b[0;34m()\u001b[0m\n\u001b[0;32m----> 1\u001b[0;31m \u001b[0moutlier\u001b[0m \u001b[0;34m=\u001b[0m \u001b[0mclf\u001b[0m\u001b[0;34m.\u001b[0m\u001b[0mpredict\u001b[0m\u001b[0;34m(\u001b[0m\u001b[0mtest\u001b[0m\u001b[0;34m[\u001b[0m\u001b[0;34m:\u001b[0m\u001b[0;36m1000\u001b[0m\u001b[0;34m,\u001b[0m\u001b[0;34m[\u001b[0m\u001b[0;36m7\u001b[0m\u001b[0;34m,\u001b[0m\u001b[0;34m-\u001b[0m\u001b[0;36m1\u001b[0m\u001b[0;34m]\u001b[0m\u001b[0;34m]\u001b[0m\u001b[0;34m)\u001b[0m\u001b[0;34m\u001b[0m\u001b[0;34m\u001b[0m\u001b[0m\n\u001b[0m",
            "\u001b[0;32m/usr/local/lib/python3.6/dist-packages/sklearn/neighbors/_lof.py\u001b[0m in \u001b[0;36mpredict\u001b[0;34m(self)\u001b[0m\n\u001b[1;32m    305\u001b[0m                    \u001b[0;34m'novelty=True if you want to use LOF for novelty detection '\u001b[0m\u001b[0;34m\u001b[0m\u001b[0;34m\u001b[0m\u001b[0m\n\u001b[1;32m    306\u001b[0m                    'and predict on new unseen data.')\n\u001b[0;32m--> 307\u001b[0;31m             \u001b[0;32mraise\u001b[0m \u001b[0mAttributeError\u001b[0m\u001b[0;34m(\u001b[0m\u001b[0mmsg\u001b[0m\u001b[0;34m)\u001b[0m\u001b[0;34m\u001b[0m\u001b[0;34m\u001b[0m\u001b[0m\n\u001b[0m\u001b[1;32m    308\u001b[0m \u001b[0;34m\u001b[0m\u001b[0m\n\u001b[1;32m    309\u001b[0m         \u001b[0;32mreturn\u001b[0m \u001b[0mself\u001b[0m\u001b[0;34m.\u001b[0m\u001b[0m_predict\u001b[0m\u001b[0;34m\u001b[0m\u001b[0;34m\u001b[0m\u001b[0m\n",
            "\u001b[0;31mAttributeError\u001b[0m: predict is not available when novelty=False, use fit_predict if you want to predict on training data. Use novelty=True if you want to use LOF for novelty detection and predict on new unseen data."
          ]
        }
      ]
    },
    {
      "cell_type": "code",
      "metadata": {
        "id": "gLGpf6rDaQsS",
        "colab_type": "code",
        "colab": {
          "base_uri": "https://localhost:8080/",
          "height": 282
        },
        "outputId": "46fde17b-81fa-4b01-9fb2-796a2afccab4"
      },
      "source": [
        "sns.scatterplot(test[:1000,7], test[:1000,-1])"
      ],
      "execution_count": 15,
      "outputs": [
        {
          "output_type": "execute_result",
          "data": {
            "text/plain": [
              "<matplotlib.axes._subplots.AxesSubplot at 0x7f91f69e2dd8>"
            ]
          },
          "metadata": {
            "tags": []
          },
          "execution_count": 15
        },
        {
          "output_type": "display_data",
          "data": {
            "image/png": "[encoded data removed]",
            "text/plain": [
              "<Figure size 432x288 with 1 Axes>"
            ]
          },
          "metadata": {
            "tags": [],
            "needs_background": "light"
          }
        }
      ]
    },
    {
      "cell_type": "code",
      "metadata": {
        "id": "meR5Eq8mYchR",
        "colab_type": "code",
        "colab": {
          "base_uri": "https://localhost:8080/",
          "height": 34
        },
        "outputId": "537c5c41-4325-4dba-c7ab-0fc9506e6f6b"
      },
      "source": [
        "test[:1000,[7,-1]].shape"
      ],
      "execution_count": 7,
      "outputs": [
        {
          "output_type": "execute_result",
          "data": {
            "text/plain": [
              "(4921600, 2)"
            ]
          },
          "metadata": {
            "tags": []
          },
          "execution_count": 7
        }
      ]
    },
    {
      "cell_type": "code",
      "metadata": {
        "id": "xep5zNPGHJlI",
        "colab_type": "code",
        "colab": {
          "base_uri": "https://localhost:8080/",
          "height": 34
        },
        "outputId": "03e919af-3e7b-4475-d966-c7b6dbd4a2d1"
      },
      "source": [
        "train[:,[7,-1]].shape"
      ],
      "execution_count": 7,
      "outputs": [
        {
          "output_type": "execute_result",
          "data": {
            "text/plain": [
              "(44294400, 2)"
            ]
          },
          "metadata": {
            "tags": []
          },
          "execution_count": 7
        }
      ]
    },
    {
      "cell_type": "code",
      "metadata": {
        "id": "rNHrNbMDNfLk",
        "colab_type": "code",
        "colab": {
          "base_uri": "https://localhost:8080/",
          "height": 34
        },
        "outputId": "4a44ab04-d23e-41e4-efcc-0d604ae1c47b"
      },
      "source": [
        "test_y.shape"
      ],
      "execution_count": 16,
      "outputs": [
        {
          "output_type": "execute_result",
          "data": {
            "text/plain": [
              "(4921600,)"
            ]
          },
          "metadata": {
            "tags": []
          },
          "execution_count": 16
        }
      ]
    },
    {
      "cell_type": "markdown",
      "metadata": {
        "id": "XE3jVkumJ422",
        "colab_type": "text"
      },
      "source": [
        "# 여러가지 모델 시도\n",
        "\n",
        "classificaiton을 측정하는 f1 score와  \n",
        "regression을 측정하는 MAE score를 따로따로 측정해보기 ??\n",
        "\n"
      ]
    },
    {
      "cell_type": "markdown",
      "metadata": {
        "id": "ZAPWIrddJ40R",
        "colab_type": "text"
      },
      "source": [
        "## 다항 회귀\n",
        "- 규제기법 적용해볼것(LASSO, Ridge)"
      ]
    },
    {
      "cell_type": "code",
      "metadata": {
        "id": "_bVHVAYSKtX3",
        "colab_type": "code",
        "colab": {}
      },
      "source": [
        "from sklearn.preprocessing import PolynomialFeatures\n",
        "from sklearn.linear_model import LinearRegression\n",
        "from sklearn.pipeline import make_pipeline\n",
        "\n",
        "def PolynomialRegression(degree=2, **kwargs):\n",
        "    return make_pipeline(PolynomialFeatures(degree),\n",
        "                         LinearRegression(**kwargs))\n",
        "\n",
        "param_grid = {'polynomialfeatures__degree': np.arange(21),\n",
        "              'linearregression__fit_intercept': [True, False],\n",
        "              'linearregression__normalize': [True, False]}\n",
        "\n",
        "grid = GridSearchCV(PolynomialRegression(), param_grid, cv=7)"
      ],
      "execution_count": null,
      "outputs": []
    },
    {
      "cell_type": "markdown",
      "metadata": {
        "id": "YZqck-CeKDfz",
        "colab_type": "text"
      },
      "source": [
        "## SVM"
      ]
    },
    {
      "cell_type": "code",
      "metadata": {
        "id": "VHnmvPy6KHKA",
        "colab_type": "code",
        "colab": {}
      },
      "source": [
        "from sklearn.model_selection import GridSearchCV\n",
        "from sklearn.svm import SVR\n",
        "from sklearn.metrics import make_scorer\n",
        "\n",
        "param_grid = [\n",
        "  {'C': [1, 10, 100, 1000], 'kernel': ['linear']},\n",
        "  {'C': [1, 10, 100, 1000], 'gamma': [0.001, 0.0001], 'kernel': ['rbf']},\n",
        " ]\n",
        "\n",
        "reg_SVR_Grid_CV = GridSearchCV(estimator=SVR(), param_grid=param_grid, cv= 5, \n",
        "                   scoring=make_scorer(maeOverFscore, greater_is_better=False))\n",
        "\n",
        "reg_SVR_Grid_CV.fit(train_x, train_y)"
      ],
      "execution_count": null,
      "outputs": []
    },
    {
      "cell_type": "markdown",
      "metadata": {
        "id": "wiHy2Wm4DZaC",
        "colab_type": "text"
      },
      "source": [
        "## 랜덤 포레스트 파라미터 탐색\n",
        "1. 모델.fit()\n",
        "2. fold별 스코어"
      ]
    },
    {
      "cell_type": "code",
      "metadata": {
        "id": "qSVxVc5F__fz",
        "colab_type": "code",
        "colab": {}
      },
      "source": [
        "from sklearn.model_selection import GridSearchCV\n",
        "from sklearn.ensemble import RandomForestRegressor\n",
        "from sklearn.metrics import make_scorer, mean_squared_error\n",
        "\n",
        "param_grid = { \n",
        "    'n_estimators': [200, 500],\n",
        "    #'max_features': ['auto', 'sqrt', 'log2'],\n",
        "    'max_depth' : [4,5,6],\n",
        "    #'criterion' :['gini', 'entropy']\n",
        "}\n",
        "\n",
        "reg_Randomforest_Grid_CV = GridSearchCV(estimator=RandomForestRegressor(), param_grid=param_grid, cv= 5, \n",
        "                   scoring=make_scorer(maeOverFscore, greater_is_better=False))\n",
        "\n",
        "reg_Randomforest_Grid_CV.fit(train_x, train_y)"
      ],
      "execution_count": null,
      "outputs": []
    },
    {
      "cell_type": "code",
      "metadata": {
        "id": "5zkZ01ZOHW1Y",
        "colab_type": "code",
        "colab": {}
      },
      "source": [
        "reg_Randomforest_Grid.grid_scores_"
      ],
      "execution_count": null,
      "outputs": []
    },
    {
      "cell_type": "code",
      "metadata": {
        "id": "WDnZzjQwCFqN",
        "colab_type": "code",
        "colab": {}
      },
      "source": [
        "reg_Randomforest_Grid.best_params_"
      ],
      "execution_count": null,
      "outputs": []
    },
    {
      "cell_type": "markdown",
      "metadata": {
        "id": "8pVM5AVOMKDp",
        "colab_type": "text"
      },
      "source": [
        "## XGboost Model\n",
        "- feature_imoportance 추출하기\n",
        "- gpu 활용하기\n",
        "- grid search or Randomized search 로 하이퍼 파라미터 튜닝하기\n",
        "\n",
        "https://towardsdatascience.com/running-xgboost-on-google-colab-free-gpu-a-case-study-841c90fef101\n",
        "\n",
        "https://thinkalgo.tistory.com/57"
      ]
    },
    {
      "cell_type": "code",
      "metadata": {
        "id": "Sj836FaPMPxY",
        "colab_type": "code",
        "colab": {}
      },
      "source": [
        "import time\n",
        "import xgboost as xgb\n",
        "from xgboost import XGBRegressor, XGBClassifier, XGBModel\n",
        "from xgboost import plot_importance, plot_tree\n",
        "\n",
        "\n",
        "# create a default XGBoost classifier\n",
        "model = XGBClassifier(n_estimators=500, random_state=seed)\n",
        "\n",
        "# create a default XGBoost classifier\n",
        "model = XGBClassifier(\n",
        "    random_state=seed, \n",
        "    eval_metric=[\"error\", \"auc\"]\n",
        ")\n",
        "# Create the grid search parameter grid and scoring funcitons\n",
        "param_grid = {\n",
        "    \"learning_rate\": [0.1, 0.01],\n",
        "    \"colsample_bytree\": [0.6, 0.8, 1.0],\n",
        "    \"subsample\": [0.6, 0.8, 1.0],\n",
        "    \"max_depth\": [2, 3, 4],\n",
        "    \"n_estimators\": [100, 200, 300, 400],\n",
        "    \"reg_lambda\": [1, 1.5, 2],\n",
        "    \"gamma\": [0, 0.1, 0.3],\n",
        "}\n",
        "scoring = {\n",
        "    'AUC': 'roc_auc', \n",
        "    'Accuracy': make_scorer(accuracy_score)\n",
        "}\n",
        "# create the Kfold object\n",
        "num_folds = 10\n",
        "kfold = StratifiedKFold(n_splits=num_folds, random_state=seed)\n",
        "# create the grid search object\n",
        "n_iter=50\n",
        "grid = RandomizedSearchCV(\n",
        "    estimator=model, \n",
        "    param_distributions=param_grid,\n",
        "    cv=kfold,\n",
        "    scoring=scoring,\n",
        "    n_jobs=-1,\n",
        "    n_iter=n_iter,\n",
        "    refit=\"AUC\",\n",
        ")\n",
        "# fit grid search\n",
        "%time best_model = grid.fit(X_train,y_train)"
      ],
      "execution_count": null,
      "outputs": []
    },
    {
      "cell_type": "markdown",
      "metadata": {
        "id": "AVs6R3ERO6Wg",
        "colab_type": "text"
      },
      "source": [
        "## 차원 축소 적용하기"
      ]
    },
    {
      "cell_type": "code",
      "metadata": {
        "id": "_7Lw6pTOO8Xz",
        "colab_type": "code",
        "colab": {}
      },
      "source": [
        ""
      ],
      "execution_count": null,
      "outputs": []
    }
  ]
}