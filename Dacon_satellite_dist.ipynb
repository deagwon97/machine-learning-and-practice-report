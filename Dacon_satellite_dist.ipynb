{
  "nbformat": 4,
  "nbformat_minor": 0,
  "metadata": {
    "colab": {
      "name": "Dacon_satellite_dist.ipynb",
      "provenance": [],
      "collapsed_sections": [],
      "include_colab_link": true
    },
    "kernelspec": {
      "name": "python3",
      "display_name": "Python 3"
    }
  },
  "cells": [
    {
      "cell_type": "markdown",
      "metadata": {
        "id": "view-in-github",
        "colab_type": "text"
      },
      "source": [
        "<a href=\"https://colab.research.google.com/github/curiosity806/machine-learning-and-practice-report/blob/new_try/Dacon_satellite_dist.ipynb\" target=\"_parent\"><img src=\"https://colab.research.google.com/assets/colab-badge.svg\" alt=\"Open In Colab\"/></a>"
      ]
    },
    {
      "cell_type": "code",
      "metadata": {
        "id": "F30nI34oAhQd",
        "colab_type": "code",
        "colab": {
          "base_uri": "https://localhost:8080/",
          "height": 126
        },
        "outputId": "8a2f8724-6c9a-4d29-9a7d-8bed3889eb3d"
      },
      "source": [
        "from google.colab import drive\n",
        "drive.mount('/content/drive')"
      ],
      "execution_count": 1,
      "outputs": [
        {
          "output_type": "stream",
          "text": [
            "Go to this URL in a browser: https://accounts.google.com/o/oauth2/auth?client_id=947318989803-6bn6qk8qdgf4n4g3pfee6491hc0brc4i.apps.googleusercontent.com&redirect_uri=urn%3aietf%3awg%3aoauth%3a2.0%3aoob&response_type=code&scope=email%20https%3a%2f%2fwww.googleapis.com%2fauth%2fdocs.test%20https%3a%2f%2fwww.googleapis.com%2fauth%2fdrive%20https%3a%2f%2fwww.googleapis.com%2fauth%2fdrive.photos.readonly%20https%3a%2f%2fwww.googleapis.com%2fauth%2fpeopleapi.readonly\n",
            "\n",
            "Enter your authorization code:\n",
            "··········\n",
            "Mounted at /content/drive\n"
          ],
          "name": "stdout"
        }
      ]
    },
    {
      "cell_type": "code",
      "metadata": {
        "id": "UUGgelKUAkGU",
        "colab_type": "code",
        "colab": {}
      },
      "source": [
        "# 훈련 데이터\n",
        "!cp '/content/drive/My Drive/2020 Kaggle Study/data/train_final.npy' train.npy"
      ],
      "execution_count": 2,
      "outputs": []
    },
    {
      "cell_type": "code",
      "metadata": {
        "id": "zXRwXj5gApfl",
        "colab_type": "code",
        "colab": {}
      },
      "source": [
        "import numpy as np\n",
        "train = np.load('train.npy')"
      ],
      "execution_count": 3,
      "outputs": []
    },
    {
      "cell_type": "code",
      "metadata": {
        "id": "hdgjCD1dAsMe",
        "colab_type": "code",
        "colab": {
          "base_uri": "https://localhost:8080/",
          "height": 52
        },
        "outputId": "388f9d7f-54bf-4b1b-cf01-90c16c783f0d"
      },
      "source": [
        "import glob\n",
        "import pandas as pd\n",
        "import numpy as np\n",
        "import matplotlib.pylab as plt\n",
        "import seaborn as sns\n",
        "from tqdm import tqdm\n",
        "import matplotlib.pyplot as plt\n",
        "import os\n",
        "import random\n",
        "import warnings\n",
        "import gc\n",
        "import matplotlib.pyplot as plt\n",
        "\n",
        "\n",
        "from sklearn.model_selection import KFold\n",
        "from sklearn.linear_model import LinearRegression\n",
        "from sklearn.preprocessing import PolynomialFeatures\n",
        "from sklearn.linear_model import Ridge, Lasso, ElasticNet\n",
        "from sklearn.model_selection import GridSearchCV\n",
        "from sklearn.svm import SVR\n",
        "from sklearn.tree import DecisionTreeRegressor\n",
        "from sklearn.ensemble import RandomForestRegressor\n",
        "from sklearn.ensemble import GradientBoostingRegressor\n",
        "from xgboost import XGBRegressor\n",
        "from sklearn.decomposition import PCA\n",
        "from sklearn.preprocessing import StandardScaler\n",
        "from sklearn.metrics import mean_squared_error\n",
        "from sklearn.metrics import make_scorer\n",
        "\n",
        "warnings.filterwarnings(\"ignore\")\n",
        "\n",
        "# 재생산성을 위해 시드 고정\n",
        "np.random.seed(7)\n",
        "random.seed(7)\n",
        "#tf.random.set_seed(7)"
      ],
      "execution_count": 4,
      "outputs": [
        {
          "output_type": "stream",
          "text": [
            "/usr/local/lib/python3.6/dist-packages/statsmodels/tools/_testing.py:19: FutureWarning: pandas.util.testing is deprecated. Use the functions in the public API at pandas.testing instead.\n",
            "  import pandas.util.testing as tm\n"
          ],
          "name": "stderr"
        }
      ]
    },
    {
      "cell_type": "markdown",
      "metadata": {
        "id": "9i_Wk1SD63As",
        "colab_type": "text"
      },
      "source": [
        "# 모델링"
      ]
    },
    {
      "cell_type": "code",
      "metadata": {
        "id": "CMYgHvZtU-Dt",
        "colab_type": "code",
        "colab": {}
      },
      "source": [
        "def mae(y_true, y_pred):\n",
        "    y_true = np.array(y_true)\n",
        "    y_true = y_true.reshape(1, -1)[0]  \n",
        "    y_pred = np.array(y_pred)\n",
        "    y_pred = y_pred.reshape(1, -1)[0]\n",
        "    mae = np.mean(np.abs(y_true - y_pred))\n",
        "    return mae\n",
        "\n",
        "X = train[:,:14]\n",
        "y = train[:,-1]\n",
        "X.shape, y.shape\n",
        "\n",
        "from sklearn.model_selection import train_test_split\n",
        "X_train, X_test, y_train, y_test = train_test_split(X, y, test_size=0.2)"
      ],
      "execution_count": 5,
      "outputs": []
    },
    {
      "cell_type": "markdown",
      "metadata": {
        "id": "gdAVGl4vU5XF",
        "colab_type": "text"
      },
      "source": [
        "## Standard Scaling한 데이터 생성"
      ]
    },
    {
      "cell_type": "code",
      "metadata": {
        "id": "eO6SkHmMU_zI",
        "colab_type": "code",
        "colab": {
          "base_uri": "https://localhost:8080/",
          "height": 35
        },
        "outputId": "7043ccf2-4cd8-4aa5-bfcb-a6dc8328ca5f"
      },
      "source": [
        "scaler = StandardScaler()\n",
        "X_train_normalized = scaler.fit_transform(X_train)\n",
        "X_train_normalized.shape"
      ],
      "execution_count": 6,
      "outputs": [
        {
          "output_type": "execute_result",
          "data": {
            "text/plain": [
              "(9347, 14)"
            ]
          },
          "metadata": {
            "tags": []
          },
          "execution_count": 6
        }
      ]
    },
    {
      "cell_type": "code",
      "metadata": {
        "id": "XaQPw8zPzmoJ",
        "colab_type": "code",
        "colab": {}
      },
      "source": [
        "train_shuffle = train.copy()\n",
        "np.random.shuffle(train_shuffle)"
      ],
      "execution_count": null,
      "outputs": []
    },
    {
      "cell_type": "code",
      "metadata": {
        "id": "ePHLCLeU0omw",
        "colab_type": "code",
        "colab": {
          "base_uri": "https://localhost:8080/",
          "height": 88
        },
        "outputId": "3a31095a-d010-4692-b04d-b05139c0819e"
      },
      "source": [
        "print(f'랜덤한 예측 모델의 mae score : {mae(train_shuffle[:,-1], train[:,-1])}')\n",
        "print(f'타겟의 평균                  : {np.mean(train[:,-1])}')\n",
        "print(f'타겟의 분산                  : {np.var(train[:,-1])}')\n",
        "print(f'타겟의 표준편차              : {np.std(train[:,-1])}')"
      ],
      "execution_count": null,
      "outputs": [
        {
          "output_type": "stream",
          "text": [
            "랜덤한 예측 모델의 mae score : 23.952192306518555\n",
            "타겟의 평균                  : 41.64913558959961\n",
            "타겟의 분산                  : 632.9130249023438\n",
            "타겟의 표준편차              : 25.15776252746582\n"
          ],
          "name": "stdout"
        }
      ]
    },
    {
      "cell_type": "code",
      "metadata": {
        "id": "l1Tg8neC8MvY",
        "colab_type": "code",
        "colab": {
          "base_uri": "https://localhost:8080/",
          "height": 612
        },
        "outputId": "7346f9fe-6a67-4203-8902-456c28775870"
      },
      "source": [
        "plt.figure(figsize = (10,10))\n",
        "train_df = pd.DataFrame(train)\n",
        "sns.heatmap(train_df.corr(), annot = True)"
      ],
      "execution_count": null,
      "outputs": [
        {
          "output_type": "execute_result",
          "data": {
            "text/plain": [
              "<matplotlib.axes._subplots.AxesSubplot at 0x7ff9c94e0828>"
            ]
          },
          "metadata": {
            "tags": []
          },
          "execution_count": 43
        },
        {
          "output_type": "display_data",
          "data": {
            "image/png": "[encoded data removed]",
            "text/plain": [
              "<Figure size 720x720 with 2 Axes>"
            ]
          },
          "metadata": {
            "tags": [],
            "needs_background": "light"
          }
        }
      ]
    },
    {
      "cell_type": "markdown",
      "metadata": {
        "id": "Ba4SQfbmaCHd",
        "colab_type": "text"
      },
      "source": [
        "## 선형회귀"
      ]
    },
    {
      "cell_type": "markdown",
      "metadata": {
        "id": "tpzH6MptkI-Z",
        "colab_type": "text"
      },
      "source": [
        "1. 모형의 선형성: 모든 예측값에서 잔차가 비슷하게 있어야 함\n",
        "2. 잔차의 정규성:Q-Q Plot\n",
        "3. 잔차의 등분산성\n",
        "4. 잔차의 독립성\n",
        "\n",
        "기본 가정을 만족하지 않는다면 stepwise로 4가지 기본 가정을 위배시키는 변수를 제거\n",
        "\n",
        "<interesting 합니다.>"
      ]
    },
    {
      "cell_type": "code",
      "metadata": {
        "id": "YsxKv_t062VT",
        "colab_type": "code",
        "colab": {
          "base_uri": "https://localhost:8080/",
          "height": 122
        },
        "outputId": "adb9df25-0a78-4252-c4ba-74d2e2ce064e"
      },
      "source": [
        "from sklearn.model_selection import KFold\n",
        "from sklearn.linear_model import LinearRegression\n",
        "\n",
        "kf = KFold(n_splits=5)\n",
        "scores = []\n",
        "for train_index, test_index in kf.split(X_train):\n",
        "    lr = LinearRegression(normalize = False)\n",
        "    lr.fit(X_train[train_index], y_train[train_index])\n",
        "    pred = lr.predict(X_train[test_index])\n",
        "    scores.append(mae(y_train[test_index], pred))\n",
        "\n",
        "LR_cv_mae = np.mean(scores)\n",
        "print('LinearRegression, normalize = False')\n",
        "print(f'단순 선형 회귀 cv_mae_score = {LR_cv_mae}\\n')\n",
        "\n",
        "kf = KFold(n_splits=5)\n",
        "scores = []\n",
        "for train_index, test_index in kf.split(X_train):\n",
        "    lr = LinearRegression(normalize = True)\n",
        "    lr.fit(X_train[train_index], y_train[train_index])\n",
        "    pred = lr.predict(X_train[test_index])\n",
        "    scores.append(mae(y_train[test_index], pred))\n",
        "    \n",
        "LR_normal_cv_mae = np.mean(scores)\n",
        "print('LinearRegression, normalize = True')\n",
        "print(f'단순 선형 회귀 cv_mae_score = {LR_normal_cv_mae}\\n')"
      ],
      "execution_count": null,
      "outputs": [
        {
          "output_type": "stream",
          "text": [
            "LinearRegression, normalize = False\n",
            "단순 선형 회귀 cv_mae_score = 17.225513458251953\n",
            "\n",
            "LinearRegression, normalize = True\n",
            "단순 선형 회귀 cv_mae_score = 17.225515365600586\n",
            "\n"
          ],
          "name": "stdout"
        }
      ]
    },
    {
      "cell_type": "code",
      "metadata": {
        "id": "kifgoZCw7hQV",
        "colab_type": "code",
        "colab": {}
      },
      "source": [
        ""
      ],
      "execution_count": null,
      "outputs": []
    },
    {
      "cell_type": "markdown",
      "metadata": {
        "id": "b1mknlZiaF1Z",
        "colab_type": "text"
      },
      "source": [
        "## 다항회귀"
      ]
    },
    {
      "cell_type": "code",
      "metadata": {
        "id": "3QOSY1Msfr2-",
        "colab_type": "code",
        "colab": {
          "base_uri": "https://localhost:8080/",
          "height": 122
        },
        "outputId": "787d8c01-7178-4ff2-ed78-d13ef755f1bf"
      },
      "source": [
        "from sklearn.preprocessing import PolynomialFeatures\n",
        "from sklearn.linear_model import LinearRegression\n",
        "from sklearn.model_selection import KFold\n",
        "\n",
        "kf = KFold(n_splits=5)\n",
        "scores = []\n",
        "for train_index, test_index in kf.split(X_train):\n",
        "    #다항 항 만들기\n",
        "    interaction = PolynomialFeatures(degree=3, include_bias=False, interaction_only=True)\n",
        "    features_interaction = interaction.fit_transform(X_train[train_index])\n",
        "    test_interaction = interaction.transform(X_train[test_index])\n",
        "    # 선형회귀 모델 훈련\n",
        "    lr = LinearRegression(normalize = False)\n",
        "    lr.fit(features_interaction, y_train[train_index])\n",
        "    pred = lr.predict(test_interaction)\n",
        "    scores.append(mae(y_train[test_index], pred))\n",
        "\n",
        "Poly_LR_cv_mae = np.mean(scores)\n",
        "print('Poly_LR_cv_mae, degree  = 3,  normalize = False')\n",
        "print(f'Poly_LR_cv_mae = {Poly_LR_cv_mae}\\n')\n",
        "\n",
        "kf = KFold(n_splits=5)\n",
        "scores = []\n",
        "for train_index, test_index in kf.split(X_train):\n",
        "    #다항 항 만들기\n",
        "    interaction = PolynomialFeatures(degree=3, include_bias=False, interaction_only=True)\n",
        "    features_interaction = interaction.fit_transform(X_train[train_index])\n",
        "    test_interaction = interaction.transform(X_train[test_index])\n",
        "    # 선형회귀 모델 훈련\n",
        "    lr = LinearRegression(normalize = True)\n",
        "    lr.fit(features_interaction, y_train[train_index])\n",
        "    pred = lr.predict(test_interaction)\n",
        "    scores.append(mae(y_train[test_index], pred))\n",
        "\n",
        "Poly_LR_normal_cv_mae = np.mean(scores)\n",
        "print('Poly_LR_normal_cv_mae, degree  = 3,  normalize = True')\n",
        "print(f'Poly_LR_normal_cv_mae = {Poly_LR_normal_cv_mae}\\n')"
      ],
      "execution_count": null,
      "outputs": [
        {
          "output_type": "stream",
          "text": [
            "Poly_LR_cv_mae, degree  = 3,  normalize = False\n",
            "Poly_LR_cv_mae = 17.82437515258789\n",
            "\n",
            "Poly_LR_normal_cv_mae, degree  = 3,  normalize = True\n",
            "Poly_LR_normal_cv_mae = 17.622615814208984\n",
            "\n"
          ],
          "name": "stdout"
        }
      ]
    },
    {
      "cell_type": "markdown",
      "metadata": {
        "id": "ZP3k-0zh-Ti7",
        "colab_type": "text"
      },
      "source": [
        "### 릿지 다항 회귀"
      ]
    },
    {
      "cell_type": "code",
      "metadata": {
        "id": "3g1hdbZIZwar",
        "colab_type": "code",
        "colab": {
          "base_uri": "https://localhost:8080/",
          "height": 122
        },
        "outputId": "8e489cd3-0e9b-4b36-d761-c5df81626b80"
      },
      "source": [
        "from sklearn.linear_model import Ridge, Lasso, ElasticNet\n",
        "from sklearn.model_selection import KFold\n",
        "\n",
        "kf = KFold(n_splits=5)\n",
        "scores = []\n",
        "for train_index, test_index in kf.split(X_train):\n",
        "    #다항 항 만들기\n",
        "    interaction = PolynomialFeatures(degree=3, include_bias=False, interaction_only=True)\n",
        "    features_interaction = interaction.fit_transform(X_train[train_index])\n",
        "    test_interaction = interaction.transform(X_train[test_index])\n",
        "    # Ridge 모델 훈련\n",
        "    Ridge_model = Ridge(normalize = False, alpha = 0.1)\n",
        "    Ridge_model.fit(features_interaction, y_train[train_index])\n",
        "    pred = Ridge_model.predict(test_interaction)\n",
        "    scores.append(mae(y_train[test_index], pred))\n",
        "\n",
        "Poly_Ridge_cv_mae = np.mean(scores)\n",
        "print('Poly_Ridge_cv_mae, degree  = 3,  normalize = False')\n",
        "print(f'Poly_Ridge_cv_mae = {Poly_Ridge_cv_mae}\\n')\n",
        "\n",
        "kf = KFold(n_splits=5)\n",
        "scores = []\n",
        "for train_index, test_index in kf.split(X_train):\n",
        "    #다항 항 만들기\n",
        "    interaction = PolynomialFeatures(degree=3, include_bias=False, interaction_only=True)\n",
        "    features_interaction = interaction.fit_transform(X_train[train_index])\n",
        "    test_interaction = interaction.transform(X_train[test_index])\n",
        "    # Ridge 모델 훈련\n",
        "    Ridge_model = Ridge(normalize = True, alpha = 0.1)\n",
        "    Ridge_model.fit(features_interaction, y_train[train_index])\n",
        "    pred = Ridge_model.predict(test_interaction)\n",
        "    scores.append(mae(y_train[test_index], pred))\n",
        "\n",
        "Poly_Ridge_normal_cv_mae = np.mean(scores)\n",
        "print('Poly_Ridge_normal_cv_mae, degree  = 3,  normalize = True')\n",
        "print(f'Poly_Ridge_normal_cv_mae = {Poly_Ridge_normal_cv_mae}\\n')"
      ],
      "execution_count": null,
      "outputs": [
        {
          "output_type": "stream",
          "text": [
            "Poly_Ridge_cv_mae, degree  = 3,  normalize = False\n",
            "Poly_Ridge_cv_mae = 19.871604919433594\n",
            "\n",
            "Poly_Ridge_normal_cv_mae, degree  = 3,  normalize = True\n",
            "Poly_Ridge_normal_cv_mae = 17.17283821105957\n",
            "\n"
          ],
          "name": "stdout"
        }
      ]
    },
    {
      "cell_type": "markdown",
      "metadata": {
        "id": "5yB0a2qz-XJR",
        "colab_type": "text"
      },
      "source": [
        "### 라쏘 다항회귀"
      ]
    },
    {
      "cell_type": "code",
      "metadata": {
        "id": "TTtfwzkZ_BYl",
        "colab_type": "code",
        "colab": {
          "base_uri": "https://localhost:8080/",
          "height": 122
        },
        "outputId": "aeed9b49-8419-4e2d-f214-937b5bcf9b0e"
      },
      "source": [
        "kf = KFold(n_splits=5)\n",
        "scores = []\n",
        "for train_index, test_index in kf.split(X_train):\n",
        "    #다항 항 만들기\n",
        "    interaction = PolynomialFeatures(degree=3, include_bias=False, interaction_only=True)\n",
        "    features_interaction = interaction.fit_transform(X_train[train_index])\n",
        "    test_interaction = interaction.transform(X_train[test_index])\n",
        "    # Ridge 모델 훈련\n",
        "    Lasso_model = Lasso(normalize = False, alpha = 0.1)\n",
        "    Lasso_model.fit(features_interaction, y_train[train_index])\n",
        "    pred = Lasso_model.predict(test_interaction)\n",
        "    scores.append(mae(y_train[test_index], pred))\n",
        "\n",
        "Poly_Lasso_cv_mae = np.mean(scores)\n",
        "print('Poly_Lasso_cv_mae, degree  = 3,  normalize = False')\n",
        "print(f'Poly_Lasso_cv_mae = {Poly_Lasso_cv_mae}\\n')\n",
        "\n",
        "kf = KFold(n_splits=5)\n",
        "scores = []\n",
        "for train_index, test_index in kf.split(X_train):\n",
        "    #다항 항 만들기\n",
        "    interaction = PolynomialFeatures(degree=3, include_bias=False, interaction_only=True)\n",
        "    features_interaction = interaction.fit_transform(X_train[train_index])\n",
        "    test_interaction = interaction.transform(X_train[test_index])\n",
        "    # Ridge 모델 훈련\n",
        "    Lasso_model = Lasso(normalize = True, alpha = 0.1)\n",
        "    Lasso_model.fit(features_interaction, y_train[train_index])\n",
        "    pred = Lasso_model.predict(test_interaction)\n",
        "    scores.append(mae(y_train[test_index], pred))\n",
        "\n",
        "Poly_Lasso_normal_cv_mae = np.mean(scores)\n",
        "print('Poly_Lasso_normal_cv_mae, degree  = 3,  normalize = True')\n",
        "print(f'Poly_Lasso_normal_cv_mae = {Poly_Lasso_normal_cv_mae}\\n')"
      ],
      "execution_count": null,
      "outputs": [
        {
          "output_type": "stream",
          "text": [
            "Poly_Lasso_cv_mae, degree  = 3,  normalize = False\n",
            "Poly_Lasso_cv_mae = 17.052061080932617\n",
            "\n",
            "Poly_Lasso_normal_cv_mae, degree  = 3,  normalize = True\n",
            "Poly_Lasso_normal_cv_mae = 17.936939239501953\n",
            "\n"
          ],
          "name": "stdout"
        }
      ]
    },
    {
      "cell_type": "markdown",
      "metadata": {
        "id": "_jCRJTV4-ZCj",
        "colab_type": "text"
      },
      "source": [
        "### 엘라스틱 다항회귀"
      ]
    },
    {
      "cell_type": "code",
      "metadata": {
        "id": "8K96kdYT_SXi",
        "colab_type": "code",
        "colab": {
          "base_uri": "https://localhost:8080/",
          "height": 122
        },
        "outputId": "7a090a9a-86fa-4545-9075-1c333389f1a9"
      },
      "source": [
        "kf = KFold(n_splits=5)\n",
        "scores = []\n",
        "for train_index, test_index in kf.split(X_train):\n",
        "    #다항 항 만들기\n",
        "    interaction = PolynomialFeatures(degree=3, include_bias=False, interaction_only=True)\n",
        "    features_interaction = interaction.fit_transform(X_train[train_index])\n",
        "    test_interaction = interaction.transform(X_train[test_index])\n",
        "    # Ridge 모델 훈련\n",
        "    ElasticNet_model = ElasticNet(normalize = False, alpha = 0.1)\n",
        "    ElasticNet_model.fit(features_interaction, y_train[train_index])\n",
        "    pred = ElasticNet_model.predict(test_interaction)\n",
        "    scores.append(mae(y_train[test_index], pred))\n",
        "\n",
        "Poly_ElasticNet_cv_mae = np.mean(scores)\n",
        "print('Poly_ElasticNet_cv_mae, degree  = 3,  normalize = False')\n",
        "print(f'Poly_ElasticNet_cv_mae = {Poly_ElasticNet_cv_mae}\\n')\n",
        "\n",
        "kf = KFold(n_splits=5)\n",
        "scores = []\n",
        "for train_index, test_index in kf.split(X_train):\n",
        "    #다항 항 만들기\n",
        "    interaction = PolynomialFeatures(degree=3, include_bias=False, interaction_only=True)\n",
        "    features_interaction = interaction.fit_transform(X_train[train_index])\n",
        "    test_interaction = interaction.transform(X_train[test_index])\n",
        "    # Ridge 모델 훈련\n",
        "    ElasticNet_model = ElasticNet(normalize = True, alpha = 0.1)\n",
        "    ElasticNet_model.fit(features_interaction, y_train[train_index])\n",
        "    pred = ElasticNet_model.predict(test_interaction)\n",
        "    scores.append(mae(y_train[test_index], pred))\n",
        "\n",
        "Poly_ElasticNet_normal_cv_mae = np.mean(scores)\n",
        "print('Poly_ElasticNet_normal_cv_mae, degree  = 3,  normalize = True')\n",
        "print(f'Poly_ElasticNet_normal_cv_mae = {Poly_ElasticNet_normal_cv_mae}\\n')"
      ],
      "execution_count": null,
      "outputs": [
        {
          "output_type": "stream",
          "text": [
            "Poly_ElasticNet_cv_mae, degree  = 3,  normalize = False\n",
            "Poly_ElasticNet_cv_mae = 17.051298141479492\n",
            "\n",
            "Poly_ElasticNet_normal_cv_mae, degree  = 3,  normalize = True\n",
            "Poly_ElasticNet_normal_cv_mae = 17.936939239501953\n",
            "\n"
          ],
          "name": "stdout"
        }
      ]
    },
    {
      "cell_type": "code",
      "metadata": {
        "id": "frxmvp5N7bg1",
        "colab_type": "code",
        "colab": {}
      },
      "source": [
        ""
      ],
      "execution_count": null,
      "outputs": []
    },
    {
      "cell_type": "code",
      "metadata": {
        "id": "0kObmClZ7bdZ",
        "colab_type": "code",
        "colab": {}
      },
      "source": [
        ""
      ],
      "execution_count": null,
      "outputs": []
    },
    {
      "cell_type": "markdown",
      "metadata": {
        "id": "DeA8Bw3VluWH",
        "colab_type": "text"
      },
      "source": [
        "## SVM"
      ]
    },
    {
      "cell_type": "markdown",
      "metadata": {
        "id": "K71KoR1fIydS",
        "colab_type": "text"
      },
      "source": [
        "### 1차 그리드 서치"
      ]
    },
    {
      "cell_type": "code",
      "metadata": {
        "id": "G8Aq6iyOq_ub",
        "colab_type": "code",
        "colab": {
          "base_uri": "https://localhost:8080/",
          "height": 1000
        },
        "outputId": "ff22e676-0094-4b39-e902-b0d02f9a3d65"
      },
      "source": [
        "from sklearn.model_selection import GridSearchCV\n",
        "from sklearn.svm import SVR\n",
        "\n",
        "\n",
        "def mae(y_true, y_pred):\n",
        "    y_true = np.array(y_true)\n",
        "    y_true = y_true.reshape(1, -1)[0]  \n",
        "    y_pred = np.array(y_pred)\n",
        "    y_pred = y_pred.reshape(1, -1)[0]\n",
        "    mae = np.mean(np.abs(y_true - y_pred))\n",
        "    return mae\n",
        "\n",
        "\n",
        "param_grid = {'C': [0.1,1,10], 'kernel': ['rbf', 'poly', 'sigmoid']}\n",
        "grid_svr = GridSearchCV(SVR(),\n",
        "                        param_grid,\n",
        "                        refit=True,\n",
        "                        scoring = make_scorer(mae, greater_is_better=False),\n",
        "                        verbose=2)\n",
        "\n",
        "grid_svr.fit(X_train, y_train)"
      ],
      "execution_count": null,
      "outputs": [
        {
          "output_type": "stream",
          "text": [
            "Fitting 5 folds for each of 9 candidates, totalling 45 fits\n",
            "[CV] C=0.1, kernel=rbf ...............................................\n"
          ],
          "name": "stdout"
        },
        {
          "output_type": "stream",
          "text": [
            "[Parallel(n_jobs=1)]: Using backend SequentialBackend with 1 concurrent workers.\n"
          ],
          "name": "stderr"
        },
        {
          "output_type": "stream",
          "text": [
            "[CV] ................................ C=0.1, kernel=rbf, total=   4.3s\n",
            "[CV] C=0.1, kernel=rbf ...............................................\n"
          ],
          "name": "stdout"
        },
        {
          "output_type": "stream",
          "text": [
            "[Parallel(n_jobs=1)]: Done   1 out of   1 | elapsed:    4.3s remaining:    0.0s\n"
          ],
          "name": "stderr"
        },
        {
          "output_type": "stream",
          "text": [
            "[CV] ................................ C=0.1, kernel=rbf, total=   4.2s\n",
            "[CV] C=0.1, kernel=rbf ...............................................\n",
            "[CV] ................................ C=0.1, kernel=rbf, total=   4.2s\n",
            "[CV] C=0.1, kernel=rbf ...............................................\n",
            "[CV] ................................ C=0.1, kernel=rbf, total=   4.2s\n",
            "[CV] C=0.1, kernel=rbf ...............................................\n",
            "[CV] ................................ C=0.1, kernel=rbf, total=   4.2s\n",
            "[CV] C=0.1, kernel=poly ..............................................\n",
            "[CV] ............................... C=0.1, kernel=poly, total=   2.8s\n",
            "[CV] C=0.1, kernel=poly ..............................................\n",
            "[CV] ............................... C=0.1, kernel=poly, total=   2.8s\n",
            "[CV] C=0.1, kernel=poly ..............................................\n",
            "[CV] ............................... C=0.1, kernel=poly, total=   2.8s\n",
            "[CV] C=0.1, kernel=poly ..............................................\n",
            "[CV] ............................... C=0.1, kernel=poly, total=   2.8s\n",
            "[CV] C=0.1, kernel=poly ..............................................\n",
            "[CV] ............................... C=0.1, kernel=poly, total=   2.8s\n",
            "[CV] C=0.1, kernel=sigmoid ...........................................\n",
            "[CV] ............................ C=0.1, kernel=sigmoid, total=   4.8s\n",
            "[CV] C=0.1, kernel=sigmoid ...........................................\n",
            "[CV] ............................ C=0.1, kernel=sigmoid, total=   4.8s\n",
            "[CV] C=0.1, kernel=sigmoid ...........................................\n",
            "[CV] ............................ C=0.1, kernel=sigmoid, total=   4.8s\n",
            "[CV] C=0.1, kernel=sigmoid ...........................................\n",
            "[CV] ............................ C=0.1, kernel=sigmoid, total=   4.9s\n",
            "[CV] C=0.1, kernel=sigmoid ...........................................\n",
            "[CV] ............................ C=0.1, kernel=sigmoid, total=   4.9s\n",
            "[CV] C=1, kernel=rbf .................................................\n",
            "[CV] .................................. C=1, kernel=rbf, total=   4.2s\n",
            "[CV] C=1, kernel=rbf .................................................\n",
            "[CV] .................................. C=1, kernel=rbf, total=   4.2s\n",
            "[CV] C=1, kernel=rbf .................................................\n",
            "[CV] .................................. C=1, kernel=rbf, total=   4.2s\n",
            "[CV] C=1, kernel=rbf .................................................\n",
            "[CV] .................................. C=1, kernel=rbf, total=   4.2s\n",
            "[CV] C=1, kernel=rbf .................................................\n",
            "[CV] .................................. C=1, kernel=rbf, total=   4.2s\n",
            "[CV] C=1, kernel=poly ................................................\n",
            "[CV] ................................. C=1, kernel=poly, total=   2.9s\n",
            "[CV] C=1, kernel=poly ................................................\n",
            "[CV] ................................. C=1, kernel=poly, total=   2.9s\n",
            "[CV] C=1, kernel=poly ................................................\n",
            "[CV] ................................. C=1, kernel=poly, total=   2.9s\n",
            "[CV] C=1, kernel=poly ................................................\n",
            "[CV] ................................. C=1, kernel=poly, total=   2.9s\n",
            "[CV] C=1, kernel=poly ................................................\n",
            "[CV] ................................. C=1, kernel=poly, total=   2.9s\n",
            "[CV] C=1, kernel=sigmoid .............................................\n",
            "[CV] .............................. C=1, kernel=sigmoid, total=   4.7s\n",
            "[CV] C=1, kernel=sigmoid .............................................\n",
            "[CV] .............................. C=1, kernel=sigmoid, total=   4.7s\n",
            "[CV] C=1, kernel=sigmoid .............................................\n",
            "[CV] .............................. C=1, kernel=sigmoid, total=   4.8s\n",
            "[CV] C=1, kernel=sigmoid .............................................\n",
            "[CV] .............................. C=1, kernel=sigmoid, total=   4.8s\n",
            "[CV] C=1, kernel=sigmoid .............................................\n",
            "[CV] .............................. C=1, kernel=sigmoid, total=   4.8s\n",
            "[CV] C=10, kernel=rbf ................................................\n",
            "[CV] ................................. C=10, kernel=rbf, total=   4.2s\n",
            "[CV] C=10, kernel=rbf ................................................\n",
            "[CV] ................................. C=10, kernel=rbf, total=   4.2s\n",
            "[CV] C=10, kernel=rbf ................................................\n",
            "[CV] ................................. C=10, kernel=rbf, total=   4.2s\n",
            "[CV] C=10, kernel=rbf ................................................\n",
            "[CV] ................................. C=10, kernel=rbf, total=   4.2s\n",
            "[CV] C=10, kernel=rbf ................................................\n",
            "[CV] ................................. C=10, kernel=rbf, total=   4.2s\n",
            "[CV] C=10, kernel=poly ...............................................\n",
            "[CV] ................................ C=10, kernel=poly, total=   3.4s\n",
            "[CV] C=10, kernel=poly ...............................................\n",
            "[CV] ................................ C=10, kernel=poly, total=   3.3s\n",
            "[CV] C=10, kernel=poly ...............................................\n",
            "[CV] ................................ C=10, kernel=poly, total=   3.3s\n",
            "[CV] C=10, kernel=poly ...............................................\n",
            "[CV] ................................ C=10, kernel=poly, total=   3.4s\n",
            "[CV] C=10, kernel=poly ...............................................\n",
            "[CV] ................................ C=10, kernel=poly, total=   3.2s\n",
            "[CV] C=10, kernel=sigmoid ............................................\n",
            "[CV] ............................. C=10, kernel=sigmoid, total=   4.8s\n",
            "[CV] C=10, kernel=sigmoid ............................................\n",
            "[CV] ............................. C=10, kernel=sigmoid, total=   4.8s\n",
            "[CV] C=10, kernel=sigmoid ............................................\n",
            "[CV] ............................. C=10, kernel=sigmoid, total=   4.8s\n",
            "[CV] C=10, kernel=sigmoid ............................................\n",
            "[CV] ............................. C=10, kernel=sigmoid, total=   4.8s\n",
            "[CV] C=10, kernel=sigmoid ............................................\n",
            "[CV] ............................. C=10, kernel=sigmoid, total=   4.8s\n"
          ],
          "name": "stdout"
        },
        {
          "output_type": "stream",
          "text": [
            "[Parallel(n_jobs=1)]: Done  45 out of  45 | elapsed:  3.0min finished\n"
          ],
          "name": "stderr"
        },
        {
          "output_type": "execute_result",
          "data": {
            "text/plain": [
              "GridSearchCV(cv=None, error_score=nan,\n",
              "             estimator=SVR(C=1.0, cache_size=200, coef0=0.0, degree=3,\n",
              "                           epsilon=0.1, gamma='scale', kernel='rbf',\n",
              "                           max_iter=-1, shrinking=True, tol=0.001,\n",
              "                           verbose=False),\n",
              "             iid='deprecated', n_jobs=None,\n",
              "             param_grid={'C': [0.1, 1, 10],\n",
              "                         'kernel': ['rbf', 'poly', 'sigmoid']},\n",
              "             pre_dispatch='2*n_jobs', refit=True, return_train_score=False,\n",
              "             scoring=make_scorer(mae, greater_is_better=False), verbose=2)"
            ]
          },
          "metadata": {
            "tags": []
          },
          "execution_count": 42
        }
      ]
    },
    {
      "cell_type": "code",
      "metadata": {
        "id": "nJtetQbn4V88",
        "colab_type": "code",
        "colab": {
          "base_uri": "https://localhost:8080/",
          "height": 87
        },
        "outputId": "c46ac737-9be5-4615-942b-dd91fb4cf665"
      },
      "source": [
        "# best parameter 적용\n",
        "from sklearn.model_selection import KFold\n",
        "\n",
        "kf = KFold(n_splits=5)\n",
        "scores = []\n",
        "for train_index, test_index in kf.split(X_train):\n",
        "    svr = SVR(C = grid_svr.best_params_['C'],\n",
        "              kernel = grid_svr.best_params_['kernel'],\n",
        "              verbose = True)\n",
        "    svr.fit(X_train[train_index], y_train[train_index])\n",
        "    pred = svr.predict(X_train[test_index])\n",
        "    scores.append(mae(y_train[test_index], pred))\n",
        "\n",
        "SVR_cv_mae = np.mean(scores)\n",
        "print('\\nSVR, C = {0}, kernel = {1}'.format(grid_svr.best_params_['C'], grid_svr.best_params_['kernel']))\n",
        "print(f'SVR cv_mae_score = {SVR_cv_mae}\\n')"
      ],
      "execution_count": null,
      "outputs": [
        {
          "output_type": "stream",
          "text": [
            "[LibSVM][LibSVM][LibSVM][LibSVM][LibSVM]\n",
            "SVR, C = 10, kernel = poly\n",
            "SVR cv_mae_score = 15.837368932183818\n",
            "\n"
          ],
          "name": "stdout"
        }
      ]
    },
    {
      "cell_type": "code",
      "metadata": {
        "id": "mexpVvZV9yUm",
        "colab_type": "code",
        "colab": {}
      },
      "source": [
        ""
      ],
      "execution_count": null,
      "outputs": []
    },
    {
      "cell_type": "code",
      "metadata": {
        "id": "dylZxn6E8XDb",
        "colab_type": "code",
        "colab": {}
      },
      "source": [
        ""
      ],
      "execution_count": null,
      "outputs": []
    },
    {
      "cell_type": "code",
      "metadata": {
        "id": "IFAhRioG0okJ",
        "colab_type": "code",
        "colab": {}
      },
      "source": [
        ""
      ],
      "execution_count": null,
      "outputs": []
    },
    {
      "cell_type": "code",
      "metadata": {
        "id": "1miQXTNi9jPN",
        "colab_type": "code",
        "colab": {
          "base_uri": "https://localhost:8080/",
          "height": 175
        },
        "outputId": "0b918ad6-69bc-4e18-c1e3-322116228f05"
      },
      "source": [
        "grid_svr.cv_results_['params']"
      ],
      "execution_count": null,
      "outputs": [
        {
          "output_type": "execute_result",
          "data": {
            "text/plain": [
              "[{'C': 0.1, 'kernel': 'rbf'},\n",
              " {'C': 0.1, 'kernel': 'poly'},\n",
              " {'C': 0.1, 'kernel': 'sigmoid'},\n",
              " {'C': 1, 'kernel': 'rbf'},\n",
              " {'C': 1, 'kernel': 'poly'},\n",
              " {'C': 1, 'kernel': 'sigmoid'},\n",
              " {'C': 10, 'kernel': 'rbf'},\n",
              " {'C': 10, 'kernel': 'poly'},\n",
              " {'C': 10, 'kernel': 'sigmoid'}]"
            ]
          },
          "metadata": {
            "tags": []
          },
          "execution_count": 48
        }
      ]
    },
    {
      "cell_type": "code",
      "metadata": {
        "id": "Hm1gHpgn8OnS",
        "colab_type": "code",
        "colab": {
          "base_uri": "https://localhost:8080/",
          "height": 295
        },
        "outputId": "ba219140-e6e0-4d92-e1b9-d285727656a7"
      },
      "source": [
        "plt.plot([0.1,1,10], -grid_svr.cv_results_['mean_test_score'][[0,3,6]], label='Rbf')\n",
        "plt.plot([0.1,1,10], -grid_svr.cv_results_['mean_test_score'][[1,4,7]], label='Poly')\n",
        "plt.plot([0.1,1,10], -grid_svr.cv_results_['mean_test_score'][[2,5,8]], label='Sigmoid')\n",
        "plt.legend()\n",
        "plt.title('Support Vector Regressor')\n",
        "plt.xlabel('C')\n",
        "plt.ylabel('cv mean test score')\n",
        "plt.show()"
      ],
      "execution_count": null,
      "outputs": [
        {
          "output_type": "display_data",
          "data": {
            "image/png": "[encoded data removed]",
            "text/plain": [
              "<Figure size 432x288 with 1 Axes>"
            ]
          },
          "metadata": {
            "tags": [],
            "needs_background": "light"
          }
        }
      ]
    },
    {
      "cell_type": "code",
      "metadata": {
        "id": "2_u0tBEgBBUS",
        "colab_type": "code",
        "colab": {}
      },
      "source": [
        ""
      ],
      "execution_count": null,
      "outputs": []
    },
    {
      "cell_type": "markdown",
      "metadata": {
        "id": "W-RUmAaeI2uu",
        "colab_type": "text"
      },
      "source": [
        "### 2차 그리드 서치"
      ]
    },
    {
      "cell_type": "code",
      "metadata": {
        "id": "A2IrjKdU19mj",
        "colab_type": "code",
        "colab": {
          "base_uri": "https://localhost:8080/",
          "height": 1000
        },
        "outputId": "87034344-d11f-45e8-eb0c-f84d517e9e4f"
      },
      "source": [
        "param_grid = {'C': range(10,31), 'kernel': ['poly']}\n",
        "grid_svr = GridSearchCV(SVR(),\n",
        "                        param_grid,\n",
        "                        refit=True,\n",
        "                        scoring = make_scorer(mae, greater_is_better=False),\n",
        "                        verbose=2)\n",
        "grid_svr.fit(X_train, y_train)"
      ],
      "execution_count": null,
      "outputs": [
        {
          "output_type": "stream",
          "text": [
            "Fitting 5 folds for each of 21 candidates, totalling 105 fits\n",
            "[CV] C=10, kernel=poly ...............................................\n"
          ],
          "name": "stdout"
        },
        {
          "output_type": "stream",
          "text": [
            "[Parallel(n_jobs=1)]: Using backend SequentialBackend with 1 concurrent workers.\n"
          ],
          "name": "stderr"
        },
        {
          "output_type": "stream",
          "text": [
            "[CV] ................................ C=10, kernel=poly, total=   4.1s\n",
            "[CV] C=10, kernel=poly ...............................................\n"
          ],
          "name": "stdout"
        },
        {
          "output_type": "stream",
          "text": [
            "[Parallel(n_jobs=1)]: Done   1 out of   1 | elapsed:    4.1s remaining:    0.0s\n"
          ],
          "name": "stderr"
        },
        {
          "output_type": "stream",
          "text": [
            "[CV] ................................ C=10, kernel=poly, total=   3.8s\n",
            "[CV] C=10, kernel=poly ...............................................\n",
            "[CV] ................................ C=10, kernel=poly, total=   3.8s\n",
            "[CV] C=10, kernel=poly ...............................................\n",
            "[CV] ................................ C=10, kernel=poly, total=   3.9s\n",
            "[CV] C=10, kernel=poly ...............................................\n",
            "[CV] ................................ C=10, kernel=poly, total=   3.7s\n",
            "[CV] C=11, kernel=poly ...............................................\n",
            "[CV] ................................ C=11, kernel=poly, total=   3.8s\n",
            "[CV] C=11, kernel=poly ...............................................\n",
            "[CV] ................................ C=11, kernel=poly, total=   4.0s\n",
            "[CV] C=11, kernel=poly ...............................................\n",
            "[CV] ................................ C=11, kernel=poly, total=   3.8s\n",
            "[CV] C=11, kernel=poly ...............................................\n",
            "[CV] ................................ C=11, kernel=poly, total=   3.8s\n",
            "[CV] C=11, kernel=poly ...............................................\n",
            "[CV] ................................ C=11, kernel=poly, total=   3.7s\n",
            "[CV] C=12, kernel=poly ...............................................\n",
            "[CV] ................................ C=12, kernel=poly, total=   3.8s\n",
            "[CV] C=12, kernel=poly ...............................................\n",
            "[CV] ................................ C=12, kernel=poly, total=   3.9s\n",
            "[CV] C=12, kernel=poly ...............................................\n",
            "[CV] ................................ C=12, kernel=poly, total=   3.9s\n",
            "[CV] C=12, kernel=poly ...............................................\n",
            "[CV] ................................ C=12, kernel=poly, total=   3.9s\n",
            "[CV] C=12, kernel=poly ...............................................\n",
            "[CV] ................................ C=12, kernel=poly, total=   3.9s\n",
            "[CV] C=13, kernel=poly ...............................................\n",
            "[CV] ................................ C=13, kernel=poly, total=   3.9s\n",
            "[CV] C=13, kernel=poly ...............................................\n",
            "[CV] ................................ C=13, kernel=poly, total=   3.9s\n",
            "[CV] C=13, kernel=poly ...............................................\n",
            "[CV] ................................ C=13, kernel=poly, total=   4.0s\n",
            "[CV] C=13, kernel=poly ...............................................\n",
            "[CV] ................................ C=13, kernel=poly, total=   4.0s\n",
            "[CV] C=13, kernel=poly ...............................................\n",
            "[CV] ................................ C=13, kernel=poly, total=   3.9s\n",
            "[CV] C=14, kernel=poly ...............................................\n",
            "[CV] ................................ C=14, kernel=poly, total=   4.1s\n",
            "[CV] C=14, kernel=poly ...............................................\n",
            "[CV] ................................ C=14, kernel=poly, total=   4.0s\n",
            "[CV] C=14, kernel=poly ...............................................\n",
            "[CV] ................................ C=14, kernel=poly, total=   4.0s\n",
            "[CV] C=14, kernel=poly ...............................................\n",
            "[CV] ................................ C=14, kernel=poly, total=   4.0s\n",
            "[CV] C=14, kernel=poly ...............................................\n",
            "[CV] ................................ C=14, kernel=poly, total=   4.0s\n",
            "[CV] C=15, kernel=poly ...............................................\n",
            "[CV] ................................ C=15, kernel=poly, total=   4.0s\n",
            "[CV] C=15, kernel=poly ...............................................\n",
            "[CV] ................................ C=15, kernel=poly, total=   4.0s\n",
            "[CV] C=15, kernel=poly ...............................................\n",
            "[CV] ................................ C=15, kernel=poly, total=   4.1s\n",
            "[CV] C=15, kernel=poly ...............................................\n",
            "[CV] ................................ C=15, kernel=poly, total=   3.9s\n",
            "[CV] C=15, kernel=poly ...............................................\n",
            "[CV] ................................ C=15, kernel=poly, total=   3.9s\n",
            "[CV] C=16, kernel=poly ...............................................\n",
            "[CV] ................................ C=16, kernel=poly, total=   4.0s\n",
            "[CV] C=16, kernel=poly ...............................................\n",
            "[CV] ................................ C=16, kernel=poly, total=   4.0s\n",
            "[CV] C=16, kernel=poly ...............................................\n",
            "[CV] ................................ C=16, kernel=poly, total=   4.2s\n",
            "[CV] C=16, kernel=poly ...............................................\n",
            "[CV] ................................ C=16, kernel=poly, total=   4.1s\n",
            "[CV] C=16, kernel=poly ...............................................\n",
            "[CV] ................................ C=16, kernel=poly, total=   4.1s\n",
            "[CV] C=17, kernel=poly ...............................................\n",
            "[CV] ................................ C=17, kernel=poly, total=   4.3s\n",
            "[CV] C=17, kernel=poly ...............................................\n",
            "[CV] ................................ C=17, kernel=poly, total=   4.1s\n",
            "[CV] C=17, kernel=poly ...............................................\n",
            "[CV] ................................ C=17, kernel=poly, total=   4.1s\n",
            "[CV] C=17, kernel=poly ...............................................\n",
            "[CV] ................................ C=17, kernel=poly, total=   4.2s\n",
            "[CV] C=17, kernel=poly ...............................................\n",
            "[CV] ................................ C=17, kernel=poly, total=   4.1s\n",
            "[CV] C=18, kernel=poly ...............................................\n",
            "[CV] ................................ C=18, kernel=poly, total=   4.2s\n",
            "[CV] C=18, kernel=poly ...............................................\n",
            "[CV] ................................ C=18, kernel=poly, total=   4.2s\n",
            "[CV] C=18, kernel=poly ...............................................\n",
            "[CV] ................................ C=18, kernel=poly, total=   4.1s\n",
            "[CV] C=18, kernel=poly ...............................................\n",
            "[CV] ................................ C=18, kernel=poly, total=   4.2s\n",
            "[CV] C=18, kernel=poly ...............................................\n",
            "[CV] ................................ C=18, kernel=poly, total=   4.2s\n",
            "[CV] C=19, kernel=poly ...............................................\n",
            "[CV] ................................ C=19, kernel=poly, total=   4.3s\n",
            "[CV] C=19, kernel=poly ...............................................\n",
            "[CV] ................................ C=19, kernel=poly, total=   4.2s\n",
            "[CV] C=19, kernel=poly ...............................................\n",
            "[CV] ................................ C=19, kernel=poly, total=   4.1s\n",
            "[CV] C=19, kernel=poly ...............................................\n",
            "[CV] ................................ C=19, kernel=poly, total=   4.2s\n",
            "[CV] C=19, kernel=poly ...............................................\n",
            "[CV] ................................ C=19, kernel=poly, total=   4.1s\n",
            "[CV] C=20, kernel=poly ...............................................\n",
            "[CV] ................................ C=20, kernel=poly, total=   4.2s\n",
            "[CV] C=20, kernel=poly ...............................................\n",
            "[CV] ................................ C=20, kernel=poly, total=   4.2s\n",
            "[CV] C=20, kernel=poly ...............................................\n",
            "[CV] ................................ C=20, kernel=poly, total=   4.2s\n",
            "[CV] C=20, kernel=poly ...............................................\n",
            "[CV] ................................ C=20, kernel=poly, total=   4.3s\n",
            "[CV] C=20, kernel=poly ...............................................\n",
            "[CV] ................................ C=20, kernel=poly, total=   4.6s\n",
            "[CV] C=21, kernel=poly ...............................................\n",
            "[CV] ................................ C=21, kernel=poly, total=   4.4s\n",
            "[CV] C=21, kernel=poly ...............................................\n",
            "[CV] ................................ C=21, kernel=poly, total=   4.5s\n",
            "[CV] C=21, kernel=poly ...............................................\n",
            "[CV] ................................ C=21, kernel=poly, total=   4.4s\n",
            "[CV] C=21, kernel=poly ...............................................\n",
            "[CV] ................................ C=21, kernel=poly, total=   4.3s\n",
            "[CV] C=21, kernel=poly ...............................................\n",
            "[CV] ................................ C=21, kernel=poly, total=   4.3s\n",
            "[CV] C=22, kernel=poly ...............................................\n",
            "[CV] ................................ C=22, kernel=poly, total=   4.2s\n",
            "[CV] C=22, kernel=poly ...............................................\n",
            "[CV] ................................ C=22, kernel=poly, total=   4.4s\n",
            "[CV] C=22, kernel=poly ...............................................\n",
            "[CV] ................................ C=22, kernel=poly, total=   4.2s\n",
            "[CV] C=22, kernel=poly ...............................................\n",
            "[CV] ................................ C=22, kernel=poly, total=   4.4s\n",
            "[CV] C=22, kernel=poly ...............................................\n",
            "[CV] ................................ C=22, kernel=poly, total=   4.4s\n",
            "[CV] C=23, kernel=poly ...............................................\n",
            "[CV] ................................ C=23, kernel=poly, total=   4.4s\n",
            "[CV] C=23, kernel=poly ...............................................\n",
            "[CV] ................................ C=23, kernel=poly, total=   4.5s\n",
            "[CV] C=23, kernel=poly ...............................................\n",
            "[CV] ................................ C=23, kernel=poly, total=   4.3s\n",
            "[CV] C=23, kernel=poly ...............................................\n",
            "[CV] ................................ C=23, kernel=poly, total=   4.5s\n",
            "[CV] C=23, kernel=poly ...............................................\n",
            "[CV] ................................ C=23, kernel=poly, total=   4.4s\n",
            "[CV] C=24, kernel=poly ...............................................\n",
            "[CV] ................................ C=24, kernel=poly, total=   4.3s\n",
            "[CV] C=24, kernel=poly ...............................................\n",
            "[CV] ................................ C=24, kernel=poly, total=   4.5s\n",
            "[CV] C=24, kernel=poly ...............................................\n",
            "[CV] ................................ C=24, kernel=poly, total=   4.4s\n",
            "[CV] C=24, kernel=poly ...............................................\n",
            "[CV] ................................ C=24, kernel=poly, total=   4.5s\n",
            "[CV] C=24, kernel=poly ...............................................\n",
            "[CV] ................................ C=24, kernel=poly, total=   4.6s\n",
            "[CV] C=25, kernel=poly ...............................................\n",
            "[CV] ................................ C=25, kernel=poly, total=   4.5s\n",
            "[CV] C=25, kernel=poly ...............................................\n",
            "[CV] ................................ C=25, kernel=poly, total=   4.6s\n",
            "[CV] C=25, kernel=poly ...............................................\n",
            "[CV] ................................ C=25, kernel=poly, total=   4.4s\n",
            "[CV] C=25, kernel=poly ...............................................\n",
            "[CV] ................................ C=25, kernel=poly, total=   4.9s\n",
            "[CV] C=25, kernel=poly ...............................................\n",
            "[CV] ................................ C=25, kernel=poly, total=   4.4s\n",
            "[CV] C=26, kernel=poly ...............................................\n",
            "[CV] ................................ C=26, kernel=poly, total=   4.7s\n",
            "[CV] C=26, kernel=poly ...............................................\n",
            "[CV] ................................ C=26, kernel=poly, total=   4.7s\n",
            "[CV] C=26, kernel=poly ...............................................\n",
            "[CV] ................................ C=26, kernel=poly, total=   4.4s\n",
            "[CV] C=26, kernel=poly ...............................................\n",
            "[CV] ................................ C=26, kernel=poly, total=   4.5s\n",
            "[CV] C=26, kernel=poly ...............................................\n",
            "[CV] ................................ C=26, kernel=poly, total=   4.6s\n",
            "[CV] C=27, kernel=poly ...............................................\n",
            "[CV] ................................ C=27, kernel=poly, total=   4.5s\n",
            "[CV] C=27, kernel=poly ...............................................\n",
            "[CV] ................................ C=27, kernel=poly, total=   4.4s\n",
            "[CV] C=27, kernel=poly ...............................................\n",
            "[CV] ................................ C=27, kernel=poly, total=   4.5s\n",
            "[CV] C=27, kernel=poly ...............................................\n",
            "[CV] ................................ C=27, kernel=poly, total=   4.6s\n",
            "[CV] C=27, kernel=poly ...............................................\n",
            "[CV] ................................ C=27, kernel=poly, total=   4.4s\n",
            "[CV] C=28, kernel=poly ...............................................\n",
            "[CV] ................................ C=28, kernel=poly, total=   4.5s\n",
            "[CV] C=28, kernel=poly ...............................................\n",
            "[CV] ................................ C=28, kernel=poly, total=   4.6s\n",
            "[CV] C=28, kernel=poly ...............................................\n",
            "[CV] ................................ C=28, kernel=poly, total=   4.8s\n",
            "[CV] C=28, kernel=poly ...............................................\n",
            "[CV] ................................ C=28, kernel=poly, total=   4.5s\n",
            "[CV] C=28, kernel=poly ...............................................\n",
            "[CV] ................................ C=28, kernel=poly, total=   4.6s\n",
            "[CV] C=29, kernel=poly ...............................................\n",
            "[CV] ................................ C=29, kernel=poly, total=   4.7s\n",
            "[CV] C=29, kernel=poly ...............................................\n",
            "[CV] ................................ C=29, kernel=poly, total=   4.6s\n",
            "[CV] C=29, kernel=poly ...............................................\n",
            "[CV] ................................ C=29, kernel=poly, total=   4.6s\n",
            "[CV] C=29, kernel=poly ...............................................\n",
            "[CV] ................................ C=29, kernel=poly, total=   4.7s\n",
            "[CV] C=29, kernel=poly ...............................................\n",
            "[CV] ................................ C=29, kernel=poly, total=   4.6s\n",
            "[CV] C=30, kernel=poly ...............................................\n",
            "[CV] ................................ C=30, kernel=poly, total=   4.8s\n",
            "[CV] C=30, kernel=poly ...............................................\n",
            "[CV] ................................ C=30, kernel=poly, total=   5.0s\n",
            "[CV] C=30, kernel=poly ...............................................\n",
            "[CV] ................................ C=30, kernel=poly, total=   4.8s\n",
            "[CV] C=30, kernel=poly ...............................................\n",
            "[CV] ................................ C=30, kernel=poly, total=   4.8s\n",
            "[CV] C=30, kernel=poly ...............................................\n",
            "[CV] ................................ C=30, kernel=poly, total=   4.7s\n"
          ],
          "name": "stdout"
        },
        {
          "output_type": "stream",
          "text": [
            "[Parallel(n_jobs=1)]: Done 105 out of 105 | elapsed:  7.5min finished\n"
          ],
          "name": "stderr"
        },
        {
          "output_type": "execute_result",
          "data": {
            "text/plain": [
              "GridSearchCV(cv=None, error_score=nan,\n",
              "             estimator=SVR(C=1.0, cache_size=200, coef0=0.0, degree=3,\n",
              "                           epsilon=0.1, gamma='scale', kernel='rbf',\n",
              "                           max_iter=-1, shrinking=True, tol=0.001,\n",
              "                           verbose=False),\n",
              "             iid='deprecated', n_jobs=None,\n",
              "             param_grid={'C': range(10, 31), 'kernel': ['poly']},\n",
              "             pre_dispatch='2*n_jobs', refit=True, return_train_score=False,\n",
              "             scoring=make_scorer(mae, greater_is_better=False), verbose=2)"
            ]
          },
          "metadata": {
            "tags": []
          },
          "execution_count": 68
        }
      ]
    },
    {
      "cell_type": "code",
      "metadata": {
        "id": "2HUSLUjW4Yp1",
        "colab_type": "code",
        "colab": {
          "base_uri": "https://localhost:8080/",
          "height": 295
        },
        "outputId": "dd0d5f61-2c7d-40eb-9c25-213125169ffd"
      },
      "source": [
        "plt.plot(range(10,31), - grid_svr.cv_results_['mean_test_score'], label='Poly')\n",
        "plt.legend()\n",
        "plt.title('Support Vector Regressor')\n",
        "plt.xlabel('C')\n",
        "plt.ylabel('cv mean test score')\n",
        "plt.show()"
      ],
      "execution_count": null,
      "outputs": [
        {
          "output_type": "display_data",
          "data": {
            "image/png": "[encoded data removed]",
            "text/plain": [
              "<Figure size 432x288 with 1 Axes>"
            ]
          },
          "metadata": {
            "tags": [],
            "needs_background": "light"
          }
        }
      ]
    },
    {
      "cell_type": "code",
      "metadata": {
        "id": "OwtaaX4-4kIJ",
        "colab_type": "code",
        "colab": {
          "base_uri": "https://localhost:8080/",
          "height": 70
        },
        "outputId": "1d2b7641-db18-428f-d81f-d75836cba9f5"
      },
      "source": [
        "print(f'best_score : {-grid_svr.best_score_}')\n",
        "grid_svr.best_estimator_"
      ],
      "execution_count": null,
      "outputs": [
        {
          "output_type": "stream",
          "text": [
            "best_score : 15.815398319162949\n"
          ],
          "name": "stdout"
        },
        {
          "output_type": "execute_result",
          "data": {
            "text/plain": [
              "SVR(C=29, cache_size=200, coef0=0.0, degree=3, epsilon=0.1, gamma='scale',\n",
              "    kernel='poly', max_iter=-1, shrinking=True, tol=0.001, verbose=False)"
            ]
          },
          "metadata": {
            "tags": []
          },
          "execution_count": 70
        }
      ]
    },
    {
      "cell_type": "code",
      "metadata": {
        "id": "au-PLWHGC8-h",
        "colab_type": "code",
        "colab": {
          "base_uri": "https://localhost:8080/",
          "height": 88
        },
        "outputId": "31cdb6da-5173-412b-aace-a0f4907baa30"
      },
      "source": [
        "kf = KFold(n_splits=5)\n",
        "scores = []\n",
        "for train_index, test_index in kf.split(X_train):\n",
        "    best_svr = grid_svr.best_estimator_\n",
        "    best_svr.fit(X_train[train_index], y_train[train_index])\n",
        "    pred = best_svr.predict(X_train[test_index])\n",
        "    scores.append(mae(y_train[test_index], pred))\n",
        "\n",
        "SVR_cv_mae = np.mean(scores)\n",
        "print('\\nSVR, C = {0}, kernel = {1}'.format(grid_svr.best_params_['C'], grid_svr.best_params_['kernel']))\n",
        "print(f'SVR cv_mae_score = {SVR_cv_mae}\\n')"
      ],
      "execution_count": null,
      "outputs": [
        {
          "output_type": "stream",
          "text": [
            "\n",
            "SVR, C = 29, kernel = poly\n",
            "SVR cv_mae_score = 15.815398319162949\n",
            "\n"
          ],
          "name": "stdout"
        }
      ]
    },
    {
      "cell_type": "markdown",
      "metadata": {
        "id": "CkDlBkoaT98B",
        "colab_type": "text"
      },
      "source": [
        "### SVM normalize"
      ]
    },
    {
      "cell_type": "code",
      "metadata": {
        "id": "NOrgbC9f4tQw",
        "colab_type": "code",
        "colab": {
          "base_uri": "https://localhost:8080/",
          "height": 87
        },
        "outputId": "de4ab696-cdcf-4cc3-d11d-bdbf1af7d386"
      },
      "source": [
        "kf = KFold(n_splits=5)\n",
        "scores = []\n",
        "for train_index, test_index in kf.split(X_train_normalized):\n",
        "    best_svr = grid_svr.best_estimator_\n",
        "    best_svr.fit(X_train_normalized[train_index], y_train[train_index])\n",
        "    pred = best_svr.predict(X_train_normalized[test_index])\n",
        "    scores.append(mae(y_train[test_index], pred))\n",
        "\n",
        "SVR_cv_mae = np.mean(scores)\n",
        "print('\\nSVR, C = {0}, kernel = {1}'.format(grid_svr.best_params_['C'], grid_svr.best_params_['kernel']))\n",
        "print(f'SVR cv_mae_score = {SVR_cv_mae}\\n')"
      ],
      "execution_count": null,
      "outputs": [
        {
          "output_type": "stream",
          "text": [
            "\n",
            "SVR, C = 29, kernel = poly\n",
            "SVR cv_mae_score = 16.051933968245066\n",
            "\n"
          ],
          "name": "stdout"
        }
      ]
    },
    {
      "cell_type": "markdown",
      "metadata": {
        "id": "R7an5UGSef_m",
        "colab_type": "text"
      },
      "source": [
        "## Decision Tree"
      ]
    },
    {
      "cell_type": "code",
      "metadata": {
        "id": "YsNYnYvy5qb4",
        "colab_type": "code",
        "colab": {
          "base_uri": "https://localhost:8080/",
          "height": 1000
        },
        "outputId": "42e2a361-9fe2-425f-e726-5748a3d32770"
      },
      "source": [
        "from sklearn.tree import DecisionTreeRegressor\n",
        "from sklearn.metrics import mean_squared_error\n",
        "from sklearn.metrics import make_scorer\n",
        "\n",
        "\n",
        "\n",
        "\n",
        "\n",
        "param_grid = {'max_depth' : range(2,8)}\n",
        "\n",
        "\n",
        "gs_tree = GridSearchCV(DecisionTreeRegressor(criterion = 'mse'),\n",
        "                       param_grid,\n",
        "                       refit=True,\n",
        "                       scoring = make_scorer(mae, greater_is_better=False),\n",
        "                       verbose=2)\n",
        "gs_tree.fit(X_train, y_train)"
      ],
      "execution_count": null,
      "outputs": [
        {
          "output_type": "stream",
          "text": [
            "Fitting 5 folds for each of 6 candidates, totalling 30 fits\n",
            "[CV] max_depth=2 .....................................................\n",
            "[CV] ...................................... max_depth=2, total=   0.0s\n",
            "[CV] max_depth=2 .....................................................\n",
            "[CV] ...................................... max_depth=2, total=   0.0s\n",
            "[CV] max_depth=2 .....................................................\n",
            "[CV] ...................................... max_depth=2, total=   0.0s\n",
            "[CV] max_depth=2 .....................................................\n",
            "[CV] ...................................... max_depth=2, total=   0.0s\n",
            "[CV] max_depth=2 .....................................................\n",
            "[CV] ...................................... max_depth=2, total=   0.0s\n",
            "[CV] max_depth=3 .....................................................\n",
            "[CV] ...................................... max_depth=3, total=   0.0s\n",
            "[CV] max_depth=3 .....................................................\n",
            "[CV] ...................................... max_depth=3, total=   0.0s\n",
            "[CV] max_depth=3 .....................................................\n"
          ],
          "name": "stdout"
        },
        {
          "output_type": "stream",
          "text": [
            "[Parallel(n_jobs=1)]: Using backend SequentialBackend with 1 concurrent workers.\n",
            "[Parallel(n_jobs=1)]: Done   1 out of   1 | elapsed:    0.0s remaining:    0.0s\n"
          ],
          "name": "stderr"
        },
        {
          "output_type": "stream",
          "text": [
            "[CV] ...................................... max_depth=3, total=   0.0s\n",
            "[CV] max_depth=3 .....................................................\n",
            "[CV] ...................................... max_depth=3, total=   0.0s\n",
            "[CV] max_depth=3 .....................................................\n",
            "[CV] ...................................... max_depth=3, total=   0.0s\n",
            "[CV] max_depth=4 .....................................................\n",
            "[CV] ...................................... max_depth=4, total=   0.0s\n",
            "[CV] max_depth=4 .....................................................\n",
            "[CV] ...................................... max_depth=4, total=   0.0s\n",
            "[CV] max_depth=4 .....................................................\n",
            "[CV] ...................................... max_depth=4, total=   0.0s\n",
            "[CV] max_depth=4 .....................................................\n",
            "[CV] ...................................... max_depth=4, total=   0.0s\n",
            "[CV] max_depth=4 .....................................................\n",
            "[CV] ...................................... max_depth=4, total=   0.0s\n",
            "[CV] max_depth=5 .....................................................\n",
            "[CV] ...................................... max_depth=5, total=   0.0s\n",
            "[CV] max_depth=5 .....................................................\n",
            "[CV] ...................................... max_depth=5, total=   0.0s\n",
            "[CV] max_depth=5 .....................................................\n",
            "[CV] ...................................... max_depth=5, total=   0.1s\n",
            "[CV] max_depth=5 .....................................................\n",
            "[CV] ...................................... max_depth=5, total=   0.0s\n",
            "[CV] max_depth=5 .....................................................\n",
            "[CV] ...................................... max_depth=5, total=   0.0s\n",
            "[CV] max_depth=6 .....................................................\n",
            "[CV] ...................................... max_depth=6, total=   0.1s\n",
            "[CV] max_depth=6 .....................................................\n",
            "[CV] ...................................... max_depth=6, total=   0.1s\n",
            "[CV] max_depth=6 .....................................................\n",
            "[CV] ...................................... max_depth=6, total=   0.1s\n",
            "[CV] max_depth=6 .....................................................\n",
            "[CV] ...................................... max_depth=6, total=   0.1s\n",
            "[CV] max_depth=6 .....................................................\n",
            "[CV] ...................................... max_depth=6, total=   0.1s\n",
            "[CV] max_depth=7 .....................................................\n",
            "[CV] ...................................... max_depth=7, total=   0.1s\n",
            "[CV] max_depth=7 .....................................................\n",
            "[CV] ...................................... max_depth=7, total=   0.1s\n",
            "[CV] max_depth=7 .....................................................\n",
            "[CV] ...................................... max_depth=7, total=   0.1s\n",
            "[CV] max_depth=7 .....................................................\n",
            "[CV] ...................................... max_depth=7, total=   0.1s\n",
            "[CV] max_depth=7 .....................................................\n",
            "[CV] ...................................... max_depth=7, total=   0.1s\n"
          ],
          "name": "stdout"
        },
        {
          "output_type": "stream",
          "text": [
            "[Parallel(n_jobs=1)]: Done  30 out of  30 | elapsed:    1.3s finished\n"
          ],
          "name": "stderr"
        },
        {
          "output_type": "execute_result",
          "data": {
            "text/plain": [
              "GridSearchCV(cv=None, error_score=nan,\n",
              "             estimator=DecisionTreeRegressor(ccp_alpha=0.0, criterion='mse',\n",
              "                                             max_depth=None, max_features=None,\n",
              "                                             max_leaf_nodes=None,\n",
              "                                             min_impurity_decrease=0.0,\n",
              "                                             min_impurity_split=None,\n",
              "                                             min_samples_leaf=1,\n",
              "                                             min_samples_split=2,\n",
              "                                             min_weight_fraction_leaf=0.0,\n",
              "                                             presort='deprecated',\n",
              "                                             random_state=None,\n",
              "                                             splitter='best'),\n",
              "             iid='deprecated', n_jobs=None,\n",
              "             param_grid={'max_depth': range(2, 8)}, pre_dispatch='2*n_jobs',\n",
              "             refit=True, return_train_score=False,\n",
              "             scoring=make_scorer(mae, greater_is_better=False), verbose=2)"
            ]
          },
          "metadata": {
            "tags": []
          },
          "execution_count": 60
        }
      ]
    },
    {
      "cell_type": "code",
      "metadata": {
        "id": "BBGIUKo659T0",
        "colab_type": "code",
        "colab": {
          "base_uri": "https://localhost:8080/",
          "height": 70
        },
        "outputId": "91135480-4a28-4036-e787-a6da399d45e0"
      },
      "source": [
        "# best parameter 적용\n",
        "kf = KFold(n_splits=5)\n",
        "scores = []\n",
        "for train_index, test_index in kf.split(X_train):\n",
        "    tree = DecisionTreeRegressor(max_depth = gs_tree.best_params_['max_depth'])\n",
        "    tree.fit(X_train[train_index], y_train[train_index])\n",
        "    pred = tree.predict(X_train[test_index])\n",
        "    scores.append(mae(y_train[test_index], pred))\n",
        "\n",
        "Decision_Tree_cv_mae = np.mean(scores)\n",
        "print('Decision Tree Regressor, max_depth = {}'.format(gs_tree.best_params_['max_depth']))\n",
        "print(f'Decision Tree Regressor cv_mae_score = {Decision_Tree_cv_mae}\\n')"
      ],
      "execution_count": null,
      "outputs": [
        {
          "output_type": "stream",
          "text": [
            "Decision Tree Regressor, max_depth = 4\n",
            "Decision Tree Regressor cv_mae_score = 17.573361979662952\n",
            "\n"
          ],
          "name": "stdout"
        }
      ]
    },
    {
      "cell_type": "code",
      "metadata": {
        "id": "oii2igJR6DaG",
        "colab_type": "code",
        "colab": {
          "base_uri": "https://localhost:8080/",
          "height": 295
        },
        "outputId": "398c4c53-2e4d-4300-8a98-3fe0f14160fe"
      },
      "source": [
        "plt.plot(range(2,8), -gs_tree.cv_results_['mean_test_score'])\n",
        "plt.title('Decision Tree Regressor')\n",
        "plt.xlabel('max depth')\n",
        "plt.ylabel('cv mean test score')\n",
        "plt.show()"
      ],
      "execution_count": null,
      "outputs": [
        {
          "output_type": "display_data",
          "data": {
            "image/png": "[encoded data removed]",
            "text/plain": [
              "<Figure size 432x288 with 1 Axes>"
            ]
          },
          "metadata": {
            "tags": [],
            "needs_background": "light"
          }
        }
      ]
    },
    {
      "cell_type": "code",
      "metadata": {
        "id": "QRUF96WKVzeJ",
        "colab_type": "code",
        "colab": {
          "base_uri": "https://localhost:8080/",
          "height": 70
        },
        "outputId": "780da539-0058-4e13-f0b3-534722e2f844"
      },
      "source": [
        "#normalization 적용\n",
        "# best parameter 적용\n",
        "kf = KFold(n_splits=5)\n",
        "scores = []\n",
        "for train_index, test_index in kf.split(X_train_normalized):\n",
        "    tree = gs_tree.best_estimator_\n",
        "    tree.fit(X_train_normalized[train_index], y_train[train_index])\n",
        "    pred = tree.predict(X_train_normalized[test_index])\n",
        "    scores.append(mae(y_train[test_index], pred))\n",
        "\n",
        "Decision_Tree_cv_mae = np.mean(scores)\n",
        "print('Decision Tree Regressor, max_depth = {}'.format(gs_tree.best_params_['max_depth']))\n",
        "print(f'Decision Tree Regressor cv_mae_score = {Decision_Tree_cv_mae}\\n')"
      ],
      "execution_count": null,
      "outputs": [
        {
          "output_type": "stream",
          "text": [
            "Decision Tree Regressor, max_depth = 4\n",
            "Decision Tree Regressor cv_mae_score = 17.573361979662952\n",
            "\n"
          ],
          "name": "stdout"
        }
      ]
    },
    {
      "cell_type": "markdown",
      "metadata": {
        "id": "P-YHl84Qf5X-",
        "colab_type": "text"
      },
      "source": [
        "## Random Forest\n",
        "배깅을 적용한 decision tree의 앙상블"
      ]
    },
    {
      "cell_type": "code",
      "metadata": {
        "id": "4arqQmmg6H2f",
        "colab_type": "code",
        "colab": {
          "base_uri": "https://localhost:8080/",
          "height": 1000
        },
        "outputId": "3697c17a-bd9b-4d12-e48f-d3cd60f57478"
      },
      "source": [
        "from sklearn.ensemble import RandomForestRegressor\n",
        "\n",
        "def negative_mae(y_true, y_pred):\n",
        "    y_true = np.array(y_true)\n",
        "    y_true = y_true.reshape(1, -1)[0]  \n",
        "    y_pred = np.array(y_pred)\n",
        "    y_pred = y_pred.reshape(1, -1)[0]\n",
        "    mae = np.mean(np.abs(y_true - y_pred))\n",
        "    return -mae\n",
        "\n",
        "\n",
        "param_grid = {'max_depth' : range(2,15)}\n",
        "gs_rf = GridSearchCV(RandomForestRegressor(),\n",
        "                       param_grid,\n",
        "                       refit=True,\n",
        "                       scoring = make_scorer(mae, greater_is_better=False),\n",
        "                       verbose=2)\n",
        "gs_rf.fit(X_train, y_train)"
      ],
      "execution_count": null,
      "outputs": [
        {
          "output_type": "stream",
          "text": [
            "Fitting 5 folds for each of 13 candidates, totalling 65 fits\n",
            "[CV] max_depth=2 .....................................................\n"
          ],
          "name": "stdout"
        },
        {
          "output_type": "stream",
          "text": [
            "[Parallel(n_jobs=1)]: Using backend SequentialBackend with 1 concurrent workers.\n"
          ],
          "name": "stderr"
        },
        {
          "output_type": "stream",
          "text": [
            "[CV] ...................................... max_depth=2, total=   1.6s\n",
            "[CV] max_depth=2 .....................................................\n"
          ],
          "name": "stdout"
        },
        {
          "output_type": "stream",
          "text": [
            "[Parallel(n_jobs=1)]: Done   1 out of   1 | elapsed:    1.6s remaining:    0.0s\n"
          ],
          "name": "stderr"
        },
        {
          "output_type": "stream",
          "text": [
            "[CV] ...................................... max_depth=2, total=   1.6s\n",
            "[CV] max_depth=2 .....................................................\n",
            "[CV] ...................................... max_depth=2, total=   1.5s\n",
            "[CV] max_depth=2 .....................................................\n",
            "[CV] ...................................... max_depth=2, total=   1.6s\n",
            "[CV] max_depth=2 .....................................................\n",
            "[CV] ...................................... max_depth=2, total=   1.6s\n",
            "[CV] max_depth=3 .....................................................\n",
            "[CV] ...................................... max_depth=3, total=   2.2s\n",
            "[CV] max_depth=3 .....................................................\n",
            "[CV] ...................................... max_depth=3, total=   2.2s\n",
            "[CV] max_depth=3 .....................................................\n",
            "[CV] ...................................... max_depth=3, total=   2.2s\n",
            "[CV] max_depth=3 .....................................................\n",
            "[CV] ...................................... max_depth=3, total=   2.2s\n",
            "[CV] max_depth=3 .....................................................\n",
            "[CV] ...................................... max_depth=3, total=   2.2s\n",
            "[CV] max_depth=4 .....................................................\n",
            "[CV] ...................................... max_depth=4, total=   2.8s\n",
            "[CV] max_depth=4 .....................................................\n",
            "[CV] ...................................... max_depth=4, total=   2.8s\n",
            "[CV] max_depth=4 .....................................................\n",
            "[CV] ...................................... max_depth=4, total=   2.8s\n",
            "[CV] max_depth=4 .....................................................\n",
            "[CV] ...................................... max_depth=4, total=   2.9s\n",
            "[CV] max_depth=4 .....................................................\n",
            "[CV] ...................................... max_depth=4, total=   2.8s\n",
            "[CV] max_depth=5 .....................................................\n",
            "[CV] ...................................... max_depth=5, total=   3.4s\n",
            "[CV] max_depth=5 .....................................................\n",
            "[CV] ...................................... max_depth=5, total=   3.5s\n",
            "[CV] max_depth=5 .....................................................\n",
            "[CV] ...................................... max_depth=5, total=   3.5s\n",
            "[CV] max_depth=5 .....................................................\n",
            "[CV] ...................................... max_depth=5, total=   3.5s\n",
            "[CV] max_depth=5 .....................................................\n",
            "[CV] ...................................... max_depth=5, total=   3.5s\n",
            "[CV] max_depth=6 .....................................................\n",
            "[CV] ...................................... max_depth=6, total=   4.0s\n",
            "[CV] max_depth=6 .....................................................\n",
            "[CV] ...................................... max_depth=6, total=   4.0s\n",
            "[CV] max_depth=6 .....................................................\n",
            "[CV] ...................................... max_depth=6, total=   4.0s\n",
            "[CV] max_depth=6 .....................................................\n",
            "[CV] ...................................... max_depth=6, total=   4.0s\n",
            "[CV] max_depth=6 .....................................................\n",
            "[CV] ...................................... max_depth=6, total=   4.0s\n",
            "[CV] max_depth=7 .....................................................\n",
            "[CV] ...................................... max_depth=7, total=   4.6s\n",
            "[CV] max_depth=7 .....................................................\n",
            "[CV] ...................................... max_depth=7, total=   4.6s\n",
            "[CV] max_depth=7 .....................................................\n",
            "[CV] ...................................... max_depth=7, total=   4.6s\n",
            "[CV] max_depth=7 .....................................................\n",
            "[CV] ...................................... max_depth=7, total=   4.6s\n",
            "[CV] max_depth=7 .....................................................\n",
            "[CV] ...................................... max_depth=7, total=   4.6s\n",
            "[CV] max_depth=8 .....................................................\n",
            "[CV] ...................................... max_depth=8, total=   5.1s\n",
            "[CV] max_depth=8 .....................................................\n",
            "[CV] ...................................... max_depth=8, total=   5.1s\n",
            "[CV] max_depth=8 .....................................................\n",
            "[CV] ...................................... max_depth=8, total=   5.1s\n",
            "[CV] max_depth=8 .....................................................\n",
            "[CV] ...................................... max_depth=8, total=   5.1s\n",
            "[CV] max_depth=8 .....................................................\n",
            "[CV] ...................................... max_depth=8, total=   5.1s\n",
            "[CV] max_depth=9 .....................................................\n",
            "[CV] ...................................... max_depth=9, total=   5.7s\n",
            "[CV] max_depth=9 .....................................................\n",
            "[CV] ...................................... max_depth=9, total=   5.6s\n",
            "[CV] max_depth=9 .....................................................\n",
            "[CV] ...................................... max_depth=9, total=   5.7s\n",
            "[CV] max_depth=9 .....................................................\n",
            "[CV] ...................................... max_depth=9, total=   5.6s\n",
            "[CV] max_depth=9 .....................................................\n",
            "[CV] ...................................... max_depth=9, total=   5.6s\n",
            "[CV] max_depth=10 ....................................................\n",
            "[CV] ..................................... max_depth=10, total=   6.1s\n",
            "[CV] max_depth=10 ....................................................\n",
            "[CV] ..................................... max_depth=10, total=   6.1s\n",
            "[CV] max_depth=10 ....................................................\n",
            "[CV] ..................................... max_depth=10, total=   6.2s\n",
            "[CV] max_depth=10 ....................................................\n",
            "[CV] ..................................... max_depth=10, total=   6.1s\n",
            "[CV] max_depth=10 ....................................................\n",
            "[CV] ..................................... max_depth=10, total=   6.1s\n",
            "[CV] max_depth=11 ....................................................\n",
            "[CV] ..................................... max_depth=11, total=   6.6s\n",
            "[CV] max_depth=11 ....................................................\n",
            "[CV] ..................................... max_depth=11, total=   6.6s\n",
            "[CV] max_depth=11 ....................................................\n",
            "[CV] ..................................... max_depth=11, total=   6.7s\n",
            "[CV] max_depth=11 ....................................................\n",
            "[CV] ..................................... max_depth=11, total=   6.6s\n",
            "[CV] max_depth=11 ....................................................\n",
            "[CV] ..................................... max_depth=11, total=   6.6s\n",
            "[CV] max_depth=12 ....................................................\n",
            "[CV] ..................................... max_depth=12, total=   7.1s\n",
            "[CV] max_depth=12 ....................................................\n",
            "[CV] ..................................... max_depth=12, total=   7.0s\n",
            "[CV] max_depth=12 ....................................................\n",
            "[CV] ..................................... max_depth=12, total=   7.1s\n",
            "[CV] max_depth=12 ....................................................\n",
            "[CV] ..................................... max_depth=12, total=   7.0s\n",
            "[CV] max_depth=12 ....................................................\n",
            "[CV] ..................................... max_depth=12, total=   7.0s\n",
            "[CV] max_depth=13 ....................................................\n",
            "[CV] ..................................... max_depth=13, total=   7.5s\n",
            "[CV] max_depth=13 ....................................................\n",
            "[CV] ..................................... max_depth=13, total=   7.5s\n",
            "[CV] max_depth=13 ....................................................\n",
            "[CV] ..................................... max_depth=13, total=   7.5s\n",
            "[CV] max_depth=13 ....................................................\n",
            "[CV] ..................................... max_depth=13, total=   7.5s\n",
            "[CV] max_depth=13 ....................................................\n",
            "[CV] ..................................... max_depth=13, total=   7.4s\n",
            "[CV] max_depth=14 ....................................................\n",
            "[CV] ..................................... max_depth=14, total=   7.9s\n",
            "[CV] max_depth=14 ....................................................\n",
            "[CV] ..................................... max_depth=14, total=   7.8s\n",
            "[CV] max_depth=14 ....................................................\n",
            "[CV] ..................................... max_depth=14, total=   7.9s\n",
            "[CV] max_depth=14 ....................................................\n",
            "[CV] ..................................... max_depth=14, total=   7.9s\n",
            "[CV] max_depth=14 ....................................................\n",
            "[CV] ..................................... max_depth=14, total=   7.8s\n"
          ],
          "name": "stdout"
        },
        {
          "output_type": "stream",
          "text": [
            "[Parallel(n_jobs=1)]: Done  65 out of  65 | elapsed:  5.4min finished\n"
          ],
          "name": "stderr"
        },
        {
          "output_type": "execute_result",
          "data": {
            "text/plain": [
              "GridSearchCV(cv=None, error_score=nan,\n",
              "             estimator=RandomForestRegressor(bootstrap=True, ccp_alpha=0.0,\n",
              "                                             criterion='mse', max_depth=None,\n",
              "                                             max_features='auto',\n",
              "                                             max_leaf_nodes=None,\n",
              "                                             max_samples=None,\n",
              "                                             min_impurity_decrease=0.0,\n",
              "                                             min_impurity_split=None,\n",
              "                                             min_samples_leaf=1,\n",
              "                                             min_samples_split=2,\n",
              "                                             min_weight_fraction_leaf=0.0,\n",
              "                                             n_estimators=100, n_jobs=None,\n",
              "                                             oob_score=False, random_state=None,\n",
              "                                             verbose=0, warm_start=False),\n",
              "             iid='deprecated', n_jobs=None,\n",
              "             param_grid={'max_depth': range(2, 15)}, pre_dispatch='2*n_jobs',\n",
              "             refit=True, return_train_score=False,\n",
              "             scoring=make_scorer(mae, greater_is_better=False), verbose=2)"
            ]
          },
          "metadata": {
            "tags": []
          },
          "execution_count": 51
        }
      ]
    },
    {
      "cell_type": "code",
      "metadata": {
        "id": "F8Qq0F_T9kzr",
        "colab_type": "code",
        "colab": {
          "base_uri": "https://localhost:8080/",
          "height": 70
        },
        "outputId": "1e8e6c9c-4596-4126-d7bf-a52974329cb8"
      },
      "source": [
        "# best parameter 적용\n",
        "kf = KFold(n_splits=5)\n",
        "scores = []\n",
        "for train_index, test_index in kf.split(X_train):\n",
        "    rf = gs_rf.best_estimator_\n",
        "    rf.fit(X_train[train_index], y_train[train_index])\n",
        "    pred = rf.predict(X_train[test_index])\n",
        "    scores.append(mae(y_train[test_index], pred))\n",
        "\n",
        "Random_Forest_cv_mae = np.mean(scores)\n",
        "print('Random Forest Regressor, max_depth = {}'.format(gs_rf.best_params_['max_depth']))\n",
        "print(f'Random Forest Regressor cv_mae_score = {Random_Forest_cv_mae}\\n')"
      ],
      "execution_count": null,
      "outputs": [
        {
          "output_type": "stream",
          "text": [
            "Random Forest Regressor, max_depth = 9\n",
            "Random Forest Regressor cv_mae_score = 17.154415814598075\n",
            "\n"
          ],
          "name": "stdout"
        }
      ]
    },
    {
      "cell_type": "code",
      "metadata": {
        "id": "P0VzTDZl7Yxy",
        "colab_type": "code",
        "colab": {
          "base_uri": "https://localhost:8080/",
          "height": 70
        },
        "outputId": "0bcbc4c2-324e-425d-9a28-829aa3fad8ca"
      },
      "source": [
        "kf = KFold(n_splits=5)\n",
        "scores = []\n",
        "for train_index, test_index in kf.split(X_train):\n",
        "    rf = gs_rf.best_estimator_\n",
        "    rf.fit(X_train_normalized [train_index], y_train[train_index])\n",
        "    pred = rf.predict(X_train_normalized[test_index])\n",
        "    scores.append(mae(y_train[test_index], pred))\n",
        "\n",
        "Random_Forest_cv_mae = np.mean(scores)\n",
        "print('Random Forest Regressor, max_depth = {}'.format(gs_rf.best_params_['max_depth']))\n",
        "print(f'Random Forest Regressor Normalization cv_mae_score = {Random_Forest_cv_mae}\\n')"
      ],
      "execution_count": null,
      "outputs": [
        {
          "output_type": "stream",
          "text": [
            "Random Forest Regressor, max_depth = 9\n",
            "Random Forest Regressor Normalization cv_mae_score = 17.171434609067752\n",
            "\n"
          ],
          "name": "stdout"
        }
      ]
    },
    {
      "cell_type": "code",
      "metadata": {
        "id": "3mHvMwSP9sJl",
        "colab_type": "code",
        "colab": {
          "base_uri": "https://localhost:8080/",
          "height": 295
        },
        "outputId": "dc7c0752-dc13-4c08-8967-5b72ef0e4997"
      },
      "source": [
        "plt.plot(range(2,15), - gs_rf.cv_results_['mean_test_score'])\n",
        "plt.title('Random Forest Regressor')\n",
        "plt.xlabel('max depth')\n",
        "plt.ylabel('cv mean test score')\n",
        "plt.show()"
      ],
      "execution_count": null,
      "outputs": [
        {
          "output_type": "display_data",
          "data": {
            "image/png": "[encoded data removed]",
            "text/plain": [
              "<Figure size 432x288 with 1 Axes>"
            ]
          },
          "metadata": {
            "tags": [],
            "needs_background": "light"
          }
        }
      ]
    },
    {
      "cell_type": "markdown",
      "metadata": {
        "id": "YLHNp0zeEJ_7",
        "colab_type": "text"
      },
      "source": [
        "feature importance"
      ]
    },
    {
      "cell_type": "code",
      "metadata": {
        "id": "b7VUwemfEJdp",
        "colab_type": "code",
        "colab": {
          "base_uri": "https://localhost:8080/",
          "height": 72
        },
        "outputId": "df1e70ba-1c80-4b43-bff6-22896b184b89"
      },
      "source": [
        "# feature_importance: 가장 중요한 feature 인덱스 순으로 정렬\n",
        "rf = gs_rf.best_estimator_\n",
        "fi = rf.feature_importances_.tolist()\n",
        "fi_sort = sorted(fi, reverse=True)\n",
        "\n",
        "feature_importance = []\n",
        "for i in range(14):\n",
        "    feature_importance.append(fi.index(fi_sort[i]))\n",
        "print('feature_importance : ',feature_importance)\n",
        "# 중요도 높은 feature 순서대로 선택하여 훈련\n",
        "cv_mae_selected = []\n",
        "for i in tqdm(range(1,15)):\n",
        "    X_train_selected = X_train[:,feature_importance[:i]]\n",
        "    kf = KFold(n_splits=5)\n",
        "    scores = []\n",
        "    for train_index, test_index in kf.split(X_train_selected):\n",
        "        rf = gs_rf.best_estimator_\n",
        "        rf.fit(X_train_selected[train_index], y_train[train_index])\n",
        "        pred = rf.predict(X_train_selected[test_index])\n",
        "        scores.append(mae(y_train[test_index], pred))\n",
        "    cv_mae = np.mean(scores)\n",
        "    cv_mae_selected.append(cv_mae)"
      ],
      "execution_count": null,
      "outputs": [
        {
          "output_type": "stream",
          "text": [
            "\r  0%|          | 0/14 [00:00<?, ?it/s]"
          ],
          "name": "stderr"
        },
        {
          "output_type": "stream",
          "text": [
            "feature_importance :  [0, 4, 3, 1, 2, 13, 12, 8, 11, 10, 5, 7, 6, 9]\n"
          ],
          "name": "stdout"
        },
        {
          "output_type": "stream",
          "text": [
            "100%|██████████| 14/14 [03:49<00:00, 16.42s/it]\n"
          ],
          "name": "stderr"
        }
      ]
    },
    {
      "cell_type": "code",
      "metadata": {
        "id": "G5yh1e_-RT5x",
        "colab_type": "code",
        "colab": {
          "base_uri": "https://localhost:8080/",
          "height": 295
        },
        "outputId": "5e7c83af-6160-406e-aa75-926cea978cd4"
      },
      "source": [
        "# feature selection 시각화\n",
        "plt.plot(range(1,15), cv_mae_selected)\n",
        "plt.title('Feature Selection: Random Forest')\n",
        "plt.xlabel('training feature number')\n",
        "plt.ylabel('cv mae score')\n",
        "plt.show()"
      ],
      "execution_count": null,
      "outputs": [
        {
          "output_type": "display_data",
          "data": {
            "image/png": "[encoded data removed]",
            "text/plain": [
              "<Figure size 432x288 with 1 Axes>"
            ]
          },
          "metadata": {
            "tags": [],
            "needs_background": "light"
          }
        }
      ]
    },
    {
      "cell_type": "markdown",
      "metadata": {
        "id": "g85Qe_7vl94c",
        "colab_type": "text"
      },
      "source": [
        "## Gradient Boosting Regressor\n",
        "부스팅을 적용한 decision tree의 앙상블"
      ]
    },
    {
      "cell_type": "code",
      "metadata": {
        "id": "VSldv4Oq-Xm8",
        "colab_type": "code",
        "colab": {
          "base_uri": "https://localhost:8080/",
          "height": 1000
        },
        "outputId": "4aeafb41-41f8-44a0-afcc-f174b496b5b7"
      },
      "source": [
        "from sklearn.ensemble import GradientBoostingRegressor\n",
        "\n",
        "param_grid = {'max_depth': range(2,10),\n",
        "              'learning_rate': [0.05, .1]}\n",
        "gs_gbr = GridSearchCV(GradientBoostingRegressor(),\n",
        "                      param_grid,\n",
        "                      refit=True,\n",
        "                       scoring = make_scorer(mae, greater_is_better=False),\n",
        "                       verbose=2)\n",
        "gs_gbr.fit(X_train, y_train)"
      ],
      "execution_count": null,
      "outputs": [
        {
          "output_type": "stream",
          "text": [
            "Fitting 5 folds for each of 16 candidates, totalling 80 fits\n",
            "[CV] learning_rate=0.05, max_depth=2 .................................\n"
          ],
          "name": "stdout"
        },
        {
          "output_type": "stream",
          "text": [
            "[Parallel(n_jobs=1)]: Using backend SequentialBackend with 1 concurrent workers.\n"
          ],
          "name": "stderr"
        },
        {
          "output_type": "stream",
          "text": [
            "[CV] .................. learning_rate=0.05, max_depth=2, total=   2.4s\n",
            "[CV] learning_rate=0.05, max_depth=2 .................................\n"
          ],
          "name": "stdout"
        },
        {
          "output_type": "stream",
          "text": [
            "[Parallel(n_jobs=1)]: Done   1 out of   1 | elapsed:    2.5s remaining:    0.0s\n"
          ],
          "name": "stderr"
        },
        {
          "output_type": "stream",
          "text": [
            "[CV] .................. learning_rate=0.05, max_depth=2, total=   2.5s\n",
            "[CV] learning_rate=0.05, max_depth=2 .................................\n",
            "[CV] .................. learning_rate=0.05, max_depth=2, total=   2.4s\n",
            "[CV] learning_rate=0.05, max_depth=2 .................................\n",
            "[CV] .................. learning_rate=0.05, max_depth=2, total=   2.4s\n",
            "[CV] learning_rate=0.05, max_depth=2 .................................\n",
            "[CV] .................. learning_rate=0.05, max_depth=2, total=   2.4s\n",
            "[CV] learning_rate=0.05, max_depth=3 .................................\n",
            "[CV] .................. learning_rate=0.05, max_depth=3, total=   3.5s\n",
            "[CV] learning_rate=0.05, max_depth=3 .................................\n",
            "[CV] .................. learning_rate=0.05, max_depth=3, total=   3.5s\n",
            "[CV] learning_rate=0.05, max_depth=3 .................................\n",
            "[CV] .................. learning_rate=0.05, max_depth=3, total=   3.5s\n",
            "[CV] learning_rate=0.05, max_depth=3 .................................\n",
            "[CV] .................. learning_rate=0.05, max_depth=3, total=   3.5s\n",
            "[CV] learning_rate=0.05, max_depth=3 .................................\n",
            "[CV] .................. learning_rate=0.05, max_depth=3, total=   3.5s\n",
            "[CV] learning_rate=0.05, max_depth=4 .................................\n",
            "[CV] .................. learning_rate=0.05, max_depth=4, total=   4.6s\n",
            "[CV] learning_rate=0.05, max_depth=4 .................................\n",
            "[CV] .................. learning_rate=0.05, max_depth=4, total=   4.6s\n",
            "[CV] learning_rate=0.05, max_depth=4 .................................\n",
            "[CV] .................. learning_rate=0.05, max_depth=4, total=   4.6s\n",
            "[CV] learning_rate=0.05, max_depth=4 .................................\n",
            "[CV] .................. learning_rate=0.05, max_depth=4, total=   4.6s\n",
            "[CV] learning_rate=0.05, max_depth=4 .................................\n",
            "[CV] .................. learning_rate=0.05, max_depth=4, total=   4.6s\n",
            "[CV] learning_rate=0.05, max_depth=5 .................................\n",
            "[CV] .................. learning_rate=0.05, max_depth=5, total=   5.7s\n",
            "[CV] learning_rate=0.05, max_depth=5 .................................\n",
            "[CV] .................. learning_rate=0.05, max_depth=5, total=   5.7s\n",
            "[CV] learning_rate=0.05, max_depth=5 .................................\n",
            "[CV] .................. learning_rate=0.05, max_depth=5, total=   5.7s\n",
            "[CV] learning_rate=0.05, max_depth=5 .................................\n",
            "[CV] .................. learning_rate=0.05, max_depth=5, total=   5.7s\n",
            "[CV] learning_rate=0.05, max_depth=5 .................................\n",
            "[CV] .................. learning_rate=0.05, max_depth=5, total=   5.7s\n",
            "[CV] learning_rate=0.05, max_depth=6 .................................\n",
            "[CV] .................. learning_rate=0.05, max_depth=6, total=   6.8s\n",
            "[CV] learning_rate=0.05, max_depth=6 .................................\n",
            "[CV] .................. learning_rate=0.05, max_depth=6, total=   6.8s\n",
            "[CV] learning_rate=0.05, max_depth=6 .................................\n",
            "[CV] .................. learning_rate=0.05, max_depth=6, total=   6.7s\n",
            "[CV] learning_rate=0.05, max_depth=6 .................................\n",
            "[CV] .................. learning_rate=0.05, max_depth=6, total=   6.7s\n",
            "[CV] learning_rate=0.05, max_depth=6 .................................\n",
            "[CV] .................. learning_rate=0.05, max_depth=6, total=   6.7s\n",
            "[CV] learning_rate=0.05, max_depth=7 .................................\n",
            "[CV] .................. learning_rate=0.05, max_depth=7, total=   7.7s\n",
            "[CV] learning_rate=0.05, max_depth=7 .................................\n",
            "[CV] .................. learning_rate=0.05, max_depth=7, total=   7.8s\n",
            "[CV] learning_rate=0.05, max_depth=7 .................................\n",
            "[CV] .................. learning_rate=0.05, max_depth=7, total=   7.8s\n",
            "[CV] learning_rate=0.05, max_depth=7 .................................\n",
            "[CV] .................. learning_rate=0.05, max_depth=7, total=   7.8s\n",
            "[CV] learning_rate=0.05, max_depth=7 .................................\n",
            "[CV] .................. learning_rate=0.05, max_depth=7, total=   7.7s\n",
            "[CV] learning_rate=0.05, max_depth=8 .................................\n",
            "[CV] .................. learning_rate=0.05, max_depth=8, total=   8.8s\n",
            "[CV] learning_rate=0.05, max_depth=8 .................................\n",
            "[CV] .................. learning_rate=0.05, max_depth=8, total=   8.8s\n",
            "[CV] learning_rate=0.05, max_depth=8 .................................\n",
            "[CV] .................. learning_rate=0.05, max_depth=8, total=   8.8s\n",
            "[CV] learning_rate=0.05, max_depth=8 .................................\n",
            "[CV] .................. learning_rate=0.05, max_depth=8, total=   8.8s\n",
            "[CV] learning_rate=0.05, max_depth=8 .................................\n",
            "[CV] .................. learning_rate=0.05, max_depth=8, total=   8.7s\n",
            "[CV] learning_rate=0.05, max_depth=9 .................................\n",
            "[CV] .................. learning_rate=0.05, max_depth=9, total=   9.7s\n",
            "[CV] learning_rate=0.05, max_depth=9 .................................\n",
            "[CV] .................. learning_rate=0.05, max_depth=9, total=   9.7s\n",
            "[CV] learning_rate=0.05, max_depth=9 .................................\n",
            "[CV] .................. learning_rate=0.05, max_depth=9, total=   9.7s\n",
            "[CV] learning_rate=0.05, max_depth=9 .................................\n",
            "[CV] .................. learning_rate=0.05, max_depth=9, total=   9.7s\n",
            "[CV] learning_rate=0.05, max_depth=9 .................................\n",
            "[CV] .................. learning_rate=0.05, max_depth=9, total=   9.7s\n",
            "[CV] learning_rate=0.1, max_depth=2 ..................................\n",
            "[CV] ................... learning_rate=0.1, max_depth=2, total=   2.4s\n",
            "[CV] learning_rate=0.1, max_depth=2 ..................................\n",
            "[CV] ................... learning_rate=0.1, max_depth=2, total=   2.4s\n",
            "[CV] learning_rate=0.1, max_depth=2 ..................................\n",
            "[CV] ................... learning_rate=0.1, max_depth=2, total=   2.4s\n",
            "[CV] learning_rate=0.1, max_depth=2 ..................................\n",
            "[CV] ................... learning_rate=0.1, max_depth=2, total=   2.4s\n",
            "[CV] learning_rate=0.1, max_depth=2 ..................................\n",
            "[CV] ................... learning_rate=0.1, max_depth=2, total=   2.4s\n",
            "[CV] learning_rate=0.1, max_depth=3 ..................................\n",
            "[CV] ................... learning_rate=0.1, max_depth=3, total=   3.6s\n",
            "[CV] learning_rate=0.1, max_depth=3 ..................................\n",
            "[CV] ................... learning_rate=0.1, max_depth=3, total=   3.5s\n",
            "[CV] learning_rate=0.1, max_depth=3 ..................................\n",
            "[CV] ................... learning_rate=0.1, max_depth=3, total=   3.5s\n",
            "[CV] learning_rate=0.1, max_depth=3 ..................................\n",
            "[CV] ................... learning_rate=0.1, max_depth=3, total=   3.6s\n",
            "[CV] learning_rate=0.1, max_depth=3 ..................................\n",
            "[CV] ................... learning_rate=0.1, max_depth=3, total=   3.6s\n",
            "[CV] learning_rate=0.1, max_depth=4 ..................................\n",
            "[CV] ................... learning_rate=0.1, max_depth=4, total=   4.6s\n",
            "[CV] learning_rate=0.1, max_depth=4 ..................................\n",
            "[CV] ................... learning_rate=0.1, max_depth=4, total=   4.7s\n",
            "[CV] learning_rate=0.1, max_depth=4 ..................................\n",
            "[CV] ................... learning_rate=0.1, max_depth=4, total=   4.6s\n",
            "[CV] learning_rate=0.1, max_depth=4 ..................................\n",
            "[CV] ................... learning_rate=0.1, max_depth=4, total=   4.7s\n",
            "[CV] learning_rate=0.1, max_depth=4 ..................................\n",
            "[CV] ................... learning_rate=0.1, max_depth=4, total=   4.7s\n",
            "[CV] learning_rate=0.1, max_depth=5 ..................................\n",
            "[CV] ................... learning_rate=0.1, max_depth=5, total=   5.8s\n",
            "[CV] learning_rate=0.1, max_depth=5 ..................................\n",
            "[CV] ................... learning_rate=0.1, max_depth=5, total=   5.8s\n",
            "[CV] learning_rate=0.1, max_depth=5 ..................................\n",
            "[CV] ................... learning_rate=0.1, max_depth=5, total=   5.8s\n",
            "[CV] learning_rate=0.1, max_depth=5 ..................................\n",
            "[CV] ................... learning_rate=0.1, max_depth=5, total=   5.8s\n",
            "[CV] learning_rate=0.1, max_depth=5 ..................................\n",
            "[CV] ................... learning_rate=0.1, max_depth=5, total=   5.8s\n",
            "[CV] learning_rate=0.1, max_depth=6 ..................................\n",
            "[CV] ................... learning_rate=0.1, max_depth=6, total=   6.8s\n",
            "[CV] learning_rate=0.1, max_depth=6 ..................................\n",
            "[CV] ................... learning_rate=0.1, max_depth=6, total=   6.8s\n",
            "[CV] learning_rate=0.1, max_depth=6 ..................................\n",
            "[CV] ................... learning_rate=0.1, max_depth=6, total=   6.8s\n",
            "[CV] learning_rate=0.1, max_depth=6 ..................................\n",
            "[CV] ................... learning_rate=0.1, max_depth=6, total=   6.8s\n",
            "[CV] learning_rate=0.1, max_depth=6 ..................................\n",
            "[CV] ................... learning_rate=0.1, max_depth=6, total=   6.8s\n",
            "[CV] learning_rate=0.1, max_depth=7 ..................................\n",
            "[CV] ................... learning_rate=0.1, max_depth=7, total=   7.9s\n",
            "[CV] learning_rate=0.1, max_depth=7 ..................................\n",
            "[CV] ................... learning_rate=0.1, max_depth=7, total=   7.9s\n",
            "[CV] learning_rate=0.1, max_depth=7 ..................................\n",
            "[CV] ................... learning_rate=0.1, max_depth=7, total=   7.9s\n",
            "[CV] learning_rate=0.1, max_depth=7 ..................................\n",
            "[CV] ................... learning_rate=0.1, max_depth=7, total=   7.9s\n",
            "[CV] learning_rate=0.1, max_depth=7 ..................................\n",
            "[CV] ................... learning_rate=0.1, max_depth=7, total=   7.9s\n",
            "[CV] learning_rate=0.1, max_depth=8 ..................................\n",
            "[CV] ................... learning_rate=0.1, max_depth=8, total=   8.9s\n",
            "[CV] learning_rate=0.1, max_depth=8 ..................................\n",
            "[CV] ................... learning_rate=0.1, max_depth=8, total=   8.9s\n",
            "[CV] learning_rate=0.1, max_depth=8 ..................................\n",
            "[CV] ................... learning_rate=0.1, max_depth=8, total=   8.9s\n",
            "[CV] learning_rate=0.1, max_depth=8 ..................................\n",
            "[CV] ................... learning_rate=0.1, max_depth=8, total=   9.0s\n",
            "[CV] learning_rate=0.1, max_depth=8 ..................................\n",
            "[CV] ................... learning_rate=0.1, max_depth=8, total=   9.0s\n",
            "[CV] learning_rate=0.1, max_depth=9 ..................................\n",
            "[CV] ................... learning_rate=0.1, max_depth=9, total=  10.0s\n",
            "[CV] learning_rate=0.1, max_depth=9 ..................................\n",
            "[CV] ................... learning_rate=0.1, max_depth=9, total=  10.0s\n",
            "[CV] learning_rate=0.1, max_depth=9 ..................................\n",
            "[CV] ................... learning_rate=0.1, max_depth=9, total=   9.9s\n",
            "[CV] learning_rate=0.1, max_depth=9 ..................................\n",
            "[CV] ................... learning_rate=0.1, max_depth=9, total=  10.0s\n",
            "[CV] learning_rate=0.1, max_depth=9 ..................................\n",
            "[CV] ................... learning_rate=0.1, max_depth=9, total=  10.0s\n"
          ],
          "name": "stdout"
        },
        {
          "output_type": "stream",
          "text": [
            "[Parallel(n_jobs=1)]: Done  80 out of  80 | elapsed:  8.3min finished\n"
          ],
          "name": "stderr"
        },
        {
          "output_type": "execute_result",
          "data": {
            "text/plain": [
              "GridSearchCV(cv=None, error_score=nan,\n",
              "             estimator=GradientBoostingRegressor(alpha=0.9, ccp_alpha=0.0,\n",
              "                                                 criterion='friedman_mse',\n",
              "                                                 init=None, learning_rate=0.1,\n",
              "                                                 loss='ls', max_depth=3,\n",
              "                                                 max_features=None,\n",
              "                                                 max_leaf_nodes=None,\n",
              "                                                 min_impurity_decrease=0.0,\n",
              "                                                 min_impurity_split=None,\n",
              "                                                 min_samples_leaf=1,\n",
              "                                                 min_samples_split=2,\n",
              "                                                 min_weight_fraction_leaf=0.0,\n",
              "                                                 n_estimators=100,\n",
              "                                                 n_iter_no_change=None,\n",
              "                                                 presort='deprecated',\n",
              "                                                 random_state=None,\n",
              "                                                 subsample=1.0, tol=0.0001,\n",
              "                                                 validation_fraction=0.1,\n",
              "                                                 verbose=0, warm_start=False),\n",
              "             iid='deprecated', n_jobs=None,\n",
              "             param_grid={'learning_rate': [0.05, 0.1],\n",
              "                         'max_depth': range(2, 10)},\n",
              "             pre_dispatch='2*n_jobs', refit=True, return_train_score=False,\n",
              "             scoring=make_scorer(mae, greater_is_better=False), verbose=2)"
            ]
          },
          "metadata": {
            "tags": []
          },
          "execution_count": 57
        }
      ]
    },
    {
      "cell_type": "code",
      "metadata": {
        "id": "o74Ks7ObAQeU",
        "colab_type": "code",
        "colab": {
          "base_uri": "https://localhost:8080/",
          "height": 295
        },
        "outputId": "048fc81c-e1de-4930-c014-5189b97304a4"
      },
      "source": [
        "plt.plot(range(2,10), -gs_gbr.cv_results_['mean_test_score'][:8], label = 'learning_rate = 0.05')\n",
        "plt.plot(range(2,10), -gs_gbr.cv_results_['mean_test_score'][8:], label = 'learning_rate = 0.1')\n",
        "plt.legend()\n",
        "\n",
        "plt.title('Gradient Boosting Regressor')\n",
        "plt.xlabel('max depth')\n",
        "plt.ylabel('cv mean test score')\n",
        "plt.show()"
      ],
      "execution_count": null,
      "outputs": [
        {
          "output_type": "display_data",
          "data": {
            "image/png": "[encoded data removed]",
            "text/plain": [
              "<Figure size 432x288 with 1 Axes>"
            ]
          },
          "metadata": {
            "tags": [],
            "needs_background": "light"
          }
        }
      ]
    },
    {
      "cell_type": "code",
      "metadata": {
        "id": "nD7eYJmDAP9t",
        "colab_type": "code",
        "colab": {
          "base_uri": "https://localhost:8080/",
          "height": 70
        },
        "outputId": "3644efaa-8d3b-4e1e-a74e-d06d0c925577"
      },
      "source": [
        "# best parameter 적용\n",
        "\n",
        "kf = KFold(n_splits=5)\n",
        "scores = []\n",
        "\n",
        "for train_index, test_index in kf.split(X_train):\n",
        "    gbr = GradientBoostingRegressor(max_depth = gs_gbr.best_params_['max_depth'], learning_rate = gs_gbr.best_params_['learning_rate'])\n",
        "    gbr.fit(X_train[train_index], y_train[train_index])\n",
        "    pred = gbr.predict(X_train[test_index])\n",
        "    scores.append(mae(y_train[test_index], pred))\n",
        "\n",
        "GBR_cv_mae = np.mean(scores)\n",
        "print('Gradient Boosting Regressor, max_depth = {0}, learning_rate = {1}'.format(gs_gbr.best_params_['max_depth'], gs_gbr.best_params_['learning_rate']))\n",
        "print(f'Gradient Boosting Regressor cv_mae_score = {GBR_cv_mae}\\n')"
      ],
      "execution_count": null,
      "outputs": [
        {
          "output_type": "stream",
          "text": [
            "Gradient Boosting Regressor, max_depth = 4, learning_rate = 0.1\n",
            "Gradient Boosting Regressor cv_mae_score = 17.259050469584203\n",
            "\n"
          ],
          "name": "stdout"
        }
      ]
    },
    {
      "cell_type": "code",
      "metadata": {
        "id": "oqbC_EC6_zhI",
        "colab_type": "code",
        "colab": {
          "base_uri": "https://localhost:8080/",
          "height": 70
        },
        "outputId": "6c86281c-7d9b-4407-ea69-ab32e08bf063"
      },
      "source": [
        "kf = KFold(n_splits=5)\n",
        "scores = []\n",
        "\n",
        "for train_index, test_index in kf.split(X_train):\n",
        "    gbr = GradientBoostingRegressor(max_depth = gs_gbr.best_params_['max_depth'], learning_rate = gs_gbr.best_params_['learning_rate'])\n",
        "    gbr.fit(X_train_normalized[train_index], y_train[train_index])\n",
        "    pred = gbr.predict(X_train_normalized[test_index])\n",
        "    scores.append(mae(y_train[test_index], pred))\n",
        "\n",
        "GBR_cv_mae = np.mean(scores)\n",
        "print('Gradient Boosting Regressor, max_depth = {0}, learning_rate = {1}'.format(gs_gbr.best_params_['max_depth'], gs_gbr.best_params_['learning_rate']))\n",
        "print(f'Gradient Boosting Regressor Normalization cv_mae_score = {GBR_cv_mae}\\n')"
      ],
      "execution_count": null,
      "outputs": [
        {
          "output_type": "stream",
          "text": [
            "Gradient Boosting Regressor, max_depth = 4, learning_rate = 0.1\n",
            "Gradient Boosting Regressor Normalization cv_mae_score = 17.260200769565962\n",
            "\n"
          ],
          "name": "stdout"
        }
      ]
    },
    {
      "cell_type": "markdown",
      "metadata": {
        "id": "TRrCGVg6ATXB",
        "colab_type": "text"
      },
      "source": [
        "## feature selection"
      ]
    },
    {
      "cell_type": "markdown",
      "metadata": {
        "id": "fsJQh_SwDd60",
        "colab_type": "text"
      },
      "source": [
        "### Random Forest feature selection"
      ]
    },
    {
      "cell_type": "markdown",
      "metadata": {
        "id": "xm1X5mDoDYao",
        "colab_type": "text"
      },
      "source": [
        "### Gradient Boosting feature selection"
      ]
    },
    {
      "cell_type": "code",
      "metadata": {
        "id": "afGNoBdtYuZY",
        "colab_type": "code",
        "colab": {
          "base_uri": "https://localhost:8080/",
          "height": 35
        },
        "outputId": "dd2d6d0a-4191-41fe-86da-81c06c4d3dfc"
      },
      "source": [
        "# feature_importance: 가장 중요한 feature 인덱스 순으로 정렬\n",
        "gbr = gs_gbr.best_estimator_\n",
        "gbr.fit(X_train, y_train)\n",
        "fi = gbr.feature_importances_.tolist()\n",
        "fi_sort = sorted(fi, reverse=True)\n",
        "feature_importance = []\n",
        "for i in range(14):\n",
        "    feature_importance.append(fi.index(fi_sort[i]))\n",
        "\n",
        "# 중요도 높은 feature 순서대로 선택하여 훈련\n",
        "cv_mae_selected = []\n",
        "for i in tqdm(range(1,15)): \n",
        "    X_train_selected = X_train[:,feature_importance[:i]]\n",
        "    kf = KFold(n_splits=5)\n",
        "    scores = []\n",
        "    for train_index, test_index in kf.split(X_train_selected):\n",
        "        gbr = gs_gbr.best_estimator_\n",
        "        gbr.fit(X_train_selected[train_index], y_train[train_index])\n",
        "        pred = gbr.predict(X_train_selected[test_index])\n",
        "        scores.append(mae(y_train[test_index], pred))\n",
        "        \n",
        "    cv_mae = np.mean(scores)\n",
        "    cv_mae_selected.append(cv_mae)"
      ],
      "execution_count": null,
      "outputs": [
        {
          "output_type": "stream",
          "text": [
            "100%|██████████| 14/14 [03:07<00:00, 13.41s/it]\n"
          ],
          "name": "stderr"
        }
      ]
    },
    {
      "cell_type": "code",
      "metadata": {
        "id": "8X9tG4RZHJxU",
        "colab_type": "code",
        "colab": {
          "base_uri": "https://localhost:8080/",
          "height": 295
        },
        "outputId": "1aed4160-2599-4706-b965-9f5b76699337"
      },
      "source": [
        "# feature selection 시각화\n",
        "plt.plot(range(1,15), cv_mae_selected)\n",
        "plt.title('Feature Selection: Gradient Boosting Regressor')\n",
        "plt.xlabel('training feature number')\n",
        "plt.ylabel('cv mae score')\n",
        "plt.show()"
      ],
      "execution_count": null,
      "outputs": [
        {
          "output_type": "display_data",
          "data": {
            "image/png": "[encoded data removed]",
            "text/plain": [
              "<Figure size 432x288 with 1 Axes>"
            ]
          },
          "metadata": {
            "tags": [],
            "needs_background": "light"
          }
        }
      ]
    },
    {
      "cell_type": "code",
      "metadata": {
        "id": "Q3fTheYKCCzJ",
        "colab_type": "code",
        "colab": {}
      },
      "source": [
        ""
      ],
      "execution_count": null,
      "outputs": []
    },
    {
      "cell_type": "markdown",
      "metadata": {
        "id": "1f6ZDUrp86oD",
        "colab_type": "text"
      },
      "source": [
        "## XGBoost"
      ]
    },
    {
      "cell_type": "markdown",
      "metadata": {
        "id": "-RMBe79rIN7M",
        "colab_type": "text"
      },
      "source": [
        "### 1차 그리드 서치"
      ]
    },
    {
      "cell_type": "code",
      "metadata": {
        "id": "sxr19ekbdee6",
        "colab_type": "code",
        "colab": {
          "base_uri": "https://localhost:8080/",
          "height": 426
        },
        "outputId": "c461dd6d-52e2-46a3-86b2-9009b5dabf58"
      },
      "source": [
        "from xgboost import XGBRegressor\n",
        "from sklearn.model_selection import GridSearchCV\n",
        "\n",
        "xgb = XGBRegressor()\n",
        "parameters = {'nthread':[4],\n",
        "              'objective':['reg:linear'], \n",
        "              'learning_rate': [.03, 0.05, .1],\n",
        "              'max_depth': [5, 6, 7, 8, 9, 10],\n",
        "              'min_child_weight': [4],\n",
        "              'silent': [1],\n",
        "              'subsample': [0.7],\n",
        "              'colsample_bytree': [0.7],\n",
        "              'n_estimators': [500]}\n",
        "\n",
        "xgb_grid = GridSearchCV(xgb,\n",
        "                        parameters,\n",
        "                        cv = 3,\n",
        "                        #n_jobs = 5,\n",
        "                        scoring = make_scorer(mae, greater_is_better=False),\n",
        "                        n_jobs = -1,\n",
        "                        verbose=True)\n",
        "\n",
        "xgb_grid.fit(X_train, y_train)\n",
        "# print(xgb_grid.best_score_)\n",
        "# print(xgb_grid.best_params_)"
      ],
      "execution_count": 7,
      "outputs": [
        {
          "output_type": "stream",
          "text": [
            "Fitting 3 folds for each of 18 candidates, totalling 54 fits\n"
          ],
          "name": "stdout"
        },
        {
          "output_type": "stream",
          "text": [
            "[Parallel(n_jobs=-1)]: Using backend LokyBackend with 2 concurrent workers.\n",
            "[Parallel(n_jobs=-1)]: Done  46 tasks      | elapsed:  4.5min\n",
            "[Parallel(n_jobs=-1)]: Done  54 out of  54 | elapsed:  5.4min finished\n"
          ],
          "name": "stderr"
        },
        {
          "output_type": "execute_result",
          "data": {
            "text/plain": [
              "GridSearchCV(cv=3, error_score=nan,\n",
              "             estimator=XGBRegressor(base_score=0.5, booster='gbtree',\n",
              "                                    colsample_bylevel=1, colsample_bynode=1,\n",
              "                                    colsample_bytree=1, gamma=0,\n",
              "                                    importance_type='gain', learning_rate=0.1,\n",
              "                                    max_delta_step=0, max_depth=3,\n",
              "                                    min_child_weight=1, missing=None,\n",
              "                                    n_estimators=100, n_jobs=1, nthread=None,\n",
              "                                    objective='reg:linear', random_state=0,\n",
              "                                    reg_alpha=0, reg_...\n",
              "             iid='deprecated', n_jobs=-1,\n",
              "             param_grid={'colsample_bytree': [0.7],\n",
              "                         'learning_rate': [0.03, 0.05, 0.1],\n",
              "                         'max_depth': [5, 6, 7, 8, 9, 10],\n",
              "                         'min_child_weight': [4], 'n_estimators': [500],\n",
              "                         'nthread': [4], 'objective': ['reg:linear'],\n",
              "                         'silent': [1], 'subsample': [0.7]},\n",
              "             pre_dispatch='2*n_jobs', refit=True, return_train_score=False,\n",
              "             scoring=make_scorer(mae, greater_is_better=False), verbose=True)"
            ]
          },
          "metadata": {
            "tags": []
          },
          "execution_count": 7
        }
      ]
    },
    {
      "cell_type": "code",
      "metadata": {
        "id": "mLbVPadETwMD",
        "colab_type": "code",
        "colab": {
          "base_uri": "https://localhost:8080/",
          "height": 70
        },
        "outputId": "b328a70e-6560-4dde-a89e-4558f47fb528"
      },
      "source": [
        "# best parameter 적용\n",
        "from sklearn.model_selection import KFold\n",
        "\n",
        "kf = KFold(n_splits=5)\n",
        "scores = []\n",
        "for train_index, test_index in kf.split(X_train):\n",
        "    xgb = xgb_grid.best_estimator_\n",
        "    xgb.fit(X_train[train_index], y_train[train_index])\n",
        "    pred = xgb.predict(X_train[test_index])\n",
        "    scores.append(mae(y_train[test_index], pred))\n",
        "\n",
        "XGB_cv_mae = np.mean(scores)\n",
        "print('XGBoost, learning_rate = {0}, max_depth = {1}'.format(xgb_grid.best_params_['learning_rate'], xgb_grid.best_params_['max_depth']))\n",
        "print(f'XGBoost cv_mae_score = {XGB_cv_mae}\\n')"
      ],
      "execution_count": null,
      "outputs": [
        {
          "output_type": "stream",
          "text": [
            "XGBoost, learning_rate = 0.03, max_depth = 5\n",
            "XGBoost cv_mae_score = 17.110212326049805\n",
            "\n"
          ],
          "name": "stdout"
        }
      ]
    },
    {
      "cell_type": "code",
      "metadata": {
        "id": "g7i3T6ceVISw",
        "colab_type": "code",
        "colab": {
          "base_uri": "https://localhost:8080/",
          "height": 295
        },
        "outputId": "68fb2b10-1dd4-4f4a-9ab8-bff21cf8d5be"
      },
      "source": [
        "plt.plot([5, 6, 7, 8, 9, 10], -xgb_grid.cv_results_['mean_test_score'][:6], label='learning_rate = 0.03')\n",
        "plt.plot([5, 6, 7, 8, 9, 10], -xgb_grid.cv_results_['mean_test_score'][6:12], label='learning_rate = 0.05')\n",
        "plt.plot([5, 6, 7, 8, 9, 10], -xgb_grid.cv_results_['mean_test_score'][12:18], label='learning_rate = 0.10')\n",
        "\n",
        "plt.legend()\n",
        "plt.title('XGBoost')\n",
        "plt.xlabel('max depth')\n",
        "plt.ylabel('cv mean test score')\n",
        "plt.show()"
      ],
      "execution_count": 8,
      "outputs": [
        {
          "output_type": "display_data",
          "data": {
            "image/png": "[encoded data removed]",
            "text/plain": [
              "<Figure size 432x288 with 1 Axes>"
            ]
          },
          "metadata": {
            "tags": [],
            "needs_background": "light"
          }
        }
      ]
    },
    {
      "cell_type": "markdown",
      "metadata": {
        "id": "RUNjRO8YIKcI",
        "colab_type": "text"
      },
      "source": [
        "### 2차 그리드 서치"
      ]
    },
    {
      "cell_type": "code",
      "metadata": {
        "id": "qSfO6YrHIEvd",
        "colab_type": "code",
        "colab": {
          "base_uri": "https://localhost:8080/",
          "height": 408
        },
        "outputId": "2eee762f-889b-462e-eac2-17e13c6398a4"
      },
      "source": [
        "xgb = XGBRegressor()\n",
        "parameters = {'nthread':[4],\n",
        "              'objective':['reg:linear'], # reg:squarederror라고 warning 뜨지만 잘만 돌아감 ㅎㅎ\n",
        "              'learning_rate': [.03],\n",
        "              'max_depth': range(1,10),\n",
        "              'min_child_weight': [4],\n",
        "              'silent': [1],\n",
        "              'subsample': [0.7],\n",
        "              'colsample_bytree': [0.7],\n",
        "              'n_estimators': [400,500,600]\n",
        "              }\n",
        "\n",
        "xgb_grid = GridSearchCV(xgb,\n",
        "                        parameters,\n",
        "                        cv = 3,\n",
        "                        scoring = make_scorer(mae, greater_is_better=False),\n",
        "                        n_jobs = -1,\n",
        "                        verbose=True)\n",
        "\n",
        "xgb_grid.fit(X_train, y_train)\n",
        "# print(xgb_grid.best_score_)\n",
        "# print(xgb_grid.best_params_)"
      ],
      "execution_count": null,
      "outputs": [
        {
          "output_type": "stream",
          "text": [
            "Fitting 3 folds for each of 27 candidates, totalling 81 fits\n"
          ],
          "name": "stdout"
        },
        {
          "output_type": "stream",
          "text": [
            "[Parallel(n_jobs=-1)]: Using backend LokyBackend with 2 concurrent workers.\n",
            "[Parallel(n_jobs=-1)]: Done  46 tasks      | elapsed:  1.9min\n",
            "[Parallel(n_jobs=-1)]: Done  81 out of  81 | elapsed:  5.4min finished\n"
          ],
          "name": "stderr"
        },
        {
          "output_type": "execute_result",
          "data": {
            "text/plain": [
              "GridSearchCV(cv=3, error_score=nan,\n",
              "             estimator=XGBRegressor(base_score=0.5, booster='gbtree',\n",
              "                                    colsample_bylevel=1, colsample_bynode=1,\n",
              "                                    colsample_bytree=1, gamma=0,\n",
              "                                    importance_type='gain', learning_rate=0.1,\n",
              "                                    max_delta_step=0, max_depth=3,\n",
              "                                    min_child_weight=1, missing=None,\n",
              "                                    n_estimators=100, n_jobs=1, nthread=None,\n",
              "                                    objective='reg:linear', random_state=0,\n",
              "                                    reg_alpha=0, reg_...\n",
              "             iid='deprecated', n_jobs=-1,\n",
              "             param_grid={'colsample_bytree': [0.7], 'learning_rate': [0.03],\n",
              "                         'max_depth': range(1, 10), 'min_child_weight': [4],\n",
              "                         'n_estimators': [400, 500, 600], 'nthread': [4],\n",
              "                         'objective': ['reg:linear'], 'silent': [1],\n",
              "                         'subsample': [0.7]},\n",
              "             pre_dispatch='2*n_jobs', refit=True, return_train_score=False,\n",
              "             scoring=make_scorer(mae, greater_is_better=False), verbose=True)"
            ]
          },
          "metadata": {
            "tags": []
          },
          "execution_count": 39
        }
      ]
    },
    {
      "cell_type": "code",
      "metadata": {
        "id": "t9a0_M-JKYG1",
        "colab_type": "code",
        "colab": {
          "base_uri": "https://localhost:8080/",
          "height": 141
        },
        "outputId": "ef5cadec-dfcb-421f-f60c-908c92189e34"
      },
      "source": [
        "xgb = xgb_grid.best_estimator_\n",
        "xgb"
      ],
      "execution_count": null,
      "outputs": [
        {
          "output_type": "execute_result",
          "data": {
            "text/plain": [
              "XGBRegressor(base_score=0.5, booster='gbtree', colsample_bylevel=1,\n",
              "             colsample_bynode=1, colsample_bytree=0.7, gamma=0,\n",
              "             importance_type='gain', learning_rate=0.03, max_delta_step=0,\n",
              "             max_depth=5, min_child_weight=4, missing=None, n_estimators=400,\n",
              "             n_jobs=1, nthread=4, objective='reg:linear', random_state=0,\n",
              "             reg_alpha=0, reg_lambda=1, scale_pos_weight=1, seed=None, silent=1,\n",
              "             subsample=0.7, verbosity=1)"
            ]
          },
          "metadata": {
            "tags": []
          },
          "execution_count": 40
        }
      ]
    },
    {
      "cell_type": "code",
      "metadata": {
        "id": "KiGlfTdTOi_9",
        "colab_type": "code",
        "colab": {
          "base_uri": "https://localhost:8080/",
          "height": 35
        },
        "outputId": "48eec193-850f-4cdb-b7ba-2e2046c71d17"
      },
      "source": [
        "-xgb_grid.best_score_"
      ],
      "execution_count": null,
      "outputs": [
        {
          "output_type": "execute_result",
          "data": {
            "text/plain": [
              "17.157804489135742"
            ]
          },
          "metadata": {
            "tags": []
          },
          "execution_count": 41
        }
      ]
    },
    {
      "cell_type": "code",
      "metadata": {
        "id": "U6h80u0eIIEX",
        "colab_type": "code",
        "colab": {
          "base_uri": "https://localhost:8080/",
          "height": 296
        },
        "outputId": "4e83c02f-e5a3-430e-d61c-07ba2aa4b944"
      },
      "source": [
        "plt.plot(range(1,10), -xgb_grid.cv_results_['mean_test_score'][range(0,27,3)], label='n_estimators = 400')\n",
        "plt.plot(range(1,10), -xgb_grid.cv_results_['mean_test_score'][range(1,28,3)], label='n_estimators = 500')\n",
        "plt.plot(range(1,10), -xgb_grid.cv_results_['mean_test_score'][range(2,29,3)], label='n_estimators = 600')\n",
        "plt.legend()\n",
        "plt.title('XGBoost')\n",
        "plt.xlabel('max depth (learning_rate = 0.03)')\n",
        "plt.ylabel('cv mean test score')\n",
        "plt.show()"
      ],
      "execution_count": null,
      "outputs": [
        {
          "output_type": "display_data",
          "data": {
            "image/png": "[encoded data removed]",
            "text/plain": [
              "<Figure size 432x288 with 1 Axes>"
            ]
          },
          "metadata": {
            "tags": [],
            "needs_background": "light"
          }
        }
      ]
    },
    {
      "cell_type": "code",
      "metadata": {
        "id": "PSOCQAvaoyc2",
        "colab_type": "code",
        "colab": {
          "base_uri": "https://localhost:8080/",
          "height": 177
        },
        "outputId": "8d26fb67-7697-4341-c2d1-dcb588a83481"
      },
      "source": [
        "xgb_grid.best_params_"
      ],
      "execution_count": null,
      "outputs": [
        {
          "output_type": "execute_result",
          "data": {
            "text/plain": [
              "{'colsample_bytree': 0.7,\n",
              " 'learning_rate': 0.03,\n",
              " 'max_depth': 5,\n",
              " 'min_child_weight': 4,\n",
              " 'n_estimators': 400,\n",
              " 'nthread': 4,\n",
              " 'objective': 'reg:linear',\n",
              " 'silent': 1,\n",
              " 'subsample': 0.7}"
            ]
          },
          "metadata": {
            "tags": []
          },
          "execution_count": 27
        }
      ]
    },
    {
      "cell_type": "code",
      "metadata": {
        "id": "dRG4UVYTn2zT",
        "colab_type": "code",
        "colab": {
          "base_uri": "https://localhost:8080/",
          "height": 70
        },
        "outputId": "74fd6e90-ee31-48de-9009-e74e56655f86"
      },
      "source": [
        "from sklearn.model_selection import KFold\n",
        "\n",
        "kf = KFold(n_splits=5)\n",
        "scores = []\n",
        "for train_index, test_index in kf.split(X_train):\n",
        "    xgb = xgb_grid.best_estimator_\n",
        "    xgb.fit(X_train[train_index], y_train[train_index])\n",
        "    pred = xgb.predict(X_train[test_index])\n",
        "    scores.append(mae(y_train[test_index], pred))\n",
        "\n",
        "XGB_cv_mae = np.mean(scores)\n",
        "print('XGBoost, learning_rate = {0}, max_depth = {1}, n_estimators = {2}'.format(xgb_grid.best_params_['learning_rate'],\n",
        "                                                                                 xgb_grid.best_params_['max_depth'],\n",
        "                                                                                 xgb_grid.best_params_['n_estimators']))\n",
        "print(f'XGBoost cv_mae_score = {XGB_cv_mae}\\n')"
      ],
      "execution_count": null,
      "outputs": [
        {
          "output_type": "stream",
          "text": [
            "XGBoost, learning_rate = 0.03, max_depth = 5, n_estimators = 400\n",
            "XGBoost cv_mae_score = 17.085966110229492\n",
            "\n"
          ],
          "name": "stdout"
        }
      ]
    },
    {
      "cell_type": "code",
      "metadata": {
        "id": "OJA2DRzgn2wo",
        "colab_type": "code",
        "colab": {
          "base_uri": "https://localhost:8080/",
          "height": 70
        },
        "outputId": "a2d6398e-0530-4fe6-8278-67b82e0f180b"
      },
      "source": [
        "from sklearn.model_selection import KFold\n",
        "\n",
        "kf = KFold(n_splits=5)\n",
        "scores = []\n",
        "for train_index, test_index in kf.split(X_train_normalized):\n",
        "    xgb = xgb_grid.best_estimator_\n",
        "    xgb.fit(X_train_normalized[train_index], y_train[train_index])\n",
        "    pred = xgb.predict(X_train_normalized[test_index])\n",
        "    scores.append(mae(y_train[test_index], pred))\n",
        "\n",
        "XGB_cv_mae = np.mean(scores)\n",
        "print('XGBoost, learning_rate = {0}, max_depth = {1}, n_estimators = {2}'.format(xgb_grid.best_params_['learning_rate'],\n",
        "                                                                                 xgb_grid.best_params_['max_depth'],\n",
        "                                                                                 xgb_grid.best_params_['n_estimators']))\n",
        "print(f'XGBoost Normalization cv_mae_score = {XGB_cv_mae}\\n')"
      ],
      "execution_count": null,
      "outputs": [
        {
          "output_type": "stream",
          "text": [
            "XGBoost, learning_rate = 0.03, max_depth = 5, n_estimators = 400\n",
            "XGBoost Normalization cv_mae_score = 17.08957862854004\n",
            "\n"
          ],
          "name": "stdout"
        }
      ]
    },
    {
      "cell_type": "code",
      "metadata": {
        "id": "ib0c9FTVn2tw",
        "colab_type": "code",
        "colab": {}
      },
      "source": [
        ""
      ],
      "execution_count": null,
      "outputs": []
    },
    {
      "cell_type": "code",
      "metadata": {
        "id": "4MK4USj-N0tR",
        "colab_type": "code",
        "colab": {
          "base_uri": "https://localhost:8080/",
          "height": 266
        },
        "outputId": "4430f57c-995f-454a-a2be-7e741b040d6a"
      },
      "source": [
        "# feature_importance: 가장 중요한 feature 인덱스 순으로 정렬\n",
        "xgb = xgb_grid.best_estimator_\n",
        "\n",
        "xgb.fit(X_train, y_train)\n",
        "fi = xgb.feature_importances_.tolist()\n",
        "fi_sort = sorted(fi, reverse=True)\n",
        "feature_importance = []\n",
        "for i in range(14):\n",
        "    feature_importance.append(fi.index(fi_sort[i]))\n",
        "\n",
        "# 중요도 높은 feature 순서대로 선택하여 훈련\n",
        "cv_mae_selected = []\n",
        "for i in range(1,15): \n",
        "    X_train_selected = X_train[:,feature_importance[:i]]\n",
        "    kf = KFold(n_splits=5)\n",
        "    scores = []\n",
        "    for train_index, test_index in kf.split(X_train_selected):\n",
        "        xgb = xgb = xgb_grid.best_estimator_\n",
        "        xgb.fit(X_train_selected[train_index], y_train[train_index])\n",
        "        pred = xgb.predict(X_train_selected[test_index])\n",
        "        scores.append(mae(y_train[test_index], pred))\n",
        "    cv_mae = np.mean(scores)\n",
        "    cv_mae_selected.append(cv_mae)\n",
        "    print(i, 'fold')"
      ],
      "execution_count": null,
      "outputs": [
        {
          "output_type": "stream",
          "text": [
            "1 fold\n",
            "2 fold\n",
            "3 fold\n",
            "4 fold\n",
            "5 fold\n",
            "6 fold\n",
            "7 fold\n",
            "8 fold\n",
            "9 fold\n",
            "10 fold\n",
            "11 fold\n",
            "12 fold\n",
            "13 fold\n",
            "14 fold\n"
          ],
          "name": "stdout"
        }
      ]
    },
    {
      "cell_type": "code",
      "metadata": {
        "id": "cJ2NcPn-PRPz",
        "colab_type": "code",
        "colab": {
          "base_uri": "https://localhost:8080/",
          "height": 295
        },
        "outputId": "0215e1d2-735c-4bae-9cd7-78cb9c776752"
      },
      "source": [
        "# feature selection 시각화\n",
        "plt.plot(range(1,15), cv_mae_selected)\n",
        "plt.title('Feature Selection: XGBoost')\n",
        "plt.xlabel('training feature number')\n",
        "plt.ylabel('cv mae score')\n",
        "plt.show()"
      ],
      "execution_count": null,
      "outputs": [
        {
          "output_type": "display_data",
          "data": {
            "image/png": "[encoded data removed]",
            "text/plain": [
              "<Figure size 432x288 with 1 Axes>"
            ]
          },
          "metadata": {
            "tags": [],
            "needs_background": "light"
          }
        }
      ]
    },
    {
      "cell_type": "code",
      "metadata": {
        "id": "UZRcz_xmOUnR",
        "colab_type": "code",
        "colab": {
          "base_uri": "https://localhost:8080/",
          "height": 52
        },
        "outputId": "2e552b1f-c8a1-432d-9c27-63fd92b5cf9a"
      },
      "source": [
        "print('Feature Selection of XGBoost', '\\ncv mae score:', min(cv_mae_selected))"
      ],
      "execution_count": null,
      "outputs": [
        {
          "output_type": "stream",
          "text": [
            "Feature Selection of XGBoost \n",
            "cv mae score: 17.08363\n"
          ],
          "name": "stdout"
        }
      ]
    },
    {
      "cell_type": "markdown",
      "metadata": {
        "id": "0CawbY6FRTTy",
        "colab_type": "text"
      },
      "source": [
        "## Best Model\n",
        "- xgboost\n",
        "- 13개의 feature selection"
      ]
    },
    {
      "cell_type": "markdown",
      "metadata": {
        "id": "UtEVUWuhnc3o",
        "colab_type": "text"
      },
      "source": [
        "# PCA"
      ]
    },
    {
      "cell_type": "code",
      "metadata": {
        "id": "5XwGeKh1PEGv",
        "colab_type": "code",
        "colab": {
          "base_uri": "https://localhost:8080/",
          "height": 35
        },
        "outputId": "c52ec263-68da-4417-f33c-8e5606882146"
      },
      "source": [
        "X_train.shape"
      ],
      "execution_count": null,
      "outputs": [
        {
          "output_type": "execute_result",
          "data": {
            "text/plain": [
              "(9347, 14)"
            ]
          },
          "metadata": {
            "tags": []
          },
          "execution_count": 63
        }
      ]
    },
    {
      "cell_type": "code",
      "metadata": {
        "id": "RRcAZqfE-KCA",
        "colab_type": "code",
        "colab": {}
      },
      "source": [
        "from sklearn.decomposition import PCA\n",
        "pca = PCA(n_components=14, svd_solver='full')\n",
        "pc_X_train = pca.fit_transform(X_train)"
      ],
      "execution_count": null,
      "outputs": []
    },
    {
      "cell_type": "code",
      "metadata": {
        "id": "qeXEMbFoPW0g",
        "colab_type": "code",
        "colab": {
          "base_uri": "https://localhost:8080/",
          "height": 35
        },
        "outputId": "74987a1b-36f5-4046-dbd6-a83344c65721"
      },
      "source": [
        "pc_X_train.shape"
      ],
      "execution_count": null,
      "outputs": [
        {
          "output_type": "execute_result",
          "data": {
            "text/plain": [
              "(9347, 14)"
            ]
          },
          "metadata": {
            "tags": []
          },
          "execution_count": 66
        }
      ]
    },
    {
      "cell_type": "code",
      "metadata": {
        "id": "qSVUXzf6PYoJ",
        "colab_type": "code",
        "colab": {
          "base_uri": "https://localhost:8080/",
          "height": 284
        },
        "outputId": "65be88c7-84b7-407d-ac73-3d2cf04cc740"
      },
      "source": [
        "# 중요도 높은 feature 순서대로 선택하여 훈련\n",
        "cv_mae_selected = []\n",
        "for i in tqdm(range(14)):\n",
        "    pc_X_train_selected = pc_X_train[:,:i+1]\n",
        "    kf = KFold(n_splits=5)\n",
        "    scores = []\n",
        "    for train_index, test_index in kf.split(pc_X_train_selected):\n",
        "        svr = grid_svr.best_estimator_\n",
        "        svr.fit(pc_X_train_selected[train_index], y_train[train_index])\n",
        "        pred = svr.predict(pc_X_train_selected[test_index])\n",
        "        scores.append(mae(y_train[test_index], pred))\n",
        "    cv_mae = np.mean(scores)\n",
        "    cv_mae_selected.append(cv_mae)\n",
        "    print(i, 'fold')"
      ],
      "execution_count": null,
      "outputs": [
        {
          "output_type": "stream",
          "text": [
            "  7%|▋         | 1/14 [01:20<17:27, 80.56s/it]"
          ],
          "name": "stderr"
        },
        {
          "output_type": "stream",
          "text": [
            "0 fold\n"
          ],
          "name": "stdout"
        },
        {
          "output_type": "stream",
          "text": [
            "\r 14%|█▍        | 2/14 [02:06<14:01, 70.15s/it]"
          ],
          "name": "stderr"
        },
        {
          "output_type": "stream",
          "text": [
            "1 fold\n"
          ],
          "name": "stdout"
        },
        {
          "output_type": "stream",
          "text": [
            "\r 21%|██▏       | 3/14 [02:40<10:52, 59.36s/it]"
          ],
          "name": "stderr"
        },
        {
          "output_type": "stream",
          "text": [
            "2 fold\n"
          ],
          "name": "stdout"
        },
        {
          "output_type": "stream",
          "text": [
            "\r 29%|██▊       | 4/14 [03:19<08:50, 53.09s/it]"
          ],
          "name": "stderr"
        },
        {
          "output_type": "stream",
          "text": [
            "3 fold\n"
          ],
          "name": "stdout"
        },
        {
          "output_type": "stream",
          "text": [
            "\r 36%|███▌      | 5/14 [03:55<07:12, 48.00s/it]"
          ],
          "name": "stderr"
        },
        {
          "output_type": "stream",
          "text": [
            "4 fold\n"
          ],
          "name": "stdout"
        },
        {
          "output_type": "stream",
          "text": [
            "\r 43%|████▎     | 6/14 [04:35<06:04, 45.58s/it]"
          ],
          "name": "stderr"
        },
        {
          "output_type": "stream",
          "text": [
            "5 fold\n"
          ],
          "name": "stdout"
        },
        {
          "output_type": "stream",
          "text": [
            "\r 50%|█████     | 7/14 [05:14<05:05, 43.58s/it]"
          ],
          "name": "stderr"
        },
        {
          "output_type": "stream",
          "text": [
            "6 fold\n"
          ],
          "name": "stdout"
        },
        {
          "output_type": "stream",
          "text": [
            "\r 57%|█████▋    | 8/14 [05:51<04:10, 41.83s/it]"
          ],
          "name": "stderr"
        },
        {
          "output_type": "stream",
          "text": [
            "7 fold\n"
          ],
          "name": "stdout"
        },
        {
          "output_type": "stream",
          "text": [
            "\r 64%|██████▍   | 9/14 [06:31<03:25, 41.19s/it]"
          ],
          "name": "stderr"
        },
        {
          "output_type": "stream",
          "text": [
            "8 fold\n"
          ],
          "name": "stdout"
        },
        {
          "output_type": "stream",
          "text": [
            "\r 71%|███████▏  | 10/14 [07:08<02:39, 39.95s/it]"
          ],
          "name": "stderr"
        },
        {
          "output_type": "stream",
          "text": [
            "9 fold\n"
          ],
          "name": "stdout"
        },
        {
          "output_type": "stream",
          "text": [
            "\r 79%|███████▊  | 11/14 [07:48<01:59, 39.82s/it]"
          ],
          "name": "stderr"
        },
        {
          "output_type": "stream",
          "text": [
            "10 fold\n"
          ],
          "name": "stdout"
        },
        {
          "output_type": "stream",
          "text": [
            "\r 86%|████████▌ | 12/14 [08:27<01:19, 39.68s/it]"
          ],
          "name": "stderr"
        },
        {
          "output_type": "stream",
          "text": [
            "11 fold\n"
          ],
          "name": "stdout"
        },
        {
          "output_type": "stream",
          "text": [
            "\r 93%|█████████▎| 13/14 [09:06<00:39, 39.36s/it]"
          ],
          "name": "stderr"
        },
        {
          "output_type": "stream",
          "text": [
            "12 fold\n"
          ],
          "name": "stdout"
        },
        {
          "output_type": "stream",
          "text": [
            "100%|██████████| 14/14 [09:45<00:00, 41.85s/it]"
          ],
          "name": "stderr"
        },
        {
          "output_type": "stream",
          "text": [
            "13 fold\n"
          ],
          "name": "stdout"
        },
        {
          "output_type": "stream",
          "text": [
            "\n"
          ],
          "name": "stderr"
        }
      ]
    },
    {
      "cell_type": "code",
      "metadata": {
        "id": "XinZWXhUP1Qg",
        "colab_type": "code",
        "colab": {
          "base_uri": "https://localhost:8080/",
          "height": 295
        },
        "outputId": "c1a2278b-f74e-4441-e2ff-4bc8cc79dd39"
      },
      "source": [
        "plt.plot(range(1,15), cv_mae_selected)\n",
        "plt.title('PCA Feature Reduction: SVR')\n",
        "plt.xlabel('PC number')\n",
        "plt.ylabel('cv mae score')\n",
        "plt.show()"
      ],
      "execution_count": null,
      "outputs": [
        {
          "output_type": "display_data",
          "data": {
            "image/png": "[encoded data removed]",
            "text/plain": [
              "<Figure size 432x288 with 1 Axes>"
            ]
          },
          "metadata": {
            "tags": [],
            "needs_background": "light"
          }
        }
      ]
    },
    {
      "cell_type": "code",
      "metadata": {
        "id": "_mMfd9dZQQ7d",
        "colab_type": "code",
        "colab": {
          "base_uri": "https://localhost:8080/",
          "height": 52
        },
        "outputId": "b45f81be-d866-4a04-a6f1-ce785c275827"
      },
      "source": [
        "print('Feature Selection of SVR', '\\ncv mae score:', min(cv_mae_selected))"
      ],
      "execution_count": null,
      "outputs": [
        {
          "output_type": "stream",
          "text": [
            "Feature Selection of SVR \n",
            "cv mae score: 16.020509257989527\n"
          ],
          "name": "stdout"
        }
      ]
    },
    {
      "cell_type": "code",
      "metadata": {
        "id": "g0enm5WFMy8U",
        "colab_type": "code",
        "colab": {}
      },
      "source": [
        ""
      ],
      "execution_count": null,
      "outputs": []
    }
  ]
}