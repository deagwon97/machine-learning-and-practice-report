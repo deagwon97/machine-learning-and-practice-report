{
  "nbformat": 4,
  "nbformat_minor": 0,
  "metadata": {
    "colab": {
      "name": "Dacon_satellite_dist.ipynb",
      "provenance": [],
      "collapsed_sections": [],
      "include_colab_link": true
    },
    "kernelspec": {
      "name": "python3",
      "display_name": "Python 3"
    },
    "accelerator": "GPU"
  },
  "cells": [
    {
      "cell_type": "markdown",
      "metadata": {
        "id": "view-in-github",
        "colab_type": "text"
      },
      "source": [
        "<a href=\"https://colab.research.google.com/github/curiosity806/machine-learning-and-practice-report/blob/master/Dacon_satellite_model.ipynb\" target=\"_parent\"><img src=\"https://colab.research.google.com/assets/colab-badge.svg\" alt=\"Open In Colab\"/></a>"
      ]
    },
    {
      "cell_type": "code",
      "metadata": {
        "id": "F30nI34oAhQd",
        "colab_type": "code",
        "colab": {
          "base_uri": "https://localhost:8080/",
          "height": 125
        },
        "outputId": "19b17e60-d0fe-40de-e4f2-ebd3db0d9cb9"
      },
      "source": [
        "from google.colab import drive\n",
        "drive.mount('/content/drive')"
      ],
      "execution_count": 1,
      "outputs": [
        {
          "output_type": "stream",
          "text": [
            "Go to this URL in a browser: https://accounts.google.com/o/oauth2/auth?client_id=947318989803-6bn6qk8qdgf4n4g3pfee6491hc0brc4i.apps.googleusercontent.com&redirect_uri=urn%3aietf%3awg%3aoauth%3a2.0%3aoob&response_type=code&scope=email%20https%3a%2f%2fwww.googleapis.com%2fauth%2fdocs.test%20https%3a%2f%2fwww.googleapis.com%2fauth%2fdrive%20https%3a%2f%2fwww.googleapis.com%2fauth%2fdrive.photos.readonly%20https%3a%2f%2fwww.googleapis.com%2fauth%2fpeopleapi.readonly\n",
            "\n",
            "Enter your authorization code:\n",
            "··········\n",
            "Mounted at /content/drive\n"
          ],
          "name": "stdout"
        }
      ]
    },
    {
      "cell_type": "code",
      "metadata": {
        "id": "UUGgelKUAkGU",
        "colab_type": "code",
        "colab": {}
      },
      "source": [
        "# 훈련 데이터\n",
        "!cp '/content/drive/My Drive/2020 Kaggle Study/data/train_final.npy' train.npy"
      ],
      "execution_count": 2,
      "outputs": []
    },
    {
      "cell_type": "code",
      "metadata": {
        "id": "zXRwXj5gApfl",
        "colab_type": "code",
        "colab": {}
      },
      "source": [
        "import numpy as np\n",
        "\n",
        "train = np.load('train.npy')"
      ],
      "execution_count": 3,
      "outputs": []
    },
    {
      "cell_type": "code",
      "metadata": {
        "id": "hdgjCD1dAsMe",
        "colab_type": "code",
        "colab": {
          "base_uri": "https://localhost:8080/",
          "height": 72
        },
        "outputId": "5377e7a1-41d6-4279-c9f4-f35f65584109"
      },
      "source": [
        "import glob\n",
        "import pandas as pd\n",
        "import numpy as np\n",
        "import matplotlib.pylab as plt\n",
        "import seaborn as sns\n",
        "from tqdm import tqdm\n",
        "import matplotlib.pyplot as plt\n",
        "import tensorflow as tf\n",
        "import os\n",
        "import random\n",
        "from tensorflow.keras.layers import Dense, Conv2D, Dropout, Conv2DTranspose, MaxPooling2D, BatchNormalization, Activation, concatenate, Input, GlobalAveragePooling2D\n",
        "from tensorflow.keras import Model\n",
        "import warnings\n",
        "import gc\n",
        "import matplotlib.pyplot as plt\n",
        "import matplotlib.animation as animation\n",
        "from scipy import stats\n",
        "from mpl_toolkits.axes_grid1 import make_axes_locatable\n",
        "from sklearn.model_selection import GridSearchCV\n",
        "\n",
        "warnings.filterwarnings(\"ignore\")\n",
        "\n",
        "# 재생산성을 위해 시드 고정\n",
        "np.random.seed(7)\n",
        "random.seed(7)\n",
        "tf.random.set_seed(7)"
      ],
      "execution_count": 4,
      "outputs": [
        {
          "output_type": "stream",
          "text": [
            "/usr/local/lib/python3.6/dist-packages/statsmodels/tools/_testing.py:19: FutureWarning: pandas.util.testing is deprecated. Use the functions in the public API at pandas.testing instead.\n",
            "  import pandas.util.testing as tm\n"
          ],
          "name": "stderr"
        }
      ]
    },
    {
      "cell_type": "markdown",
      "metadata": {
        "id": "9i_Wk1SD63As",
        "colab_type": "text"
      },
      "source": [
        "# 모델링"
      ]
    },
    {
      "cell_type": "code",
      "metadata": {
        "id": "CMYgHvZtU-Dt",
        "colab_type": "code",
        "colab": {}
      },
      "source": [
        "def mae(y_true, y_pred):\n",
        "    y_true = np.array(y_true)\n",
        "    y_true = y_true.reshape(1, -1)[0]  \n",
        "    y_pred = np.array(y_pred)\n",
        "    y_pred = y_pred.reshape(1, -1)[0]\n",
        "    mae = np.mean(np.abs(y_true - y_pred))\n",
        "    return mae\n",
        "\n",
        "X = train[:,:14]\n",
        "y = train[:,-1]\n",
        "X.shape, y.shape\n",
        "\n",
        "from sklearn.model_selection import train_test_split\n",
        "X_train, X_test, y_train, y_test = train_test_split(X, y, test_size=0.2)"
      ],
      "execution_count": 5,
      "outputs": []
    },
    {
      "cell_type": "markdown",
      "metadata": {
        "id": "LPn3HU9S9JQC",
        "colab_type": "text"
      },
      "source": [
        "### X_test와 y_test는 모든 학습이 끝나고 맨 마지막에 사용!!\n",
        "### 중간 평가는 cross validaiton으로 수행할 것!!\n",
        "\n",
        "데이터 전처리부분 레포트 정리도 다 했는데, 글은 최소화하고, 그냥 이미지로 채웠습니다... 내일 다시 읽어보고 추가할 부분 있으면 얘기해 주세요\n",
        "\n",
        "\n",
        "선형회귀부터 엘라스틱까지 정리 했습니닷\n",
        "그리고 각 모델별로 노멀라이즈랑 노멀라이즈 안한 거 비교했고!\n",
        "\n",
        "1. 이제 뒤에 있는 모델들도 앞에 있는 형식 유지하면서 작성하고\n",
        "\n",
        "2. grid search\n",
        "3. feature importance 추출할 수 있는 모델들은 어제 말한대로 하나씩 feature추가하면서 cv스코어 어떻게 달라지는 지 그래프로 표현하기\n",
        "4. pca적용하고 가장 좋은 모델에서 pc 하나씩 추가 하면서 cv가 어떻게 달라지는 지 그래프로 표현하기\n",
        "\n",
        "이렇게 하면 되는데\n",
        "\n",
        "누나 할 수 있는 곳까지 부탁합니다.ㅎㅎ"
      ]
    },
    {
      "cell_type": "markdown",
      "metadata": {
        "id": "Ba4SQfbmaCHd",
        "colab_type": "text"
      },
      "source": [
        "## 선형회귀"
      ]
    },
    {
      "cell_type": "markdown",
      "metadata": {
        "id": "tpzH6MptkI-Z",
        "colab_type": "text"
      },
      "source": [
        "1. 모형의 선형성: 모든 예측값에서 잔차가 비슷하게 있어야 함\n",
        "2. 잔차의 정규성:Q-Q Plot\n",
        "3. 잔차의 등분산성\n",
        "4. 잔차의 독립성\n",
        "\n",
        "기본 가정을 만족하지 않는다면 stepwise로 4가지 기본 가정을 위배시키는 변수를 제거"
      ]
    },
    {
      "cell_type": "code",
      "metadata": {
        "id": "YsxKv_t062VT",
        "colab_type": "code",
        "colab": {
          "base_uri": "https://localhost:8080/",
          "height": 122
        },
        "outputId": "ffb9e8e1-df3f-4815-fd32-860e0781c409"
      },
      "source": [
        "from sklearn.model_selection import KFold\n",
        "from sklearn.linear_model import LinearRegression\n",
        "\n",
        "kf = KFold(n_splits=5)\n",
        "scores = []\n",
        "for train_index, test_index in kf.split(X_train):\n",
        "    lr = LinearRegression(normalize = False)\n",
        "    lr.fit(X_train[train_index], y_train[train_index])\n",
        "    pred = lr.predict(X_train[test_index])\n",
        "    scores.append(mae(y_train[test_index], pred))\n",
        "\n",
        "LR_cv_mae = np.mean(scores)\n",
        "print('LinearRegression, normalize = False')\n",
        "print(f'단순 선형 회귀 cv_mae_score = {LR_cv_mae}\\n')\n",
        "\n",
        "kf = KFold(n_splits=5)\n",
        "scores = []\n",
        "for train_index, test_index in kf.split(X_train):\n",
        "    lr = LinearRegression(normalize = True)\n",
        "    lr.fit(X_train[train_index], y_train[train_index])\n",
        "    pred = lr.predict(X_train[test_index])\n",
        "    scores.append(mae(y_train[test_index], pred))\n",
        "    \n",
        "LR_normal_cv_mae = np.mean(scores)\n",
        "print('LinearRegression, normalize = True')\n",
        "print(f'단순 선형 회귀 cv_mae_score = {LR_normal_cv_mae}\\n')"
      ],
      "execution_count": 64,
      "outputs": [
        {
          "output_type": "stream",
          "text": [
            "LinearRegression, normalize = False\n",
            "단순 선형 회귀 cv_mae_score = 17.440942764282227\n",
            "\n",
            "LinearRegression, normalize = True\n",
            "단순 선형 회귀 cv_mae_score = 17.44093894958496\n",
            "\n"
          ],
          "name": "stdout"
        }
      ]
    },
    {
      "cell_type": "code",
      "metadata": {
        "id": "jMM9rCMtJwkL",
        "colab_type": "code",
        "colab": {}
      },
      "source": [
        "pred = \n",
        "mae(y_test, pred)"
      ],
      "execution_count": null,
      "outputs": []
    },
    {
      "cell_type": "markdown",
      "metadata": {
        "id": "b1mknlZiaF1Z",
        "colab_type": "text"
      },
      "source": [
        "## 다항회귀"
      ]
    },
    {
      "cell_type": "code",
      "metadata": {
        "id": "3QOSY1Msfr2-",
        "colab_type": "code",
        "colab": {
          "base_uri": "https://localhost:8080/",
          "height": 122
        },
        "outputId": "0f18ff24-b3f0-4d21-f8a3-061dfdb1f31e"
      },
      "source": [
        "from sklearn.preprocessing import PolynomialFeatures\n",
        "from sklearn.linear_model import LinearRegression\n",
        "from sklearn.model_selection import KFold\n",
        "\n",
        "kf = KFold(n_splits=5)\n",
        "scores = []\n",
        "for train_index, test_index in kf.split(X_train):\n",
        "    #다항 항 만들기\n",
        "    interaction = PolynomialFeatures(degree=3, include_bias=False, interaction_only=True)\n",
        "    features_interaction = interaction.fit_transform(X_train[train_index])\n",
        "    test_interaction = interaction.transform(X_train[test_index])\n",
        "    # 선형회귀 모델 훈련\n",
        "    lr = LinearRegression(normalize = False)\n",
        "    lr.fit(features_interaction, y_train[train_index])\n",
        "    pred = lr.predict(test_interaction)\n",
        "    scores.append(mae(y_train[test_index], pred))\n",
        "\n",
        "Poly_LR_cv_mae = np.mean(scores)\n",
        "print('Poly_LR_cv_mae, degree  = 3,  normalize = False')\n",
        "print(f'Poly_LR_cv_mae = {Poly_LR_cv_mae}\\n')\n",
        "\n",
        "kf = KFold(n_splits=5)\n",
        "scores = []\n",
        "for train_index, test_index in kf.split(X_train):\n",
        "    #다항 항 만들기\n",
        "    interaction = PolynomialFeatures(degree=3, include_bias=False, interaction_only=True)\n",
        "    features_interaction = interaction.fit_transform(X_train[train_index])\n",
        "    test_interaction = interaction.transform(X_train[test_index])\n",
        "    # 선형회귀 모델 훈련\n",
        "    lr = LinearRegression(normalize = True)\n",
        "    lr.fit(features_interaction, y_train[train_index])\n",
        "    pred = lr.predict(test_interaction)\n",
        "    scores.append(mae(y_train[test_index], pred))\n",
        "\n",
        "Poly_LR_normal_cv_mae = np.mean(scores)\n",
        "print('Poly_LR_normal_cv_mae, degree  = 3,  normalize = True')\n",
        "print(f'Poly_LR_normal_cv_mae = {Poly_LR_normal_cv_mae}\\n')"
      ],
      "execution_count": null,
      "outputs": [
        {
          "output_type": "stream",
          "text": [
            "Poly_LR_cv_mae, degree  = 3,  normalize = False\n",
            "Poly_LR_cv_mae = 17.9493408203125\n",
            "\n",
            "Poly_LR_normal_cv_mae, degree  = 3,  normalize = True\n",
            "Poly_LR_normal_cv_mae = 17.74848747253418\n",
            "\n"
          ],
          "name": "stdout"
        }
      ]
    },
    {
      "cell_type": "markdown",
      "metadata": {
        "id": "ZP3k-0zh-Ti7",
        "colab_type": "text"
      },
      "source": [
        "### 릿지 다항 회귀"
      ]
    },
    {
      "cell_type": "code",
      "metadata": {
        "id": "3g1hdbZIZwar",
        "colab_type": "code",
        "colab": {
          "base_uri": "https://localhost:8080/",
          "height": 122
        },
        "outputId": "e534fd27-2c89-4068-d602-37bd16af36f8"
      },
      "source": [
        "from sklearn.linear_model import Ridge, Lasso, ElasticNet\n",
        "from sklearn.model_selection import KFold\n",
        "\n",
        "kf = KFold(n_splits=5)\n",
        "scores = []\n",
        "for train_index, test_index in kf.split(X_train):\n",
        "    #다항 항 만들기\n",
        "    interaction = PolynomialFeatures(degree=3, include_bias=False, interaction_only=True)\n",
        "    features_interaction = interaction.fit_transform(X_train[train_index])\n",
        "    test_interaction = interaction.transform(X_train[test_index])\n",
        "    # Ridge 모델 훈련\n",
        "    Ridge_model = Ridge(normalize = False, alpha = 0.1)\n",
        "    Ridge_model.fit(features_interaction, y_train[train_index])\n",
        "    pred = Ridge_model.predict(test_interaction)\n",
        "    scores.append(mae(y_train[test_index], pred))\n",
        "\n",
        "Poly_Ridge_cv_mae = np.mean(scores)\n",
        "print('Poly_Ridge_cv_mae, degree  = 3,  normalize = False')\n",
        "print(f'Poly_Ridge_cv_mae = {Poly_Ridge_cv_mae}\\n')\n",
        "\n",
        "kf = KFold(n_splits=5)\n",
        "scores = []\n",
        "for train_index, test_index in kf.split(X_train):\n",
        "    #다항 항 만들기\n",
        "    interaction = PolynomialFeatures(degree=3, include_bias=False, interaction_only=True)\n",
        "    features_interaction = interaction.fit_transform(X_train[train_index])\n",
        "    test_interaction = interaction.transform(X_train[test_index])\n",
        "    # Ridge 모델 훈련\n",
        "    Ridge_model = Ridge(normalize = True, alpha = 0.1)\n",
        "    Ridge_model.fit(features_interaction, y_train[train_index])\n",
        "    pred = Ridge_model.predict(test_interaction)\n",
        "    scores.append(mae(y_train[test_index], pred))\n",
        "\n",
        "Poly_Ridge_normal_cv_mae = np.mean(scores)\n",
        "print('Poly_Ridge_normal_cv_mae, degree  = 3,  normalize = True')\n",
        "print(f'Poly_Ridge_normal_cv_mae = {Poly_Ridge_normal_cv_mae}\\n')"
      ],
      "execution_count": null,
      "outputs": [
        {
          "output_type": "stream",
          "text": [
            "Poly_Ridge_cv_mae, degree  = 3,  normalize = False\n",
            "Poly_Ridge_cv_mae = 19.5375919342041\n",
            "\n",
            "Poly_Ridge_normal_cv_mae, degree  = 3,  normalize = True\n",
            "Poly_Ridge_normal_cv_mae = 17.378116607666016\n",
            "\n"
          ],
          "name": "stdout"
        }
      ]
    },
    {
      "cell_type": "markdown",
      "metadata": {
        "id": "5yB0a2qz-XJR",
        "colab_type": "text"
      },
      "source": [
        "### 라쏘 다항회귀"
      ]
    },
    {
      "cell_type": "code",
      "metadata": {
        "id": "TTtfwzkZ_BYl",
        "colab_type": "code",
        "colab": {
          "base_uri": "https://localhost:8080/",
          "height": 122
        },
        "outputId": "1e1917c5-02ba-4c5a-9c80-b4cae969249a"
      },
      "source": [
        "kf = KFold(n_splits=5)\n",
        "scores = []\n",
        "for train_index, test_index in kf.split(X_train):\n",
        "    #다항 항 만들기\n",
        "    interaction = PolynomialFeatures(degree=3, include_bias=False, interaction_only=True)\n",
        "    features_interaction = interaction.fit_transform(X_train[train_index])\n",
        "    test_interaction = interaction.transform(X_train[test_index])\n",
        "    # Ridge 모델 훈련\n",
        "    Lasso_model = Lasso(normalize = False, alpha = 0.1)\n",
        "    Lasso_model.fit(features_interaction, y_train[train_index])\n",
        "    pred = Lasso_model.predict(test_interaction)\n",
        "    scores.append(mae(y_train[test_index], pred))\n",
        "\n",
        "Poly_Lasso_cv_mae = np.mean(scores)\n",
        "print('Poly_Lasso_cv_mae, degree  = 3,  normalize = False')\n",
        "print(f'Poly_Lasso_cv_mae = {Poly_Lasso_cv_mae}\\n')\n",
        "\n",
        "kf = KFold(n_splits=5)\n",
        "scores = []\n",
        "for train_index, test_index in kf.split(X_train):\n",
        "    #다항 항 만들기\n",
        "    interaction = PolynomialFeatures(degree=3, include_bias=False, interaction_only=True)\n",
        "    features_interaction = interaction.fit_transform(X_train[train_index])\n",
        "    test_interaction = interaction.transform(X_train[test_index])\n",
        "    # Ridge 모델 훈련\n",
        "    Lasso_model = Lasso(normalize = True, alpha = 0.1)\n",
        "    Lasso_model.fit(features_interaction, y_train[train_index])\n",
        "    pred = Lasso_model.predict(test_interaction)\n",
        "    scores.append(mae(y_train[test_index], pred))\n",
        "\n",
        "Poly_Lasso_normal_cv_mae = np.mean(scores)\n",
        "print('Poly_Lasso_normal_cv_mae, degree  = 3,  normalize = True')\n",
        "print(f'Poly_Lasso_normal_cv_mae = {Poly_Lasso_normal_cv_mae}\\n')"
      ],
      "execution_count": null,
      "outputs": [
        {
          "output_type": "stream",
          "text": [
            "Poly_Lasso_cv_mae, degree  = 3,  normalize = False\n",
            "Poly_Lasso_cv_mae = 17.245738983154297\n",
            "\n",
            "Poly_Lasso_normal_cv_mae, degree  = 3,  normalize = True\n",
            "Poly_Lasso_normal_cv_mae = 18.111082077026367\n",
            "\n"
          ],
          "name": "stdout"
        }
      ]
    },
    {
      "cell_type": "markdown",
      "metadata": {
        "id": "_jCRJTV4-ZCj",
        "colab_type": "text"
      },
      "source": [
        "### 엘라스틱 다항회귀"
      ]
    },
    {
      "cell_type": "code",
      "metadata": {
        "id": "8K96kdYT_SXi",
        "colab_type": "code",
        "colab": {
          "base_uri": "https://localhost:8080/",
          "height": 122
        },
        "outputId": "7adae19e-fc36-4913-d3f1-2069816776ed"
      },
      "source": [
        "kf = KFold(n_splits=5)\n",
        "scores = []\n",
        "for train_index, test_index in kf.split(X_train):\n",
        "    #다항 항 만들기\n",
        "    interaction = PolynomialFeatures(degree=3, include_bias=False, interaction_only=True)\n",
        "    features_interaction = interaction.fit_transform(X_train[train_index])\n",
        "    test_interaction = interaction.transform(X_train[test_index])\n",
        "    # Ridge 모델 훈련\n",
        "    ElasticNet_model = ElasticNet(normalize = False, alpha = 0.1)\n",
        "    ElasticNet_model.fit(features_interaction, y_train[train_index])\n",
        "    pred = ElasticNet_model.predict(test_interaction)\n",
        "    scores.append(mae(y_train[test_index], pred))\n",
        "\n",
        "Poly_ElasticNet_cv_mae = np.mean(scores)\n",
        "print('Poly_ElasticNet_cv_mae, degree  = 3,  normalize = False')\n",
        "print(f'Poly_ElasticNet_cv_mae = {Poly_ElasticNet_cv_mae}\\n')\n",
        "\n",
        "kf = KFold(n_splits=5)\n",
        "scores = []\n",
        "for train_index, test_index in kf.split(X_train):\n",
        "    #다항 항 만들기\n",
        "    interaction = PolynomialFeatures(degree=3, include_bias=False, interaction_only=True)\n",
        "    features_interaction = interaction.fit_transform(X_train[train_index])\n",
        "    test_interaction = interaction.transform(X_train[test_index])\n",
        "    # Ridge 모델 훈련\n",
        "    ElasticNet_model = ElasticNet(normalize = True, alpha = 0.1)\n",
        "    ElasticNet_model.fit(features_interaction, y_train[train_index])\n",
        "    pred = ElasticNet_model.predict(test_interaction)\n",
        "    scores.append(mae(y_train[test_index], pred))\n",
        "\n",
        "Poly_ElasticNet_normal_cv_mae = np.mean(scores)\n",
        "print('Poly_ElasticNet_normal_cv_mae, degree  = 3,  normalize = True')\n",
        "print(f'Poly_ElasticNet_normal_cv_mae = {Poly_ElasticNet_normal_cv_mae}\\n')"
      ],
      "execution_count": null,
      "outputs": [
        {
          "output_type": "stream",
          "text": [
            "Poly_ElasticNet_cv_mae, degree  = 3,  normalize = False\n",
            "Poly_ElasticNet_cv_mae = 17.245868682861328\n",
            "\n",
            "Poly_ElasticNet_normal_cv_mae, degree  = 3,  normalize = True\n",
            "Poly_ElasticNet_normal_cv_mae = 18.111082077026367\n",
            "\n"
          ],
          "name": "stdout"
        }
      ]
    },
    {
      "cell_type": "markdown",
      "metadata": {
        "id": "DeA8Bw3VluWH",
        "colab_type": "text"
      },
      "source": [
        "## SVM"
      ]
    },
    {
      "cell_type": "code",
      "metadata": {
        "id": "G8Aq6iyOq_ub",
        "colab_type": "code",
        "colab": {
          "base_uri": "https://localhost:8080/",
          "height": 1000
        },
        "outputId": "a574cffc-6362-4fcd-bf94-9231b6b28ec8"
      },
      "source": [
        "from sklearn.model_selection import GridSearchCV\n",
        "from sklearn.svm import SVR\n",
        "\n",
        "param_grid = {'C': [0.1,1,10], 'kernel': ['rbf', 'poly', 'sigmoid']}\n",
        "grid_svr = GridSearchCV(SVR(), param_grid, refit=True, verbose=2)\n",
        "grid_svr.fit(X_train, y_train)"
      ],
      "execution_count": 65,
      "outputs": [
        {
          "output_type": "stream",
          "text": [
            "Fitting 5 folds for each of 9 candidates, totalling 45 fits\n",
            "[CV] C=0.1, kernel=rbf ...............................................\n"
          ],
          "name": "stdout"
        },
        {
          "output_type": "stream",
          "text": [
            "[Parallel(n_jobs=1)]: Using backend SequentialBackend with 1 concurrent workers.\n"
          ],
          "name": "stderr"
        },
        {
          "output_type": "stream",
          "text": [
            "[CV] ................................ C=0.1, kernel=rbf, total=   5.0s\n",
            "[CV] C=0.1, kernel=rbf ...............................................\n"
          ],
          "name": "stdout"
        },
        {
          "output_type": "stream",
          "text": [
            "[Parallel(n_jobs=1)]: Done   1 out of   1 | elapsed:    5.0s remaining:    0.0s\n"
          ],
          "name": "stderr"
        },
        {
          "output_type": "stream",
          "text": [
            "[CV] ................................ C=0.1, kernel=rbf, total=   4.8s\n",
            "[CV] C=0.1, kernel=rbf ...............................................\n",
            "[CV] ................................ C=0.1, kernel=rbf, total=   4.9s\n",
            "[CV] C=0.1, kernel=rbf ...............................................\n",
            "[CV] ................................ C=0.1, kernel=rbf, total=   4.8s\n",
            "[CV] C=0.1, kernel=rbf ...............................................\n",
            "[CV] ................................ C=0.1, kernel=rbf, total=   4.9s\n",
            "[CV] C=0.1, kernel=poly ..............................................\n",
            "[CV] ............................... C=0.1, kernel=poly, total=   3.2s\n",
            "[CV] C=0.1, kernel=poly ..............................................\n",
            "[CV] ............................... C=0.1, kernel=poly, total=   3.2s\n",
            "[CV] C=0.1, kernel=poly ..............................................\n",
            "[CV] ............................... C=0.1, kernel=poly, total=   3.2s\n",
            "[CV] C=0.1, kernel=poly ..............................................\n",
            "[CV] ............................... C=0.1, kernel=poly, total=   3.3s\n",
            "[CV] C=0.1, kernel=poly ..............................................\n",
            "[CV] ............................... C=0.1, kernel=poly, total=   3.2s\n",
            "[CV] C=0.1, kernel=sigmoid ...........................................\n",
            "[CV] ............................ C=0.1, kernel=sigmoid, total=   5.5s\n",
            "[CV] C=0.1, kernel=sigmoid ...........................................\n",
            "[CV] ............................ C=0.1, kernel=sigmoid, total=   5.5s\n",
            "[CV] C=0.1, kernel=sigmoid ...........................................\n",
            "[CV] ............................ C=0.1, kernel=sigmoid, total=   5.5s\n",
            "[CV] C=0.1, kernel=sigmoid ...........................................\n",
            "[CV] ............................ C=0.1, kernel=sigmoid, total=   5.6s\n",
            "[CV] C=0.1, kernel=sigmoid ...........................................\n",
            "[CV] ............................ C=0.1, kernel=sigmoid, total=   5.5s\n",
            "[CV] C=1, kernel=rbf .................................................\n",
            "[CV] .................................. C=1, kernel=rbf, total=   4.8s\n",
            "[CV] C=1, kernel=rbf .................................................\n",
            "[CV] .................................. C=1, kernel=rbf, total=   4.8s\n",
            "[CV] C=1, kernel=rbf .................................................\n",
            "[CV] .................................. C=1, kernel=rbf, total=   4.8s\n",
            "[CV] C=1, kernel=rbf .................................................\n",
            "[CV] .................................. C=1, kernel=rbf, total=   4.9s\n",
            "[CV] C=1, kernel=rbf .................................................\n",
            "[CV] .................................. C=1, kernel=rbf, total=   4.8s\n",
            "[CV] C=1, kernel=poly ................................................\n",
            "[CV] ................................. C=1, kernel=poly, total=   3.3s\n",
            "[CV] C=1, kernel=poly ................................................\n",
            "[CV] ................................. C=1, kernel=poly, total=   3.3s\n",
            "[CV] C=1, kernel=poly ................................................\n",
            "[CV] ................................. C=1, kernel=poly, total=   3.3s\n",
            "[CV] C=1, kernel=poly ................................................\n",
            "[CV] ................................. C=1, kernel=poly, total=   3.3s\n",
            "[CV] C=1, kernel=poly ................................................\n",
            "[CV] ................................. C=1, kernel=poly, total=   3.3s\n",
            "[CV] C=1, kernel=sigmoid .............................................\n",
            "[CV] .............................. C=1, kernel=sigmoid, total=   5.5s\n",
            "[CV] C=1, kernel=sigmoid .............................................\n",
            "[CV] .............................. C=1, kernel=sigmoid, total=   5.5s\n",
            "[CV] C=1, kernel=sigmoid .............................................\n",
            "[CV] .............................. C=1, kernel=sigmoid, total=   5.5s\n",
            "[CV] C=1, kernel=sigmoid .............................................\n",
            "[CV] .............................. C=1, kernel=sigmoid, total=   5.5s\n",
            "[CV] C=1, kernel=sigmoid .............................................\n",
            "[CV] .............................. C=1, kernel=sigmoid, total=   5.5s\n",
            "[CV] C=10, kernel=rbf ................................................\n",
            "[CV] ................................. C=10, kernel=rbf, total=   4.9s\n",
            "[CV] C=10, kernel=rbf ................................................\n",
            "[CV] ................................. C=10, kernel=rbf, total=   4.9s\n",
            "[CV] C=10, kernel=rbf ................................................\n",
            "[CV] ................................. C=10, kernel=rbf, total=   6.1s\n",
            "[CV] C=10, kernel=rbf ................................................\n",
            "[CV] ................................. C=10, kernel=rbf, total=   6.1s\n",
            "[CV] C=10, kernel=rbf ................................................\n",
            "[CV] ................................. C=10, kernel=rbf, total=   4.8s\n",
            "[CV] C=10, kernel=poly ...............................................\n",
            "[CV] ................................ C=10, kernel=poly, total=   3.9s\n",
            "[CV] C=10, kernel=poly ...............................................\n",
            "[CV] ................................ C=10, kernel=poly, total=   3.8s\n",
            "[CV] C=10, kernel=poly ...............................................\n",
            "[CV] ................................ C=10, kernel=poly, total=   3.8s\n",
            "[CV] C=10, kernel=poly ...............................................\n",
            "[CV] ................................ C=10, kernel=poly, total=   3.9s\n",
            "[CV] C=10, kernel=poly ...............................................\n",
            "[CV] ................................ C=10, kernel=poly, total=   3.8s\n",
            "[CV] C=10, kernel=sigmoid ............................................\n",
            "[CV] ............................. C=10, kernel=sigmoid, total=   5.5s\n",
            "[CV] C=10, kernel=sigmoid ............................................\n",
            "[CV] ............................. C=10, kernel=sigmoid, total=   5.5s\n",
            "[CV] C=10, kernel=sigmoid ............................................\n",
            "[CV] ............................. C=10, kernel=sigmoid, total=   5.5s\n",
            "[CV] C=10, kernel=sigmoid ............................................\n",
            "[CV] ............................. C=10, kernel=sigmoid, total=   5.5s\n",
            "[CV] C=10, kernel=sigmoid ............................................\n",
            "[CV] ............................. C=10, kernel=sigmoid, total=   5.5s\n"
          ],
          "name": "stdout"
        },
        {
          "output_type": "stream",
          "text": [
            "[Parallel(n_jobs=1)]: Done  45 out of  45 | elapsed:  3.5min finished\n"
          ],
          "name": "stderr"
        },
        {
          "output_type": "execute_result",
          "data": {
            "text/plain": [
              "GridSearchCV(cv=None, error_score=nan,\n",
              "             estimator=SVR(C=1.0, cache_size=200, coef0=0.0, degree=3,\n",
              "                           epsilon=0.1, gamma='scale', kernel='rbf',\n",
              "                           max_iter=-1, shrinking=True, tol=0.001,\n",
              "                           verbose=False),\n",
              "             iid='deprecated', n_jobs=None,\n",
              "             param_grid={'C': [0.1, 1, 10],\n",
              "                         'kernel': ['rbf', 'poly', 'sigmoid']},\n",
              "             pre_dispatch='2*n_jobs', refit=True, return_train_score=False,\n",
              "             scoring=None, verbose=2)"
            ]
          },
          "metadata": {
            "tags": []
          },
          "execution_count": 65
        }
      ]
    },
    {
      "cell_type": "code",
      "metadata": {
        "id": "nJtetQbn4V88",
        "colab_type": "code",
        "colab": {
          "base_uri": "https://localhost:8080/",
          "height": 87
        },
        "outputId": "11918b2c-9199-4e74-bb16-d8684bccaab1"
      },
      "source": [
        "# best parameter 적용\n",
        "from sklearn.model_selection import KFold\n",
        "\n",
        "kf = KFold(n_splits=5)\n",
        "scores = []\n",
        "for train_index, test_index in kf.split(X_train):\n",
        "    svr = SVR(C = grid_svr.best_params_['C'],\n",
        "              kernel = grid_svr.best_params_['kernel'],\n",
        "              verbose = True)\n",
        "    svr.fit(X_train[train_index], y_train[train_index])\n",
        "    pred = svr.predict(X_train[test_index])\n",
        "    scores.append(mae(y_train[test_index], pred))\n",
        "\n",
        "SVR_cv_mae = np.mean(scores)\n",
        "print('\\nSVR, C = {0}, kernel = {1}'.format(grid_svr.best_params_['C'], grid_svr.best_params_['kernel']))\n",
        "print(f'SVR cv_mae_score = {SVR_cv_mae}\\n')"
      ],
      "execution_count": 66,
      "outputs": [
        {
          "output_type": "stream",
          "text": [
            "[LibSVM][LibSVM][LibSVM][LibSVM][LibSVM]\n",
            "SVR, C = 10, kernel = poly\n",
            "SVR cv_mae_score = 15.837368932183818\n",
            "\n"
          ],
          "name": "stdout"
        }
      ]
    },
    {
      "cell_type": "code",
      "metadata": {
        "id": "aMkzYTDoYFT7",
        "colab_type": "code",
        "colab": {}
      },
      "source": [
        "# normalize 비교"
      ],
      "execution_count": null,
      "outputs": []
    },
    {
      "cell_type": "markdown",
      "metadata": {
        "id": "R7an5UGSef_m",
        "colab_type": "text"
      },
      "source": [
        "## Decision Tree"
      ]
    },
    {
      "cell_type": "code",
      "metadata": {
        "id": "YsNYnYvy5qb4",
        "colab_type": "code",
        "colab": {
          "base_uri": "https://localhost:8080/",
          "height": 1000
        },
        "outputId": "552dbf0d-e99e-4e6f-9cd7-3293ded0f888"
      },
      "source": [
        "from sklearn.tree import DecisionTreeRegressor\n",
        "\n",
        "param_grid = {'max_depth' : range(2,11)}\n",
        "gs_tree = GridSearchCV(DecisionTreeRegressor(), param_grid, refit=True, verbose=2)\n",
        "gs_tree.fit(X_train, y_train)"
      ],
      "execution_count": 78,
      "outputs": [
        {
          "output_type": "stream",
          "text": [
            "Fitting 5 folds for each of 9 candidates, totalling 45 fits\n",
            "[CV] max_depth=2 .....................................................\n",
            "[CV] ...................................... max_depth=2, total=   0.0s\n",
            "[CV] max_depth=2 .....................................................\n",
            "[CV] ...................................... max_depth=2, total=   0.0s\n",
            "[CV] max_depth=2 .....................................................\n",
            "[CV] ...................................... max_depth=2, total=   0.0s\n",
            "[CV] max_depth=2 .....................................................\n",
            "[CV] ...................................... max_depth=2, total=   0.0s\n",
            "[CV] max_depth=2 .....................................................\n",
            "[CV] ...................................... max_depth=2, total=   0.0s\n",
            "[CV] max_depth=3 .....................................................\n",
            "[CV] ...................................... max_depth=3, total=   0.0s\n",
            "[CV] max_depth=3 .....................................................\n"
          ],
          "name": "stdout"
        },
        {
          "output_type": "stream",
          "text": [
            "[Parallel(n_jobs=1)]: Using backend SequentialBackend with 1 concurrent workers.\n",
            "[Parallel(n_jobs=1)]: Done   1 out of   1 | elapsed:    0.0s remaining:    0.0s\n"
          ],
          "name": "stderr"
        },
        {
          "output_type": "stream",
          "text": [
            "[CV] ...................................... max_depth=3, total=   0.0s\n",
            "[CV] max_depth=3 .....................................................\n",
            "[CV] ...................................... max_depth=3, total=   0.0s\n",
            "[CV] max_depth=3 .....................................................\n",
            "[CV] ...................................... max_depth=3, total=   0.0s\n",
            "[CV] max_depth=3 .....................................................\n",
            "[CV] ...................................... max_depth=3, total=   0.0s\n",
            "[CV] max_depth=4 .....................................................\n",
            "[CV] ...................................... max_depth=4, total=   0.0s\n",
            "[CV] max_depth=4 .....................................................\n",
            "[CV] ...................................... max_depth=4, total=   0.0s\n",
            "[CV] max_depth=4 .....................................................\n",
            "[CV] ...................................... max_depth=4, total=   0.0s\n",
            "[CV] max_depth=4 .....................................................\n",
            "[CV] ...................................... max_depth=4, total=   0.0s\n",
            "[CV] max_depth=4 .....................................................\n",
            "[CV] ...................................... max_depth=4, total=   0.0s\n",
            "[CV] max_depth=5 .....................................................\n",
            "[CV] ...................................... max_depth=5, total=   0.1s\n",
            "[CV] max_depth=5 .....................................................\n",
            "[CV] ...................................... max_depth=5, total=   0.1s\n",
            "[CV] max_depth=5 .....................................................\n",
            "[CV] ...................................... max_depth=5, total=   0.1s\n",
            "[CV] max_depth=5 .....................................................\n",
            "[CV] ...................................... max_depth=5, total=   0.1s\n",
            "[CV] max_depth=5 .....................................................\n",
            "[CV] ...................................... max_depth=5, total=   0.1s\n",
            "[CV] max_depth=6 .....................................................\n",
            "[CV] ...................................... max_depth=6, total=   0.1s\n",
            "[CV] max_depth=6 .....................................................\n",
            "[CV] ...................................... max_depth=6, total=   0.1s\n",
            "[CV] max_depth=6 .....................................................\n",
            "[CV] ...................................... max_depth=6, total=   0.1s\n",
            "[CV] max_depth=6 .....................................................\n",
            "[CV] ...................................... max_depth=6, total=   0.1s\n",
            "[CV] max_depth=6 .....................................................\n",
            "[CV] ...................................... max_depth=6, total=   0.1s\n",
            "[CV] max_depth=7 .....................................................\n",
            "[CV] ...................................... max_depth=7, total=   0.1s\n",
            "[CV] max_depth=7 .....................................................\n",
            "[CV] ...................................... max_depth=7, total=   0.1s\n",
            "[CV] max_depth=7 .....................................................\n",
            "[CV] ...................................... max_depth=7, total=   0.1s\n",
            "[CV] max_depth=7 .....................................................\n",
            "[CV] ...................................... max_depth=7, total=   0.1s\n",
            "[CV] max_depth=7 .....................................................\n",
            "[CV] ...................................... max_depth=7, total=   0.1s\n",
            "[CV] max_depth=8 .....................................................\n",
            "[CV] ...................................... max_depth=8, total=   0.1s\n",
            "[CV] max_depth=8 .....................................................\n",
            "[CV] ...................................... max_depth=8, total=   0.1s\n",
            "[CV] max_depth=8 .....................................................\n",
            "[CV] ...................................... max_depth=8, total=   0.1s\n",
            "[CV] max_depth=8 .....................................................\n",
            "[CV] ...................................... max_depth=8, total=   0.1s\n",
            "[CV] max_depth=8 .....................................................\n",
            "[CV] ...................................... max_depth=8, total=   0.1s\n",
            "[CV] max_depth=9 .....................................................\n",
            "[CV] ...................................... max_depth=9, total=   0.1s\n",
            "[CV] max_depth=9 .....................................................\n",
            "[CV] ...................................... max_depth=9, total=   0.1s\n",
            "[CV] max_depth=9 .....................................................\n",
            "[CV] ...................................... max_depth=9, total=   0.1s\n",
            "[CV] max_depth=9 .....................................................\n",
            "[CV] ...................................... max_depth=9, total=   0.1s\n",
            "[CV] max_depth=9 .....................................................\n",
            "[CV] ...................................... max_depth=9, total=   0.1s\n",
            "[CV] max_depth=10 ....................................................\n",
            "[CV] ..................................... max_depth=10, total=   0.1s\n",
            "[CV] max_depth=10 ....................................................\n",
            "[CV] ..................................... max_depth=10, total=   0.1s\n",
            "[CV] max_depth=10 ....................................................\n",
            "[CV] ..................................... max_depth=10, total=   0.1s\n",
            "[CV] max_depth=10 ....................................................\n",
            "[CV] ..................................... max_depth=10, total=   0.1s\n",
            "[CV] max_depth=10 ....................................................\n",
            "[CV] ..................................... max_depth=10, total=   0.1s\n"
          ],
          "name": "stdout"
        },
        {
          "output_type": "stream",
          "text": [
            "[Parallel(n_jobs=1)]: Done  45 out of  45 | elapsed:    2.9s finished\n"
          ],
          "name": "stderr"
        },
        {
          "output_type": "execute_result",
          "data": {
            "text/plain": [
              "GridSearchCV(cv=None, error_score=nan,\n",
              "             estimator=DecisionTreeRegressor(ccp_alpha=0.0, criterion='mse',\n",
              "                                             max_depth=None, max_features=None,\n",
              "                                             max_leaf_nodes=None,\n",
              "                                             min_impurity_decrease=0.0,\n",
              "                                             min_impurity_split=None,\n",
              "                                             min_samples_leaf=1,\n",
              "                                             min_samples_split=2,\n",
              "                                             min_weight_fraction_leaf=0.0,\n",
              "                                             presort='deprecated',\n",
              "                                             random_state=None,\n",
              "                                             splitter='best'),\n",
              "             iid='deprecated', n_jobs=None,\n",
              "             param_grid={'max_depth': range(2, 11)}, pre_dispatch='2*n_jobs',\n",
              "             refit=True, return_train_score=False, scoring=None, verbose=2)"
            ]
          },
          "metadata": {
            "tags": []
          },
          "execution_count": 78
        }
      ]
    },
    {
      "cell_type": "code",
      "metadata": {
        "id": "BBGIUKo659T0",
        "colab_type": "code",
        "colab": {
          "base_uri": "https://localhost:8080/",
          "height": 70
        },
        "outputId": "9e116732-c2fc-4a73-868a-da580b4ad525"
      },
      "source": [
        "# best parameter 적용\n",
        "kf = KFold(n_splits=5)\n",
        "scores = []\n",
        "for train_index, test_index in kf.split(X_train):\n",
        "    tree = DecisionTreeRegressor(max_depth = gs_tree.best_params_['max_depth'])\n",
        "    tree.fit(X_train[train_index], y_train[train_index])\n",
        "    pred = tree.predict(X_train[test_index])\n",
        "    scores.append(mae(y_train[test_index], pred))\n",
        "\n",
        "Decision_Tree_cv_mae = np.mean(scores)\n",
        "print('Decision Tree Regressor, max_depth = {}'.format(gs_tree.best_params_['max_depth']))\n",
        "print(f'Decision Tree Regressor cv_mae_score = {Decision_Tree_cv_mae}\\n')"
      ],
      "execution_count": 79,
      "outputs": [
        {
          "output_type": "stream",
          "text": [
            "Decision Tree Regressor, max_depth = 3\n",
            "Decision Tree Regressor cv_mae_score = 17.596215517953517\n",
            "\n"
          ],
          "name": "stdout"
        }
      ]
    },
    {
      "cell_type": "code",
      "metadata": {
        "id": "oii2igJR6DaG",
        "colab_type": "code",
        "colab": {
          "base_uri": "https://localhost:8080/",
          "height": 295
        },
        "outputId": "6a85ac03-c37f-4f80-a790-4ab07db4cdcf"
      },
      "source": [
        "plt.plot(range(2,11), gs_tree.cv_results_['mean_test_score'])\n",
        "plt.title('Decision Tree Regressor')\n",
        "plt.xlabel('max depth')\n",
        "plt.ylabel('cv mean test score')\n",
        "plt.show()"
      ],
      "execution_count": 80,
      "outputs": [
        {
          "output_type": "display_data",
          "data": {
            "image/png": "[encoded data removed]",
            "text/plain": [
              "<Figure size 432x288 with 1 Axes>"
            ]
          },
          "metadata": {
            "tags": [],
            "needs_background": "light"
          }
        }
      ]
    },
    {
      "cell_type": "markdown",
      "metadata": {
        "id": "P-YHl84Qf5X-",
        "colab_type": "text"
      },
      "source": [
        "## Random Forest\n",
        "배깅을 적용한 decision tree의 앙상블"
      ]
    },
    {
      "cell_type": "code",
      "metadata": {
        "id": "4arqQmmg6H2f",
        "colab_type": "code",
        "colab": {
          "base_uri": "https://localhost:8080/",
          "height": 1000
        },
        "outputId": "e719105e-aa67-40af-b8ff-646aca1ab080"
      },
      "source": [
        "from sklearn.ensemble import RandomForestRegressor\n",
        "\n",
        "param_grid = {'max_depth' : range(2,11)}\n",
        "gs_rf = GridSearchCV(RandomForestRegressor(), param_grid, refit=True, verbose=2)\n",
        "gs_rf.fit(X_train, y_train)"
      ],
      "execution_count": 77,
      "outputs": [
        {
          "output_type": "stream",
          "text": [
            "Fitting 5 folds for each of 9 candidates, totalling 45 fits\n",
            "[CV] max_depth=2 .....................................................\n"
          ],
          "name": "stdout"
        },
        {
          "output_type": "stream",
          "text": [
            "[Parallel(n_jobs=1)]: Using backend SequentialBackend with 1 concurrent workers.\n"
          ],
          "name": "stderr"
        },
        {
          "output_type": "stream",
          "text": [
            "[CV] ...................................... max_depth=2, total=   1.6s\n",
            "[CV] max_depth=2 .....................................................\n"
          ],
          "name": "stdout"
        },
        {
          "output_type": "stream",
          "text": [
            "[Parallel(n_jobs=1)]: Done   1 out of   1 | elapsed:    1.6s remaining:    0.0s\n"
          ],
          "name": "stderr"
        },
        {
          "output_type": "stream",
          "text": [
            "[CV] ...................................... max_depth=2, total=   1.6s\n",
            "[CV] max_depth=2 .....................................................\n",
            "[CV] ...................................... max_depth=2, total=   1.6s\n",
            "[CV] max_depth=2 .....................................................\n",
            "[CV] ...................................... max_depth=2, total=   1.6s\n",
            "[CV] max_depth=2 .....................................................\n",
            "[CV] ...................................... max_depth=2, total=   1.6s\n",
            "[CV] max_depth=3 .....................................................\n",
            "[CV] ...................................... max_depth=3, total=   2.2s\n",
            "[CV] max_depth=3 .....................................................\n",
            "[CV] ...................................... max_depth=3, total=   2.2s\n",
            "[CV] max_depth=3 .....................................................\n",
            "[CV] ...................................... max_depth=3, total=   2.2s\n",
            "[CV] max_depth=3 .....................................................\n",
            "[CV] ...................................... max_depth=3, total=   2.2s\n",
            "[CV] max_depth=3 .....................................................\n",
            "[CV] ...................................... max_depth=3, total=   2.2s\n",
            "[CV] max_depth=4 .....................................................\n",
            "[CV] ...................................... max_depth=4, total=   2.8s\n",
            "[CV] max_depth=4 .....................................................\n",
            "[CV] ...................................... max_depth=4, total=   2.8s\n",
            "[CV] max_depth=4 .....................................................\n",
            "[CV] ...................................... max_depth=4, total=   2.8s\n",
            "[CV] max_depth=4 .....................................................\n",
            "[CV] ...................................... max_depth=4, total=   2.8s\n",
            "[CV] max_depth=4 .....................................................\n",
            "[CV] ...................................... max_depth=4, total=   2.8s\n",
            "[CV] max_depth=5 .....................................................\n",
            "[CV] ...................................... max_depth=5, total=   3.4s\n",
            "[CV] max_depth=5 .....................................................\n",
            "[CV] ...................................... max_depth=5, total=   3.5s\n",
            "[CV] max_depth=5 .....................................................\n",
            "[CV] ...................................... max_depth=5, total=   3.4s\n",
            "[CV] max_depth=5 .....................................................\n",
            "[CV] ...................................... max_depth=5, total=   3.4s\n",
            "[CV] max_depth=5 .....................................................\n",
            "[CV] ...................................... max_depth=5, total=   3.4s\n",
            "[CV] max_depth=6 .....................................................\n",
            "[CV] ...................................... max_depth=6, total=   4.0s\n",
            "[CV] max_depth=6 .....................................................\n",
            "[CV] ...................................... max_depth=6, total=   4.0s\n",
            "[CV] max_depth=6 .....................................................\n",
            "[CV] ...................................... max_depth=6, total=   4.0s\n",
            "[CV] max_depth=6 .....................................................\n",
            "[CV] ...................................... max_depth=6, total=   4.0s\n",
            "[CV] max_depth=6 .....................................................\n",
            "[CV] ...................................... max_depth=6, total=   4.0s\n",
            "[CV] max_depth=7 .....................................................\n",
            "[CV] ...................................... max_depth=7, total=   4.6s\n",
            "[CV] max_depth=7 .....................................................\n",
            "[CV] ...................................... max_depth=7, total=   4.6s\n",
            "[CV] max_depth=7 .....................................................\n",
            "[CV] ...................................... max_depth=7, total=   4.6s\n",
            "[CV] max_depth=7 .....................................................\n",
            "[CV] ...................................... max_depth=7, total=   4.6s\n",
            "[CV] max_depth=7 .....................................................\n",
            "[CV] ...................................... max_depth=7, total=   4.6s\n",
            "[CV] max_depth=8 .....................................................\n",
            "[CV] ...................................... max_depth=8, total=   5.1s\n",
            "[CV] max_depth=8 .....................................................\n",
            "[CV] ...................................... max_depth=8, total=   5.1s\n",
            "[CV] max_depth=8 .....................................................\n",
            "[CV] ...................................... max_depth=8, total=   5.2s\n",
            "[CV] max_depth=8 .....................................................\n",
            "[CV] ...................................... max_depth=8, total=   5.1s\n",
            "[CV] max_depth=8 .....................................................\n",
            "[CV] ...................................... max_depth=8, total=   5.1s\n",
            "[CV] max_depth=9 .....................................................\n",
            "[CV] ...................................... max_depth=9, total=   5.6s\n",
            "[CV] max_depth=9 .....................................................\n",
            "[CV] ...................................... max_depth=9, total=   5.6s\n",
            "[CV] max_depth=9 .....................................................\n",
            "[CV] ...................................... max_depth=9, total=   5.7s\n",
            "[CV] max_depth=9 .....................................................\n",
            "[CV] ...................................... max_depth=9, total=   5.6s\n",
            "[CV] max_depth=9 .....................................................\n",
            "[CV] ...................................... max_depth=9, total=   5.6s\n",
            "[CV] max_depth=10 ....................................................\n",
            "[CV] ..................................... max_depth=10, total=   6.1s\n",
            "[CV] max_depth=10 ....................................................\n",
            "[CV] ..................................... max_depth=10, total=   6.1s\n",
            "[CV] max_depth=10 ....................................................\n",
            "[CV] ..................................... max_depth=10, total=   6.1s\n",
            "[CV] max_depth=10 ....................................................\n",
            "[CV] ..................................... max_depth=10, total=   6.1s\n",
            "[CV] max_depth=10 ....................................................\n",
            "[CV] ..................................... max_depth=10, total=   6.1s\n"
          ],
          "name": "stdout"
        },
        {
          "output_type": "stream",
          "text": [
            "[Parallel(n_jobs=1)]: Done  45 out of  45 | elapsed:  3.0min finished\n"
          ],
          "name": "stderr"
        },
        {
          "output_type": "execute_result",
          "data": {
            "text/plain": [
              "GridSearchCV(cv=None, error_score=nan,\n",
              "             estimator=RandomForestRegressor(bootstrap=True, ccp_alpha=0.0,\n",
              "                                             criterion='mse', max_depth=None,\n",
              "                                             max_features='auto',\n",
              "                                             max_leaf_nodes=None,\n",
              "                                             max_samples=None,\n",
              "                                             min_impurity_decrease=0.0,\n",
              "                                             min_impurity_split=None,\n",
              "                                             min_samples_leaf=1,\n",
              "                                             min_samples_split=2,\n",
              "                                             min_weight_fraction_leaf=0.0,\n",
              "                                             n_estimators=100, n_jobs=None,\n",
              "                                             oob_score=False, random_state=None,\n",
              "                                             verbose=0, warm_start=False),\n",
              "             iid='deprecated', n_jobs=None,\n",
              "             param_grid={'max_depth': range(2, 11)}, pre_dispatch='2*n_jobs',\n",
              "             refit=True, return_train_score=False, scoring=None, verbose=2)"
            ]
          },
          "metadata": {
            "tags": []
          },
          "execution_count": 77
        }
      ]
    },
    {
      "cell_type": "code",
      "metadata": {
        "id": "F8Qq0F_T9kzr",
        "colab_type": "code",
        "colab": {
          "base_uri": "https://localhost:8080/",
          "height": 70
        },
        "outputId": "94d99824-6760-46bb-d7aa-740e0235656e"
      },
      "source": [
        "# best parameter 적용\n",
        "kf = KFold(n_splits=5)\n",
        "scores = []\n",
        "for train_index, test_index in kf.split(X_train):\n",
        "    rf = RandomForestRegressor(max_depth = gs_rf.best_params_['max_depth'])\n",
        "    rf.fit(X_train[train_index], y_train[train_index])\n",
        "    pred = rf.predict(X_train[test_index])\n",
        "    scores.append(mae(y_train[test_index], pred))\n",
        "\n",
        "Random_Forest_cv_mae = np.mean(scores)\n",
        "print('Random Forest Regressor, max_depth = {}'.format(gs_rf.best_params_['max_depth']))\n",
        "print(f'Random Forest Regressor cv_mae_score = {Random_Forest_cv_mae}\\n')"
      ],
      "execution_count": 83,
      "outputs": [
        {
          "output_type": "stream",
          "text": [
            "Random Forest Regressor, max_depth = 9\n",
            "Random Forest Regressor cv_mae_score = 17.180746411814138\n",
            "\n"
          ],
          "name": "stdout"
        }
      ]
    },
    {
      "cell_type": "code",
      "metadata": {
        "id": "3mHvMwSP9sJl",
        "colab_type": "code",
        "colab": {
          "base_uri": "https://localhost:8080/",
          "height": 295
        },
        "outputId": "8a2d6f96-25f0-4626-e5e9-99374cf36c3c"
      },
      "source": [
        "plt.plot(range(2,11), gs_rf.cv_results_['mean_test_score'])\n",
        "plt.title('Random Forest Regressor')\n",
        "plt.xlabel('max depth')\n",
        "plt.ylabel('cv mean test score')\n",
        "plt.show()"
      ],
      "execution_count": 84,
      "outputs": [
        {
          "output_type": "display_data",
          "data": {
            "image/png": "[encoded data removed]",
            "text/plain": [
              "<Figure size 432x288 with 1 Axes>"
            ]
          },
          "metadata": {
            "tags": [],
            "needs_background": "light"
          }
        }
      ]
    },
    {
      "cell_type": "markdown",
      "metadata": {
        "id": "YLHNp0zeEJ_7",
        "colab_type": "text"
      },
      "source": [
        "feature importance"
      ]
    },
    {
      "cell_type": "code",
      "metadata": {
        "id": "b7VUwemfEJdp",
        "colab_type": "code",
        "colab": {
          "base_uri": "https://localhost:8080/",
          "height": 263
        },
        "outputId": "4fb433de-e1e9-49c3-aaa1-30f728dd2a2c"
      },
      "source": [
        "# feature_importance: 가장 중요한 feature 인덱스 순으로 정렬\n",
        "rf.fit(X_train, y_train)\n",
        "fi = rf.feature_importances_.tolist()\n",
        "fi_sort = sorted(fi, reverse=True)\n",
        "feature_importance = []\n",
        "for i in range(14):\n",
        "    feature_importance.append(fi.index(fi_sort[i]))\n",
        "\n",
        "# 중요도 높은 feature 순서대로 선택하여 훈련\n",
        "cv_mae_selected = []\n",
        "for i in range(1,15):\n",
        "    X_train_selected = X_train[:,feature_importance[:i]]\n",
        "    kf = KFold(n_splits=5)\n",
        "    scores = []\n",
        "    for train_index, test_index in kf.split(X_train_selected):\n",
        "        rf = RandomForestRegressor(max_depth = gs_rf.best_params_['max_depth'])\n",
        "        rf.fit(X_train_selected[train_index], y_train[train_index])\n",
        "        pred = rf.predict(X_train_selected[test_index])\n",
        "        scores.append(mae(y_train[test_index], pred))\n",
        "    cv_mae = np.mean(scores)\n",
        "    cv_mae_selected.append(cv_mae)\n",
        "    print(i, 'fold')"
      ],
      "execution_count": 100,
      "outputs": [
        {
          "output_type": "stream",
          "text": [
            "1 fold\n",
            "2 fold\n",
            "3 fold\n",
            "4 fold\n",
            "5 fold\n",
            "6 fold\n",
            "7 fold\n",
            "8 fold\n",
            "9 fold\n",
            "10 fold\n",
            "11 fold\n",
            "12 fold\n",
            "13 fold\n",
            "14 fold\n"
          ],
          "name": "stdout"
        }
      ]
    },
    {
      "cell_type": "code",
      "metadata": {
        "id": "G5yh1e_-RT5x",
        "colab_type": "code",
        "colab": {
          "base_uri": "https://localhost:8080/",
          "height": 295
        },
        "outputId": "5aafa2b7-38cb-472d-88fa-c4620014ee8d"
      },
      "source": [
        "# feature selection 시각화\n",
        "plt.plot(range(1,15), cv_mae_selected)\n",
        "plt.title('Feature Selection: Random Forest')\n",
        "plt.xlabel('training feature number')\n",
        "plt.ylabel('cv mae score')\n",
        "plt.show()"
      ],
      "execution_count": 101,
      "outputs": [
        {
          "output_type": "display_data",
          "data": {
            "image/png": "[encoded data removed]",
            "text/plain": [
              "<Figure size 432x288 with 1 Axes>"
            ]
          },
          "metadata": {
            "tags": [],
            "needs_background": "light"
          }
        }
      ]
    },
    {
      "cell_type": "markdown",
      "metadata": {
        "id": "g85Qe_7vl94c",
        "colab_type": "text"
      },
      "source": [
        "## Gradient Boosting Regressor\n",
        "부스팅을 적용한 decision tree의 앙상블"
      ]
    },
    {
      "cell_type": "code",
      "metadata": {
        "id": "VSldv4Oq-Xm8",
        "colab_type": "code",
        "colab": {
          "base_uri": "https://localhost:8080/",
          "height": 1000
        },
        "outputId": "b93f27a2-4937-4b1d-ae5f-d6a7199191b0"
      },
      "source": [
        "from sklearn.ensemble import GradientBoostingRegressor\n",
        "\n",
        "param_grid = {'max_depth': range(2,11),\n",
        "              'learning_rate': [0.05, .1]}\n",
        "gs_gbr = GridSearchCV(GradientBoostingRegressor(), param_grid, refit=True, verbose=2, scoring='neg_mean_squared_error')\n",
        "gs_gbr.fit(X_train, y_train)"
      ],
      "execution_count": 105,
      "outputs": [
        {
          "output_type": "stream",
          "text": [
            "Fitting 5 folds for each of 18 candidates, totalling 90 fits\n",
            "[CV] learning_rate=0.05, max_depth=2 .................................\n"
          ],
          "name": "stdout"
        },
        {
          "output_type": "stream",
          "text": [
            "[Parallel(n_jobs=1)]: Using backend SequentialBackend with 1 concurrent workers.\n"
          ],
          "name": "stderr"
        },
        {
          "output_type": "stream",
          "text": [
            "[CV] .................. learning_rate=0.05, max_depth=2, total=   2.4s\n",
            "[CV] learning_rate=0.05, max_depth=2 .................................\n"
          ],
          "name": "stdout"
        },
        {
          "output_type": "stream",
          "text": [
            "[Parallel(n_jobs=1)]: Done   1 out of   1 | elapsed:    2.4s remaining:    0.0s\n"
          ],
          "name": "stderr"
        },
        {
          "output_type": "stream",
          "text": [
            "[CV] .................. learning_rate=0.05, max_depth=2, total=   2.4s\n",
            "[CV] learning_rate=0.05, max_depth=2 .................................\n",
            "[CV] .................. learning_rate=0.05, max_depth=2, total=   2.4s\n",
            "[CV] learning_rate=0.05, max_depth=2 .................................\n",
            "[CV] .................. learning_rate=0.05, max_depth=2, total=   2.4s\n",
            "[CV] learning_rate=0.05, max_depth=2 .................................\n",
            "[CV] .................. learning_rate=0.05, max_depth=2, total=   2.5s\n",
            "[CV] learning_rate=0.05, max_depth=3 .................................\n",
            "[CV] .................. learning_rate=0.05, max_depth=3, total=   3.5s\n",
            "[CV] learning_rate=0.05, max_depth=3 .................................\n",
            "[CV] .................. learning_rate=0.05, max_depth=3, total=   3.6s\n",
            "[CV] learning_rate=0.05, max_depth=3 .................................\n",
            "[CV] .................. learning_rate=0.05, max_depth=3, total=   3.5s\n",
            "[CV] learning_rate=0.05, max_depth=3 .................................\n",
            "[CV] .................. learning_rate=0.05, max_depth=3, total=   3.6s\n",
            "[CV] learning_rate=0.05, max_depth=3 .................................\n",
            "[CV] .................. learning_rate=0.05, max_depth=3, total=   3.5s\n",
            "[CV] learning_rate=0.05, max_depth=4 .................................\n",
            "[CV] .................. learning_rate=0.05, max_depth=4, total=   4.6s\n",
            "[CV] learning_rate=0.05, max_depth=4 .................................\n",
            "[CV] .................. learning_rate=0.05, max_depth=4, total=   4.7s\n",
            "[CV] learning_rate=0.05, max_depth=4 .................................\n",
            "[CV] .................. learning_rate=0.05, max_depth=4, total=   4.6s\n",
            "[CV] learning_rate=0.05, max_depth=4 .................................\n",
            "[CV] .................. learning_rate=0.05, max_depth=4, total=   4.6s\n",
            "[CV] learning_rate=0.05, max_depth=4 .................................\n",
            "[CV] .................. learning_rate=0.05, max_depth=4, total=   4.6s\n",
            "[CV] learning_rate=0.05, max_depth=5 .................................\n",
            "[CV] .................. learning_rate=0.05, max_depth=5, total=   5.7s\n",
            "[CV] learning_rate=0.05, max_depth=5 .................................\n",
            "[CV] .................. learning_rate=0.05, max_depth=5, total=   5.7s\n",
            "[CV] learning_rate=0.05, max_depth=5 .................................\n",
            "[CV] .................. learning_rate=0.05, max_depth=5, total=   5.7s\n",
            "[CV] learning_rate=0.05, max_depth=5 .................................\n",
            "[CV] .................. learning_rate=0.05, max_depth=5, total=   5.8s\n",
            "[CV] learning_rate=0.05, max_depth=5 .................................\n",
            "[CV] .................. learning_rate=0.05, max_depth=5, total=   5.7s\n",
            "[CV] learning_rate=0.05, max_depth=6 .................................\n",
            "[CV] .................. learning_rate=0.05, max_depth=6, total=   6.8s\n",
            "[CV] learning_rate=0.05, max_depth=6 .................................\n",
            "[CV] .................. learning_rate=0.05, max_depth=6, total=   6.8s\n",
            "[CV] learning_rate=0.05, max_depth=6 .................................\n",
            "[CV] .................. learning_rate=0.05, max_depth=6, total=   6.8s\n",
            "[CV] learning_rate=0.05, max_depth=6 .................................\n",
            "[CV] .................. learning_rate=0.05, max_depth=6, total=   6.8s\n",
            "[CV] learning_rate=0.05, max_depth=6 .................................\n",
            "[CV] .................. learning_rate=0.05, max_depth=6, total=   6.8s\n",
            "[CV] learning_rate=0.05, max_depth=7 .................................\n",
            "[CV] .................. learning_rate=0.05, max_depth=7, total=   7.8s\n",
            "[CV] learning_rate=0.05, max_depth=7 .................................\n",
            "[CV] .................. learning_rate=0.05, max_depth=7, total=   7.9s\n",
            "[CV] learning_rate=0.05, max_depth=7 .................................\n",
            "[CV] .................. learning_rate=0.05, max_depth=7, total=   7.8s\n",
            "[CV] learning_rate=0.05, max_depth=7 .................................\n",
            "[CV] .................. learning_rate=0.05, max_depth=7, total=   7.8s\n",
            "[CV] learning_rate=0.05, max_depth=7 .................................\n",
            "[CV] .................. learning_rate=0.05, max_depth=7, total=   7.8s\n",
            "[CV] learning_rate=0.05, max_depth=8 .................................\n",
            "[CV] .................. learning_rate=0.05, max_depth=8, total=   8.8s\n",
            "[CV] learning_rate=0.05, max_depth=8 .................................\n",
            "[CV] .................. learning_rate=0.05, max_depth=8, total=   8.9s\n",
            "[CV] learning_rate=0.05, max_depth=8 .................................\n",
            "[CV] .................. learning_rate=0.05, max_depth=8, total=   8.8s\n",
            "[CV] learning_rate=0.05, max_depth=8 .................................\n",
            "[CV] .................. learning_rate=0.05, max_depth=8, total=   8.8s\n",
            "[CV] learning_rate=0.05, max_depth=8 .................................\n",
            "[CV] .................. learning_rate=0.05, max_depth=8, total=   8.8s\n",
            "[CV] learning_rate=0.05, max_depth=9 .................................\n",
            "[CV] .................. learning_rate=0.05, max_depth=9, total=   9.7s\n",
            "[CV] learning_rate=0.05, max_depth=9 .................................\n",
            "[CV] .................. learning_rate=0.05, max_depth=9, total=   9.8s\n",
            "[CV] learning_rate=0.05, max_depth=9 .................................\n",
            "[CV] .................. learning_rate=0.05, max_depth=9, total=   9.8s\n",
            "[CV] learning_rate=0.05, max_depth=9 .................................\n",
            "[CV] .................. learning_rate=0.05, max_depth=9, total=   9.8s\n",
            "[CV] learning_rate=0.05, max_depth=9 .................................\n",
            "[CV] .................. learning_rate=0.05, max_depth=9, total=   9.8s\n",
            "[CV] learning_rate=0.05, max_depth=10 ................................\n",
            "[CV] ................. learning_rate=0.05, max_depth=10, total=  10.7s\n",
            "[CV] learning_rate=0.05, max_depth=10 ................................\n",
            "[CV] ................. learning_rate=0.05, max_depth=10, total=  10.8s\n",
            "[CV] learning_rate=0.05, max_depth=10 ................................\n",
            "[CV] ................. learning_rate=0.05, max_depth=10, total=  10.7s\n",
            "[CV] learning_rate=0.05, max_depth=10 ................................\n",
            "[CV] ................. learning_rate=0.05, max_depth=10, total=  10.8s\n",
            "[CV] learning_rate=0.05, max_depth=10 ................................\n",
            "[CV] ................. learning_rate=0.05, max_depth=10, total=  10.7s\n",
            "[CV] learning_rate=0.1, max_depth=2 ..................................\n",
            "[CV] ................... learning_rate=0.1, max_depth=2, total=   2.4s\n",
            "[CV] learning_rate=0.1, max_depth=2 ..................................\n",
            "[CV] ................... learning_rate=0.1, max_depth=2, total=   2.4s\n",
            "[CV] learning_rate=0.1, max_depth=2 ..................................\n",
            "[CV] ................... learning_rate=0.1, max_depth=2, total=   2.4s\n",
            "[CV] learning_rate=0.1, max_depth=2 ..................................\n",
            "[CV] ................... learning_rate=0.1, max_depth=2, total=   2.4s\n",
            "[CV] learning_rate=0.1, max_depth=2 ..................................\n",
            "[CV] ................... learning_rate=0.1, max_depth=2, total=   2.4s\n",
            "[CV] learning_rate=0.1, max_depth=3 ..................................\n",
            "[CV] ................... learning_rate=0.1, max_depth=3, total=   3.6s\n",
            "[CV] learning_rate=0.1, max_depth=3 ..................................\n",
            "[CV] ................... learning_rate=0.1, max_depth=3, total=   3.6s\n",
            "[CV] learning_rate=0.1, max_depth=3 ..................................\n",
            "[CV] ................... learning_rate=0.1, max_depth=3, total=   3.6s\n",
            "[CV] learning_rate=0.1, max_depth=3 ..................................\n",
            "[CV] ................... learning_rate=0.1, max_depth=3, total=   3.6s\n",
            "[CV] learning_rate=0.1, max_depth=3 ..................................\n",
            "[CV] ................... learning_rate=0.1, max_depth=3, total=   3.6s\n",
            "[CV] learning_rate=0.1, max_depth=4 ..................................\n",
            "[CV] ................... learning_rate=0.1, max_depth=4, total=   4.7s\n",
            "[CV] learning_rate=0.1, max_depth=4 ..................................\n",
            "[CV] ................... learning_rate=0.1, max_depth=4, total=   4.7s\n",
            "[CV] learning_rate=0.1, max_depth=4 ..................................\n",
            "[CV] ................... learning_rate=0.1, max_depth=4, total=   4.7s\n",
            "[CV] learning_rate=0.1, max_depth=4 ..................................\n",
            "[CV] ................... learning_rate=0.1, max_depth=4, total=   4.7s\n",
            "[CV] learning_rate=0.1, max_depth=4 ..................................\n",
            "[CV] ................... learning_rate=0.1, max_depth=4, total=   4.9s\n",
            "[CV] learning_rate=0.1, max_depth=5 ..................................\n",
            "[CV] ................... learning_rate=0.1, max_depth=5, total=   8.3s\n",
            "[CV] learning_rate=0.1, max_depth=5 ..................................\n",
            "[CV] ................... learning_rate=0.1, max_depth=5, total=   5.9s\n",
            "[CV] learning_rate=0.1, max_depth=5 ..................................\n",
            "[CV] ................... learning_rate=0.1, max_depth=5, total=   5.8s\n",
            "[CV] learning_rate=0.1, max_depth=5 ..................................\n",
            "[CV] ................... learning_rate=0.1, max_depth=5, total=   5.8s\n",
            "[CV] learning_rate=0.1, max_depth=5 ..................................\n",
            "[CV] ................... learning_rate=0.1, max_depth=5, total=   5.8s\n",
            "[CV] learning_rate=0.1, max_depth=6 ..................................\n",
            "[CV] ................... learning_rate=0.1, max_depth=6, total=   6.9s\n",
            "[CV] learning_rate=0.1, max_depth=6 ..................................\n",
            "[CV] ................... learning_rate=0.1, max_depth=6, total=   6.9s\n",
            "[CV] learning_rate=0.1, max_depth=6 ..................................\n",
            "[CV] ................... learning_rate=0.1, max_depth=6, total=   6.9s\n",
            "[CV] learning_rate=0.1, max_depth=6 ..................................\n",
            "[CV] ................... learning_rate=0.1, max_depth=6, total=   6.9s\n",
            "[CV] learning_rate=0.1, max_depth=6 ..................................\n",
            "[CV] ................... learning_rate=0.1, max_depth=6, total=   6.9s\n",
            "[CV] learning_rate=0.1, max_depth=7 ..................................\n",
            "[CV] ................... learning_rate=0.1, max_depth=7, total=   7.9s\n",
            "[CV] learning_rate=0.1, max_depth=7 ..................................\n",
            "[CV] ................... learning_rate=0.1, max_depth=7, total=   8.0s\n",
            "[CV] learning_rate=0.1, max_depth=7 ..................................\n",
            "[CV] ................... learning_rate=0.1, max_depth=7, total=   8.0s\n",
            "[CV] learning_rate=0.1, max_depth=7 ..................................\n",
            "[CV] ................... learning_rate=0.1, max_depth=7, total=   7.9s\n",
            "[CV] learning_rate=0.1, max_depth=7 ..................................\n",
            "[CV] ................... learning_rate=0.1, max_depth=7, total=   8.0s\n",
            "[CV] learning_rate=0.1, max_depth=8 ..................................\n",
            "[CV] ................... learning_rate=0.1, max_depth=8, total=   9.0s\n",
            "[CV] learning_rate=0.1, max_depth=8 ..................................\n",
            "[CV] ................... learning_rate=0.1, max_depth=8, total=   9.0s\n",
            "[CV] learning_rate=0.1, max_depth=8 ..................................\n",
            "[CV] ................... learning_rate=0.1, max_depth=8, total=   9.0s\n",
            "[CV] learning_rate=0.1, max_depth=8 ..................................\n",
            "[CV] ................... learning_rate=0.1, max_depth=8, total=   9.0s\n",
            "[CV] learning_rate=0.1, max_depth=8 ..................................\n",
            "[CV] ................... learning_rate=0.1, max_depth=8, total=   9.0s\n",
            "[CV] learning_rate=0.1, max_depth=9 ..................................\n",
            "[CV] ................... learning_rate=0.1, max_depth=9, total=  10.0s\n",
            "[CV] learning_rate=0.1, max_depth=9 ..................................\n",
            "[CV] ................... learning_rate=0.1, max_depth=9, total=  10.0s\n",
            "[CV] learning_rate=0.1, max_depth=9 ..................................\n",
            "[CV] ................... learning_rate=0.1, max_depth=9, total=  10.0s\n",
            "[CV] learning_rate=0.1, max_depth=9 ..................................\n",
            "[CV] ................... learning_rate=0.1, max_depth=9, total=  10.0s\n",
            "[CV] learning_rate=0.1, max_depth=9 ..................................\n",
            "[CV] ................... learning_rate=0.1, max_depth=9, total=  10.1s\n",
            "[CV] learning_rate=0.1, max_depth=10 .................................\n",
            "[CV] .................. learning_rate=0.1, max_depth=10, total=  11.0s\n",
            "[CV] learning_rate=0.1, max_depth=10 .................................\n",
            "[CV] .................. learning_rate=0.1, max_depth=10, total=  11.1s\n",
            "[CV] learning_rate=0.1, max_depth=10 .................................\n",
            "[CV] .................. learning_rate=0.1, max_depth=10, total=  11.1s\n",
            "[CV] learning_rate=0.1, max_depth=10 .................................\n",
            "[CV] .................. learning_rate=0.1, max_depth=10, total=  11.0s\n",
            "[CV] learning_rate=0.1, max_depth=10 .................................\n",
            "[CV] .................. learning_rate=0.1, max_depth=10, total=  11.1s\n"
          ],
          "name": "stdout"
        },
        {
          "output_type": "stream",
          "text": [
            "[Parallel(n_jobs=1)]: Done  90 out of  90 | elapsed: 10.2min finished\n"
          ],
          "name": "stderr"
        },
        {
          "output_type": "execute_result",
          "data": {
            "text/plain": [
              "GridSearchCV(cv=None, error_score=nan,\n",
              "             estimator=GradientBoostingRegressor(alpha=0.9, ccp_alpha=0.0,\n",
              "                                                 criterion='friedman_mse',\n",
              "                                                 init=None, learning_rate=0.1,\n",
              "                                                 loss='ls', max_depth=3,\n",
              "                                                 max_features=None,\n",
              "                                                 max_leaf_nodes=None,\n",
              "                                                 min_impurity_decrease=0.0,\n",
              "                                                 min_impurity_split=None,\n",
              "                                                 min_samples_leaf=1,\n",
              "                                                 min_samples_split=2,\n",
              "                                                 min_weight_fraction_leaf=0.0,\n",
              "                                                 n_estimators=100,\n",
              "                                                 n_iter_no_change=None,\n",
              "                                                 presort='deprecated',\n",
              "                                                 random_state=None,\n",
              "                                                 subsample=1.0, tol=0.0001,\n",
              "                                                 validation_fraction=0.1,\n",
              "                                                 verbose=0, warm_start=False),\n",
              "             iid='deprecated', n_jobs=None,\n",
              "             param_grid={'learning_rate': [0.05, 0.1],\n",
              "                         'max_depth': range(2, 11)},\n",
              "             pre_dispatch='2*n_jobs', refit=True, return_train_score=False,\n",
              "             scoring='neg_mean_squared_error', verbose=2)"
            ]
          },
          "metadata": {
            "tags": []
          },
          "execution_count": 105
        }
      ]
    },
    {
      "cell_type": "code",
      "metadata": {
        "id": "nD7eYJmDAP9t",
        "colab_type": "code",
        "colab": {
          "base_uri": "https://localhost:8080/",
          "height": 70
        },
        "outputId": "0f086e8c-cf6b-4cd3-f6f3-c43d1fa97889"
      },
      "source": [
        "# best parameter 적용\n",
        "kf = KFold(n_splits=5)\n",
        "scores = []\n",
        "for train_index, test_index in kf.split(X_train):\n",
        "    gbr = GradientBoostingRegressor(max_depth = gs_gbr.best_params_['max_depth'], learning_rate = gs_gbr.best_params_['learning_rate'])\n",
        "    gbr.fit(X_train[train_index], y_train[train_index])\n",
        "    pred = gbr.predict(X_train[test_index])\n",
        "    scores.append(mae(y_train[test_index], pred))\n",
        "\n",
        "GBR_cv_mae = np.mean(scores)\n",
        "print('Gradient Boosting Regressor, max_depth = {0}, learning_rate = {1}'.format(gs_gbr.best_params_['max_depth'], gs_gbr.best_params_['learning_rate']))\n",
        "print(f'Gradient Boosting Regressor cv_mae_score = {GBR_cv_mae}\\n')"
      ],
      "execution_count": 107,
      "outputs": [
        {
          "output_type": "stream",
          "text": [
            "Gradient Boosting Regressor, max_depth = 5, learning_rate = 0.05\n",
            "Gradient Boosting Regressor cv_mae_score = 17.275942797746385\n",
            "\n"
          ],
          "name": "stdout"
        }
      ]
    },
    {
      "cell_type": "code",
      "metadata": {
        "id": "o74Ks7ObAQeU",
        "colab_type": "code",
        "colab": {
          "base_uri": "https://localhost:8080/",
          "height": 296
        },
        "outputId": "2006d0eb-a236-47bd-f7c8-e61ef67103d4"
      },
      "source": [
        "plt.plot(range(2,11), gs_gbr.cv_results_['mean_test_score'][:9])\n",
        "plt.title('Gradient Boosting Regressor')\n",
        "plt.xlabel('max depth (learning_rate={})'.format(gs_gbr.best_params_['learning_rate']))\n",
        "plt.ylabel('cv mean test score')\n",
        "plt.show()"
      ],
      "execution_count": 110,
      "outputs": [
        {
          "output_type": "display_data",
          "data": {
            "image/png": "[encoded data removed]",
            "text/plain": [
              "<Figure size 432x288 with 1 Axes>"
            ]
          },
          "metadata": {
            "tags": [],
            "needs_background": "light"
          }
        }
      ]
    },
    {
      "cell_type": "markdown",
      "metadata": {
        "id": "TRrCGVg6ATXB",
        "colab_type": "text"
      },
      "source": [
        "feature selection"
      ]
    },
    {
      "cell_type": "code",
      "metadata": {
        "id": "afGNoBdtYuZY",
        "colab_type": "code",
        "colab": {
          "base_uri": "https://localhost:8080/",
          "height": 263
        },
        "outputId": "b9dcf8a0-de6d-466b-9445-4aec09be6989"
      },
      "source": [
        "# feature_importance: 가장 중요한 feature 인덱스 순으로 정렬\n",
        "gbr.fit(X_train, y_train)\n",
        "fi = gbr.feature_importances_.tolist()\n",
        "fi_sort = sorted(fi, reverse=True)\n",
        "feature_importance = []\n",
        "for i in range(14):\n",
        "    feature_importance.append(fi.index(fi_sort[i]))\n",
        "\n",
        "# 중요도 높은 feature 순서대로 선택하여 훈련\n",
        "cv_mae_selected = []\n",
        "for i in range(1,15): \n",
        "    X_train_selected = X_train[:,feature_importance[:i]]\n",
        "    kf = KFold(n_splits=5)\n",
        "    scores = []\n",
        "    for train_index, test_index in kf.split(X_train_selected):\n",
        "        gbr = GradientBoostingRegressor(max_depth = gs_gbr.best_params_['max_depth'], learning_rate = gs_gbr.best_params_['learning_rate'])\n",
        "        gbr.fit(X_train_selected[train_index], y_train[train_index])\n",
        "        pred = gbr.predict(X_train_selected[test_index])\n",
        "        scores.append(mae(y_train[test_index], pred))\n",
        "    cv_mae = np.mean(scores)\n",
        "    cv_mae_selected.append(cv_mae)\n",
        "    print(i, 'fold')"
      ],
      "execution_count": 116,
      "outputs": [
        {
          "output_type": "stream",
          "text": [
            "1 fold\n",
            "2 fold\n",
            "3 fold\n",
            "4 fold\n",
            "5 fold\n",
            "6 fold\n",
            "7 fold\n",
            "8 fold\n",
            "9 fold\n",
            "10 fold\n",
            "11 fold\n",
            "12 fold\n",
            "13 fold\n",
            "14 fold\n"
          ],
          "name": "stdout"
        }
      ]
    },
    {
      "cell_type": "code",
      "metadata": {
        "id": "8X9tG4RZHJxU",
        "colab_type": "code",
        "colab": {
          "base_uri": "https://localhost:8080/",
          "height": 295
        },
        "outputId": "81bb6e0b-470e-48f4-9f17-b8c5a5499427"
      },
      "source": [
        "# feature selection 시각화\n",
        "plt.plot(range(1,15), cv_mae_selected)\n",
        "plt.title('Feature Selection: Gradient Boosting Regressor')\n",
        "plt.xlabel('training feature number')\n",
        "plt.ylabel('cv mae score')\n",
        "plt.show()"
      ],
      "execution_count": 117,
      "outputs": [
        {
          "output_type": "display_data",
          "data": {
            "image/png": "[encoded data removed]",
            "text/plain": [
              "<Figure size 432x288 with 1 Axes>"
            ]
          },
          "metadata": {
            "tags": [],
            "needs_background": "light"
          }
        }
      ]
    },
    {
      "cell_type": "markdown",
      "metadata": {
        "id": "1f6ZDUrp86oD",
        "colab_type": "text"
      },
      "source": [
        "## XGBoost"
      ]
    },
    {
      "cell_type": "code",
      "metadata": {
        "id": "sxr19ekbdee6",
        "colab_type": "code",
        "colab": {
          "base_uri": "https://localhost:8080/",
          "height": 439
        },
        "outputId": "77198d2b-cc85-43b2-cc25-b96f06e5241b"
      },
      "source": [
        "from xgboost import XGBRegressor\n",
        "from sklearn.model_selection import GridSearchCV\n",
        "\n",
        "xgb = XGBRegressor()\n",
        "parameters = {'nthread':[4],\n",
        "              'objective':['reg:linear'], # reg:squarederror라고 warning 뜨지만 잘만 돌아감 ㅎㅎ\n",
        "              'learning_rate': [.03, 0.05, .1],\n",
        "              'max_depth': [2, 3, 4, 5],\n",
        "              'min_child_weight': [4],\n",
        "              'silent': [1],\n",
        "              'subsample': [0.7],\n",
        "              'colsample_bytree': [0.7],\n",
        "              'n_estimators': [500]}\n",
        "\n",
        "xgb_grid = GridSearchCV(xgb,\n",
        "                        parameters,\n",
        "                        cv = 3,\n",
        "                        #n_jobs = 5,\n",
        "                        n_jobs = -1,\n",
        "                        verbose=True)\n",
        "\n",
        "xgb_grid.fit(X_train, y_train)\n",
        "# print(xgb_grid.best_score_)\n",
        "# print(xgb_grid.best_params_)"
      ],
      "execution_count": 7,
      "outputs": [
        {
          "output_type": "stream",
          "text": [
            "Fitting 3 folds for each of 12 candidates, totalling 36 fits\n"
          ],
          "name": "stdout"
        },
        {
          "output_type": "stream",
          "text": [
            "[Parallel(n_jobs=-1)]: Using backend LokyBackend with 2 concurrent workers.\n",
            "[Parallel(n_jobs=-1)]: Done  36 out of  36 | elapsed:  1.6min finished\n"
          ],
          "name": "stderr"
        },
        {
          "output_type": "execute_result",
          "data": {
            "text/plain": [
              "GridSearchCV(cv=3, error_score=nan,\n",
              "             estimator=XGBRegressor(base_score=0.5, booster='gbtree',\n",
              "                                    colsample_bylevel=1, colsample_bynode=1,\n",
              "                                    colsample_bytree=1, gamma=0,\n",
              "                                    importance_type='gain', learning_rate=0.1,\n",
              "                                    max_delta_step=0, max_depth=3,\n",
              "                                    min_child_weight=1, missing=None,\n",
              "                                    n_estimators=100, n_jobs=1, nthread=None,\n",
              "                                    objective='reg:linear', random_state=0,\n",
              "                                    reg_alpha=0, reg_...\n",
              "                                    scale_pos_weight=1, seed=None, silent=None,\n",
              "                                    subsample=1, verbosity=1),\n",
              "             iid='deprecated', n_jobs=-1,\n",
              "             param_grid={'colsample_bytree': [0.7],\n",
              "                         'learning_rate': [0.03, 0.05, 0.1],\n",
              "                         'max_depth': [2, 3, 4, 5], 'min_child_weight': [4],\n",
              "                         'n_estimators': [500], 'nthread': [4],\n",
              "                         'objective': ['reg:linear'], 'silent': [1],\n",
              "                         'subsample': [0.7]},\n",
              "             pre_dispatch='2*n_jobs', refit=True, return_train_score=False,\n",
              "             scoring=None, verbose=True)"
            ]
          },
          "metadata": {
            "tags": []
          },
          "execution_count": 7
        }
      ]
    },
    {
      "cell_type": "code",
      "metadata": {
        "id": "mLbVPadETwMD",
        "colab_type": "code",
        "colab": {
          "base_uri": "https://localhost:8080/",
          "height": 158
        },
        "outputId": "5445e43e-4a9f-43f9-8a69-de430dfc2c1f"
      },
      "source": [
        "# best parameter 적용\n",
        "from sklearn.model_selection import KFold\n",
        "\n",
        "kf = KFold(n_splits=5)\n",
        "scores = []\n",
        "for train_index, test_index in kf.split(X_train):\n",
        "    xgb = XGBRegressor(learning_rate = xgb_grid.best_params_['learning_rate'],\n",
        "                       max_depth = xgb_grid.best_params_['max_depth'],\n",
        "                       verbose = True)\n",
        "    xgb.fit(X_train[train_index], y_train[train_index])\n",
        "    pred = xgb.predict(X_train[test_index])\n",
        "    scores.append(mae(y_train[test_index], pred))\n",
        "\n",
        "XGB_cv_mae = np.mean(scores)\n",
        "print('XGBoost, learning_rate = {0}, max_depth = {1}'.format(xgb_grid.best_params_['learning_rate'], xgb_grid.best_params_['max_depth']))\n",
        "print(f'XGBoost cv_mae_score = {XGB_cv_mae}\\n')"
      ],
      "execution_count": 10,
      "outputs": [
        {
          "output_type": "stream",
          "text": [
            "[09:19:08] WARNING: /workspace/src/objective/regression_obj.cu:152: reg:linear is now deprecated in favor of reg:squarederror.\n",
            "[09:19:09] WARNING: /workspace/src/objective/regression_obj.cu:152: reg:linear is now deprecated in favor of reg:squarederror.\n",
            "[09:19:10] WARNING: /workspace/src/objective/regression_obj.cu:152: reg:linear is now deprecated in favor of reg:squarederror.\n",
            "[09:19:11] WARNING: /workspace/src/objective/regression_obj.cu:152: reg:linear is now deprecated in favor of reg:squarederror.\n",
            "[09:19:12] WARNING: /workspace/src/objective/regression_obj.cu:152: reg:linear is now deprecated in favor of reg:squarederror.\n",
            "XGBoost, learning_rate = 0.03, max_depth = 4\n",
            "XGBoost cv_mae_score = 16.728633880615234\n",
            "\n"
          ],
          "name": "stdout"
        }
      ]
    },
    {
      "cell_type": "code",
      "metadata": {
        "id": "g7i3T6ceVISw",
        "colab_type": "code",
        "colab": {
          "base_uri": "https://localhost:8080/",
          "height": 295
        },
        "outputId": "994c98fe-485b-40af-a4fb-44146c8fab43"
      },
      "source": [
        "plt.plot(range(2,6), xgb_grid.cv_results_['mean_test_score'][:4])\n",
        "plt.title('XGBoost')\n",
        "plt.xlabel('max depth (learning rate={})'.format(xgb_grid.best_params_['learning_rate']))\n",
        "plt.ylabel('cv mean test score')\n",
        "plt.show()"
      ],
      "execution_count": 18,
      "outputs": [
        {
          "output_type": "display_data",
          "data": {
            "image/png": "[encoded data removed]",
            "text/plain": [
              "<Figure size 432x288 with 1 Axes>"
            ]
          },
          "metadata": {
            "tags": [],
            "needs_background": "light"
          }
        }
      ]
    },
    {
      "cell_type": "code",
      "metadata": {
        "id": "4MK4USj-N0tR",
        "colab_type": "code",
        "colab": {
          "base_uri": "https://localhost:8080/",
          "height": 1000
        },
        "outputId": "d9fc8f27-effc-4dcf-9591-fc7d251938ea"
      },
      "source": [
        "# feature_importance: 가장 중요한 feature 인덱스 순으로 정렬\n",
        "xgb.fit(X_train, y_train)\n",
        "fi = xgb.feature_importances_.tolist()\n",
        "fi_sort = sorted(fi, reverse=True)\n",
        "feature_importance = []\n",
        "for i in range(14):\n",
        "    feature_importance.append(fi.index(fi_sort[i]))\n",
        "\n",
        "# 중요도 높은 feature 순서대로 선택하여 훈련\n",
        "cv_mae_selected = []\n",
        "for i in range(1,15): \n",
        "    X_train_selected = X_train[:,feature_importance[:i]]\n",
        "    kf = KFold(n_splits=5)\n",
        "    scores = []\n",
        "    for train_index, test_index in kf.split(X_train_selected):\n",
        "        xgb = XGBRegressor(learning_rate = xgb_grid.best_params_['learning_rate'],\n",
        "                            max_depth = xgb_grid.best_params_['max_depth'],\n",
        "                            verbose = True)\n",
        "        xgb.fit(X_train_selected[train_index], y_train[train_index])\n",
        "        pred = xgb.predict(X_train_selected[test_index])\n",
        "        scores.append(mae(y_train[test_index], pred))\n",
        "    cv_mae = np.mean(scores)\n",
        "    cv_mae_selected.append(cv_mae)\n",
        "    print(i, 'fold')"
      ],
      "execution_count": 19,
      "outputs": [
        {
          "output_type": "stream",
          "text": [
            "[09:38:50] WARNING: /workspace/src/objective/regression_obj.cu:152: reg:linear is now deprecated in favor of reg:squarederror.\n",
            "[09:38:52] WARNING: /workspace/src/objective/regression_obj.cu:152: reg:linear is now deprecated in favor of reg:squarederror.\n",
            "[09:38:52] WARNING: /workspace/src/objective/regression_obj.cu:152: reg:linear is now deprecated in favor of reg:squarederror.\n",
            "[09:38:52] WARNING: /workspace/src/objective/regression_obj.cu:152: reg:linear is now deprecated in favor of reg:squarederror.\n",
            "[09:38:52] WARNING: /workspace/src/objective/regression_obj.cu:152: reg:linear is now deprecated in favor of reg:squarederror.\n",
            "[09:38:52] WARNING: /workspace/src/objective/regression_obj.cu:152: reg:linear is now deprecated in favor of reg:squarederror.\n",
            "1 fold\n",
            "[09:38:53] WARNING: /workspace/src/objective/regression_obj.cu:152: reg:linear is now deprecated in favor of reg:squarederror.\n",
            "[09:38:53] WARNING: /workspace/src/objective/regression_obj.cu:152: reg:linear is now deprecated in favor of reg:squarederror.\n",
            "[09:38:53] WARNING: /workspace/src/objective/regression_obj.cu:152: reg:linear is now deprecated in favor of reg:squarederror.\n",
            "[09:38:53] WARNING: /workspace/src/objective/regression_obj.cu:152: reg:linear is now deprecated in favor of reg:squarederror.\n",
            "[09:38:54] WARNING: /workspace/src/objective/regression_obj.cu:152: reg:linear is now deprecated in favor of reg:squarederror.\n",
            "2 fold\n",
            "[09:38:54] WARNING: /workspace/src/objective/regression_obj.cu:152: reg:linear is now deprecated in favor of reg:squarederror.\n",
            "[09:38:54] WARNING: /workspace/src/objective/regression_obj.cu:152: reg:linear is now deprecated in favor of reg:squarederror.\n",
            "[09:38:55] WARNING: /workspace/src/objective/regression_obj.cu:152: reg:linear is now deprecated in favor of reg:squarederror.\n",
            "[09:38:55] WARNING: /workspace/src/objective/regression_obj.cu:152: reg:linear is now deprecated in favor of reg:squarederror.\n",
            "[09:38:55] WARNING: /workspace/src/objective/regression_obj.cu:152: reg:linear is now deprecated in favor of reg:squarederror.\n",
            "3 fold\n",
            "[09:38:56] WARNING: /workspace/src/objective/regression_obj.cu:152: reg:linear is now deprecated in favor of reg:squarederror.\n",
            "[09:38:56] WARNING: /workspace/src/objective/regression_obj.cu:152: reg:linear is now deprecated in favor of reg:squarederror.\n",
            "[09:38:57] WARNING: /workspace/src/objective/regression_obj.cu:152: reg:linear is now deprecated in favor of reg:squarederror.\n",
            "[09:38:57] WARNING: /workspace/src/objective/regression_obj.cu:152: reg:linear is now deprecated in favor of reg:squarederror.\n",
            "[09:38:57] WARNING: /workspace/src/objective/regression_obj.cu:152: reg:linear is now deprecated in favor of reg:squarederror.\n",
            "4 fold\n",
            "[09:38:58] WARNING: /workspace/src/objective/regression_obj.cu:152: reg:linear is now deprecated in favor of reg:squarederror.\n",
            "[09:38:58] WARNING: /workspace/src/objective/regression_obj.cu:152: reg:linear is now deprecated in favor of reg:squarederror.\n",
            "[09:38:59] WARNING: /workspace/src/objective/regression_obj.cu:152: reg:linear is now deprecated in favor of reg:squarederror.\n",
            "[09:38:59] WARNING: /workspace/src/objective/regression_obj.cu:152: reg:linear is now deprecated in favor of reg:squarederror.\n",
            "[09:39:00] WARNING: /workspace/src/objective/regression_obj.cu:152: reg:linear is now deprecated in favor of reg:squarederror.\n",
            "5 fold\n",
            "[09:39:00] WARNING: /workspace/src/objective/regression_obj.cu:152: reg:linear is now deprecated in favor of reg:squarederror.\n",
            "[09:39:01] WARNING: /workspace/src/objective/regression_obj.cu:152: reg:linear is now deprecated in favor of reg:squarederror.\n",
            "[09:39:01] WARNING: /workspace/src/objective/regression_obj.cu:152: reg:linear is now deprecated in favor of reg:squarederror.\n",
            "[09:39:02] WARNING: /workspace/src/objective/regression_obj.cu:152: reg:linear is now deprecated in favor of reg:squarederror.\n",
            "[09:39:02] WARNING: /workspace/src/objective/regression_obj.cu:152: reg:linear is now deprecated in favor of reg:squarederror.\n",
            "6 fold\n",
            "[09:39:03] WARNING: /workspace/src/objective/regression_obj.cu:152: reg:linear is now deprecated in favor of reg:squarederror.\n",
            "[09:39:03] WARNING: /workspace/src/objective/regression_obj.cu:152: reg:linear is now deprecated in favor of reg:squarederror.\n",
            "[09:39:04] WARNING: /workspace/src/objective/regression_obj.cu:152: reg:linear is now deprecated in favor of reg:squarederror.\n",
            "[09:39:04] WARNING: /workspace/src/objective/regression_obj.cu:152: reg:linear is now deprecated in favor of reg:squarederror.\n",
            "[09:39:05] WARNING: /workspace/src/objective/regression_obj.cu:152: reg:linear is now deprecated in favor of reg:squarederror.\n",
            "7 fold\n",
            "[09:39:06] WARNING: /workspace/src/objective/regression_obj.cu:152: reg:linear is now deprecated in favor of reg:squarederror.\n",
            "[09:39:06] WARNING: /workspace/src/objective/regression_obj.cu:152: reg:linear is now deprecated in favor of reg:squarederror.\n",
            "[09:39:07] WARNING: /workspace/src/objective/regression_obj.cu:152: reg:linear is now deprecated in favor of reg:squarederror.\n",
            "[09:39:07] WARNING: /workspace/src/objective/regression_obj.cu:152: reg:linear is now deprecated in favor of reg:squarederror.\n",
            "[09:39:08] WARNING: /workspace/src/objective/regression_obj.cu:152: reg:linear is now deprecated in favor of reg:squarederror.\n",
            "8 fold\n",
            "[09:39:09] WARNING: /workspace/src/objective/regression_obj.cu:152: reg:linear is now deprecated in favor of reg:squarederror.\n",
            "[09:39:09] WARNING: /workspace/src/objective/regression_obj.cu:152: reg:linear is now deprecated in favor of reg:squarederror.\n",
            "[09:39:10] WARNING: /workspace/src/objective/regression_obj.cu:152: reg:linear is now deprecated in favor of reg:squarederror.\n",
            "[09:39:11] WARNING: /workspace/src/objective/regression_obj.cu:152: reg:linear is now deprecated in favor of reg:squarederror.\n",
            "[09:39:11] WARNING: /workspace/src/objective/regression_obj.cu:152: reg:linear is now deprecated in favor of reg:squarederror.\n",
            "9 fold\n",
            "[09:39:12] WARNING: /workspace/src/objective/regression_obj.cu:152: reg:linear is now deprecated in favor of reg:squarederror.\n",
            "[09:39:13] WARNING: /workspace/src/objective/regression_obj.cu:152: reg:linear is now deprecated in favor of reg:squarederror.\n",
            "[09:39:14] WARNING: /workspace/src/objective/regression_obj.cu:152: reg:linear is now deprecated in favor of reg:squarederror.\n",
            "[09:39:14] WARNING: /workspace/src/objective/regression_obj.cu:152: reg:linear is now deprecated in favor of reg:squarederror.\n",
            "[09:39:15] WARNING: /workspace/src/objective/regression_obj.cu:152: reg:linear is now deprecated in favor of reg:squarederror.\n",
            "10 fold\n",
            "[09:39:16] WARNING: /workspace/src/objective/regression_obj.cu:152: reg:linear is now deprecated in favor of reg:squarederror.\n",
            "[09:39:17] WARNING: /workspace/src/objective/regression_obj.cu:152: reg:linear is now deprecated in favor of reg:squarederror.\n",
            "[09:39:17] WARNING: /workspace/src/objective/regression_obj.cu:152: reg:linear is now deprecated in favor of reg:squarederror.\n",
            "[09:39:18] WARNING: /workspace/src/objective/regression_obj.cu:152: reg:linear is now deprecated in favor of reg:squarederror.\n",
            "[09:39:19] WARNING: /workspace/src/objective/regression_obj.cu:152: reg:linear is now deprecated in favor of reg:squarederror.\n",
            "11 fold\n",
            "[09:39:20] WARNING: /workspace/src/objective/regression_obj.cu:152: reg:linear is now deprecated in favor of reg:squarederror.\n",
            "[09:39:21] WARNING: /workspace/src/objective/regression_obj.cu:152: reg:linear is now deprecated in favor of reg:squarederror.\n",
            "[09:39:21] WARNING: /workspace/src/objective/regression_obj.cu:152: reg:linear is now deprecated in favor of reg:squarederror.\n",
            "[09:39:22] WARNING: /workspace/src/objective/regression_obj.cu:152: reg:linear is now deprecated in favor of reg:squarederror.\n",
            "[09:39:23] WARNING: /workspace/src/objective/regression_obj.cu:152: reg:linear is now deprecated in favor of reg:squarederror.\n",
            "12 fold\n",
            "[09:39:24] WARNING: /workspace/src/objective/regression_obj.cu:152: reg:linear is now deprecated in favor of reg:squarederror.\n",
            "[09:39:25] WARNING: /workspace/src/objective/regression_obj.cu:152: reg:linear is now deprecated in favor of reg:squarederror.\n",
            "[09:39:26] WARNING: /workspace/src/objective/regression_obj.cu:152: reg:linear is now deprecated in favor of reg:squarederror.\n",
            "[09:39:27] WARNING: /workspace/src/objective/regression_obj.cu:152: reg:linear is now deprecated in favor of reg:squarederror.\n",
            "[09:39:28] WARNING: /workspace/src/objective/regression_obj.cu:152: reg:linear is now deprecated in favor of reg:squarederror.\n",
            "13 fold\n",
            "[09:39:29] WARNING: /workspace/src/objective/regression_obj.cu:152: reg:linear is now deprecated in favor of reg:squarederror.\n",
            "[09:39:30] WARNING: /workspace/src/objective/regression_obj.cu:152: reg:linear is now deprecated in favor of reg:squarederror.\n",
            "[09:39:31] WARNING: /workspace/src/objective/regression_obj.cu:152: reg:linear is now deprecated in favor of reg:squarederror.\n",
            "[09:39:31] WARNING: /workspace/src/objective/regression_obj.cu:152: reg:linear is now deprecated in favor of reg:squarederror.\n",
            "[09:39:32] WARNING: /workspace/src/objective/regression_obj.cu:152: reg:linear is now deprecated in favor of reg:squarederror.\n",
            "14 fold\n"
          ],
          "name": "stdout"
        }
      ]
    },
    {
      "cell_type": "code",
      "metadata": {
        "id": "cJ2NcPn-PRPz",
        "colab_type": "code",
        "colab": {
          "base_uri": "https://localhost:8080/",
          "height": 295
        },
        "outputId": "e5e5e6e8-31c9-4a86-c6b8-a963384f5089"
      },
      "source": [
        "# feature selection 시각화\n",
        "plt.plot(range(1,15), cv_mae_selected)\n",
        "plt.title('Feature Selection: XGBoost')\n",
        "plt.xlabel('training feature number')\n",
        "plt.ylabel('cv mae score')\n",
        "plt.show()"
      ],
      "execution_count": 30,
      "outputs": [
        {
          "output_type": "display_data",
          "data": {
            "image/png": "[encoded data removed]",
            "text/plain": [
              "<Figure size 432x288 with 1 Axes>"
            ]
          },
          "metadata": {
            "tags": [],
            "needs_background": "light"
          }
        }
      ]
    },
    {
      "cell_type": "code",
      "metadata": {
        "id": "rOLForsjRt9A",
        "colab_type": "code",
        "colab": {
          "base_uri": "https://localhost:8080/",
          "height": 52
        },
        "outputId": "68bdca44-071a-4a0d-cbb2-7574e3d45198"
      },
      "source": [
        "print('Feature Selection of XGBoost', '\\ncv mae score:', min(cv_mae_selected))"
      ],
      "execution_count": 31,
      "outputs": [
        {
          "output_type": "stream",
          "text": [
            "Feature Selection of XGBoost \n",
            "cv mae score: 16.715416\n"
          ],
          "name": "stdout"
        }
      ]
    },
    {
      "cell_type": "markdown",
      "metadata": {
        "id": "0CawbY6FRTTy",
        "colab_type": "text"
      },
      "source": [
        "## Best Model\n",
        "- xgboost\n",
        "- 13개의 feature selection"
      ]
    },
    {
      "cell_type": "markdown",
      "metadata": {
        "id": "UtEVUWuhnc3o",
        "colab_type": "text"
      },
      "source": [
        "# PCA"
      ]
    },
    {
      "cell_type": "code",
      "metadata": {
        "id": "RRcAZqfE-KCA",
        "colab_type": "code",
        "colab": {}
      },
      "source": [
        "from sklearn.decomposition import PCA\n",
        "pca = PCA()"
      ],
      "execution_count": null,
      "outputs": []
    }
  ]
}