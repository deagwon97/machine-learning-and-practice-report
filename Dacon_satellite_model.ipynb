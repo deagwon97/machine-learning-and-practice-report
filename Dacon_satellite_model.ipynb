{
  "nbformat": 4,
  "nbformat_minor": 0,
  "metadata": {
    "colab": {
      "name": "Dacon_satellite_dist.ipynb",
      "provenance": [],
      "collapsed_sections": [],
      "include_colab_link": true
    },
    "kernelspec": {
      "name": "python3",
      "display_name": "Python 3"
    },
    "accelerator": "GPU"
  },
  "cells": [
    {
      "cell_type": "markdown",
      "metadata": {
        "id": "view-in-github",
        "colab_type": "text"
      },
      "source": [
        "<a href=\"https://colab.research.google.com/github/curiosity806/machine-learning-and-practice-report/blob/master/Dacon_satellite_model.ipynb\" target=\"_parent\"><img src=\"https://colab.research.google.com/assets/colab-badge.svg\" alt=\"Open In Colab\"/></a>"
      ]
    },
    {
      "cell_type": "code",
      "metadata": {
        "id": "F30nI34oAhQd",
        "colab_type": "code",
        "colab": {
          "base_uri": "https://localhost:8080/",
          "height": 125
        },
        "outputId": "940332f1-708b-486d-a553-1e232b450ab6"
      },
      "source": [
        "from google.colab import drive\n",
        "drive.mount('/content/drive')"
      ],
      "execution_count": 1,
      "outputs": [
        {
          "output_type": "stream",
          "text": [
            "Go to this URL in a browser: https://accounts.google.com/o/oauth2/auth?client_id=947318989803-6bn6qk8qdgf4n4g3pfee6491hc0brc4i.apps.googleusercontent.com&redirect_uri=urn%3aietf%3awg%3aoauth%3a2.0%3aoob&response_type=code&scope=email%20https%3a%2f%2fwww.googleapis.com%2fauth%2fdocs.test%20https%3a%2f%2fwww.googleapis.com%2fauth%2fdrive%20https%3a%2f%2fwww.googleapis.com%2fauth%2fdrive.photos.readonly%20https%3a%2f%2fwww.googleapis.com%2fauth%2fpeopleapi.readonly\n",
            "\n",
            "Enter your authorization code:\n",
            "··········\n",
            "Mounted at /content/drive\n"
          ],
          "name": "stdout"
        }
      ]
    },
    {
      "cell_type": "code",
      "metadata": {
        "id": "UUGgelKUAkGU",
        "colab_type": "code",
        "colab": {}
      },
      "source": [
        "# 훈련 데이터\n",
        "!cp '/content/drive/My Drive/2020 Kaggle Study/data/train_final.npy' train.npy"
      ],
      "execution_count": 2,
      "outputs": []
    },
    {
      "cell_type": "code",
      "metadata": {
        "id": "zXRwXj5gApfl",
        "colab_type": "code",
        "colab": {}
      },
      "source": [
        "import numpy as np\n",
        "\n",
        "train = np.load('train.npy')"
      ],
      "execution_count": 3,
      "outputs": []
    },
    {
      "cell_type": "code",
      "metadata": {
        "id": "hdgjCD1dAsMe",
        "colab_type": "code",
        "colab": {}
      },
      "source": [
        "import glob\n",
        "import pandas as pd\n",
        "import numpy as np\n",
        "import matplotlib.pylab as plt\n",
        "import seaborn as sns\n",
        "from tqdm import tqdm\n",
        "import matplotlib.pyplot as plt\n",
        "import os\n",
        "import random\n",
        "import warnings\n",
        "import gc\n",
        "import matplotlib.pyplot as plt\n",
        "\n",
        "\n",
        "from sklearn.model_selection import KFold\n",
        "from sklearn.linear_model import LinearRegression\n",
        "from sklearn.preprocessing import PolynomialFeatures\n",
        "from sklearn.linear_model import Ridge, Lasso, ElasticNet\n",
        "from sklearn.model_selection import GridSearchCV\n",
        "from sklearn.svm import SVR\n",
        "from sklearn.tree import DecisionTreeRegressor\n",
        "from sklearn.ensemble import RandomForestRegressor\n",
        "from sklearn.ensemble import GradientBoostingRegressor\n",
        "from xgboost import XGBRegressor\n",
        "from sklearn.decomposition import PCA\n",
        "from sklearn.preprocessing import StandardScaler\n",
        "from sklearn.metrics import mean_squared_error\n",
        "from sklearn.metrics import make_scorer\n",
        "\n",
        "warnings.filterwarnings(\"ignore\")\n",
        "\n",
        "# 재생산성을 위해 시드 고정\n",
        "np.random.seed(7)\n",
        "random.seed(7)\n",
        "#tf.random.set_seed(7)"
      ],
      "execution_count": 5,
      "outputs": []
    },
    {
      "cell_type": "markdown",
      "metadata": {
        "id": "9i_Wk1SD63As",
        "colab_type": "text"
      },
      "source": [
        "# 모델링"
      ]
    },
    {
      "cell_type": "code",
      "metadata": {
        "id": "CMYgHvZtU-Dt",
        "colab_type": "code",
        "colab": {}
      },
      "source": [
        "def mae(y_true, y_pred):\n",
        "    y_true = np.array(y_true)\n",
        "    y_true = y_true.reshape(1, -1)[0]  \n",
        "    y_pred = np.array(y_pred)\n",
        "    y_pred = y_pred.reshape(1, -1)[0]\n",
        "    mae = np.mean(np.abs(y_true - y_pred))\n",
        "    return mae\n",
        "\n",
        "X = train[:,:14]\n",
        "y = train[:,-1]\n",
        "X.shape, y.shape\n",
        "\n",
        "from sklearn.model_selection import train_test_split\n",
        "X_train, X_test, y_train, y_test = train_test_split(X, y, test_size=0.2)"
      ],
      "execution_count": 7,
      "outputs": []
    },
    {
      "cell_type": "markdown",
      "metadata": {
        "id": "gdAVGl4vU5XF",
        "colab_type": "text"
      },
      "source": [
        "## Standard Scaling한 데이터 생성"
      ]
    },
    {
      "cell_type": "code",
      "metadata": {
        "id": "eO6SkHmMU_zI",
        "colab_type": "code",
        "colab": {
          "base_uri": "https://localhost:8080/",
          "height": 34
        },
        "outputId": "6cd0d1a4-b13c-4b06-fcb0-c30587c0bfe1"
      },
      "source": [
        "scaler = StandardScaler()\n",
        "X_train_normalized = scaler.fit_transform(X_train)\n",
        "X_train_normalized.shape"
      ],
      "execution_count": 8,
      "outputs": [
        {
          "output_type": "execute_result",
          "data": {
            "text/plain": [
              "(9347, 14)"
            ]
          },
          "metadata": {
            "tags": []
          },
          "execution_count": 8
        }
      ]
    },
    {
      "cell_type": "markdown",
      "metadata": {
        "id": "Ba4SQfbmaCHd",
        "colab_type": "text"
      },
      "source": [
        "## 선형회귀"
      ]
    },
    {
      "cell_type": "markdown",
      "metadata": {
        "id": "tpzH6MptkI-Z",
        "colab_type": "text"
      },
      "source": [
        "1. 모형의 선형성: 모든 예측값에서 잔차가 비슷하게 있어야 함\n",
        "2. 잔차의 정규성:Q-Q Plot\n",
        "3. 잔차의 등분산성\n",
        "4. 잔차의 독립성\n",
        "\n",
        "기본 가정을 만족하지 않는다면 stepwise로 4가지 기본 가정을 위배시키는 변수를 제거\n",
        "\n",
        "<interesting 합니다.>"
      ]
    },
    {
      "cell_type": "code",
      "metadata": {
        "id": "YsxKv_t062VT",
        "colab_type": "code",
        "colab": {
          "base_uri": "https://localhost:8080/",
          "height": 122
        },
        "outputId": "ffb9e8e1-df3f-4815-fd32-860e0781c409"
      },
      "source": [
        "from sklearn.model_selection import KFold\n",
        "from sklearn.linear_model import LinearRegression\n",
        "\n",
        "kf = KFold(n_splits=5)\n",
        "scores = []\n",
        "for train_index, test_index in kf.split(X_train):\n",
        "    lr = LinearRegression(normalize = False)\n",
        "    lr.fit(X_train[train_index], y_train[train_index])\n",
        "    pred = lr.predict(X_train[test_index])\n",
        "    scores.append(mae(y_train[test_index], pred))\n",
        "\n",
        "LR_cv_mae = np.mean(scores)\n",
        "print('LinearRegression, normalize = False')\n",
        "print(f'단순 선형 회귀 cv_mae_score = {LR_cv_mae}\\n')\n",
        "\n",
        "kf = KFold(n_splits=5)\n",
        "scores = []\n",
        "for train_index, test_index in kf.split(X_train):\n",
        "    lr = LinearRegression(normalize = True)\n",
        "    lr.fit(X_train[train_index], y_train[train_index])\n",
        "    pred = lr.predict(X_train[test_index])\n",
        "    scores.append(mae(y_train[test_index], pred))\n",
        "    \n",
        "LR_normal_cv_mae = np.mean(scores)\n",
        "print('LinearRegression, normalize = True')\n",
        "print(f'단순 선형 회귀 cv_mae_score = {LR_normal_cv_mae}\\n')"
      ],
      "execution_count": null,
      "outputs": [
        {
          "output_type": "stream",
          "text": [
            "LinearRegression, normalize = False\n",
            "단순 선형 회귀 cv_mae_score = 17.440942764282227\n",
            "\n",
            "LinearRegression, normalize = True\n",
            "단순 선형 회귀 cv_mae_score = 17.44093894958496\n",
            "\n"
          ],
          "name": "stdout"
        }
      ]
    },
    {
      "cell_type": "markdown",
      "metadata": {
        "id": "b1mknlZiaF1Z",
        "colab_type": "text"
      },
      "source": [
        "## 다항회귀"
      ]
    },
    {
      "cell_type": "code",
      "metadata": {
        "id": "3QOSY1Msfr2-",
        "colab_type": "code",
        "colab": {
          "base_uri": "https://localhost:8080/",
          "height": 122
        },
        "outputId": "0f18ff24-b3f0-4d21-f8a3-061dfdb1f31e"
      },
      "source": [
        "from sklearn.preprocessing import PolynomialFeatures\n",
        "from sklearn.linear_model import LinearRegression\n",
        "from sklearn.model_selection import KFold\n",
        "\n",
        "kf = KFold(n_splits=5)\n",
        "scores = []\n",
        "for train_index, test_index in kf.split(X_train):\n",
        "    #다항 항 만들기\n",
        "    interaction = PolynomialFeatures(degree=3, include_bias=False, interaction_only=True)\n",
        "    features_interaction = interaction.fit_transform(X_train[train_index])\n",
        "    test_interaction = interaction.transform(X_train[test_index])\n",
        "    # 선형회귀 모델 훈련\n",
        "    lr = LinearRegression(normalize = False)\n",
        "    lr.fit(features_interaction, y_train[train_index])\n",
        "    pred = lr.predict(test_interaction)\n",
        "    scores.append(mae(y_train[test_index], pred))\n",
        "\n",
        "Poly_LR_cv_mae = np.mean(scores)\n",
        "print('Poly_LR_cv_mae, degree  = 3,  normalize = False')\n",
        "print(f'Poly_LR_cv_mae = {Poly_LR_cv_mae}\\n')\n",
        "\n",
        "kf = KFold(n_splits=5)\n",
        "scores = []\n",
        "for train_index, test_index in kf.split(X_train):\n",
        "    #다항 항 만들기\n",
        "    interaction = PolynomialFeatures(degree=3, include_bias=False, interaction_only=True)\n",
        "    features_interaction = interaction.fit_transform(X_train[train_index])\n",
        "    test_interaction = interaction.transform(X_train[test_index])\n",
        "    # 선형회귀 모델 훈련\n",
        "    lr = LinearRegression(normalize = True)\n",
        "    lr.fit(features_interaction, y_train[train_index])\n",
        "    pred = lr.predict(test_interaction)\n",
        "    scores.append(mae(y_train[test_index], pred))\n",
        "\n",
        "Poly_LR_normal_cv_mae = np.mean(scores)\n",
        "print('Poly_LR_normal_cv_mae, degree  = 3,  normalize = True')\n",
        "print(f'Poly_LR_normal_cv_mae = {Poly_LR_normal_cv_mae}\\n')"
      ],
      "execution_count": null,
      "outputs": [
        {
          "output_type": "stream",
          "text": [
            "Poly_LR_cv_mae, degree  = 3,  normalize = False\n",
            "Poly_LR_cv_mae = 17.9493408203125\n",
            "\n",
            "Poly_LR_normal_cv_mae, degree  = 3,  normalize = True\n",
            "Poly_LR_normal_cv_mae = 17.74848747253418\n",
            "\n"
          ],
          "name": "stdout"
        }
      ]
    },
    {
      "cell_type": "markdown",
      "metadata": {
        "id": "ZP3k-0zh-Ti7",
        "colab_type": "text"
      },
      "source": [
        "### 릿지 다항 회귀"
      ]
    },
    {
      "cell_type": "code",
      "metadata": {
        "id": "3g1hdbZIZwar",
        "colab_type": "code",
        "colab": {
          "base_uri": "https://localhost:8080/",
          "height": 122
        },
        "outputId": "e534fd27-2c89-4068-d602-37bd16af36f8"
      },
      "source": [
        "from sklearn.linear_model import Ridge, Lasso, ElasticNet\n",
        "from sklearn.model_selection import KFold\n",
        "\n",
        "kf = KFold(n_splits=5)\n",
        "scores = []\n",
        "for train_index, test_index in kf.split(X_train):\n",
        "    #다항 항 만들기\n",
        "    interaction = PolynomialFeatures(degree=3, include_bias=False, interaction_only=True)\n",
        "    features_interaction = interaction.fit_transform(X_train[train_index])\n",
        "    test_interaction = interaction.transform(X_train[test_index])\n",
        "    # Ridge 모델 훈련\n",
        "    Ridge_model = Ridge(normalize = False, alpha = 0.1)\n",
        "    Ridge_model.fit(features_interaction, y_train[train_index])\n",
        "    pred = Ridge_model.predict(test_interaction)\n",
        "    scores.append(mae(y_train[test_index], pred))\n",
        "\n",
        "Poly_Ridge_cv_mae = np.mean(scores)\n",
        "print('Poly_Ridge_cv_mae, degree  = 3,  normalize = False')\n",
        "print(f'Poly_Ridge_cv_mae = {Poly_Ridge_cv_mae}\\n')\n",
        "\n",
        "kf = KFold(n_splits=5)\n",
        "scores = []\n",
        "for train_index, test_index in kf.split(X_train):\n",
        "    #다항 항 만들기\n",
        "    interaction = PolynomialFeatures(degree=3, include_bias=False, interaction_only=True)\n",
        "    features_interaction = interaction.fit_transform(X_train[train_index])\n",
        "    test_interaction = interaction.transform(X_train[test_index])\n",
        "    # Ridge 모델 훈련\n",
        "    Ridge_model = Ridge(normalize = True, alpha = 0.1)\n",
        "    Ridge_model.fit(features_interaction, y_train[train_index])\n",
        "    pred = Ridge_model.predict(test_interaction)\n",
        "    scores.append(mae(y_train[test_index], pred))\n",
        "\n",
        "Poly_Ridge_normal_cv_mae = np.mean(scores)\n",
        "print('Poly_Ridge_normal_cv_mae, degree  = 3,  normalize = True')\n",
        "print(f'Poly_Ridge_normal_cv_mae = {Poly_Ridge_normal_cv_mae}\\n')"
      ],
      "execution_count": null,
      "outputs": [
        {
          "output_type": "stream",
          "text": [
            "Poly_Ridge_cv_mae, degree  = 3,  normalize = False\n",
            "Poly_Ridge_cv_mae = 19.5375919342041\n",
            "\n",
            "Poly_Ridge_normal_cv_mae, degree  = 3,  normalize = True\n",
            "Poly_Ridge_normal_cv_mae = 17.378116607666016\n",
            "\n"
          ],
          "name": "stdout"
        }
      ]
    },
    {
      "cell_type": "markdown",
      "metadata": {
        "id": "5yB0a2qz-XJR",
        "colab_type": "text"
      },
      "source": [
        "### 라쏘 다항회귀"
      ]
    },
    {
      "cell_type": "code",
      "metadata": {
        "id": "TTtfwzkZ_BYl",
        "colab_type": "code",
        "colab": {
          "base_uri": "https://localhost:8080/",
          "height": 122
        },
        "outputId": "1e1917c5-02ba-4c5a-9c80-b4cae969249a"
      },
      "source": [
        "kf = KFold(n_splits=5)\n",
        "scores = []\n",
        "for train_index, test_index in kf.split(X_train):\n",
        "    #다항 항 만들기\n",
        "    interaction = PolynomialFeatures(degree=3, include_bias=False, interaction_only=True)\n",
        "    features_interaction = interaction.fit_transform(X_train[train_index])\n",
        "    test_interaction = interaction.transform(X_train[test_index])\n",
        "    # Ridge 모델 훈련\n",
        "    Lasso_model = Lasso(normalize = False, alpha = 0.1)\n",
        "    Lasso_model.fit(features_interaction, y_train[train_index])\n",
        "    pred = Lasso_model.predict(test_interaction)\n",
        "    scores.append(mae(y_train[test_index], pred))\n",
        "\n",
        "Poly_Lasso_cv_mae = np.mean(scores)\n",
        "print('Poly_Lasso_cv_mae, degree  = 3,  normalize = False')\n",
        "print(f'Poly_Lasso_cv_mae = {Poly_Lasso_cv_mae}\\n')\n",
        "\n",
        "kf = KFold(n_splits=5)\n",
        "scores = []\n",
        "for train_index, test_index in kf.split(X_train):\n",
        "    #다항 항 만들기\n",
        "    interaction = PolynomialFeatures(degree=3, include_bias=False, interaction_only=True)\n",
        "    features_interaction = interaction.fit_transform(X_train[train_index])\n",
        "    test_interaction = interaction.transform(X_train[test_index])\n",
        "    # Ridge 모델 훈련\n",
        "    Lasso_model = Lasso(normalize = True, alpha = 0.1)\n",
        "    Lasso_model.fit(features_interaction, y_train[train_index])\n",
        "    pred = Lasso_model.predict(test_interaction)\n",
        "    scores.append(mae(y_train[test_index], pred))\n",
        "\n",
        "Poly_Lasso_normal_cv_mae = np.mean(scores)\n",
        "print('Poly_Lasso_normal_cv_mae, degree  = 3,  normalize = True')\n",
        "print(f'Poly_Lasso_normal_cv_mae = {Poly_Lasso_normal_cv_mae}\\n')"
      ],
      "execution_count": null,
      "outputs": [
        {
          "output_type": "stream",
          "text": [
            "Poly_Lasso_cv_mae, degree  = 3,  normalize = False\n",
            "Poly_Lasso_cv_mae = 17.245738983154297\n",
            "\n",
            "Poly_Lasso_normal_cv_mae, degree  = 3,  normalize = True\n",
            "Poly_Lasso_normal_cv_mae = 18.111082077026367\n",
            "\n"
          ],
          "name": "stdout"
        }
      ]
    },
    {
      "cell_type": "markdown",
      "metadata": {
        "id": "_jCRJTV4-ZCj",
        "colab_type": "text"
      },
      "source": [
        "### 엘라스틱 다항회귀"
      ]
    },
    {
      "cell_type": "code",
      "metadata": {
        "id": "8K96kdYT_SXi",
        "colab_type": "code",
        "colab": {
          "base_uri": "https://localhost:8080/",
          "height": 122
        },
        "outputId": "7adae19e-fc36-4913-d3f1-2069816776ed"
      },
      "source": [
        "kf = KFold(n_splits=5)\n",
        "scores = []\n",
        "for train_index, test_index in kf.split(X_train):\n",
        "    #다항 항 만들기\n",
        "    interaction = PolynomialFeatures(degree=3, include_bias=False, interaction_only=True)\n",
        "    features_interaction = interaction.fit_transform(X_train[train_index])\n",
        "    test_interaction = interaction.transform(X_train[test_index])\n",
        "    # Ridge 모델 훈련\n",
        "    ElasticNet_model = ElasticNet(normalize = False, alpha = 0.1)\n",
        "    ElasticNet_model.fit(features_interaction, y_train[train_index])\n",
        "    pred = ElasticNet_model.predict(test_interaction)\n",
        "    scores.append(mae(y_train[test_index], pred))\n",
        "\n",
        "Poly_ElasticNet_cv_mae = np.mean(scores)\n",
        "print('Poly_ElasticNet_cv_mae, degree  = 3,  normalize = False')\n",
        "print(f'Poly_ElasticNet_cv_mae = {Poly_ElasticNet_cv_mae}\\n')\n",
        "\n",
        "kf = KFold(n_splits=5)\n",
        "scores = []\n",
        "for train_index, test_index in kf.split(X_train):\n",
        "    #다항 항 만들기\n",
        "    interaction = PolynomialFeatures(degree=3, include_bias=False, interaction_only=True)\n",
        "    features_interaction = interaction.fit_transform(X_train[train_index])\n",
        "    test_interaction = interaction.transform(X_train[test_index])\n",
        "    # Ridge 모델 훈련\n",
        "    ElasticNet_model = ElasticNet(normalize = True, alpha = 0.1)\n",
        "    ElasticNet_model.fit(features_interaction, y_train[train_index])\n",
        "    pred = ElasticNet_model.predict(test_interaction)\n",
        "    scores.append(mae(y_train[test_index], pred))\n",
        "\n",
        "Poly_ElasticNet_normal_cv_mae = np.mean(scores)\n",
        "print('Poly_ElasticNet_normal_cv_mae, degree  = 3,  normalize = True')\n",
        "print(f'Poly_ElasticNet_normal_cv_mae = {Poly_ElasticNet_normal_cv_mae}\\n')"
      ],
      "execution_count": null,
      "outputs": [
        {
          "output_type": "stream",
          "text": [
            "Poly_ElasticNet_cv_mae, degree  = 3,  normalize = False\n",
            "Poly_ElasticNet_cv_mae = 17.245868682861328\n",
            "\n",
            "Poly_ElasticNet_normal_cv_mae, degree  = 3,  normalize = True\n",
            "Poly_ElasticNet_normal_cv_mae = 18.111082077026367\n",
            "\n"
          ],
          "name": "stdout"
        }
      ]
    },
    {
      "cell_type": "markdown",
      "metadata": {
        "id": "DeA8Bw3VluWH",
        "colab_type": "text"
      },
      "source": [
        "## SVM"
      ]
    },
    {
      "cell_type": "markdown",
      "metadata": {
        "id": "K71KoR1fIydS",
        "colab_type": "text"
      },
      "source": [
        "### 1차 그리드 서치"
      ]
    },
    {
      "cell_type": "code",
      "metadata": {
        "id": "G8Aq6iyOq_ub",
        "colab_type": "code",
        "colab": {
          "base_uri": "https://localhost:8080/",
          "height": 1000
        },
        "outputId": "ff22e676-0094-4b39-e902-b0d02f9a3d65"
      },
      "source": [
        "from sklearn.model_selection import GridSearchCV\n",
        "from sklearn.svm import SVR\n",
        "\n",
        "\n",
        "def mae(y_true, y_pred):\n",
        "    y_true = np.array(y_true)\n",
        "    y_true = y_true.reshape(1, -1)[0]  \n",
        "    y_pred = np.array(y_pred)\n",
        "    y_pred = y_pred.reshape(1, -1)[0]\n",
        "    mae = np.mean(np.abs(y_true - y_pred))\n",
        "    return mae\n",
        "\n",
        "\n",
        "param_grid = {'C': [0.1,1,10], 'kernel': ['rbf', 'poly', 'sigmoid']}\n",
        "grid_svr = GridSearchCV(SVR(),\n",
        "                        param_grid,\n",
        "                        refit=True,\n",
        "                        scoring = make_scorer(mae, greater_is_better=False),\n",
        "                        verbose=2)\n",
        "\n",
        "grid_svr.fit(X_train, y_train)"
      ],
      "execution_count": null,
      "outputs": [
        {
          "output_type": "stream",
          "text": [
            "Fitting 5 folds for each of 9 candidates, totalling 45 fits\n",
            "[CV] C=0.1, kernel=rbf ...............................................\n"
          ],
          "name": "stdout"
        },
        {
          "output_type": "stream",
          "text": [
            "[Parallel(n_jobs=1)]: Using backend SequentialBackend with 1 concurrent workers.\n"
          ],
          "name": "stderr"
        },
        {
          "output_type": "stream",
          "text": [
            "[CV] ................................ C=0.1, kernel=rbf, total=   4.3s\n",
            "[CV] C=0.1, kernel=rbf ...............................................\n"
          ],
          "name": "stdout"
        },
        {
          "output_type": "stream",
          "text": [
            "[Parallel(n_jobs=1)]: Done   1 out of   1 | elapsed:    4.3s remaining:    0.0s\n"
          ],
          "name": "stderr"
        },
        {
          "output_type": "stream",
          "text": [
            "[CV] ................................ C=0.1, kernel=rbf, total=   4.2s\n",
            "[CV] C=0.1, kernel=rbf ...............................................\n",
            "[CV] ................................ C=0.1, kernel=rbf, total=   4.2s\n",
            "[CV] C=0.1, kernel=rbf ...............................................\n",
            "[CV] ................................ C=0.1, kernel=rbf, total=   4.2s\n",
            "[CV] C=0.1, kernel=rbf ...............................................\n",
            "[CV] ................................ C=0.1, kernel=rbf, total=   4.2s\n",
            "[CV] C=0.1, kernel=poly ..............................................\n",
            "[CV] ............................... C=0.1, kernel=poly, total=   2.8s\n",
            "[CV] C=0.1, kernel=poly ..............................................\n",
            "[CV] ............................... C=0.1, kernel=poly, total=   2.8s\n",
            "[CV] C=0.1, kernel=poly ..............................................\n",
            "[CV] ............................... C=0.1, kernel=poly, total=   2.8s\n",
            "[CV] C=0.1, kernel=poly ..............................................\n",
            "[CV] ............................... C=0.1, kernel=poly, total=   2.8s\n",
            "[CV] C=0.1, kernel=poly ..............................................\n",
            "[CV] ............................... C=0.1, kernel=poly, total=   2.8s\n",
            "[CV] C=0.1, kernel=sigmoid ...........................................\n",
            "[CV] ............................ C=0.1, kernel=sigmoid, total=   4.8s\n",
            "[CV] C=0.1, kernel=sigmoid ...........................................\n",
            "[CV] ............................ C=0.1, kernel=sigmoid, total=   4.8s\n",
            "[CV] C=0.1, kernel=sigmoid ...........................................\n",
            "[CV] ............................ C=0.1, kernel=sigmoid, total=   4.8s\n",
            "[CV] C=0.1, kernel=sigmoid ...........................................\n",
            "[CV] ............................ C=0.1, kernel=sigmoid, total=   4.9s\n",
            "[CV] C=0.1, kernel=sigmoid ...........................................\n",
            "[CV] ............................ C=0.1, kernel=sigmoid, total=   4.9s\n",
            "[CV] C=1, kernel=rbf .................................................\n",
            "[CV] .................................. C=1, kernel=rbf, total=   4.2s\n",
            "[CV] C=1, kernel=rbf .................................................\n",
            "[CV] .................................. C=1, kernel=rbf, total=   4.2s\n",
            "[CV] C=1, kernel=rbf .................................................\n",
            "[CV] .................................. C=1, kernel=rbf, total=   4.2s\n",
            "[CV] C=1, kernel=rbf .................................................\n",
            "[CV] .................................. C=1, kernel=rbf, total=   4.2s\n",
            "[CV] C=1, kernel=rbf .................................................\n",
            "[CV] .................................. C=1, kernel=rbf, total=   4.2s\n",
            "[CV] C=1, kernel=poly ................................................\n",
            "[CV] ................................. C=1, kernel=poly, total=   2.9s\n",
            "[CV] C=1, kernel=poly ................................................\n",
            "[CV] ................................. C=1, kernel=poly, total=   2.9s\n",
            "[CV] C=1, kernel=poly ................................................\n",
            "[CV] ................................. C=1, kernel=poly, total=   2.9s\n",
            "[CV] C=1, kernel=poly ................................................\n",
            "[CV] ................................. C=1, kernel=poly, total=   2.9s\n",
            "[CV] C=1, kernel=poly ................................................\n",
            "[CV] ................................. C=1, kernel=poly, total=   2.9s\n",
            "[CV] C=1, kernel=sigmoid .............................................\n",
            "[CV] .............................. C=1, kernel=sigmoid, total=   4.7s\n",
            "[CV] C=1, kernel=sigmoid .............................................\n",
            "[CV] .............................. C=1, kernel=sigmoid, total=   4.7s\n",
            "[CV] C=1, kernel=sigmoid .............................................\n",
            "[CV] .............................. C=1, kernel=sigmoid, total=   4.8s\n",
            "[CV] C=1, kernel=sigmoid .............................................\n",
            "[CV] .............................. C=1, kernel=sigmoid, total=   4.8s\n",
            "[CV] C=1, kernel=sigmoid .............................................\n",
            "[CV] .............................. C=1, kernel=sigmoid, total=   4.8s\n",
            "[CV] C=10, kernel=rbf ................................................\n",
            "[CV] ................................. C=10, kernel=rbf, total=   4.2s\n",
            "[CV] C=10, kernel=rbf ................................................\n",
            "[CV] ................................. C=10, kernel=rbf, total=   4.2s\n",
            "[CV] C=10, kernel=rbf ................................................\n",
            "[CV] ................................. C=10, kernel=rbf, total=   4.2s\n",
            "[CV] C=10, kernel=rbf ................................................\n",
            "[CV] ................................. C=10, kernel=rbf, total=   4.2s\n",
            "[CV] C=10, kernel=rbf ................................................\n",
            "[CV] ................................. C=10, kernel=rbf, total=   4.2s\n",
            "[CV] C=10, kernel=poly ...............................................\n",
            "[CV] ................................ C=10, kernel=poly, total=   3.4s\n",
            "[CV] C=10, kernel=poly ...............................................\n",
            "[CV] ................................ C=10, kernel=poly, total=   3.3s\n",
            "[CV] C=10, kernel=poly ...............................................\n",
            "[CV] ................................ C=10, kernel=poly, total=   3.3s\n",
            "[CV] C=10, kernel=poly ...............................................\n",
            "[CV] ................................ C=10, kernel=poly, total=   3.4s\n",
            "[CV] C=10, kernel=poly ...............................................\n",
            "[CV] ................................ C=10, kernel=poly, total=   3.2s\n",
            "[CV] C=10, kernel=sigmoid ............................................\n",
            "[CV] ............................. C=10, kernel=sigmoid, total=   4.8s\n",
            "[CV] C=10, kernel=sigmoid ............................................\n",
            "[CV] ............................. C=10, kernel=sigmoid, total=   4.8s\n",
            "[CV] C=10, kernel=sigmoid ............................................\n",
            "[CV] ............................. C=10, kernel=sigmoid, total=   4.8s\n",
            "[CV] C=10, kernel=sigmoid ............................................\n",
            "[CV] ............................. C=10, kernel=sigmoid, total=   4.8s\n",
            "[CV] C=10, kernel=sigmoid ............................................\n",
            "[CV] ............................. C=10, kernel=sigmoid, total=   4.8s\n"
          ],
          "name": "stdout"
        },
        {
          "output_type": "stream",
          "text": [
            "[Parallel(n_jobs=1)]: Done  45 out of  45 | elapsed:  3.0min finished\n"
          ],
          "name": "stderr"
        },
        {
          "output_type": "execute_result",
          "data": {
            "text/plain": [
              "GridSearchCV(cv=None, error_score=nan,\n",
              "             estimator=SVR(C=1.0, cache_size=200, coef0=0.0, degree=3,\n",
              "                           epsilon=0.1, gamma='scale', kernel='rbf',\n",
              "                           max_iter=-1, shrinking=True, tol=0.001,\n",
              "                           verbose=False),\n",
              "             iid='deprecated', n_jobs=None,\n",
              "             param_grid={'C': [0.1, 1, 10],\n",
              "                         'kernel': ['rbf', 'poly', 'sigmoid']},\n",
              "             pre_dispatch='2*n_jobs', refit=True, return_train_score=False,\n",
              "             scoring=make_scorer(mae, greater_is_better=False), verbose=2)"
            ]
          },
          "metadata": {
            "tags": []
          },
          "execution_count": 42
        }
      ]
    },
    {
      "cell_type": "code",
      "metadata": {
        "id": "nJtetQbn4V88",
        "colab_type": "code",
        "colab": {
          "base_uri": "https://localhost:8080/",
          "height": 87
        },
        "outputId": "c46ac737-9be5-4615-942b-dd91fb4cf665"
      },
      "source": [
        "# best parameter 적용\n",
        "from sklearn.model_selection import KFold\n",
        "\n",
        "kf = KFold(n_splits=5)\n",
        "scores = []\n",
        "for train_index, test_index in kf.split(X_train):\n",
        "    svr = SVR(C = grid_svr.best_params_['C'],\n",
        "              kernel = grid_svr.best_params_['kernel'],\n",
        "              verbose = True)\n",
        "    svr.fit(X_train[train_index], y_train[train_index])\n",
        "    pred = svr.predict(X_train[test_index])\n",
        "    scores.append(mae(y_train[test_index], pred))\n",
        "\n",
        "SVR_cv_mae = np.mean(scores)\n",
        "print('\\nSVR, C = {0}, kernel = {1}'.format(grid_svr.best_params_['C'], grid_svr.best_params_['kernel']))\n",
        "print(f'SVR cv_mae_score = {SVR_cv_mae}\\n')"
      ],
      "execution_count": null,
      "outputs": [
        {
          "output_type": "stream",
          "text": [
            "[LibSVM][LibSVM][LibSVM][LibSVM][LibSVM]\n",
            "SVR, C = 10, kernel = poly\n",
            "SVR cv_mae_score = 15.837368932183818\n",
            "\n"
          ],
          "name": "stdout"
        }
      ]
    },
    {
      "cell_type": "code",
      "metadata": {
        "id": "1miQXTNi9jPN",
        "colab_type": "code",
        "colab": {
          "base_uri": "https://localhost:8080/",
          "height": 175
        },
        "outputId": "0b918ad6-69bc-4e18-c1e3-322116228f05"
      },
      "source": [
        "grid_svr.cv_results_['params']"
      ],
      "execution_count": null,
      "outputs": [
        {
          "output_type": "execute_result",
          "data": {
            "text/plain": [
              "[{'C': 0.1, 'kernel': 'rbf'},\n",
              " {'C': 0.1, 'kernel': 'poly'},\n",
              " {'C': 0.1, 'kernel': 'sigmoid'},\n",
              " {'C': 1, 'kernel': 'rbf'},\n",
              " {'C': 1, 'kernel': 'poly'},\n",
              " {'C': 1, 'kernel': 'sigmoid'},\n",
              " {'C': 10, 'kernel': 'rbf'},\n",
              " {'C': 10, 'kernel': 'poly'},\n",
              " {'C': 10, 'kernel': 'sigmoid'}]"
            ]
          },
          "metadata": {
            "tags": []
          },
          "execution_count": 48
        }
      ]
    },
    {
      "cell_type": "code",
      "metadata": {
        "id": "Hm1gHpgn8OnS",
        "colab_type": "code",
        "colab": {
          "base_uri": "https://localhost:8080/",
          "height": 295
        },
        "outputId": "ba219140-e6e0-4d92-e1b9-d285727656a7"
      },
      "source": [
        "plt.plot([0.1,1,10], -grid_svr.cv_results_['mean_test_score'][[0,3,6]], label='Rbf')\n",
        "plt.plot([0.1,1,10], -grid_svr.cv_results_['mean_test_score'][[1,4,7]], label='Poly')\n",
        "plt.plot([0.1,1,10], -grid_svr.cv_results_['mean_test_score'][[2,5,8]], label='Sigmoid')\n",
        "plt.legend()\n",
        "plt.title('Support Vector Regressor')\n",
        "plt.xlabel('C')\n",
        "plt.ylabel('cv mean test score')\n",
        "plt.show()"
      ],
      "execution_count": null,
      "outputs": [
        {
          "output_type": "display_data",
          "data": {
            "image/png": "[encoded data removed]",
            "text/plain": [
              "<Figure size 432x288 with 1 Axes>"
            ]
          },
          "metadata": {
            "tags": [],
            "needs_background": "light"
          }
        }
      ]
    },
    {
      "cell_type": "markdown",
      "metadata": {
        "id": "W-RUmAaeI2uu",
        "colab_type": "text"
      },
      "source": [
        "### 2차 그리드 서치"
      ]
    },
    {
      "cell_type": "code",
      "metadata": {
        "id": "A2IrjKdU19mj",
        "colab_type": "code",
        "colab": {
          "base_uri": "https://localhost:8080/",
          "height": 1000
        },
        "outputId": "15816677-d17b-4daa-e663-40af8410d7f9"
      },
      "source": [
        "param_grid = {'C': range(10,31), 'kernel': ['poly']}\n",
        "grid_svr = GridSearchCV(SVR(),\n",
        "                        param_grid,\n",
        "                        refit=True,\n",
        "                        scoring = make_scorer(mae, greater_is_better=False),\n",
        "                        verbose=2)\n",
        "grid_svr.fit(X_train, y_train)"
      ],
      "execution_count": 11,
      "outputs": [
        {
          "output_type": "stream",
          "text": [
            "Fitting 5 folds for each of 21 candidates, totalling 105 fits\n",
            "[CV] C=10, kernel=poly ...............................................\n"
          ],
          "name": "stdout"
        },
        {
          "output_type": "stream",
          "text": [
            "[Parallel(n_jobs=1)]: Using backend SequentialBackend with 1 concurrent workers.\n"
          ],
          "name": "stderr"
        },
        {
          "output_type": "stream",
          "text": [
            "[CV] ................................ C=10, kernel=poly, total=   4.2s\n",
            "[CV] C=10, kernel=poly ...............................................\n"
          ],
          "name": "stdout"
        },
        {
          "output_type": "stream",
          "text": [
            "[Parallel(n_jobs=1)]: Done   1 out of   1 | elapsed:    4.2s remaining:    0.0s\n"
          ],
          "name": "stderr"
        },
        {
          "output_type": "stream",
          "text": [
            "[CV] ................................ C=10, kernel=poly, total=   4.0s\n",
            "[CV] C=10, kernel=poly ...............................................\n",
            "[CV] ................................ C=10, kernel=poly, total=   4.0s\n",
            "[CV] C=10, kernel=poly ...............................................\n",
            "[CV] ................................ C=10, kernel=poly, total=   4.1s\n",
            "[CV] C=10, kernel=poly ...............................................\n",
            "[CV] ................................ C=10, kernel=poly, total=   4.0s\n",
            "[CV] C=11, kernel=poly ...............................................\n",
            "[CV] ................................ C=11, kernel=poly, total=   4.0s\n",
            "[CV] C=11, kernel=poly ...............................................\n",
            "[CV] ................................ C=11, kernel=poly, total=   4.2s\n",
            "[CV] C=11, kernel=poly ...............................................\n",
            "[CV] ................................ C=11, kernel=poly, total=   4.0s\n",
            "[CV] C=11, kernel=poly ...............................................\n",
            "[CV] ................................ C=11, kernel=poly, total=   4.0s\n",
            "[CV] C=11, kernel=poly ...............................................\n",
            "[CV] ................................ C=11, kernel=poly, total=   4.0s\n",
            "[CV] C=12, kernel=poly ...............................................\n",
            "[CV] ................................ C=12, kernel=poly, total=   4.0s\n",
            "[CV] C=12, kernel=poly ...............................................\n",
            "[CV] ................................ C=12, kernel=poly, total=   4.1s\n",
            "[CV] C=12, kernel=poly ...............................................\n",
            "[CV] ................................ C=12, kernel=poly, total=   4.1s\n",
            "[CV] C=12, kernel=poly ...............................................\n",
            "[CV] ................................ C=12, kernel=poly, total=   4.1s\n",
            "[CV] C=12, kernel=poly ...............................................\n",
            "[CV] ................................ C=12, kernel=poly, total=   4.1s\n",
            "[CV] C=13, kernel=poly ...............................................\n",
            "[CV] ................................ C=13, kernel=poly, total=   4.0s\n",
            "[CV] C=13, kernel=poly ...............................................\n",
            "[CV] ................................ C=13, kernel=poly, total=   4.1s\n",
            "[CV] C=13, kernel=poly ...............................................\n",
            "[CV] ................................ C=13, kernel=poly, total=   4.3s\n",
            "[CV] C=13, kernel=poly ...............................................\n",
            "[CV] ................................ C=13, kernel=poly, total=   4.2s\n",
            "[CV] C=13, kernel=poly ...............................................\n",
            "[CV] ................................ C=13, kernel=poly, total=   4.1s\n",
            "[CV] C=14, kernel=poly ...............................................\n",
            "[CV] ................................ C=14, kernel=poly, total=   4.3s\n",
            "[CV] C=14, kernel=poly ...............................................\n",
            "[CV] ................................ C=14, kernel=poly, total=   4.2s\n",
            "[CV] C=14, kernel=poly ...............................................\n",
            "[CV] ................................ C=14, kernel=poly, total=   4.2s\n",
            "[CV] C=14, kernel=poly ...............................................\n",
            "[CV] ................................ C=14, kernel=poly, total=   4.1s\n",
            "[CV] C=14, kernel=poly ...............................................\n",
            "[CV] ................................ C=14, kernel=poly, total=   4.2s\n",
            "[CV] C=15, kernel=poly ...............................................\n",
            "[CV] ................................ C=15, kernel=poly, total=   4.2s\n",
            "[CV] C=15, kernel=poly ...............................................\n",
            "[CV] ................................ C=15, kernel=poly, total=   4.2s\n",
            "[CV] C=15, kernel=poly ...............................................\n",
            "[CV] ................................ C=15, kernel=poly, total=   4.3s\n",
            "[CV] C=15, kernel=poly ...............................................\n",
            "[CV] ................................ C=15, kernel=poly, total=   4.1s\n",
            "[CV] C=15, kernel=poly ...............................................\n",
            "[CV] ................................ C=15, kernel=poly, total=   4.1s\n",
            "[CV] C=16, kernel=poly ...............................................\n",
            "[CV] ................................ C=16, kernel=poly, total=   4.2s\n",
            "[CV] C=16, kernel=poly ...............................................\n",
            "[CV] ................................ C=16, kernel=poly, total=   4.2s\n",
            "[CV] C=16, kernel=poly ...............................................\n",
            "[CV] ................................ C=16, kernel=poly, total=   4.4s\n",
            "[CV] C=16, kernel=poly ...............................................\n",
            "[CV] ................................ C=16, kernel=poly, total=   4.3s\n",
            "[CV] C=16, kernel=poly ...............................................\n",
            "[CV] ................................ C=16, kernel=poly, total=   4.4s\n",
            "[CV] C=17, kernel=poly ...............................................\n",
            "[CV] ................................ C=17, kernel=poly, total=   4.5s\n",
            "[CV] C=17, kernel=poly ...............................................\n",
            "[CV] ................................ C=17, kernel=poly, total=   4.3s\n",
            "[CV] C=17, kernel=poly ...............................................\n",
            "[CV] ................................ C=17, kernel=poly, total=   4.2s\n",
            "[CV] C=17, kernel=poly ...............................................\n",
            "[CV] ................................ C=17, kernel=poly, total=   4.4s\n",
            "[CV] C=17, kernel=poly ...............................................\n",
            "[CV] ................................ C=17, kernel=poly, total=   4.3s\n",
            "[CV] C=18, kernel=poly ...............................................\n",
            "[CV] ................................ C=18, kernel=poly, total=   4.4s\n",
            "[CV] C=18, kernel=poly ...............................................\n",
            "[CV] ................................ C=18, kernel=poly, total=   4.4s\n",
            "[CV] C=18, kernel=poly ...............................................\n",
            "[CV] ................................ C=18, kernel=poly, total=   4.3s\n",
            "[CV] C=18, kernel=poly ...............................................\n",
            "[CV] ................................ C=18, kernel=poly, total=   4.4s\n",
            "[CV] C=18, kernel=poly ...............................................\n",
            "[CV] ................................ C=18, kernel=poly, total=   4.5s\n",
            "[CV] C=19, kernel=poly ...............................................\n",
            "[CV] ................................ C=19, kernel=poly, total=   4.5s\n",
            "[CV] C=19, kernel=poly ...............................................\n",
            "[CV] ................................ C=19, kernel=poly, total=   4.4s\n",
            "[CV] C=19, kernel=poly ...............................................\n",
            "[CV] ................................ C=19, kernel=poly, total=   4.3s\n",
            "[CV] C=19, kernel=poly ...............................................\n",
            "[CV] ................................ C=19, kernel=poly, total=   4.5s\n",
            "[CV] C=19, kernel=poly ...............................................\n",
            "[CV] ................................ C=19, kernel=poly, total=   4.3s\n",
            "[CV] C=20, kernel=poly ...............................................\n",
            "[CV] ................................ C=20, kernel=poly, total=   4.4s\n",
            "[CV] C=20, kernel=poly ...............................................\n",
            "[CV] ................................ C=20, kernel=poly, total=   4.4s\n",
            "[CV] C=20, kernel=poly ...............................................\n",
            "[CV] ................................ C=20, kernel=poly, total=   4.4s\n",
            "[CV] C=20, kernel=poly ...............................................\n",
            "[CV] ................................ C=20, kernel=poly, total=   4.6s\n",
            "[CV] C=20, kernel=poly ...............................................\n",
            "[CV] ................................ C=20, kernel=poly, total=   4.8s\n",
            "[CV] C=21, kernel=poly ...............................................\n",
            "[CV] ................................ C=21, kernel=poly, total=   4.6s\n",
            "[CV] C=21, kernel=poly ...............................................\n",
            "[CV] ................................ C=21, kernel=poly, total=   4.7s\n",
            "[CV] C=21, kernel=poly ...............................................\n",
            "[CV] ................................ C=21, kernel=poly, total=   4.6s\n",
            "[CV] C=21, kernel=poly ...............................................\n",
            "[CV] ................................ C=21, kernel=poly, total=   4.5s\n",
            "[CV] C=21, kernel=poly ...............................................\n",
            "[CV] ................................ C=21, kernel=poly, total=   4.5s\n",
            "[CV] C=22, kernel=poly ...............................................\n",
            "[CV] ................................ C=22, kernel=poly, total=   4.4s\n",
            "[CV] C=22, kernel=poly ...............................................\n",
            "[CV] ................................ C=22, kernel=poly, total=   4.6s\n",
            "[CV] C=22, kernel=poly ...............................................\n",
            "[CV] ................................ C=22, kernel=poly, total=   4.5s\n",
            "[CV] C=22, kernel=poly ...............................................\n",
            "[CV] ................................ C=22, kernel=poly, total=   4.6s\n",
            "[CV] C=22, kernel=poly ...............................................\n",
            "[CV] ................................ C=22, kernel=poly, total=   4.6s\n",
            "[CV] C=23, kernel=poly ...............................................\n",
            "[CV] ................................ C=23, kernel=poly, total=   4.6s\n",
            "[CV] C=23, kernel=poly ...............................................\n",
            "[CV] ................................ C=23, kernel=poly, total=   4.7s\n",
            "[CV] C=23, kernel=poly ...............................................\n",
            "[CV] ................................ C=23, kernel=poly, total=   4.6s\n",
            "[CV] C=23, kernel=poly ...............................................\n",
            "[CV] ................................ C=23, kernel=poly, total=   4.8s\n",
            "[CV] C=23, kernel=poly ...............................................\n",
            "[CV] ................................ C=23, kernel=poly, total=   4.6s\n",
            "[CV] C=24, kernel=poly ...............................................\n",
            "[CV] ................................ C=24, kernel=poly, total=   4.5s\n",
            "[CV] C=24, kernel=poly ...............................................\n",
            "[CV] ................................ C=24, kernel=poly, total=   4.7s\n",
            "[CV] C=24, kernel=poly ...............................................\n",
            "[CV] ................................ C=24, kernel=poly, total=   4.7s\n",
            "[CV] C=24, kernel=poly ...............................................\n",
            "[CV] ................................ C=24, kernel=poly, total=   4.7s\n",
            "[CV] C=24, kernel=poly ...............................................\n",
            "[CV] ................................ C=24, kernel=poly, total=   4.8s\n",
            "[CV] C=25, kernel=poly ...............................................\n",
            "[CV] ................................ C=25, kernel=poly, total=   4.8s\n",
            "[CV] C=25, kernel=poly ...............................................\n",
            "[CV] ................................ C=25, kernel=poly, total=   4.9s\n",
            "[CV] C=25, kernel=poly ...............................................\n",
            "[CV] ................................ C=25, kernel=poly, total=   4.7s\n",
            "[CV] C=25, kernel=poly ...............................................\n",
            "[CV] ................................ C=25, kernel=poly, total=   5.1s\n",
            "[CV] C=25, kernel=poly ...............................................\n",
            "[CV] ................................ C=25, kernel=poly, total=   4.7s\n",
            "[CV] C=26, kernel=poly ...............................................\n",
            "[CV] ................................ C=26, kernel=poly, total=   4.9s\n",
            "[CV] C=26, kernel=poly ...............................................\n",
            "[CV] ................................ C=26, kernel=poly, total=   4.9s\n",
            "[CV] C=26, kernel=poly ...............................................\n",
            "[CV] ................................ C=26, kernel=poly, total=   4.7s\n",
            "[CV] C=26, kernel=poly ...............................................\n",
            "[CV] ................................ C=26, kernel=poly, total=   4.7s\n",
            "[CV] C=26, kernel=poly ...............................................\n",
            "[CV] ................................ C=26, kernel=poly, total=   4.8s\n",
            "[CV] C=27, kernel=poly ...............................................\n",
            "[CV] ................................ C=27, kernel=poly, total=   4.7s\n",
            "[CV] C=27, kernel=poly ...............................................\n",
            "[CV] ................................ C=27, kernel=poly, total=   4.7s\n",
            "[CV] C=27, kernel=poly ...............................................\n",
            "[CV] ................................ C=27, kernel=poly, total=   4.7s\n",
            "[CV] C=27, kernel=poly ...............................................\n",
            "[CV] ................................ C=27, kernel=poly, total=   4.8s\n",
            "[CV] C=27, kernel=poly ...............................................\n",
            "[CV] ................................ C=27, kernel=poly, total=   4.6s\n",
            "[CV] C=28, kernel=poly ...............................................\n",
            "[CV] ................................ C=28, kernel=poly, total=   4.7s\n",
            "[CV] C=28, kernel=poly ...............................................\n",
            "[CV] ................................ C=28, kernel=poly, total=   4.8s\n",
            "[CV] C=28, kernel=poly ...............................................\n",
            "[CV] ................................ C=28, kernel=poly, total=   5.0s\n",
            "[CV] C=28, kernel=poly ...............................................\n",
            "[CV] ................................ C=28, kernel=poly, total=   4.8s\n",
            "[CV] C=28, kernel=poly ...............................................\n",
            "[CV] ................................ C=28, kernel=poly, total=   4.8s\n",
            "[CV] C=29, kernel=poly ...............................................\n",
            "[CV] ................................ C=29, kernel=poly, total=   5.1s\n",
            "[CV] C=29, kernel=poly ...............................................\n",
            "[CV] ................................ C=29, kernel=poly, total=   4.9s\n",
            "[CV] C=29, kernel=poly ...............................................\n",
            "[CV] ................................ C=29, kernel=poly, total=   4.8s\n",
            "[CV] C=29, kernel=poly ...............................................\n",
            "[CV] ................................ C=29, kernel=poly, total=   4.9s\n",
            "[CV] C=29, kernel=poly ...............................................\n",
            "[CV] ................................ C=29, kernel=poly, total=   4.8s\n",
            "[CV] C=30, kernel=poly ...............................................\n",
            "[CV] ................................ C=30, kernel=poly, total=   5.1s\n",
            "[CV] C=30, kernel=poly ...............................................\n",
            "[CV] ................................ C=30, kernel=poly, total=   5.2s\n",
            "[CV] C=30, kernel=poly ...............................................\n",
            "[CV] ................................ C=30, kernel=poly, total=   5.0s\n",
            "[CV] C=30, kernel=poly ...............................................\n",
            "[CV] ................................ C=30, kernel=poly, total=   5.1s\n",
            "[CV] C=30, kernel=poly ...............................................\n",
            "[CV] ................................ C=30, kernel=poly, total=   4.9s\n"
          ],
          "name": "stdout"
        },
        {
          "output_type": "stream",
          "text": [
            "[Parallel(n_jobs=1)]: Done 105 out of 105 | elapsed:  7.9min finished\n"
          ],
          "name": "stderr"
        },
        {
          "output_type": "execute_result",
          "data": {
            "text/plain": [
              "GridSearchCV(cv=None, error_score=nan,\n",
              "             estimator=SVR(C=1.0, cache_size=200, coef0=0.0, degree=3,\n",
              "                           epsilon=0.1, gamma='scale', kernel='rbf',\n",
              "                           max_iter=-1, shrinking=True, tol=0.001,\n",
              "                           verbose=False),\n",
              "             iid='deprecated', n_jobs=None,\n",
              "             param_grid={'C': range(10, 31), 'kernel': ['poly']},\n",
              "             pre_dispatch='2*n_jobs', refit=True, return_train_score=False,\n",
              "             scoring=make_scorer(mae, greater_is_better=False), verbose=2)"
            ]
          },
          "metadata": {
            "tags": []
          },
          "execution_count": 11
        }
      ]
    },
    {
      "cell_type": "code",
      "metadata": {
        "id": "2HUSLUjW4Yp1",
        "colab_type": "code",
        "colab": {
          "base_uri": "https://localhost:8080/",
          "height": 295
        },
        "outputId": "9270e2c8-acd1-4333-de56-a7e7e7e07d6b"
      },
      "source": [
        "plt.plot(range(10,31), - grid_svr.cv_results_['mean_test_score'], label='Poly')\n",
        "plt.legend()\n",
        "plt.title('Support Vector Regressor')\n",
        "plt.xlabel('C')\n",
        "plt.ylabel('cv mean test score')\n",
        "plt.show()"
      ],
      "execution_count": 12,
      "outputs": [
        {
          "output_type": "display_data",
          "data": {
            "image/png": "[encoded data removed]",
            "text/plain": [
              "<Figure size 432x288 with 1 Axes>"
            ]
          },
          "metadata": {
            "tags": [],
            "needs_background": "light"
          }
        }
      ]
    },
    {
      "cell_type": "code",
      "metadata": {
        "id": "OwtaaX4-4kIJ",
        "colab_type": "code",
        "colab": {
          "base_uri": "https://localhost:8080/",
          "height": 70
        },
        "outputId": "aa6b2972-aa89-45df-9525-b8e5c2d822a4"
      },
      "source": [
        "print(f'best_score : {-grid_svr.best_score_}')\n",
        "grid_svr.best_estimator_"
      ],
      "execution_count": 13,
      "outputs": [
        {
          "output_type": "stream",
          "text": [
            "best_score : 15.815398319162949\n"
          ],
          "name": "stdout"
        },
        {
          "output_type": "execute_result",
          "data": {
            "text/plain": [
              "SVR(C=29, cache_size=200, coef0=0.0, degree=3, epsilon=0.1, gamma='scale',\n",
              "    kernel='poly', max_iter=-1, shrinking=True, tol=0.001, verbose=False)"
            ]
          },
          "metadata": {
            "tags": []
          },
          "execution_count": 13
        }
      ]
    },
    {
      "cell_type": "markdown",
      "metadata": {
        "id": "CkDlBkoaT98B",
        "colab_type": "text"
      },
      "source": [
        "### SVM normalize"
      ]
    },
    {
      "cell_type": "code",
      "metadata": {
        "id": "NOrgbC9f4tQw",
        "colab_type": "code",
        "colab": {
          "base_uri": "https://localhost:8080/",
          "height": 87
        },
        "outputId": "de4ab696-cdcf-4cc3-d11d-bdbf1af7d386"
      },
      "source": [
        "kf = KFold(n_splits=5)\n",
        "scores = []\n",
        "for train_index, test_index in kf.split(X_train_normalized):\n",
        "    best_svr = grid_svr.best_estimator_\n",
        "    best_svr.fit(X_train_normalized[train_index], y_train[train_index])\n",
        "    pred = best_svr.predict(X_train_normalized[test_index])\n",
        "    scores.append(mae(y_train[test_index], pred))\n",
        "\n",
        "SVR_cv_mae = np.mean(scores)\n",
        "print('\\nSVR, C = {0}, kernel = {1}'.format(grid_svr.best_params_['C'], grid_svr.best_params_['kernel']))\n",
        "print(f'SVR cv_mae_score = {SVR_cv_mae}\\n')"
      ],
      "execution_count": 15,
      "outputs": [
        {
          "output_type": "stream",
          "text": [
            "\n",
            "SVR, C = 29, kernel = poly\n",
            "SVR cv_mae_score = 16.051933968245066\n",
            "\n"
          ],
          "name": "stdout"
        }
      ]
    },
    {
      "cell_type": "markdown",
      "metadata": {
        "id": "R7an5UGSef_m",
        "colab_type": "text"
      },
      "source": [
        "## Decision Tree"
      ]
    },
    {
      "cell_type": "code",
      "metadata": {
        "id": "YsNYnYvy5qb4",
        "colab_type": "code",
        "colab": {
          "base_uri": "https://localhost:8080/",
          "height": 1000
        },
        "outputId": "42e2a361-9fe2-425f-e726-5748a3d32770"
      },
      "source": [
        "from sklearn.tree import DecisionTreeRegressor\n",
        "from sklearn.metrics import mean_squared_error\n",
        "from sklearn.metrics import make_scorer\n",
        "\n",
        "\n",
        "\n",
        "\n",
        "\n",
        "param_grid = {'max_depth' : range(2,8)}\n",
        "\n",
        "\n",
        "gs_tree = GridSearchCV(DecisionTreeRegressor(criterion = 'mse'),\n",
        "                       param_grid,\n",
        "                       refit=True,\n",
        "                       scoring = make_scorer(mae, greater_is_better=False),\n",
        "                       verbose=2)\n",
        "gs_tree.fit(X_train, y_train)"
      ],
      "execution_count": null,
      "outputs": [
        {
          "output_type": "stream",
          "text": [
            "Fitting 5 folds for each of 6 candidates, totalling 30 fits\n",
            "[CV] max_depth=2 .....................................................\n",
            "[CV] ...................................... max_depth=2, total=   0.0s\n",
            "[CV] max_depth=2 .....................................................\n",
            "[CV] ...................................... max_depth=2, total=   0.0s\n",
            "[CV] max_depth=2 .....................................................\n",
            "[CV] ...................................... max_depth=2, total=   0.0s\n",
            "[CV] max_depth=2 .....................................................\n",
            "[CV] ...................................... max_depth=2, total=   0.0s\n",
            "[CV] max_depth=2 .....................................................\n",
            "[CV] ...................................... max_depth=2, total=   0.0s\n",
            "[CV] max_depth=3 .....................................................\n",
            "[CV] ...................................... max_depth=3, total=   0.0s\n",
            "[CV] max_depth=3 .....................................................\n",
            "[CV] ...................................... max_depth=3, total=   0.0s\n",
            "[CV] max_depth=3 .....................................................\n"
          ],
          "name": "stdout"
        },
        {
          "output_type": "stream",
          "text": [
            "[Parallel(n_jobs=1)]: Using backend SequentialBackend with 1 concurrent workers.\n",
            "[Parallel(n_jobs=1)]: Done   1 out of   1 | elapsed:    0.0s remaining:    0.0s\n"
          ],
          "name": "stderr"
        },
        {
          "output_type": "stream",
          "text": [
            "[CV] ...................................... max_depth=3, total=   0.0s\n",
            "[CV] max_depth=3 .....................................................\n",
            "[CV] ...................................... max_depth=3, total=   0.0s\n",
            "[CV] max_depth=3 .....................................................\n",
            "[CV] ...................................... max_depth=3, total=   0.0s\n",
            "[CV] max_depth=4 .....................................................\n",
            "[CV] ...................................... max_depth=4, total=   0.0s\n",
            "[CV] max_depth=4 .....................................................\n",
            "[CV] ...................................... max_depth=4, total=   0.0s\n",
            "[CV] max_depth=4 .....................................................\n",
            "[CV] ...................................... max_depth=4, total=   0.0s\n",
            "[CV] max_depth=4 .....................................................\n",
            "[CV] ...................................... max_depth=4, total=   0.0s\n",
            "[CV] max_depth=4 .....................................................\n",
            "[CV] ...................................... max_depth=4, total=   0.0s\n",
            "[CV] max_depth=5 .....................................................\n",
            "[CV] ...................................... max_depth=5, total=   0.0s\n",
            "[CV] max_depth=5 .....................................................\n",
            "[CV] ...................................... max_depth=5, total=   0.0s\n",
            "[CV] max_depth=5 .....................................................\n",
            "[CV] ...................................... max_depth=5, total=   0.1s\n",
            "[CV] max_depth=5 .....................................................\n",
            "[CV] ...................................... max_depth=5, total=   0.0s\n",
            "[CV] max_depth=5 .....................................................\n",
            "[CV] ...................................... max_depth=5, total=   0.0s\n",
            "[CV] max_depth=6 .....................................................\n",
            "[CV] ...................................... max_depth=6, total=   0.1s\n",
            "[CV] max_depth=6 .....................................................\n",
            "[CV] ...................................... max_depth=6, total=   0.1s\n",
            "[CV] max_depth=6 .....................................................\n",
            "[CV] ...................................... max_depth=6, total=   0.1s\n",
            "[CV] max_depth=6 .....................................................\n",
            "[CV] ...................................... max_depth=6, total=   0.1s\n",
            "[CV] max_depth=6 .....................................................\n",
            "[CV] ...................................... max_depth=6, total=   0.1s\n",
            "[CV] max_depth=7 .....................................................\n",
            "[CV] ...................................... max_depth=7, total=   0.1s\n",
            "[CV] max_depth=7 .....................................................\n",
            "[CV] ...................................... max_depth=7, total=   0.1s\n",
            "[CV] max_depth=7 .....................................................\n",
            "[CV] ...................................... max_depth=7, total=   0.1s\n",
            "[CV] max_depth=7 .....................................................\n",
            "[CV] ...................................... max_depth=7, total=   0.1s\n",
            "[CV] max_depth=7 .....................................................\n",
            "[CV] ...................................... max_depth=7, total=   0.1s\n"
          ],
          "name": "stdout"
        },
        {
          "output_type": "stream",
          "text": [
            "[Parallel(n_jobs=1)]: Done  30 out of  30 | elapsed:    1.3s finished\n"
          ],
          "name": "stderr"
        },
        {
          "output_type": "execute_result",
          "data": {
            "text/plain": [
              "GridSearchCV(cv=None, error_score=nan,\n",
              "             estimator=DecisionTreeRegressor(ccp_alpha=0.0, criterion='mse',\n",
              "                                             max_depth=None, max_features=None,\n",
              "                                             max_leaf_nodes=None,\n",
              "                                             min_impurity_decrease=0.0,\n",
              "                                             min_impurity_split=None,\n",
              "                                             min_samples_leaf=1,\n",
              "                                             min_samples_split=2,\n",
              "                                             min_weight_fraction_leaf=0.0,\n",
              "                                             presort='deprecated',\n",
              "                                             random_state=None,\n",
              "                                             splitter='best'),\n",
              "             iid='deprecated', n_jobs=None,\n",
              "             param_grid={'max_depth': range(2, 8)}, pre_dispatch='2*n_jobs',\n",
              "             refit=True, return_train_score=False,\n",
              "             scoring=make_scorer(mae, greater_is_better=False), verbose=2)"
            ]
          },
          "metadata": {
            "tags": []
          },
          "execution_count": 60
        }
      ]
    },
    {
      "cell_type": "code",
      "metadata": {
        "id": "BBGIUKo659T0",
        "colab_type": "code",
        "colab": {
          "base_uri": "https://localhost:8080/",
          "height": 70
        },
        "outputId": "91135480-4a28-4036-e787-a6da399d45e0"
      },
      "source": [
        "# best parameter 적용\n",
        "kf = KFold(n_splits=5)\n",
        "scores = []\n",
        "for train_index, test_index in kf.split(X_train):\n",
        "    tree = DecisionTreeRegressor(max_depth = gs_tree.best_params_['max_depth'])\n",
        "    tree.fit(X_train[train_index], y_train[train_index])\n",
        "    pred = tree.predict(X_train[test_index])\n",
        "    scores.append(mae(y_train[test_index], pred))\n",
        "\n",
        "Decision_Tree_cv_mae = np.mean(scores)\n",
        "print('Decision Tree Regressor, max_depth = {}'.format(gs_tree.best_params_['max_depth']))\n",
        "print(f'Decision Tree Regressor cv_mae_score = {Decision_Tree_cv_mae}\\n')"
      ],
      "execution_count": null,
      "outputs": [
        {
          "output_type": "stream",
          "text": [
            "Decision Tree Regressor, max_depth = 4\n",
            "Decision Tree Regressor cv_mae_score = 17.573361979662952\n",
            "\n"
          ],
          "name": "stdout"
        }
      ]
    },
    {
      "cell_type": "code",
      "metadata": {
        "id": "oii2igJR6DaG",
        "colab_type": "code",
        "colab": {
          "base_uri": "https://localhost:8080/",
          "height": 295
        },
        "outputId": "398c4c53-2e4d-4300-8a98-3fe0f14160fe"
      },
      "source": [
        "plt.plot(range(2,8), -gs_tree.cv_results_['mean_test_score'])\n",
        "plt.title('Decision Tree Regressor')\n",
        "plt.xlabel('max depth')\n",
        "plt.ylabel('cv mean test score')\n",
        "plt.show()"
      ],
      "execution_count": null,
      "outputs": [
        {
          "output_type": "display_data",
          "data": {
            "image/png": "[encoded data removed]",
            "text/plain": [
              "<Figure size 432x288 with 1 Axes>"
            ]
          },
          "metadata": {
            "tags": [],
            "needs_background": "light"
          }
        }
      ]
    },
    {
      "cell_type": "code",
      "metadata": {
        "id": "QRUF96WKVzeJ",
        "colab_type": "code",
        "colab": {
          "base_uri": "https://localhost:8080/",
          "height": 70
        },
        "outputId": "780da539-0058-4e13-f0b3-534722e2f844"
      },
      "source": [
        "#normalization 적용\n",
        "# best parameter 적용\n",
        "kf = KFold(n_splits=5)\n",
        "scores = []\n",
        "for train_index, test_index in kf.split(X_train_normalized):\n",
        "    tree = gs_tree.best_estimator_\n",
        "    tree.fit(X_train_normalized[train_index], y_train[train_index])\n",
        "    pred = tree.predict(X_train_normalized[test_index])\n",
        "    scores.append(mae(y_train[test_index], pred))\n",
        "\n",
        "Decision_Tree_cv_mae = np.mean(scores)\n",
        "print('Decision Tree Regressor, max_depth = {}'.format(gs_tree.best_params_['max_depth']))\n",
        "print(f'Decision Tree Regressor cv_mae_score = {Decision_Tree_cv_mae}\\n')"
      ],
      "execution_count": null,
      "outputs": [
        {
          "output_type": "stream",
          "text": [
            "Decision Tree Regressor, max_depth = 4\n",
            "Decision Tree Regressor cv_mae_score = 17.573361979662952\n",
            "\n"
          ],
          "name": "stdout"
        }
      ]
    },
    {
      "cell_type": "markdown",
      "metadata": {
        "id": "P-YHl84Qf5X-",
        "colab_type": "text"
      },
      "source": [
        "## Random Forest\n",
        "배깅을 적용한 decision tree의 앙상블"
      ]
    },
    {
      "cell_type": "code",
      "metadata": {
        "id": "4arqQmmg6H2f",
        "colab_type": "code",
        "colab": {
          "base_uri": "https://localhost:8080/",
          "height": 1000
        },
        "outputId": "42df785f-4a96-485b-811c-c16fd700d412"
      },
      "source": [
        "from sklearn.ensemble import RandomForestRegressor\n",
        "\n",
        "def negative_mae(y_true, y_pred):\n",
        "    y_true = np.array(y_true)\n",
        "    y_true = y_true.reshape(1, -1)[0]  \n",
        "    y_pred = np.array(y_pred)\n",
        "    y_pred = y_pred.reshape(1, -1)[0]\n",
        "    mae = np.mean(np.abs(y_true - y_pred))\n",
        "    return -mae\n",
        "\n",
        "\n",
        "param_grid = {'max_depth' : range(2,15)}\n",
        "gs_rf = GridSearchCV(RandomForestRegressor(),\n",
        "                       param_grid,\n",
        "                       refit=True,\n",
        "                       scoring = make_scorer(mae, greater_is_better=False),\n",
        "                       verbose=2)\n",
        "gs_rf.fit(X_train, y_train)"
      ],
      "execution_count": null,
      "outputs": [
        {
          "output_type": "stream",
          "text": [
            "Fitting 5 folds for each of 13 candidates, totalling 65 fits\n",
            "[CV] max_depth=2 .....................................................\n"
          ],
          "name": "stdout"
        },
        {
          "output_type": "stream",
          "text": [
            "[Parallel(n_jobs=1)]: Using backend SequentialBackend with 1 concurrent workers.\n"
          ],
          "name": "stderr"
        },
        {
          "output_type": "stream",
          "text": [
            "[CV] ...................................... max_depth=2, total=   1.4s\n",
            "[CV] max_depth=2 .....................................................\n"
          ],
          "name": "stdout"
        },
        {
          "output_type": "stream",
          "text": [
            "[Parallel(n_jobs=1)]: Done   1 out of   1 | elapsed:    1.4s remaining:    0.0s\n"
          ],
          "name": "stderr"
        },
        {
          "output_type": "stream",
          "text": [
            "[CV] ...................................... max_depth=2, total=   1.4s\n",
            "[CV] max_depth=2 .....................................................\n",
            "[CV] ...................................... max_depth=2, total=   1.3s\n",
            "[CV] max_depth=2 .....................................................\n",
            "[CV] ...................................... max_depth=2, total=   1.3s\n",
            "[CV] max_depth=2 .....................................................\n",
            "[CV] ...................................... max_depth=2, total=   1.3s\n",
            "[CV] max_depth=3 .....................................................\n",
            "[CV] ...................................... max_depth=3, total=   1.9s\n",
            "[CV] max_depth=3 .....................................................\n",
            "[CV] ...................................... max_depth=3, total=   1.9s\n",
            "[CV] max_depth=3 .....................................................\n",
            "[CV] ...................................... max_depth=3, total=   1.9s\n",
            "[CV] max_depth=3 .....................................................\n",
            "[CV] ...................................... max_depth=3, total=   1.9s\n",
            "[CV] max_depth=3 .....................................................\n",
            "[CV] ...................................... max_depth=3, total=   1.9s\n",
            "[CV] max_depth=4 .....................................................\n",
            "[CV] ...................................... max_depth=4, total=   2.4s\n",
            "[CV] max_depth=4 .....................................................\n",
            "[CV] ...................................... max_depth=4, total=   2.4s\n",
            "[CV] max_depth=4 .....................................................\n",
            "[CV] ...................................... max_depth=4, total=   2.5s\n",
            "[CV] max_depth=4 .....................................................\n",
            "[CV] ...................................... max_depth=4, total=   2.4s\n",
            "[CV] max_depth=4 .....................................................\n",
            "[CV] ...................................... max_depth=4, total=   2.4s\n",
            "[CV] max_depth=5 .....................................................\n",
            "[CV] ...................................... max_depth=5, total=   3.0s\n",
            "[CV] max_depth=5 .....................................................\n",
            "[CV] ...................................... max_depth=5, total=   3.0s\n",
            "[CV] max_depth=5 .....................................................\n",
            "[CV] ...................................... max_depth=5, total=   3.0s\n",
            "[CV] max_depth=5 .....................................................\n",
            "[CV] ...................................... max_depth=5, total=   3.0s\n",
            "[CV] max_depth=5 .....................................................\n",
            "[CV] ...................................... max_depth=5, total=   3.0s\n",
            "[CV] max_depth=6 .....................................................\n",
            "[CV] ...................................... max_depth=6, total=   3.5s\n",
            "[CV] max_depth=6 .....................................................\n",
            "[CV] ...................................... max_depth=6, total=   3.5s\n",
            "[CV] max_depth=6 .....................................................\n",
            "[CV] ...................................... max_depth=6, total=   3.6s\n",
            "[CV] max_depth=6 .....................................................\n",
            "[CV] ...................................... max_depth=6, total=   3.5s\n",
            "[CV] max_depth=6 .....................................................\n",
            "[CV] ...................................... max_depth=6, total=   3.5s\n",
            "[CV] max_depth=7 .....................................................\n",
            "[CV] ...................................... max_depth=7, total=   4.0s\n",
            "[CV] max_depth=7 .....................................................\n",
            "[CV] ...................................... max_depth=7, total=   4.0s\n",
            "[CV] max_depth=7 .....................................................\n",
            "[CV] ...................................... max_depth=7, total=   4.0s\n",
            "[CV] max_depth=7 .....................................................\n",
            "[CV] ...................................... max_depth=7, total=   4.0s\n",
            "[CV] max_depth=7 .....................................................\n",
            "[CV] ...................................... max_depth=7, total=   3.9s\n",
            "[CV] max_depth=8 .....................................................\n",
            "[CV] ...................................... max_depth=8, total=   4.4s\n",
            "[CV] max_depth=8 .....................................................\n",
            "[CV] ...................................... max_depth=8, total=   4.4s\n",
            "[CV] max_depth=8 .....................................................\n",
            "[CV] ...................................... max_depth=8, total=   4.4s\n",
            "[CV] max_depth=8 .....................................................\n",
            "[CV] ...................................... max_depth=8, total=   4.4s\n",
            "[CV] max_depth=8 .....................................................\n",
            "[CV] ...................................... max_depth=8, total=   4.4s\n",
            "[CV] max_depth=9 .....................................................\n",
            "[CV] ...................................... max_depth=9, total=   4.9s\n",
            "[CV] max_depth=9 .....................................................\n",
            "[CV] ...................................... max_depth=9, total=   4.9s\n",
            "[CV] max_depth=9 .....................................................\n",
            "[CV] ...................................... max_depth=9, total=   5.0s\n",
            "[CV] max_depth=9 .....................................................\n",
            "[CV] ...................................... max_depth=9, total=   4.9s\n",
            "[CV] max_depth=9 .....................................................\n",
            "[CV] ...................................... max_depth=9, total=   4.9s\n",
            "[CV] max_depth=10 ....................................................\n",
            "[CV] ..................................... max_depth=10, total=   5.3s\n",
            "[CV] max_depth=10 ....................................................\n",
            "[CV] ..................................... max_depth=10, total=   5.4s\n",
            "[CV] max_depth=10 ....................................................\n",
            "[CV] ..................................... max_depth=10, total=   5.4s\n",
            "[CV] max_depth=10 ....................................................\n",
            "[CV] ..................................... max_depth=10, total=   5.3s\n",
            "[CV] max_depth=10 ....................................................\n",
            "[CV] ..................................... max_depth=10, total=   5.3s\n",
            "[CV] max_depth=11 ....................................................\n",
            "[CV] ..................................... max_depth=11, total=   5.7s\n",
            "[CV] max_depth=11 ....................................................\n",
            "[CV] ..................................... max_depth=11, total=   5.7s\n",
            "[CV] max_depth=11 ....................................................\n",
            "[CV] ..................................... max_depth=11, total=   5.7s\n",
            "[CV] max_depth=11 ....................................................\n",
            "[CV] ..................................... max_depth=11, total=   5.7s\n",
            "[CV] max_depth=11 ....................................................\n",
            "[CV] ..................................... max_depth=11, total=   5.7s\n",
            "[CV] max_depth=12 ....................................................\n",
            "[CV] ..................................... max_depth=12, total=   6.1s\n",
            "[CV] max_depth=12 ....................................................\n",
            "[CV] ..................................... max_depth=12, total=   6.1s\n",
            "[CV] max_depth=12 ....................................................\n",
            "[CV] ..................................... max_depth=12, total=   6.1s\n",
            "[CV] max_depth=12 ....................................................\n",
            "[CV] ..................................... max_depth=12, total=   6.1s\n",
            "[CV] max_depth=12 ....................................................\n",
            "[CV] ..................................... max_depth=12, total=   6.1s\n",
            "[CV] max_depth=13 ....................................................\n",
            "[CV] ..................................... max_depth=13, total=   6.5s\n",
            "[CV] max_depth=13 ....................................................\n",
            "[CV] ..................................... max_depth=13, total=   6.5s\n",
            "[CV] max_depth=13 ....................................................\n",
            "[CV] ..................................... max_depth=13, total=   6.6s\n",
            "[CV] max_depth=13 ....................................................\n",
            "[CV] ..................................... max_depth=13, total=   6.4s\n",
            "[CV] max_depth=13 ....................................................\n",
            "[CV] ..................................... max_depth=13, total=   6.4s\n",
            "[CV] max_depth=14 ....................................................\n",
            "[CV] ..................................... max_depth=14, total=   6.8s\n",
            "[CV] max_depth=14 ....................................................\n",
            "[CV] ..................................... max_depth=14, total=   6.8s\n",
            "[CV] max_depth=14 ....................................................\n",
            "[CV] ..................................... max_depth=14, total=   6.9s\n",
            "[CV] max_depth=14 ....................................................\n",
            "[CV] ..................................... max_depth=14, total=   6.8s\n",
            "[CV] max_depth=14 ....................................................\n",
            "[CV] ..................................... max_depth=14, total=   6.8s\n"
          ],
          "name": "stdout"
        },
        {
          "output_type": "stream",
          "text": [
            "[Parallel(n_jobs=1)]: Done  65 out of  65 | elapsed:  4.7min finished\n"
          ],
          "name": "stderr"
        },
        {
          "output_type": "execute_result",
          "data": {
            "text/plain": [
              "GridSearchCV(cv=None, error_score=nan,\n",
              "             estimator=RandomForestRegressor(bootstrap=True, ccp_alpha=0.0,\n",
              "                                             criterion='mse', max_depth=None,\n",
              "                                             max_features='auto',\n",
              "                                             max_leaf_nodes=None,\n",
              "                                             max_samples=None,\n",
              "                                             min_impurity_decrease=0.0,\n",
              "                                             min_impurity_split=None,\n",
              "                                             min_samples_leaf=1,\n",
              "                                             min_samples_split=2,\n",
              "                                             min_weight_fraction_leaf=0.0,\n",
              "                                             n_estimators=100, n_jobs=None,\n",
              "                                             oob_score=False, random_state=None,\n",
              "                                             verbose=0, warm_start=False),\n",
              "             iid='deprecated', n_jobs=None,\n",
              "             param_grid={'max_depth': range(2, 15)}, pre_dispatch='2*n_jobs',\n",
              "             refit=True, return_train_score=False,\n",
              "             scoring=make_scorer(mae, greater_is_better=False), verbose=2)"
            ]
          },
          "metadata": {
            "tags": []
          },
          "execution_count": 39
        }
      ]
    },
    {
      "cell_type": "code",
      "metadata": {
        "id": "F8Qq0F_T9kzr",
        "colab_type": "code",
        "colab": {
          "base_uri": "https://localhost:8080/",
          "height": 70
        },
        "outputId": "adcfc448-d446-4f5e-aa57-e4c2b444e0b8"
      },
      "source": [
        "# best parameter 적용\n",
        "kf = KFold(n_splits=5)\n",
        "scores = []\n",
        "for train_index, test_index in kf.split(X_train):\n",
        "    rf = RandomForestRegressor(max_depth = gs_rf.best_params_['max_depth'])\n",
        "    rf.fit(X_train[train_index], y_train[train_index])\n",
        "    pred = rf.predict(X_train[test_index])\n",
        "    scores.append(mae(y_train[test_index], pred))\n",
        "\n",
        "Random_Forest_cv_mae = np.mean(scores)\n",
        "print('Random Forest Regressor, max_depth = {}'.format(gs_rf.best_params_['max_depth']))\n",
        "print(f'Random Forest Regressor cv_mae_score = {Random_Forest_cv_mae}\\n')"
      ],
      "execution_count": null,
      "outputs": [
        {
          "output_type": "stream",
          "text": [
            "Random Forest Regressor, max_depth = 10\n",
            "Random Forest Regressor cv_mae_score = 17.191883948135633\n",
            "\n"
          ],
          "name": "stdout"
        }
      ]
    },
    {
      "cell_type": "code",
      "metadata": {
        "id": "3mHvMwSP9sJl",
        "colab_type": "code",
        "colab": {
          "base_uri": "https://localhost:8080/",
          "height": 295
        },
        "outputId": "1c50c149-417c-4b29-bd1f-0a7c94d60ca2"
      },
      "source": [
        "plt.plot(range(2,15), - gs_rf.cv_results_['mean_test_score'])\n",
        "plt.title('Random Forest Regressor')\n",
        "plt.xlabel('max depth')\n",
        "plt.ylabel('cv mean test score')\n",
        "plt.show()"
      ],
      "execution_count": null,
      "outputs": [
        {
          "output_type": "display_data",
          "data": {
            "image/png": "[encoded data removed]",
            "text/plain": [
              "<Figure size 432x288 with 1 Axes>"
            ]
          },
          "metadata": {
            "tags": [],
            "needs_background": "light"
          }
        }
      ]
    },
    {
      "cell_type": "code",
      "metadata": {
        "id": "cnKoEfvKWh6a",
        "colab_type": "code",
        "colab": {
          "base_uri": "https://localhost:8080/",
          "height": 70
        },
        "outputId": "b4c2903c-2049-474f-9200-ff06c9d2a911"
      },
      "source": [
        "# best parameter 적용\n",
        "kf = KFold(n_splits=5)\n",
        "scores = []\n",
        "for train_index, test_index in kf.split(X_train_normalized):\n",
        "    rf = gs_rf.best_estimator_\n",
        "    rf.fit(X_train_normalized[train_index], y_train[train_index])\n",
        "    pred = rf.predict(X_train_normalized[test_index])\n",
        "    scores.append(mae(y_train[test_index], pred))\n",
        "\n",
        "Random_Forest_cv_mae = np.mean(scores)\n",
        "print('Random Forest Regressor, max_depth = {}'.format(gs_rf.best_params_['max_depth']))\n",
        "print(f'Random Forest Regressor cv_mae_score = {Random_Forest_cv_mae}\\n')"
      ],
      "execution_count": null,
      "outputs": [
        {
          "output_type": "stream",
          "text": [
            "Random Forest Regressor, max_depth = 10\n",
            "Random Forest Regressor cv_mae_score = 17.177090103895743\n",
            "\n"
          ],
          "name": "stdout"
        }
      ]
    },
    {
      "cell_type": "markdown",
      "metadata": {
        "id": "YLHNp0zeEJ_7",
        "colab_type": "text"
      },
      "source": [
        "feature importance"
      ]
    },
    {
      "cell_type": "code",
      "metadata": {
        "id": "b7VUwemfEJdp",
        "colab_type": "code",
        "colab": {
          "base_uri": "https://localhost:8080/",
          "height": 263
        },
        "outputId": "4fb433de-e1e9-49c3-aaa1-30f728dd2a2c"
      },
      "source": [
        "# feature_importance: 가장 중요한 feature 인덱스 순으로 정렬\n",
        "rf.fit(X_train, y_train)\n",
        "fi = rf.feature_importances_.tolist()\n",
        "fi_sort = sorted(fi, reverse=True)\n",
        "\n",
        "\n",
        "\n",
        "feature_importance = []\n",
        "for i in range(14):\n",
        "    feature_importance.append(fi.index(fi_sort[i]))\n",
        "print('feature_importance : ',feature_importance)\n",
        "# 중요도 높은 feature 순서대로 선택하여 훈련\n",
        "cv_mae_selected = []\n",
        "for i in range(1,15):\n",
        "    X_train_selected = X_train[:,feature_importance[:i]]\n",
        "    kf = KFold(n_splits=5)\n",
        "    scores = []\n",
        "    for train_index, test_index in kf.split(X_train_selected):\n",
        "        rf = RandomForestRegressor(max_depth = gs_rf.best_params_['max_depth'])\n",
        "        rf.fit(X_train_selected[train_index], y_train[train_index])\n",
        "        pred = rf.predict(X_train_selected[test_index])\n",
        "        scores.append(mae(y_train[test_index], pred))\n",
        "    cv_mae = np.mean(scores)\n",
        "    cv_mae_selected.append(cv_mae)\n",
        "    print(i, 'fold')"
      ],
      "execution_count": null,
      "outputs": [
        {
          "output_type": "stream",
          "text": [
            "1 fold\n",
            "2 fold\n",
            "3 fold\n",
            "4 fold\n",
            "5 fold\n",
            "6 fold\n",
            "7 fold\n",
            "8 fold\n",
            "9 fold\n",
            "10 fold\n",
            "11 fold\n",
            "12 fold\n",
            "13 fold\n",
            "14 fold\n"
          ],
          "name": "stdout"
        }
      ]
    },
    {
      "cell_type": "code",
      "metadata": {
        "id": "G5yh1e_-RT5x",
        "colab_type": "code",
        "colab": {
          "base_uri": "https://localhost:8080/",
          "height": 295
        },
        "outputId": "5aafa2b7-38cb-472d-88fa-c4620014ee8d"
      },
      "source": [
        "# feature selection 시각화\n",
        "plt.plot(range(1,15), cv_mae_selected)\n",
        "plt.title('Feature Selection: Random Forest')\n",
        "plt.xlabel('training feature number')\n",
        "plt.ylabel('cv mae score')\n",
        "plt.show()"
      ],
      "execution_count": null,
      "outputs": [
        {
          "output_type": "display_data",
          "data": {
            "image/png": "[encoded data removed]",
            "text/plain": [
              "<Figure size 432x288 with 1 Axes>"
            ]
          },
          "metadata": {
            "tags": [],
            "needs_background": "light"
          }
        }
      ]
    },
    {
      "cell_type": "markdown",
      "metadata": {
        "id": "g85Qe_7vl94c",
        "colab_type": "text"
      },
      "source": [
        "## Gradient Boosting Regressor\n",
        "부스팅을 적용한 decision tree의 앙상블"
      ]
    },
    {
      "cell_type": "code",
      "metadata": {
        "id": "VSldv4Oq-Xm8",
        "colab_type": "code",
        "colab": {
          "base_uri": "https://localhost:8080/",
          "height": 1000
        },
        "outputId": "1f37fd39-0dca-405f-9979-5a5b4875f159"
      },
      "source": [
        "from sklearn.ensemble import GradientBoostingRegressor\n",
        "\n",
        "param_grid = {'max_depth': range(2,10),\n",
        "              'learning_rate': [0.05, .1]}\n",
        "gs_gbr = GridSearchCV(GradientBoostingRegressor(),\n",
        "                      param_grid,\n",
        "                      refit=True,\n",
        "                       scoring = make_scorer(mae, greater_is_better=False),\n",
        "                       verbose=2)\n",
        "gs_gbr.fit(X_train, y_train)"
      ],
      "execution_count": null,
      "outputs": [
        {
          "output_type": "stream",
          "text": [
            "Fitting 5 folds for each of 16 candidates, totalling 80 fits\n",
            "[CV] learning_rate=0.05, max_depth=2 .................................\n"
          ],
          "name": "stdout"
        },
        {
          "output_type": "stream",
          "text": [
            "[Parallel(n_jobs=1)]: Using backend SequentialBackend with 1 concurrent workers.\n"
          ],
          "name": "stderr"
        },
        {
          "output_type": "stream",
          "text": [
            "[CV] .................. learning_rate=0.05, max_depth=2, total=   2.2s\n",
            "[CV] learning_rate=0.05, max_depth=2 .................................\n"
          ],
          "name": "stdout"
        },
        {
          "output_type": "stream",
          "text": [
            "[Parallel(n_jobs=1)]: Done   1 out of   1 | elapsed:    2.2s remaining:    0.0s\n"
          ],
          "name": "stderr"
        },
        {
          "output_type": "stream",
          "text": [
            "[CV] .................. learning_rate=0.05, max_depth=2, total=   2.2s\n",
            "[CV] learning_rate=0.05, max_depth=2 .................................\n",
            "[CV] .................. learning_rate=0.05, max_depth=2, total=   2.1s\n",
            "[CV] learning_rate=0.05, max_depth=2 .................................\n",
            "[CV] .................. learning_rate=0.05, max_depth=2, total=   2.1s\n",
            "[CV] learning_rate=0.05, max_depth=2 .................................\n",
            "[CV] .................. learning_rate=0.05, max_depth=2, total=   2.1s\n",
            "[CV] learning_rate=0.05, max_depth=3 .................................\n",
            "[CV] .................. learning_rate=0.05, max_depth=3, total=   3.1s\n",
            "[CV] learning_rate=0.05, max_depth=3 .................................\n",
            "[CV] .................. learning_rate=0.05, max_depth=3, total=   3.1s\n",
            "[CV] learning_rate=0.05, max_depth=3 .................................\n",
            "[CV] .................. learning_rate=0.05, max_depth=3, total=   3.1s\n",
            "[CV] learning_rate=0.05, max_depth=3 .................................\n",
            "[CV] .................. learning_rate=0.05, max_depth=3, total=   3.1s\n",
            "[CV] learning_rate=0.05, max_depth=3 .................................\n",
            "[CV] .................. learning_rate=0.05, max_depth=3, total=   3.1s\n",
            "[CV] learning_rate=0.05, max_depth=4 .................................\n",
            "[CV] .................. learning_rate=0.05, max_depth=4, total=   4.1s\n",
            "[CV] learning_rate=0.05, max_depth=4 .................................\n",
            "[CV] .................. learning_rate=0.05, max_depth=4, total=   4.1s\n",
            "[CV] learning_rate=0.05, max_depth=4 .................................\n",
            "[CV] .................. learning_rate=0.05, max_depth=4, total=   4.1s\n",
            "[CV] learning_rate=0.05, max_depth=4 .................................\n",
            "[CV] .................. learning_rate=0.05, max_depth=4, total=   4.1s\n",
            "[CV] learning_rate=0.05, max_depth=4 .................................\n",
            "[CV] .................. learning_rate=0.05, max_depth=4, total=   4.1s\n",
            "[CV] learning_rate=0.05, max_depth=5 .................................\n",
            "[CV] .................. learning_rate=0.05, max_depth=5, total=   5.0s\n",
            "[CV] learning_rate=0.05, max_depth=5 .................................\n",
            "[CV] .................. learning_rate=0.05, max_depth=5, total=   5.0s\n",
            "[CV] learning_rate=0.05, max_depth=5 .................................\n",
            "[CV] .................. learning_rate=0.05, max_depth=5, total=   5.0s\n",
            "[CV] learning_rate=0.05, max_depth=5 .................................\n",
            "[CV] .................. learning_rate=0.05, max_depth=5, total=   5.0s\n",
            "[CV] learning_rate=0.05, max_depth=5 .................................\n",
            "[CV] .................. learning_rate=0.05, max_depth=5, total=   5.0s\n",
            "[CV] learning_rate=0.05, max_depth=6 .................................\n",
            "[CV] .................. learning_rate=0.05, max_depth=6, total=   6.0s\n",
            "[CV] learning_rate=0.05, max_depth=6 .................................\n",
            "[CV] .................. learning_rate=0.05, max_depth=6, total=   6.0s\n",
            "[CV] learning_rate=0.05, max_depth=6 .................................\n",
            "[CV] .................. learning_rate=0.05, max_depth=6, total=   6.1s\n",
            "[CV] learning_rate=0.05, max_depth=6 .................................\n",
            "[CV] .................. learning_rate=0.05, max_depth=6, total=   6.0s\n",
            "[CV] learning_rate=0.05, max_depth=6 .................................\n",
            "[CV] .................. learning_rate=0.05, max_depth=6, total=   6.0s\n",
            "[CV] learning_rate=0.05, max_depth=7 .................................\n",
            "[CV] .................. learning_rate=0.05, max_depth=7, total=   6.8s\n",
            "[CV] learning_rate=0.05, max_depth=7 .................................\n",
            "[CV] .................. learning_rate=0.05, max_depth=7, total=   6.9s\n",
            "[CV] learning_rate=0.05, max_depth=7 .................................\n",
            "[CV] .................. learning_rate=0.05, max_depth=7, total=   6.9s\n",
            "[CV] learning_rate=0.05, max_depth=7 .................................\n",
            "[CV] .................. learning_rate=0.05, max_depth=7, total=   6.8s\n",
            "[CV] learning_rate=0.05, max_depth=7 .................................\n",
            "[CV] .................. learning_rate=0.05, max_depth=7, total=   6.8s\n",
            "[CV] learning_rate=0.05, max_depth=8 .................................\n",
            "[CV] .................. learning_rate=0.05, max_depth=8, total=   7.7s\n",
            "[CV] learning_rate=0.05, max_depth=8 .................................\n",
            "[CV] .................. learning_rate=0.05, max_depth=8, total=   7.8s\n",
            "[CV] learning_rate=0.05, max_depth=8 .................................\n",
            "[CV] .................. learning_rate=0.05, max_depth=8, total=   7.8s\n",
            "[CV] learning_rate=0.05, max_depth=8 .................................\n",
            "[CV] .................. learning_rate=0.05, max_depth=8, total=   7.8s\n",
            "[CV] learning_rate=0.05, max_depth=8 .................................\n",
            "[CV] .................. learning_rate=0.05, max_depth=8, total=   7.7s\n",
            "[CV] learning_rate=0.05, max_depth=9 .................................\n",
            "[CV] .................. learning_rate=0.05, max_depth=9, total=   8.7s\n",
            "[CV] learning_rate=0.05, max_depth=9 .................................\n",
            "[CV] .................. learning_rate=0.05, max_depth=9, total=   8.7s\n",
            "[CV] learning_rate=0.05, max_depth=9 .................................\n",
            "[CV] .................. learning_rate=0.05, max_depth=9, total=   8.6s\n",
            "[CV] learning_rate=0.05, max_depth=9 .................................\n",
            "[CV] .................. learning_rate=0.05, max_depth=9, total=   8.7s\n",
            "[CV] learning_rate=0.05, max_depth=9 .................................\n",
            "[CV] .................. learning_rate=0.05, max_depth=9, total=   8.6s\n",
            "[CV] learning_rate=0.1, max_depth=2 ..................................\n",
            "[CV] ................... learning_rate=0.1, max_depth=2, total=   2.1s\n",
            "[CV] learning_rate=0.1, max_depth=2 ..................................\n",
            "[CV] ................... learning_rate=0.1, max_depth=2, total=   2.1s\n",
            "[CV] learning_rate=0.1, max_depth=2 ..................................\n",
            "[CV] ................... learning_rate=0.1, max_depth=2, total=   2.1s\n",
            "[CV] learning_rate=0.1, max_depth=2 ..................................\n",
            "[CV] ................... learning_rate=0.1, max_depth=2, total=   2.1s\n",
            "[CV] learning_rate=0.1, max_depth=2 ..................................\n",
            "[CV] ................... learning_rate=0.1, max_depth=2, total=   2.1s\n",
            "[CV] learning_rate=0.1, max_depth=3 ..................................\n",
            "[CV] ................... learning_rate=0.1, max_depth=3, total=   3.1s\n",
            "[CV] learning_rate=0.1, max_depth=3 ..................................\n",
            "[CV] ................... learning_rate=0.1, max_depth=3, total=   3.1s\n",
            "[CV] learning_rate=0.1, max_depth=3 ..................................\n",
            "[CV] ................... learning_rate=0.1, max_depth=3, total=   3.1s\n",
            "[CV] learning_rate=0.1, max_depth=3 ..................................\n",
            "[CV] ................... learning_rate=0.1, max_depth=3, total=   3.1s\n",
            "[CV] learning_rate=0.1, max_depth=3 ..................................\n",
            "[CV] ................... learning_rate=0.1, max_depth=3, total=   3.2s\n",
            "[CV] learning_rate=0.1, max_depth=4 ..................................\n",
            "[CV] ................... learning_rate=0.1, max_depth=4, total=   4.1s\n",
            "[CV] learning_rate=0.1, max_depth=4 ..................................\n",
            "[CV] ................... learning_rate=0.1, max_depth=4, total=   4.1s\n",
            "[CV] learning_rate=0.1, max_depth=4 ..................................\n",
            "[CV] ................... learning_rate=0.1, max_depth=4, total=   4.1s\n",
            "[CV] learning_rate=0.1, max_depth=4 ..................................\n",
            "[CV] ................... learning_rate=0.1, max_depth=4, total=   4.1s\n",
            "[CV] learning_rate=0.1, max_depth=4 ..................................\n",
            "[CV] ................... learning_rate=0.1, max_depth=4, total=   4.1s\n",
            "[CV] learning_rate=0.1, max_depth=5 ..................................\n",
            "[CV] ................... learning_rate=0.1, max_depth=5, total=   5.1s\n",
            "[CV] learning_rate=0.1, max_depth=5 ..................................\n",
            "[CV] ................... learning_rate=0.1, max_depth=5, total=   5.1s\n",
            "[CV] learning_rate=0.1, max_depth=5 ..................................\n",
            "[CV] ................... learning_rate=0.1, max_depth=5, total=   5.0s\n",
            "[CV] learning_rate=0.1, max_depth=5 ..................................\n",
            "[CV] ................... learning_rate=0.1, max_depth=5, total=   5.1s\n",
            "[CV] learning_rate=0.1, max_depth=5 ..................................\n",
            "[CV] ................... learning_rate=0.1, max_depth=5, total=   5.0s\n",
            "[CV] learning_rate=0.1, max_depth=6 ..................................\n",
            "[CV] ................... learning_rate=0.1, max_depth=6, total=   6.0s\n",
            "[CV] learning_rate=0.1, max_depth=6 ..................................\n",
            "[CV] ................... learning_rate=0.1, max_depth=6, total=   6.0s\n",
            "[CV] learning_rate=0.1, max_depth=6 ..................................\n",
            "[CV] ................... learning_rate=0.1, max_depth=6, total=   6.0s\n",
            "[CV] learning_rate=0.1, max_depth=6 ..................................\n",
            "[CV] ................... learning_rate=0.1, max_depth=6, total=   6.0s\n",
            "[CV] learning_rate=0.1, max_depth=6 ..................................\n",
            "[CV] ................... learning_rate=0.1, max_depth=6, total=   6.1s\n",
            "[CV] learning_rate=0.1, max_depth=7 ..................................\n",
            "[CV] ................... learning_rate=0.1, max_depth=7, total=   7.0s\n",
            "[CV] learning_rate=0.1, max_depth=7 ..................................\n",
            "[CV] ................... learning_rate=0.1, max_depth=7, total=   7.0s\n",
            "[CV] learning_rate=0.1, max_depth=7 ..................................\n",
            "[CV] ................... learning_rate=0.1, max_depth=7, total=   7.0s\n",
            "[CV] learning_rate=0.1, max_depth=7 ..................................\n",
            "[CV] ................... learning_rate=0.1, max_depth=7, total=   7.0s\n",
            "[CV] learning_rate=0.1, max_depth=7 ..................................\n",
            "[CV] ................... learning_rate=0.1, max_depth=7, total=   7.0s\n",
            "[CV] learning_rate=0.1, max_depth=8 ..................................\n",
            "[CV] ................... learning_rate=0.1, max_depth=8, total=   7.9s\n",
            "[CV] learning_rate=0.1, max_depth=8 ..................................\n",
            "[CV] ................... learning_rate=0.1, max_depth=8, total=   7.9s\n",
            "[CV] learning_rate=0.1, max_depth=8 ..................................\n",
            "[CV] ................... learning_rate=0.1, max_depth=8, total=   7.9s\n",
            "[CV] learning_rate=0.1, max_depth=8 ..................................\n",
            "[CV] ................... learning_rate=0.1, max_depth=8, total=   7.9s\n",
            "[CV] learning_rate=0.1, max_depth=8 ..................................\n",
            "[CV] ................... learning_rate=0.1, max_depth=8, total=   8.0s\n",
            "[CV] learning_rate=0.1, max_depth=9 ..................................\n",
            "[CV] ................... learning_rate=0.1, max_depth=9, total=   8.9s\n",
            "[CV] learning_rate=0.1, max_depth=9 ..................................\n",
            "[CV] ................... learning_rate=0.1, max_depth=9, total=   8.9s\n",
            "[CV] learning_rate=0.1, max_depth=9 ..................................\n",
            "[CV] ................... learning_rate=0.1, max_depth=9, total=   8.8s\n",
            "[CV] learning_rate=0.1, max_depth=9 ..................................\n",
            "[CV] ................... learning_rate=0.1, max_depth=9, total=   8.8s\n",
            "[CV] learning_rate=0.1, max_depth=9 ..................................\n",
            "[CV] ................... learning_rate=0.1, max_depth=9, total=   8.8s\n"
          ],
          "name": "stdout"
        },
        {
          "output_type": "stream",
          "text": [
            "[Parallel(n_jobs=1)]: Done  80 out of  80 | elapsed:  7.3min finished\n"
          ],
          "name": "stderr"
        },
        {
          "output_type": "execute_result",
          "data": {
            "text/plain": [
              "GridSearchCV(cv=None, error_score=nan,\n",
              "             estimator=GradientBoostingRegressor(alpha=0.9, ccp_alpha=0.0,\n",
              "                                                 criterion='friedman_mse',\n",
              "                                                 init=None, learning_rate=0.1,\n",
              "                                                 loss='ls', max_depth=3,\n",
              "                                                 max_features=None,\n",
              "                                                 max_leaf_nodes=None,\n",
              "                                                 min_impurity_decrease=0.0,\n",
              "                                                 min_impurity_split=None,\n",
              "                                                 min_samples_leaf=1,\n",
              "                                                 min_samples_split=2,\n",
              "                                                 min_weight_fraction_leaf=0.0,\n",
              "                                                 n_estimators=100,\n",
              "                                                 n_iter_no_change=None,\n",
              "                                                 presort='deprecated',\n",
              "                                                 random_state=None,\n",
              "                                                 subsample=1.0, tol=0.0001,\n",
              "                                                 validation_fraction=0.1,\n",
              "                                                 verbose=0, warm_start=False),\n",
              "             iid='deprecated', n_jobs=None,\n",
              "             param_grid={'learning_rate': [0.05, 0.1],\n",
              "                         'max_depth': range(2, 10)},\n",
              "             pre_dispatch='2*n_jobs', refit=True, return_train_score=False,\n",
              "             scoring=make_scorer(mae, greater_is_better=False), verbose=2)"
            ]
          },
          "metadata": {
            "tags": []
          },
          "execution_count": 66
        }
      ]
    },
    {
      "cell_type": "code",
      "metadata": {
        "id": "nD7eYJmDAP9t",
        "colab_type": "code",
        "colab": {
          "base_uri": "https://localhost:8080/",
          "height": 70
        },
        "outputId": "e983057f-6914-4894-b2b4-a09bdfb78e4c"
      },
      "source": [
        "# best parameter 적용\n",
        "\n",
        "kf = KFold(n_splits=5)\n",
        "scores = []\n",
        "\n",
        "for train_index, test_index in kf.split(X_train):\n",
        "    gbr = GradientBoostingRegressor(max_depth = gs_gbr.best_params_['max_depth'], learning_rate = gs_gbr.best_params_['learning_rate'])\n",
        "    gbr.fit(X_train[train_index], y_train[train_index])\n",
        "    pred = gbr.predict(X_train[test_index])\n",
        "    scores.append(mae(y_train[test_index], pred))\n",
        "\n",
        "GBR_cv_mae = np.mean(scores)\n",
        "print('Gradient Boosting Regressor, max_depth = {0}, learning_rate = {1}'.format(gs_gbr.best_params_['max_depth'], gs_gbr.best_params_['learning_rate']))\n",
        "print(f'Gradient Boosting Regressor cv_mae_score = {GBR_cv_mae}\\n')"
      ],
      "execution_count": null,
      "outputs": [
        {
          "output_type": "stream",
          "text": [
            "Gradient Boosting Regressor, max_depth = 4, learning_rate = 0.1\n",
            "Gradient Boosting Regressor cv_mae_score = 17.271155098545016\n",
            "\n"
          ],
          "name": "stdout"
        }
      ]
    },
    {
      "cell_type": "code",
      "metadata": {
        "id": "gZ5w4582B2xF",
        "colab_type": "code",
        "colab": {
          "base_uri": "https://localhost:8080/",
          "height": 1000
        },
        "outputId": "77ec1ce6-f967-4d24-cdc5-9f5a6fc6ce76"
      },
      "source": [
        "gs_gbr.cv_results_"
      ],
      "execution_count": null,
      "outputs": [
        {
          "output_type": "execute_result",
          "data": {
            "text/plain": [
              "{'mean_fit_time': array([2.12826519, 3.1077611 , 4.06154494, 5.0069335 , 5.99009719,\n",
              "        6.84406705, 7.75559483, 8.64030123, 2.11163206, 3.13011212,\n",
              "        4.105794  , 5.05854573, 6.01675529, 6.96495166, 7.91209188,\n",
              "        8.8309412 ]),\n",
              " 'mean_score_time': array([0.0023571 , 0.00287457, 0.00382924, 0.00427761, 0.00506439,\n",
              "        0.00599513, 0.00702343, 0.00816445, 0.0020679 , 0.00256653,\n",
              "        0.00330472, 0.00385585, 0.00460081, 0.00535355, 0.00648355,\n",
              "        0.00740738]),\n",
              " 'mean_test_score': array([-17.40891205, -17.32509413, -17.28619111, -17.26929075,\n",
              "        -17.28321734, -17.26863133, -17.336664  , -17.40826343,\n",
              "        -17.32935654, -17.2707714 , -17.26715049, -17.33714046,\n",
              "        -17.39797922, -17.40002239, -17.57096639, -17.63744888]),\n",
              " 'param_learning_rate': masked_array(data=[0.05, 0.05, 0.05, 0.05, 0.05, 0.05, 0.05, 0.05, 0.1,\n",
              "                    0.1, 0.1, 0.1, 0.1, 0.1, 0.1, 0.1],\n",
              "              mask=[False, False, False, False, False, False, False, False,\n",
              "                    False, False, False, False, False, False, False, False],\n",
              "        fill_value='?',\n",
              "             dtype=object),\n",
              " 'param_max_depth': masked_array(data=[2, 3, 4, 5, 6, 7, 8, 9, 2, 3, 4, 5, 6, 7, 8, 9],\n",
              "              mask=[False, False, False, False, False, False, False, False,\n",
              "                    False, False, False, False, False, False, False, False],\n",
              "        fill_value='?',\n",
              "             dtype=object),\n",
              " 'params': [{'learning_rate': 0.05, 'max_depth': 2},\n",
              "  {'learning_rate': 0.05, 'max_depth': 3},\n",
              "  {'learning_rate': 0.05, 'max_depth': 4},\n",
              "  {'learning_rate': 0.05, 'max_depth': 5},\n",
              "  {'learning_rate': 0.05, 'max_depth': 6},\n",
              "  {'learning_rate': 0.05, 'max_depth': 7},\n",
              "  {'learning_rate': 0.05, 'max_depth': 8},\n",
              "  {'learning_rate': 0.05, 'max_depth': 9},\n",
              "  {'learning_rate': 0.1, 'max_depth': 2},\n",
              "  {'learning_rate': 0.1, 'max_depth': 3},\n",
              "  {'learning_rate': 0.1, 'max_depth': 4},\n",
              "  {'learning_rate': 0.1, 'max_depth': 5},\n",
              "  {'learning_rate': 0.1, 'max_depth': 6},\n",
              "  {'learning_rate': 0.1, 'max_depth': 7},\n",
              "  {'learning_rate': 0.1, 'max_depth': 8},\n",
              "  {'learning_rate': 0.1, 'max_depth': 9}],\n",
              " 'rank_test_score': array([14,  7,  6,  3,  5,  2,  9, 13,  8,  4,  1, 10, 11, 12, 15, 16],\n",
              "       dtype=int32),\n",
              " 'split0_test_score': array([-18.02613042, -17.92797039, -17.84725533, -17.79945524,\n",
              "        -17.7841287 , -17.73583131, -17.77522563, -17.84221897,\n",
              "        -17.90860997, -17.82393735, -17.8016277 , -17.85155217,\n",
              "        -17.83407543, -17.78234154, -17.94183012, -17.94834357]),\n",
              " 'split1_test_score': array([-16.63751479, -16.5721297 , -16.5733984 , -16.62077527,\n",
              "        -16.61038276, -16.61711151, -16.70410079, -16.77075976,\n",
              "        -16.57497746, -16.5558871 , -16.63513866, -16.71241532,\n",
              "        -16.77050109, -16.86615403, -17.03850177, -16.97921878]),\n",
              " 'split2_test_score': array([-17.20243224, -17.06746867, -17.07945702, -17.10710104,\n",
              "        -17.13221099, -17.17496106, -17.20660951, -17.44530736,\n",
              "        -17.14018986, -17.0305432 , -17.06885112, -17.26504771,\n",
              "        -17.34154763, -17.38311213, -17.54790053, -17.6145988 ]),\n",
              " 'split3_test_score': array([-17.76491207, -17.72256939, -17.71234312, -17.62130279,\n",
              "        -17.64225447, -17.58452273, -17.59313781, -17.60060163,\n",
              "        -17.69004418, -17.64139563, -17.63102217, -17.63619502,\n",
              "        -17.75819521, -17.65673228, -17.84835083, -17.76266216]),\n",
              " 'split4_test_score': array([-17.41357073, -17.33533248, -17.21850168, -17.19781943,\n",
              "        -17.24710976, -17.23073004, -17.40424624, -17.38242941,\n",
              "        -17.33296125, -17.30209373, -17.1991128 , -17.22049206,\n",
              "        -17.28557673, -17.311772  , -17.4782487 , -17.88242112]),\n",
              " 'std_fit_time': array([0.01763979, 0.01476055, 0.00725814, 0.01544874, 0.03560488,\n",
              "        0.01615674, 0.04470627, 0.06520957, 0.00285818, 0.01852299,\n",
              "        0.01741622, 0.02207658, 0.02414758, 0.02905537, 0.03081781,\n",
              "        0.03168805]),\n",
              " 'std_score_time': array([2.17655433e-04, 1.29456625e-04, 5.23591432e-04, 7.16054153e-05,\n",
              "        1.23791518e-04, 1.00777771e-04, 1.68120408e-04, 2.29133100e-04,\n",
              "        9.57144860e-05, 5.24372166e-05, 1.04632677e-04, 9.39787370e-05,\n",
              "        1.39471193e-04, 8.42978239e-05, 1.54438936e-04, 1.27710612e-04]),\n",
              " 'std_test_score': array([0.47862383, 0.48059911, 0.45864864, 0.41399827, 0.41391615,\n",
              "        0.38800822, 0.36870933, 0.35602303, 0.46271264, 0.45013445,\n",
              "        0.41508052, 0.39067602, 0.38196416, 0.3178545 , 0.31847424,\n",
              "        0.34817647])}"
            ]
          },
          "metadata": {
            "tags": []
          },
          "execution_count": 70
        }
      ]
    },
    {
      "cell_type": "code",
      "metadata": {
        "id": "o74Ks7ObAQeU",
        "colab_type": "code",
        "colab": {
          "base_uri": "https://localhost:8080/",
          "height": 295
        },
        "outputId": "67b33158-1eff-4a9d-869e-7ae878382080"
      },
      "source": [
        "plt.plot(range(2,10), -gs_gbr.cv_results_['mean_test_score'][:8], label = 'learning_rate = 0.05')\n",
        "plt.plot(range(2,10), -gs_gbr.cv_results_['mean_test_score'][8:], label = 'learning_rate = 0.1')\n",
        "plt.legend()\n",
        "\n",
        "plt.title('Gradient Boosting Regressor')\n",
        "plt.xlabel('max depth')\n",
        "plt.ylabel('cv mean test score')\n",
        "plt.show()"
      ],
      "execution_count": null,
      "outputs": [
        {
          "output_type": "display_data",
          "data": {
            "image/png": "[encoded data removed]",
            "text/plain": [
              "<Figure size 432x288 with 1 Axes>"
            ]
          },
          "metadata": {
            "tags": [],
            "needs_background": "light"
          }
        }
      ]
    },
    {
      "cell_type": "markdown",
      "metadata": {
        "id": "TRrCGVg6ATXB",
        "colab_type": "text"
      },
      "source": [
        "## feature selection"
      ]
    },
    {
      "cell_type": "markdown",
      "metadata": {
        "id": "fsJQh_SwDd60",
        "colab_type": "text"
      },
      "source": [
        "### Random Forest feature selection"
      ]
    },
    {
      "cell_type": "markdown",
      "metadata": {
        "id": "xm1X5mDoDYao",
        "colab_type": "text"
      },
      "source": [
        "### Gradient Boosting feature selection"
      ]
    },
    {
      "cell_type": "code",
      "metadata": {
        "id": "afGNoBdtYuZY",
        "colab_type": "code",
        "colab": {
          "base_uri": "https://localhost:8080/",
          "height": 34
        },
        "outputId": "f9751c5e-9394-4c29-beeb-5f9b7738a460"
      },
      "source": [
        "# feature_importance: 가장 중요한 feature 인덱스 순으로 정렬\n",
        "gbr = gs_gbr.best_estimator_\n",
        "gbr.fit(X_train, y_train)\n",
        "fi = gbr.feature_importances_.tolist()\n",
        "fi_sort = sorted(fi, reverse=True)\n",
        "feature_importance = []\n",
        "for i in range(14):\n",
        "    feature_importance.append(fi.index(fi_sort[i]))\n",
        "\n",
        "# 중요도 높은 feature 순서대로 선택하여 훈련\n",
        "cv_mae_selected = []\n",
        "for i in tqdm(range(1,15)): \n",
        "    X_train_selected = X_train[:,feature_importance[:i]]\n",
        "    kf = KFold(n_splits=5)\n",
        "    scores = []\n",
        "    for train_index, test_index in kf.split(X_train_selected):\n",
        "        gbr = gs_gbr.best_estimator_\n",
        "        gbr.fit(X_train_selected[train_index], y_train[train_index])\n",
        "        pred = gbr.predict(X_train_selected[test_index])\n",
        "        scores.append(mae(y_train[test_index], pred))\n",
        "        \n",
        "    cv_mae = np.mean(scores)\n",
        "    cv_mae_selected.append(cv_mae)\n",
        "    #print(i, 'fold')"
      ],
      "execution_count": null,
      "outputs": [
        {
          "output_type": "stream",
          "text": [
            "100%|██████████| 14/14 [02:43<00:00, 11.66s/it]\n"
          ],
          "name": "stderr"
        }
      ]
    },
    {
      "cell_type": "code",
      "metadata": {
        "id": "8X9tG4RZHJxU",
        "colab_type": "code",
        "colab": {
          "base_uri": "https://localhost:8080/",
          "height": 295
        },
        "outputId": "49553e8d-c79a-4f2c-cb07-153486f28978"
      },
      "source": [
        "# feature selection 시각화\n",
        "plt.plot(range(1,15), cv_mae_selected)\n",
        "plt.title('Feature Selection: Gradient Boosting Regressor')\n",
        "plt.xlabel('training feature number')\n",
        "plt.ylabel('cv mae score')\n",
        "plt.show()"
      ],
      "execution_count": null,
      "outputs": [
        {
          "output_type": "display_data",
          "data": {
            "image/png": "[encoded data removed]",
            "text/plain": [
              "<Figure size 432x288 with 1 Axes>"
            ]
          },
          "metadata": {
            "tags": [],
            "needs_background": "light"
          }
        }
      ]
    },
    {
      "cell_type": "markdown",
      "metadata": {
        "id": "1f6ZDUrp86oD",
        "colab_type": "text"
      },
      "source": [
        "## XGBoost"
      ]
    },
    {
      "cell_type": "markdown",
      "metadata": {
        "id": "-RMBe79rIN7M",
        "colab_type": "text"
      },
      "source": [
        "### 1차 그리드 서치"
      ]
    },
    {
      "cell_type": "code",
      "metadata": {
        "id": "sxr19ekbdee6",
        "colab_type": "code",
        "colab": {
          "base_uri": "https://localhost:8080/",
          "height": 422
        },
        "outputId": "b61032bd-5f43-481f-c74a-21c236676a55"
      },
      "source": [
        "from xgboost import XGBRegressor\n",
        "from sklearn.model_selection import GridSearchCV\n",
        "\n",
        "xgb = XGBRegressor()\n",
        "parameters = {'nthread':[4],\n",
        "              'objective':['reg:linear'], # reg:squarederror라고 warning 뜨지만 잘만 돌아감 ㅎㅎ # 열심히 듣긴했는데 사실 별로 안 궁금 ㅎㅎ\n",
        "              'learning_rate': [.03, 0.05, .1],\n",
        "              'max_depth': [5, 6, 7, 8, 9, 10],\n",
        "              'min_child_weight': [4],\n",
        "              'silent': [1],\n",
        "              'subsample': [0.7],\n",
        "              'colsample_bytree': [0.7],\n",
        "              'n_estimators': [500]}\n",
        "\n",
        "xgb_grid = GridSearchCV(xgb,\n",
        "                        parameters,\n",
        "                        cv = 3,\n",
        "                        #n_jobs = 5,\n",
        "                        scoring = make_scorer(mae, greater_is_better=False),\n",
        "                        n_jobs = -1,\n",
        "                        verbose=True)\n",
        "\n",
        "xgb_grid.fit(X_train, y_train)\n",
        "# print(xgb_grid.best_score_)\n",
        "# print(xgb_grid.best_params_)"
      ],
      "execution_count": null,
      "outputs": [
        {
          "output_type": "stream",
          "text": [
            "Fitting 3 folds for each of 18 candidates, totalling 54 fits\n"
          ],
          "name": "stdout"
        },
        {
          "output_type": "stream",
          "text": [
            "[Parallel(n_jobs=-1)]: Using backend LokyBackend with 2 concurrent workers.\n",
            "[Parallel(n_jobs=-1)]: Done  46 tasks      | elapsed:  3.8min\n",
            "[Parallel(n_jobs=-1)]: Done  54 out of  54 | elapsed:  4.6min finished\n"
          ],
          "name": "stderr"
        },
        {
          "output_type": "execute_result",
          "data": {
            "text/plain": [
              "GridSearchCV(cv=3, error_score=nan,\n",
              "             estimator=XGBRegressor(base_score=0.5, booster='gbtree',\n",
              "                                    colsample_bylevel=1, colsample_bynode=1,\n",
              "                                    colsample_bytree=1, gamma=0,\n",
              "                                    importance_type='gain', learning_rate=0.1,\n",
              "                                    max_delta_step=0, max_depth=3,\n",
              "                                    min_child_weight=1, missing=None,\n",
              "                                    n_estimators=100, n_jobs=1, nthread=None,\n",
              "                                    objective='reg:linear', random_state=0,\n",
              "                                    reg_alpha=0, reg_...\n",
              "             iid='deprecated', n_jobs=-1,\n",
              "             param_grid={'colsample_bytree': [0.7],\n",
              "                         'learning_rate': [0.03, 0.05, 0.1],\n",
              "                         'max_depth': [5, 6, 7, 8, 9, 10],\n",
              "                         'min_child_weight': [4], 'n_estimators': [500],\n",
              "                         'nthread': [4], 'objective': ['reg:linear'],\n",
              "                         'silent': [1], 'subsample': [0.7]},\n",
              "             pre_dispatch='2*n_jobs', refit=True, return_train_score=False,\n",
              "             scoring=make_scorer(mae, greater_is_better=False), verbose=True)"
            ]
          },
          "metadata": {
            "tags": []
          },
          "execution_count": 81
        }
      ]
    },
    {
      "cell_type": "code",
      "metadata": {
        "id": "mLbVPadETwMD",
        "colab_type": "code",
        "colab": {
          "base_uri": "https://localhost:8080/",
          "height": 158
        },
        "outputId": "98c52d42-8a8e-4961-ec43-7d5f340b8c3c"
      },
      "source": [
        "# best parameter 적용\n",
        "from sklearn.model_selection import KFold\n",
        "\n",
        "kf = KFold(n_splits=5)\n",
        "scores = []\n",
        "for train_index, test_index in kf.split(X_train):\n",
        "    xgb = XGBRegressor(learning_rate = xgb_grid.best_params_['learning_rate'],\n",
        "                       max_depth = xgb_grid.best_params_['max_depth'],\n",
        "                       verbose = True)\n",
        "    xgb.fit(X_train[train_index], y_train[train_index])\n",
        "    pred = xgb.predict(X_train[test_index])\n",
        "    scores.append(mae(y_train[test_index], pred))\n",
        "\n",
        "XGB_cv_mae = np.mean(scores)\n",
        "print('XGBoost, learning_rate = {0}, max_depth = {1}'.format(xgb_grid.best_params_['learning_rate'], xgb_grid.best_params_['max_depth']))\n",
        "print(f'XGBoost cv_mae_score = {XGB_cv_mae}\\n')"
      ],
      "execution_count": null,
      "outputs": [
        {
          "output_type": "stream",
          "text": [
            "[13:44:18] WARNING: /workspace/src/objective/regression_obj.cu:152: reg:linear is now deprecated in favor of reg:squarederror.\n",
            "[13:44:19] WARNING: /workspace/src/objective/regression_obj.cu:152: reg:linear is now deprecated in favor of reg:squarederror.\n",
            "[13:44:21] WARNING: /workspace/src/objective/regression_obj.cu:152: reg:linear is now deprecated in favor of reg:squarederror.\n",
            "[13:44:22] WARNING: /workspace/src/objective/regression_obj.cu:152: reg:linear is now deprecated in favor of reg:squarederror.\n",
            "[13:44:23] WARNING: /workspace/src/objective/regression_obj.cu:152: reg:linear is now deprecated in favor of reg:squarederror.\n",
            "XGBoost, learning_rate = 0.03, max_depth = 5\n",
            "XGBoost cv_mae_score = 16.671968460083008\n",
            "\n"
          ],
          "name": "stdout"
        }
      ]
    },
    {
      "cell_type": "code",
      "metadata": {
        "id": "g7i3T6ceVISw",
        "colab_type": "code",
        "colab": {
          "base_uri": "https://localhost:8080/",
          "height": 295
        },
        "outputId": "6d8a1ed7-7bf0-4cfb-af3a-445e1379aa3c"
      },
      "source": [
        "plt.plot([5, 6, 7, 8, 9, 10], -xgb_grid.cv_results_['mean_test_score'][:6], label='learning_rate = 0.3')\n",
        "plt.plot([5, 6, 7, 8, 9, 10], -xgb_grid.cv_results_['mean_test_score'][6:12], label='learning_rate = 0.03')\n",
        "plt.plot([5, 6, 7, 8, 9, 10], -xgb_grid.cv_results_['mean_test_score'][12:18], label='learning_rate = 0.05')\n",
        "\n",
        "plt.legend()\n",
        "plt.title('XGBoost')\n",
        "plt.xlabel('max depth (learning rate={})'.format(xgb_grid.best_params_['learning_rate']))\n",
        "plt.ylabel('cv mean test score')\n",
        "plt.show()"
      ],
      "execution_count": null,
      "outputs": [
        {
          "output_type": "display_data",
          "data": {
            "image/png": "[encoded data removed]",
            "text/plain": [
              "<Figure size 432x288 with 1 Axes>"
            ]
          },
          "metadata": {
            "tags": [],
            "needs_background": "light"
          }
        }
      ]
    },
    {
      "cell_type": "markdown",
      "metadata": {
        "id": "RUNjRO8YIKcI",
        "colab_type": "text"
      },
      "source": [
        "### 2차 그리드 서치"
      ]
    },
    {
      "cell_type": "code",
      "metadata": {
        "id": "qSfO6YrHIEvd",
        "colab_type": "code",
        "colab": {
          "base_uri": "https://localhost:8080/",
          "height": 134
        },
        "outputId": "db082c3d-364f-408c-d393-765d6c116cf6"
      },
      "source": [
        "xgb = XGBRegressor()\n",
        "parameters = {#'nthread':[4],\n",
        "              #'objective':['reg:linear'], # reg:squarederror라고 warning 뜨지만 잘만 돌아감 ㅎㅎ\n",
        "              #'learning_rate': [.3],\n",
        "              'max_depth': range(1,10),\n",
        "              #'min_child_weight': [4],\n",
        "              #'silent': [1],\n",
        "              #'subsample': [0.7],\n",
        "              #'colsample_bytree': [0.7],\n",
        "              'n_estimators': [50,100,200]\n",
        "              }\n",
        "\n",
        "xgb_grid = GridSearchCV(xgb,\n",
        "                        parameters,\n",
        "                        cv = 3,\n",
        "                        learning_rate = 0.3,\n",
        "                        #n_jobs = 5,\n",
        "                        scoring = make_scorer(mae, greater_is_better=False),\n",
        "                        n_jobs = -1,\n",
        "                        verbose=True)\n",
        "\n",
        "xgb_grid.fit(X_train, y_train)\n",
        "# print(xgb_grid.best_score_)\n",
        "# print(xgb_grid.best_params_)"
      ],
      "execution_count": null,
      "outputs": [
        {
          "output_type": "error",
          "ename": "SyntaxError",
          "evalue": "ignored",
          "traceback": [
            "\u001b[0;36m  File \u001b[0;32m\"<ipython-input-139-8b43fbe7dac0>\"\u001b[0;36m, line \u001b[0;32m16\u001b[0m\n\u001b[0;31m    learning_rate, = 0.3\u001b[0m\n\u001b[0m                   ^\u001b[0m\n\u001b[0;31mSyntaxError\u001b[0m\u001b[0;31m:\u001b[0m invalid syntax\n"
          ]
        }
      ]
    },
    {
      "cell_type": "code",
      "metadata": {
        "id": "evw2C3uuL4kU",
        "colab_type": "code",
        "colab": {
          "base_uri": "https://localhost:8080/",
          "height": 334
        },
        "outputId": "81a7c6bb-b57e-4563-e87b-c40af3fdc7f3"
      },
      "source": [
        "xgb_grid.cv_results_['params']"
      ],
      "execution_count": null,
      "outputs": [
        {
          "output_type": "execute_result",
          "data": {
            "text/plain": [
              "[{'max_depth': 1, 'n_estimators': 100},\n",
              " {'max_depth': 1, 'n_estimators': 200},\n",
              " {'max_depth': 2, 'n_estimators': 100},\n",
              " {'max_depth': 2, 'n_estimators': 200},\n",
              " {'max_depth': 3, 'n_estimators': 100},\n",
              " {'max_depth': 3, 'n_estimators': 200},\n",
              " {'max_depth': 4, 'n_estimators': 100},\n",
              " {'max_depth': 4, 'n_estimators': 200},\n",
              " {'max_depth': 5, 'n_estimators': 100},\n",
              " {'max_depth': 5, 'n_estimators': 200},\n",
              " {'max_depth': 6, 'n_estimators': 100},\n",
              " {'max_depth': 6, 'n_estimators': 200},\n",
              " {'max_depth': 7, 'n_estimators': 100},\n",
              " {'max_depth': 7, 'n_estimators': 200},\n",
              " {'max_depth': 8, 'n_estimators': 100},\n",
              " {'max_depth': 8, 'n_estimators': 200},\n",
              " {'max_depth': 9, 'n_estimators': 100},\n",
              " {'max_depth': 9, 'n_estimators': 200}]"
            ]
          },
          "metadata": {
            "tags": []
          },
          "execution_count": 125
        }
      ]
    },
    {
      "cell_type": "code",
      "metadata": {
        "id": "t9a0_M-JKYG1",
        "colab_type": "code",
        "colab": {
          "base_uri": "https://localhost:8080/",
          "height": 140
        },
        "outputId": "454d1ddf-d066-4b74-ec71-b878816e088e"
      },
      "source": [
        "xgb = xgb_grid.best_estimator_\n",
        "xgb"
      ],
      "execution_count": null,
      "outputs": [
        {
          "output_type": "execute_result",
          "data": {
            "text/plain": [
              "XGBRegressor(base_score=0.5, booster='gbtree', colsample_bylevel=1,\n",
              "             colsample_bynode=1, colsample_bytree=1, gamma=0,\n",
              "             importance_type='gain', learning_rate=0.1, max_delta_step=0,\n",
              "             max_depth=6, min_child_weight=1, missing=None, n_estimators=50,\n",
              "             n_jobs=1, nthread=None, objective='reg:linear', random_state=0,\n",
              "             reg_alpha=0, reg_lambda=1, scale_pos_weight=1, seed=None,\n",
              "             silent=None, subsample=1, verbosity=1)"
            ]
          },
          "metadata": {
            "tags": []
          },
          "execution_count": 132
        }
      ]
    },
    {
      "cell_type": "code",
      "metadata": {
        "id": "KiGlfTdTOi_9",
        "colab_type": "code",
        "colab": {
          "base_uri": "https://localhost:8080/",
          "height": 34
        },
        "outputId": "87c1a042-7345-404f-9b7d-1665fb081575"
      },
      "source": [
        "-xgb_grid.best_score_"
      ],
      "execution_count": null,
      "outputs": [
        {
          "output_type": "execute_result",
          "data": {
            "text/plain": [
              "17.179851531982422"
            ]
          },
          "metadata": {
            "tags": []
          },
          "execution_count": 138
        }
      ]
    },
    {
      "cell_type": "code",
      "metadata": {
        "id": "U6h80u0eIIEX",
        "colab_type": "code",
        "colab": {
          "base_uri": "https://localhost:8080/",
          "height": 295
        },
        "outputId": "6e4568e3-1773-46fb-9397-a24cc982e0e7"
      },
      "source": [
        "plt.plot(range(1,10), -xgb_grid.cv_results_['mean_test_score'][range(0,27,3)], label='n_estimators = 50')\n",
        "plt.plot(range(1,10), -xgb_grid.cv_results_['mean_test_score'][range(1,28,3)], label='n_estimators = 100')\n",
        "plt.plot(range(1,10), -xgb_grid.cv_results_['mean_test_score'][range(2,29,3)], label='n_estimators = 200')\n",
        "plt.legend()\n",
        "plt.title('XGBoost')\n",
        "plt.xlabel('max depth')\n",
        "plt.ylabel('cv mean test score')\n",
        "plt.show()"
      ],
      "execution_count": null,
      "outputs": [
        {
          "output_type": "display_data",
          "data": {
            "image/png": "[encoded data removed]",
            "text/plain": [
              "<Figure size 432x288 with 1 Axes>"
            ]
          },
          "metadata": {
            "tags": [],
            "needs_background": "light"
          }
        }
      ]
    },
    {
      "cell_type": "code",
      "metadata": {
        "id": "4MK4USj-N0tR",
        "colab_type": "code",
        "colab": {
          "base_uri": "https://localhost:8080/",
          "height": 1000
        },
        "outputId": "7082f2db-67a0-4add-9946-e42e079a8fc4"
      },
      "source": [
        "# feature_importance: 가장 중요한 feature 인덱스 순으로 정렬\n",
        "xgb = xgb_grid.best_estimator_\n",
        "\n",
        "xgb.fit(X_train, y_train)\n",
        "fi = xgb.feature_importances_.tolist()\n",
        "fi_sort = sorted(fi, reverse=True)\n",
        "feature_importance = []\n",
        "for i in range(14):\n",
        "    feature_importance.append(fi.index(fi_sort[i]))\n",
        "\n",
        "# 중요도 높은 feature 순서대로 선택하여 훈련\n",
        "cv_mae_selected = []\n",
        "for i in range(1,15): \n",
        "    X_train_selected = X_train[:,feature_importance[:i]]\n",
        "    kf = KFold(n_splits=5)\n",
        "    scores = []\n",
        "    for train_index, test_index in kf.split(X_train_selected):\n",
        "        xgb = xgb = xgb_grid.best_estimator_\n",
        "        xgb.fit(X_train_selected[train_index], y_train[train_index])\n",
        "        pred = xgb.predict(X_train_selected[test_index])\n",
        "        scores.append(mae(y_train[test_index], pred))\n",
        "    cv_mae = np.mean(scores)\n",
        "    cv_mae_selected.append(cv_mae)\n",
        "    print(i, 'fold')"
      ],
      "execution_count": null,
      "outputs": [
        {
          "output_type": "stream",
          "text": [
            "[14:11:51] WARNING: /workspace/src/objective/regression_obj.cu:152: reg:linear is now deprecated in favor of reg:squarederror.\n",
            "[14:11:52] WARNING: /workspace/src/objective/regression_obj.cu:152: reg:linear is now deprecated in favor of reg:squarederror.\n",
            "[14:11:52] WARNING: /workspace/src/objective/regression_obj.cu:152: reg:linear is now deprecated in favor of reg:squarederror.\n",
            "[14:11:52] WARNING: /workspace/src/objective/regression_obj.cu:152: reg:linear is now deprecated in favor of reg:squarederror.\n",
            "[14:11:52] WARNING: /workspace/src/objective/regression_obj.cu:152: reg:linear is now deprecated in favor of reg:squarederror.\n",
            "[14:11:52] WARNING: /workspace/src/objective/regression_obj.cu:152: reg:linear is now deprecated in favor of reg:squarederror.\n",
            "1 fold\n",
            "[14:11:52] WARNING: /workspace/src/objective/regression_obj.cu:152: reg:linear is now deprecated in favor of reg:squarederror.\n",
            "[14:11:53] WARNING: /workspace/src/objective/regression_obj.cu:152: reg:linear is now deprecated in favor of reg:squarederror.\n",
            "[14:11:53] WARNING: /workspace/src/objective/regression_obj.cu:152: reg:linear is now deprecated in favor of reg:squarederror.\n",
            "[14:11:53] WARNING: /workspace/src/objective/regression_obj.cu:152: reg:linear is now deprecated in favor of reg:squarederror.\n",
            "[14:11:53] WARNING: /workspace/src/objective/regression_obj.cu:152: reg:linear is now deprecated in favor of reg:squarederror.\n",
            "2 fold\n",
            "[14:11:53] WARNING: /workspace/src/objective/regression_obj.cu:152: reg:linear is now deprecated in favor of reg:squarederror.\n",
            "[14:11:53] WARNING: /workspace/src/objective/regression_obj.cu:152: reg:linear is now deprecated in favor of reg:squarederror.\n",
            "[14:11:54] WARNING: /workspace/src/objective/regression_obj.cu:152: reg:linear is now deprecated in favor of reg:squarederror.\n",
            "[14:11:54] WARNING: /workspace/src/objective/regression_obj.cu:152: reg:linear is now deprecated in favor of reg:squarederror.\n",
            "[14:11:54] WARNING: /workspace/src/objective/regression_obj.cu:152: reg:linear is now deprecated in favor of reg:squarederror.\n",
            "3 fold\n",
            "[14:11:54] WARNING: /workspace/src/objective/regression_obj.cu:152: reg:linear is now deprecated in favor of reg:squarederror.\n",
            "[14:11:54] WARNING: /workspace/src/objective/regression_obj.cu:152: reg:linear is now deprecated in favor of reg:squarederror.\n",
            "[14:11:55] WARNING: /workspace/src/objective/regression_obj.cu:152: reg:linear is now deprecated in favor of reg:squarederror.\n",
            "[14:11:55] WARNING: /workspace/src/objective/regression_obj.cu:152: reg:linear is now deprecated in favor of reg:squarederror.\n",
            "[14:11:55] WARNING: /workspace/src/objective/regression_obj.cu:152: reg:linear is now deprecated in favor of reg:squarederror.\n",
            "4 fold\n",
            "[14:11:55] WARNING: /workspace/src/objective/regression_obj.cu:152: reg:linear is now deprecated in favor of reg:squarederror.\n",
            "[14:11:56] WARNING: /workspace/src/objective/regression_obj.cu:152: reg:linear is now deprecated in favor of reg:squarederror.\n",
            "[14:11:56] WARNING: /workspace/src/objective/regression_obj.cu:152: reg:linear is now deprecated in favor of reg:squarederror.\n",
            "[14:11:56] WARNING: /workspace/src/objective/regression_obj.cu:152: reg:linear is now deprecated in favor of reg:squarederror.\n",
            "[14:11:57] WARNING: /workspace/src/objective/regression_obj.cu:152: reg:linear is now deprecated in favor of reg:squarederror.\n",
            "5 fold\n",
            "[14:11:57] WARNING: /workspace/src/objective/regression_obj.cu:152: reg:linear is now deprecated in favor of reg:squarederror.\n",
            "[14:11:57] WARNING: /workspace/src/objective/regression_obj.cu:152: reg:linear is now deprecated in favor of reg:squarederror.\n",
            "[14:11:57] WARNING: /workspace/src/objective/regression_obj.cu:152: reg:linear is now deprecated in favor of reg:squarederror.\n",
            "[14:11:58] WARNING: /workspace/src/objective/regression_obj.cu:152: reg:linear is now deprecated in favor of reg:squarederror.\n",
            "[14:11:58] WARNING: /workspace/src/objective/regression_obj.cu:152: reg:linear is now deprecated in favor of reg:squarederror.\n",
            "6 fold\n",
            "[14:11:59] WARNING: /workspace/src/objective/regression_obj.cu:152: reg:linear is now deprecated in favor of reg:squarederror.\n",
            "[14:11:59] WARNING: /workspace/src/objective/regression_obj.cu:152: reg:linear is now deprecated in favor of reg:squarederror.\n",
            "[14:11:59] WARNING: /workspace/src/objective/regression_obj.cu:152: reg:linear is now deprecated in favor of reg:squarederror.\n",
            "[14:12:00] WARNING: /workspace/src/objective/regression_obj.cu:152: reg:linear is now deprecated in favor of reg:squarederror.\n",
            "[14:12:00] WARNING: /workspace/src/objective/regression_obj.cu:152: reg:linear is now deprecated in favor of reg:squarederror.\n",
            "7 fold\n",
            "[14:12:00] WARNING: /workspace/src/objective/regression_obj.cu:152: reg:linear is now deprecated in favor of reg:squarederror.\n",
            "[14:12:01] WARNING: /workspace/src/objective/regression_obj.cu:152: reg:linear is now deprecated in favor of reg:squarederror.\n",
            "[14:12:01] WARNING: /workspace/src/objective/regression_obj.cu:152: reg:linear is now deprecated in favor of reg:squarederror.\n",
            "[14:12:02] WARNING: /workspace/src/objective/regression_obj.cu:152: reg:linear is now deprecated in favor of reg:squarederror.\n",
            "[14:12:02] WARNING: /workspace/src/objective/regression_obj.cu:152: reg:linear is now deprecated in favor of reg:squarederror.\n",
            "8 fold\n",
            "[14:12:03] WARNING: /workspace/src/objective/regression_obj.cu:152: reg:linear is now deprecated in favor of reg:squarederror.\n",
            "[14:12:03] WARNING: /workspace/src/objective/regression_obj.cu:152: reg:linear is now deprecated in favor of reg:squarederror.\n",
            "[14:12:03] WARNING: /workspace/src/objective/regression_obj.cu:152: reg:linear is now deprecated in favor of reg:squarederror.\n",
            "[14:12:04] WARNING: /workspace/src/objective/regression_obj.cu:152: reg:linear is now deprecated in favor of reg:squarederror.\n",
            "[14:12:04] WARNING: /workspace/src/objective/regression_obj.cu:152: reg:linear is now deprecated in favor of reg:squarederror.\n",
            "9 fold\n",
            "[14:12:05] WARNING: /workspace/src/objective/regression_obj.cu:152: reg:linear is now deprecated in favor of reg:squarederror.\n",
            "[14:12:05] WARNING: /workspace/src/objective/regression_obj.cu:152: reg:linear is now deprecated in favor of reg:squarederror.\n",
            "[14:12:06] WARNING: /workspace/src/objective/regression_obj.cu:152: reg:linear is now deprecated in favor of reg:squarederror.\n",
            "[14:12:06] WARNING: /workspace/src/objective/regression_obj.cu:152: reg:linear is now deprecated in favor of reg:squarederror.\n",
            "[14:12:07] WARNING: /workspace/src/objective/regression_obj.cu:152: reg:linear is now deprecated in favor of reg:squarederror.\n",
            "10 fold\n",
            "[14:12:07] WARNING: /workspace/src/objective/regression_obj.cu:152: reg:linear is now deprecated in favor of reg:squarederror.\n",
            "[14:12:08] WARNING: /workspace/src/objective/regression_obj.cu:152: reg:linear is now deprecated in favor of reg:squarederror.\n",
            "[14:12:08] WARNING: /workspace/src/objective/regression_obj.cu:152: reg:linear is now deprecated in favor of reg:squarederror.\n",
            "[14:12:09] WARNING: /workspace/src/objective/regression_obj.cu:152: reg:linear is now deprecated in favor of reg:squarederror.\n",
            "[14:12:09] WARNING: /workspace/src/objective/regression_obj.cu:152: reg:linear is now deprecated in favor of reg:squarederror.\n",
            "11 fold\n",
            "[14:12:10] WARNING: /workspace/src/objective/regression_obj.cu:152: reg:linear is now deprecated in favor of reg:squarederror.\n",
            "[14:12:11] WARNING: /workspace/src/objective/regression_obj.cu:152: reg:linear is now deprecated in favor of reg:squarederror.\n",
            "[14:12:11] WARNING: /workspace/src/objective/regression_obj.cu:152: reg:linear is now deprecated in favor of reg:squarederror.\n",
            "[14:12:12] WARNING: /workspace/src/objective/regression_obj.cu:152: reg:linear is now deprecated in favor of reg:squarederror.\n",
            "[14:12:12] WARNING: /workspace/src/objective/regression_obj.cu:152: reg:linear is now deprecated in favor of reg:squarederror.\n",
            "12 fold\n",
            "[14:12:13] WARNING: /workspace/src/objective/regression_obj.cu:152: reg:linear is now deprecated in favor of reg:squarederror.\n",
            "[14:12:13] WARNING: /workspace/src/objective/regression_obj.cu:152: reg:linear is now deprecated in favor of reg:squarederror.\n",
            "[14:12:14] WARNING: /workspace/src/objective/regression_obj.cu:152: reg:linear is now deprecated in favor of reg:squarederror.\n",
            "[14:12:15] WARNING: /workspace/src/objective/regression_obj.cu:152: reg:linear is now deprecated in favor of reg:squarederror.\n",
            "[14:12:15] WARNING: /workspace/src/objective/regression_obj.cu:152: reg:linear is now deprecated in favor of reg:squarederror.\n",
            "13 fold\n",
            "[14:12:16] WARNING: /workspace/src/objective/regression_obj.cu:152: reg:linear is now deprecated in favor of reg:squarederror.\n",
            "[14:12:17] WARNING: /workspace/src/objective/regression_obj.cu:152: reg:linear is now deprecated in favor of reg:squarederror.\n",
            "[14:12:17] WARNING: /workspace/src/objective/regression_obj.cu:152: reg:linear is now deprecated in favor of reg:squarederror.\n",
            "[14:12:18] WARNING: /workspace/src/objective/regression_obj.cu:152: reg:linear is now deprecated in favor of reg:squarederror.\n",
            "[14:12:19] WARNING: /workspace/src/objective/regression_obj.cu:152: reg:linear is now deprecated in favor of reg:squarederror.\n",
            "14 fold\n"
          ],
          "name": "stdout"
        }
      ]
    },
    {
      "cell_type": "code",
      "metadata": {
        "id": "cJ2NcPn-PRPz",
        "colab_type": "code",
        "colab": {
          "base_uri": "https://localhost:8080/",
          "height": 295
        },
        "outputId": "779178a7-18e3-4282-d622-57474cbc262d"
      },
      "source": [
        "# feature selection 시각화\n",
        "plt.plot(range(1,15), cv_mae_selected)\n",
        "plt.title('Feature Selection: XGBoost')\n",
        "plt.xlabel('training feature number')\n",
        "plt.ylabel('cv mae score')\n",
        "plt.show()"
      ],
      "execution_count": null,
      "outputs": [
        {
          "output_type": "display_data",
          "data": {
            "image/png": "[encoded data removed]",
            "text/plain": [
              "<Figure size 432x288 with 1 Axes>"
            ]
          },
          "metadata": {
            "tags": [],
            "needs_background": "light"
          }
        }
      ]
    },
    {
      "cell_type": "code",
      "metadata": {
        "id": "UZRcz_xmOUnR",
        "colab_type": "code",
        "colab": {
          "base_uri": "https://localhost:8080/",
          "height": 52
        },
        "outputId": "3be6f604-6a25-4eb6-e0da-deab174b7407"
      },
      "source": [
        "print('Feature Selection of XGBoost', '\\ncv mae score:', min(cv_mae_selected))"
      ],
      "execution_count": null,
      "outputs": [
        {
          "output_type": "stream",
          "text": [
            "Feature Selection of XGBoost \n",
            "cv mae score: 17.074438\n"
          ],
          "name": "stdout"
        }
      ]
    },
    {
      "cell_type": "code",
      "metadata": {
        "id": "rOLForsjRt9A",
        "colab_type": "code",
        "colab": {
          "base_uri": "https://localhost:8080/",
          "height": 52
        },
        "outputId": "68bdca44-071a-4a0d-cbb2-7574e3d45198"
      },
      "source": [
        "print('Feature Selection of XGBoost', '\\ncv mae score:', min(cv_mae_selected))"
      ],
      "execution_count": null,
      "outputs": [
        {
          "output_type": "stream",
          "text": [
            "Feature Selection of XGBoost \n",
            "cv mae score: 16.715416\n"
          ],
          "name": "stdout"
        }
      ]
    },
    {
      "cell_type": "markdown",
      "metadata": {
        "id": "0CawbY6FRTTy",
        "colab_type": "text"
      },
      "source": [
        "## Best Model\n",
        "- xgboost\n",
        "- 13개의 feature selection"
      ]
    },
    {
      "cell_type": "markdown",
      "metadata": {
        "id": "UtEVUWuhnc3o",
        "colab_type": "text"
      },
      "source": [
        "# PCA"
      ]
    },
    {
      "cell_type": "code",
      "metadata": {
        "id": "5XwGeKh1PEGv",
        "colab_type": "code",
        "colab": {
          "base_uri": "https://localhost:8080/",
          "height": 34
        },
        "outputId": "934826a3-166a-4a5a-adeb-c33acbde9e9b"
      },
      "source": [
        "X_train.shape"
      ],
      "execution_count": null,
      "outputs": [
        {
          "output_type": "execute_result",
          "data": {
            "text/plain": [
              "(9347, 14)"
            ]
          },
          "metadata": {
            "tags": []
          },
          "execution_count": 141
        }
      ]
    },
    {
      "cell_type": "code",
      "metadata": {
        "id": "RRcAZqfE-KCA",
        "colab_type": "code",
        "colab": {}
      },
      "source": [
        "from sklearn.decomposition import PCA\n",
        "pca = PCA(n_components=14, svd_solver='full')\n",
        "pc_X_train = pca.fit_transform(X_train)"
      ],
      "execution_count": null,
      "outputs": []
    },
    {
      "cell_type": "code",
      "metadata": {
        "id": "qeXEMbFoPW0g",
        "colab_type": "code",
        "colab": {
          "base_uri": "https://localhost:8080/",
          "height": 34
        },
        "outputId": "be3063a1-90d1-48d7-ec05-02f89908f7b5"
      },
      "source": [
        "pc_X_train_selected.shape"
      ],
      "execution_count": null,
      "outputs": [
        {
          "output_type": "execute_result",
          "data": {
            "text/plain": [
              "(9347, 14)"
            ]
          },
          "metadata": {
            "tags": []
          },
          "execution_count": 163
        }
      ]
    },
    {
      "cell_type": "code",
      "metadata": {
        "id": "qSVUXzf6PYoJ",
        "colab_type": "code",
        "colab": {
          "base_uri": "https://localhost:8080/",
          "height": 1000
        },
        "outputId": "7633a22c-10ad-491e-d374-fe68d5cd356e"
      },
      "source": [
        "# 중요도 높은 feature 순서대로 선택하여 훈련\n",
        "cv_mae_selected = []\n",
        "for i in tqdm(range(14)):\n",
        "    pc_X_train_selected = pc_X_train[:,:i+1]\n",
        "    kf = KFold(n_splits=5)\n",
        "    scores = []\n",
        "    for train_index, test_index in kf.split(pc_X_train_selected):\n",
        "        xgb = xgb_grid.best_estimator_\n",
        "        xgb.fit(pc_X_train_selected[train_index], y_train[train_index])\n",
        "        pred = xgb.predict(pc_X_train_selected[test_index])\n",
        "        scores.append(mae(y_train[test_index], pred))\n",
        "    cv_mae = np.mean(scores)\n",
        "    cv_mae_selected.append(cv_mae)\n",
        "    print(i, 'fold')"
      ],
      "execution_count": null,
      "outputs": [
        {
          "output_type": "stream",
          "text": [
            "\n",
            "  0%|          | 0/14 [00:00<?, ?it/s]\u001b[A"
          ],
          "name": "stderr"
        },
        {
          "output_type": "stream",
          "text": [
            "[14:35:18] WARNING: /workspace/src/objective/regression_obj.cu:152: reg:linear is now deprecated in favor of reg:squarederror.\n",
            "[14:35:18] WARNING: /workspace/src/objective/regression_obj.cu:152: reg:linear is now deprecated in favor of reg:squarederror.\n",
            "[14:35:18] WARNING: /workspace/src/objective/regression_obj.cu:152: reg:linear is now deprecated in favor of reg:squarederror.\n",
            "[14:35:18] WARNING: /workspace/src/objective/regression_obj.cu:152: reg:linear is now deprecated in favor of reg:squarederror.\n"
          ],
          "name": "stdout"
        },
        {
          "output_type": "stream",
          "text": [
            "\n",
            "  7%|▋         | 1/14 [00:00<00:07,  1.71it/s]\u001b[A"
          ],
          "name": "stderr"
        },
        {
          "output_type": "stream",
          "text": [
            "[14:35:18] WARNING: /workspace/src/objective/regression_obj.cu:152: reg:linear is now deprecated in favor of reg:squarederror.\n",
            "0 fold\n",
            "[14:35:19] WARNING: /workspace/src/objective/regression_obj.cu:152: reg:linear is now deprecated in favor of reg:squarederror.\n",
            "[14:35:19] WARNING: /workspace/src/objective/regression_obj.cu:152: reg:linear is now deprecated in favor of reg:squarederror.\n",
            "[14:35:19] WARNING: /workspace/src/objective/regression_obj.cu:152: reg:linear is now deprecated in favor of reg:squarederror.\n",
            "[14:35:19] WARNING: /workspace/src/objective/regression_obj.cu:152: reg:linear is now deprecated in favor of reg:squarederror.\n",
            "[14:35:19] WARNING: /workspace/src/objective/regression_obj.cu:152: reg:linear is now deprecated in favor of reg:squarederror.\n"
          ],
          "name": "stdout"
        },
        {
          "output_type": "stream",
          "text": [
            "\n",
            " 14%|█▍        | 2/14 [00:01<00:07,  1.51it/s]\u001b[A"
          ],
          "name": "stderr"
        },
        {
          "output_type": "stream",
          "text": [
            "1 fold\n",
            "[14:35:19] WARNING: /workspace/src/objective/regression_obj.cu:152: reg:linear is now deprecated in favor of reg:squarederror.\n",
            "[14:35:20] WARNING: /workspace/src/objective/regression_obj.cu:152: reg:linear is now deprecated in favor of reg:squarederror.\n",
            "[14:35:20] WARNING: /workspace/src/objective/regression_obj.cu:152: reg:linear is now deprecated in favor of reg:squarederror.\n",
            "[14:35:20] WARNING: /workspace/src/objective/regression_obj.cu:152: reg:linear is now deprecated in favor of reg:squarederror.\n",
            "[14:35:20] WARNING: /workspace/src/objective/regression_obj.cu:152: reg:linear is now deprecated in favor of reg:squarederror.\n"
          ],
          "name": "stdout"
        },
        {
          "output_type": "stream",
          "text": [
            "\n",
            " 21%|██▏       | 3/14 [00:02<00:08,  1.26it/s]\u001b[A"
          ],
          "name": "stderr"
        },
        {
          "output_type": "stream",
          "text": [
            "2 fold\n",
            "[14:35:20] WARNING: /workspace/src/objective/regression_obj.cu:152: reg:linear is now deprecated in favor of reg:squarederror.\n",
            "[14:35:21] WARNING: /workspace/src/objective/regression_obj.cu:152: reg:linear is now deprecated in favor of reg:squarederror.\n",
            "[14:35:21] WARNING: /workspace/src/objective/regression_obj.cu:152: reg:linear is now deprecated in favor of reg:squarederror.\n",
            "[14:35:21] WARNING: /workspace/src/objective/regression_obj.cu:152: reg:linear is now deprecated in favor of reg:squarederror.\n",
            "[14:35:22] WARNING: /workspace/src/objective/regression_obj.cu:152: reg:linear is now deprecated in favor of reg:squarederror.\n"
          ],
          "name": "stdout"
        },
        {
          "output_type": "stream",
          "text": [
            "\n",
            " 29%|██▊       | 4/14 [00:03<00:09,  1.04it/s]\u001b[A"
          ],
          "name": "stderr"
        },
        {
          "output_type": "stream",
          "text": [
            "3 fold\n",
            "[14:35:22] WARNING: /workspace/src/objective/regression_obj.cu:152: reg:linear is now deprecated in favor of reg:squarederror.\n",
            "[14:35:22] WARNING: /workspace/src/objective/regression_obj.cu:152: reg:linear is now deprecated in favor of reg:squarederror.\n",
            "[14:35:22] WARNING: /workspace/src/objective/regression_obj.cu:152: reg:linear is now deprecated in favor of reg:squarederror.\n",
            "[14:35:23] WARNING: /workspace/src/objective/regression_obj.cu:152: reg:linear is now deprecated in favor of reg:squarederror.\n",
            "[14:35:23] WARNING: /workspace/src/objective/regression_obj.cu:152: reg:linear is now deprecated in favor of reg:squarederror.\n"
          ],
          "name": "stdout"
        },
        {
          "output_type": "stream",
          "text": [
            "\n",
            " 36%|███▌      | 5/14 [00:05<00:10,  1.14s/it]\u001b[A"
          ],
          "name": "stderr"
        },
        {
          "output_type": "stream",
          "text": [
            "4 fold\n",
            "[14:35:23] WARNING: /workspace/src/objective/regression_obj.cu:152: reg:linear is now deprecated in favor of reg:squarederror.\n",
            "[14:35:24] WARNING: /workspace/src/objective/regression_obj.cu:152: reg:linear is now deprecated in favor of reg:squarederror.\n",
            "[14:35:24] WARNING: /workspace/src/objective/regression_obj.cu:152: reg:linear is now deprecated in favor of reg:squarederror.\n",
            "[14:35:24] WARNING: /workspace/src/objective/regression_obj.cu:152: reg:linear is now deprecated in favor of reg:squarederror.\n",
            "[14:35:25] WARNING: /workspace/src/objective/regression_obj.cu:152: reg:linear is now deprecated in favor of reg:squarederror.\n"
          ],
          "name": "stdout"
        },
        {
          "output_type": "stream",
          "text": [
            "\n",
            " 43%|████▎     | 6/14 [00:07<00:10,  1.35s/it]\u001b[A"
          ],
          "name": "stderr"
        },
        {
          "output_type": "stream",
          "text": [
            "5 fold\n",
            "[14:35:25] WARNING: /workspace/src/objective/regression_obj.cu:152: reg:linear is now deprecated in favor of reg:squarederror.\n",
            "[14:35:26] WARNING: /workspace/src/objective/regression_obj.cu:152: reg:linear is now deprecated in favor of reg:squarederror.\n",
            "[14:35:26] WARNING: /workspace/src/objective/regression_obj.cu:152: reg:linear is now deprecated in favor of reg:squarederror.\n",
            "[14:35:26] WARNING: /workspace/src/objective/regression_obj.cu:152: reg:linear is now deprecated in favor of reg:squarederror.\n",
            "[14:35:27] WARNING: /workspace/src/objective/regression_obj.cu:152: reg:linear is now deprecated in favor of reg:squarederror.\n"
          ],
          "name": "stdout"
        },
        {
          "output_type": "stream",
          "text": [
            "\n",
            " 50%|█████     | 7/14 [00:09<00:10,  1.55s/it]\u001b[A"
          ],
          "name": "stderr"
        },
        {
          "output_type": "stream",
          "text": [
            "6 fold\n",
            "[14:35:27] WARNING: /workspace/src/objective/regression_obj.cu:152: reg:linear is now deprecated in favor of reg:squarederror.\n",
            "[14:35:28] WARNING: /workspace/src/objective/regression_obj.cu:152: reg:linear is now deprecated in favor of reg:squarederror.\n",
            "[14:35:28] WARNING: /workspace/src/objective/regression_obj.cu:152: reg:linear is now deprecated in favor of reg:squarederror.\n",
            "[14:35:29] WARNING: /workspace/src/objective/regression_obj.cu:152: reg:linear is now deprecated in favor of reg:squarederror.\n",
            "[14:35:29] WARNING: /workspace/src/objective/regression_obj.cu:152: reg:linear is now deprecated in favor of reg:squarederror.\n"
          ],
          "name": "stdout"
        },
        {
          "output_type": "stream",
          "text": [
            "\n",
            " 57%|█████▋    | 8/14 [00:11<00:10,  1.75s/it]\u001b[A"
          ],
          "name": "stderr"
        },
        {
          "output_type": "stream",
          "text": [
            "7 fold\n",
            "[14:35:29] WARNING: /workspace/src/objective/regression_obj.cu:152: reg:linear is now deprecated in favor of reg:squarederror.\n",
            "[14:35:30] WARNING: /workspace/src/objective/regression_obj.cu:152: reg:linear is now deprecated in favor of reg:squarederror.\n",
            "[14:35:30] WARNING: /workspace/src/objective/regression_obj.cu:152: reg:linear is now deprecated in favor of reg:squarederror.\n",
            "[14:35:31] WARNING: /workspace/src/objective/regression_obj.cu:152: reg:linear is now deprecated in favor of reg:squarederror.\n",
            "[14:35:31] WARNING: /workspace/src/objective/regression_obj.cu:152: reg:linear is now deprecated in favor of reg:squarederror.\n"
          ],
          "name": "stdout"
        },
        {
          "output_type": "stream",
          "text": [
            "\n",
            " 64%|██████▍   | 9/14 [00:13<00:09,  1.95s/it]\u001b[A"
          ],
          "name": "stderr"
        },
        {
          "output_type": "stream",
          "text": [
            "8 fold\n",
            "[14:35:32] WARNING: /workspace/src/objective/regression_obj.cu:152: reg:linear is now deprecated in favor of reg:squarederror.\n",
            "[14:35:32] WARNING: /workspace/src/objective/regression_obj.cu:152: reg:linear is now deprecated in favor of reg:squarederror.\n",
            "[14:35:33] WARNING: /workspace/src/objective/regression_obj.cu:152: reg:linear is now deprecated in favor of reg:squarederror.\n",
            "[14:35:34] WARNING: /workspace/src/objective/regression_obj.cu:152: reg:linear is now deprecated in favor of reg:squarederror.\n",
            "[14:35:34] WARNING: /workspace/src/objective/regression_obj.cu:152: reg:linear is now deprecated in favor of reg:squarederror.\n"
          ],
          "name": "stdout"
        },
        {
          "output_type": "stream",
          "text": [
            "\n",
            " 71%|███████▏  | 10/14 [00:16<00:08,  2.17s/it]\u001b[A"
          ],
          "name": "stderr"
        },
        {
          "output_type": "stream",
          "text": [
            "9 fold\n",
            "[14:35:35] WARNING: /workspace/src/objective/regression_obj.cu:152: reg:linear is now deprecated in favor of reg:squarederror.\n",
            "[14:35:35] WARNING: /workspace/src/objective/regression_obj.cu:152: reg:linear is now deprecated in favor of reg:squarederror.\n",
            "[14:35:36] WARNING: /workspace/src/objective/regression_obj.cu:152: reg:linear is now deprecated in favor of reg:squarederror.\n",
            "[14:35:36] WARNING: /workspace/src/objective/regression_obj.cu:152: reg:linear is now deprecated in favor of reg:squarederror.\n",
            "[14:35:37] WARNING: /workspace/src/objective/regression_obj.cu:152: reg:linear is now deprecated in favor of reg:squarederror.\n"
          ],
          "name": "stdout"
        },
        {
          "output_type": "stream",
          "text": [
            "\n",
            " 79%|███████▊  | 11/14 [00:19<00:07,  2.39s/it]\u001b[A"
          ],
          "name": "stderr"
        },
        {
          "output_type": "stream",
          "text": [
            "10 fold\n",
            "[14:35:37] WARNING: /workspace/src/objective/regression_obj.cu:152: reg:linear is now deprecated in favor of reg:squarederror.\n",
            "[14:35:38] WARNING: /workspace/src/objective/regression_obj.cu:152: reg:linear is now deprecated in favor of reg:squarederror.\n",
            "[14:35:39] WARNING: /workspace/src/objective/regression_obj.cu:152: reg:linear is now deprecated in favor of reg:squarederror.\n",
            "[14:35:39] WARNING: /workspace/src/objective/regression_obj.cu:152: reg:linear is now deprecated in favor of reg:squarederror.\n",
            "[14:35:40] WARNING: /workspace/src/objective/regression_obj.cu:152: reg:linear is now deprecated in favor of reg:squarederror.\n"
          ],
          "name": "stdout"
        },
        {
          "output_type": "stream",
          "text": [
            "\n",
            " 86%|████████▌ | 12/14 [00:22<00:05,  2.60s/it]\u001b[A"
          ],
          "name": "stderr"
        },
        {
          "output_type": "stream",
          "text": [
            "11 fold\n",
            "[14:35:41] WARNING: /workspace/src/objective/regression_obj.cu:152: reg:linear is now deprecated in favor of reg:squarederror.\n",
            "[14:35:41] WARNING: /workspace/src/objective/regression_obj.cu:152: reg:linear is now deprecated in favor of reg:squarederror.\n",
            "[14:35:42] WARNING: /workspace/src/objective/regression_obj.cu:152: reg:linear is now deprecated in favor of reg:squarederror.\n",
            "[14:35:43] WARNING: /workspace/src/objective/regression_obj.cu:152: reg:linear is now deprecated in favor of reg:squarederror.\n",
            "[14:35:43] WARNING: /workspace/src/objective/regression_obj.cu:152: reg:linear is now deprecated in favor of reg:squarederror.\n"
          ],
          "name": "stdout"
        },
        {
          "output_type": "stream",
          "text": [
            "\n",
            " 93%|█████████▎| 13/14 [00:25<00:02,  2.80s/it]\u001b[A"
          ],
          "name": "stderr"
        },
        {
          "output_type": "stream",
          "text": [
            "12 fold\n",
            "[14:35:44] WARNING: /workspace/src/objective/regression_obj.cu:152: reg:linear is now deprecated in favor of reg:squarederror.\n",
            "[14:35:45] WARNING: /workspace/src/objective/regression_obj.cu:152: reg:linear is now deprecated in favor of reg:squarederror.\n",
            "[14:35:45] WARNING: /workspace/src/objective/regression_obj.cu:152: reg:linear is now deprecated in favor of reg:squarederror.\n",
            "[14:35:46] WARNING: /workspace/src/objective/regression_obj.cu:152: reg:linear is now deprecated in favor of reg:squarederror.\n",
            "[14:35:47] WARNING: /workspace/src/objective/regression_obj.cu:152: reg:linear is now deprecated in favor of reg:squarederror.\n"
          ],
          "name": "stdout"
        },
        {
          "output_type": "stream",
          "text": [
            "\n",
            "100%|██████████| 14/14 [00:29<00:00,  2.10s/it]"
          ],
          "name": "stderr"
        },
        {
          "output_type": "stream",
          "text": [
            "13 fold\n"
          ],
          "name": "stdout"
        },
        {
          "output_type": "stream",
          "text": [
            "\n"
          ],
          "name": "stderr"
        }
      ]
    },
    {
      "cell_type": "code",
      "metadata": {
        "id": "XinZWXhUP1Qg",
        "colab_type": "code",
        "colab": {
          "base_uri": "https://localhost:8080/",
          "height": 295
        },
        "outputId": "baa6ca24-175d-43a9-e7e9-505060bb48a2"
      },
      "source": [
        "plt.plot(range(1,15), cv_mae_selected)\n",
        "plt.title('PCA Feature Reduction: XGBoost')\n",
        "plt.xlabel('PC number')\n",
        "plt.ylabel('cv mae score')\n",
        "plt.show()"
      ],
      "execution_count": null,
      "outputs": [
        {
          "output_type": "display_data",
          "data": {
            "image/png": "[encoded data removed]",
            "text/plain": [
              "<Figure size 432x288 with 1 Axes>"
            ]
          },
          "metadata": {
            "tags": [],
            "needs_background": "light"
          }
        }
      ]
    },
    {
      "cell_type": "code",
      "metadata": {
        "id": "_mMfd9dZQQ7d",
        "colab_type": "code",
        "colab": {
          "base_uri": "https://localhost:8080/",
          "height": 34
        },
        "outputId": "96454b8d-5330-4423-9884-e50f252d0d25"
      },
      "source": [
        "np.min(cv_mae_selected)"
      ],
      "execution_count": null,
      "outputs": [
        {
          "output_type": "execute_result",
          "data": {
            "text/plain": [
              "16.957409"
            ]
          },
          "metadata": {
            "tags": []
          },
          "execution_count": 166
        }
      ]
    },
    {
      "cell_type": "code",
      "metadata": {
        "id": "kBDurZu2QXUX",
        "colab_type": "code",
        "colab": {
          "base_uri": "https://localhost:8080/",
          "height": 1000
        },
        "outputId": "cad4d313-2bfe-40f7-d2f0-5181195e9c5b"
      },
      "source": [
        "cv_mae_selected = []\n",
        "for i in tqdm(range(14)):\n",
        "    pc_X_train_selected = pc_X_train[:,:i+1]\n",
        "    kf = KFold(n_splits=5)\n",
        "    scores = []\n",
        "    for train_index, test_index in kf.split(pc_X_train_selected):\n",
        "        best_svr = grid_svr.best_estimator_\n",
        "        best_svr.fit(pc_X_train_selected[train_index], y_train[train_index])\n",
        "        pred = best_svr.predict(pc_X_train_selected[test_index])\n",
        "        scores.append(mae(y_train[test_index], pred))\n",
        "    cv_mae = np.mean(scores)\n",
        "    cv_mae_selected.append(cv_mae)\n",
        "    print(f'Score used PC until {i+1}', cv_mae)\n",
        "    print(i, 'fold')"
      ],
      "execution_count": null,
      "outputs": [
        {
          "output_type": "stream",
          "text": [
            "\n",
            "\n",
            "  0%|          | 0/14 [00:00<?, ?it/s]\u001b[A\u001b[A\n",
            "\n",
            "  7%|▋         | 1/14 [00:48<10:26, 48.20s/it]\u001b[A\u001b[A"
          ],
          "name": "stderr"
        },
        {
          "output_type": "stream",
          "text": [
            "Score used PC until 1 16.487006663151053\n",
            "0 fold\n"
          ],
          "name": "stdout"
        },
        {
          "output_type": "stream",
          "text": [
            "\n",
            "\n",
            " 14%|█▍        | 2/14 [01:21<08:43, 43.66s/it]\u001b[A\u001b[A"
          ],
          "name": "stderr"
        },
        {
          "output_type": "stream",
          "text": [
            "Score used PC until 2 16.308988747900933\n",
            "1 fold\n"
          ],
          "name": "stdout"
        },
        {
          "output_type": "stream",
          "text": [
            "\n",
            "\n",
            " 21%|██▏       | 3/14 [01:45<06:56, 37.87s/it]\u001b[A\u001b[A"
          ],
          "name": "stderr"
        },
        {
          "output_type": "stream",
          "text": [
            "Score used PC until 3 16.18438056162519\n",
            "2 fold\n"
          ],
          "name": "stdout"
        },
        {
          "output_type": "stream",
          "text": [
            "\n",
            "\n",
            " 29%|██▊       | 4/14 [02:10<05:38, 33.84s/it]\u001b[A\u001b[A"
          ],
          "name": "stderr"
        },
        {
          "output_type": "stream",
          "text": [
            "Score used PC until 4 16.147606702065264\n",
            "3 fold\n"
          ],
          "name": "stdout"
        },
        {
          "output_type": "stream",
          "text": [
            "\n",
            "\n",
            " 36%|███▌      | 5/14 [02:35<04:43, 31.45s/it]\u001b[A\u001b[A"
          ],
          "name": "stderr"
        },
        {
          "output_type": "stream",
          "text": [
            "Score used PC until 5 16.16867153375687\n",
            "4 fold\n"
          ],
          "name": "stdout"
        },
        {
          "output_type": "stream",
          "text": [
            "\n",
            "\n",
            " 43%|████▎     | 6/14 [03:00<03:55, 29.40s/it]\u001b[A\u001b[A"
          ],
          "name": "stderr"
        },
        {
          "output_type": "stream",
          "text": [
            "Score used PC until 6 16.102673478492015\n",
            "5 fold\n"
          ],
          "name": "stdout"
        },
        {
          "output_type": "stream",
          "text": [
            "\n",
            "\n",
            " 50%|█████     | 7/14 [03:26<03:18, 28.37s/it]\u001b[A\u001b[A"
          ],
          "name": "stderr"
        },
        {
          "output_type": "stream",
          "text": [
            "Score used PC until 7 16.0988010085426\n",
            "6 fold\n"
          ],
          "name": "stdout"
        },
        {
          "output_type": "stream",
          "text": [
            "\n",
            "\n",
            " 57%|█████▋    | 8/14 [03:51<02:44, 27.46s/it]\u001b[A\u001b[A"
          ],
          "name": "stderr"
        },
        {
          "output_type": "stream",
          "text": [
            "Score used PC until 8 16.10706753644267\n",
            "7 fold\n"
          ],
          "name": "stdout"
        },
        {
          "output_type": "stream",
          "text": [
            "\n",
            "\n",
            " 64%|██████▍   | 9/14 [04:18<02:16, 27.33s/it]\u001b[A\u001b[A"
          ],
          "name": "stderr"
        },
        {
          "output_type": "stream",
          "text": [
            "Score used PC until 9 16.049945628886185\n",
            "8 fold\n"
          ],
          "name": "stdout"
        },
        {
          "output_type": "stream",
          "text": [
            "\n",
            "\n",
            " 71%|███████▏  | 10/14 [04:46<01:49, 27.31s/it]\u001b[A\u001b[A"
          ],
          "name": "stderr"
        },
        {
          "output_type": "stream",
          "text": [
            "Score used PC until 10 16.034727571018102\n",
            "9 fold\n"
          ],
          "name": "stdout"
        },
        {
          "output_type": "stream",
          "text": [
            "\n",
            "\n",
            " 79%|███████▊  | 11/14 [05:12<01:21, 27.01s/it]\u001b[A\u001b[A"
          ],
          "name": "stderr"
        },
        {
          "output_type": "stream",
          "text": [
            "Score used PC until 11 16.02520110111672\n",
            "10 fold\n"
          ],
          "name": "stdout"
        },
        {
          "output_type": "stream",
          "text": [
            "\n",
            "\n",
            " 86%|████████▌ | 12/14 [05:39<00:54, 27.11s/it]\u001b[A\u001b[A"
          ],
          "name": "stderr"
        },
        {
          "output_type": "stream",
          "text": [
            "Score used PC until 12 16.026179246071766\n",
            "11 fold\n"
          ],
          "name": "stdout"
        },
        {
          "output_type": "stream",
          "text": [
            "\n",
            "\n",
            " 93%|█████████▎| 13/14 [06:05<00:26, 26.78s/it]\u001b[A\u001b[A"
          ],
          "name": "stderr"
        },
        {
          "output_type": "stream",
          "text": [
            "Score used PC until 13 16.026185374788575\n",
            "12 fold\n"
          ],
          "name": "stdout"
        },
        {
          "output_type": "stream",
          "text": [
            "\n",
            "\n",
            "100%|██████████| 14/14 [06:33<00:00, 28.11s/it]"
          ],
          "name": "stderr"
        },
        {
          "output_type": "stream",
          "text": [
            "Score used PC until 14 16.02617310889324\n",
            "13 fold\n"
          ],
          "name": "stdout"
        },
        {
          "output_type": "stream",
          "text": [
            "\n"
          ],
          "name": "stderr"
        }
      ]
    },
    {
      "cell_type": "code",
      "metadata": {
        "id": "pzy5yhqzRfQw",
        "colab_type": "code",
        "colab": {
          "base_uri": "https://localhost:8080/",
          "height": 295
        },
        "outputId": "75e8c936-4979-4e83-a179-540ed73ab45c"
      },
      "source": [
        "plt.plot(range(1,15), cv_mae_selected)\n",
        "plt.title('PCA Feature Reduction: SVR')\n",
        "plt.xlabel('PC number')\n",
        "plt.ylabel('cv mae score')\n",
        "plt.show()"
      ],
      "execution_count": null,
      "outputs": [
        {
          "output_type": "display_data",
          "data": {
            "image/png": "[encoded data removed]",
            "text/plain": [
              "<Figure size 432x288 with 1 Axes>"
            ]
          },
          "metadata": {
            "tags": [],
            "needs_background": "light"
          }
        }
      ]
    },
    {
      "cell_type": "code",
      "metadata": {
        "id": "eOLAyI8iQ32c",
        "colab_type": "code",
        "colab": {
          "base_uri": "https://localhost:8080/",
          "height": 52
        },
        "outputId": "4f586630-fb2b-45d2-a8e2-c5bd0830220d"
      },
      "source": [
        "print(np.min(cv_mae_selected))\n",
        "print(np.argmin(cv_mae_selected) + 1)"
      ],
      "execution_count": null,
      "outputs": [
        {
          "output_type": "stream",
          "text": [
            "16.02520110111672\n",
            "11\n"
          ],
          "name": "stdout"
        }
      ]
    },
    {
      "cell_type": "code",
      "metadata": {
        "id": "VJzOdV4_S8qc",
        "colab_type": "code",
        "colab": {
          "base_uri": "https://localhost:8080/",
          "height": 34
        },
        "outputId": "c4d0f8e3-f48f-4cc4-e77c-fb289355f323"
      },
      "source": [
        "-grid_svr.best_score_"
      ],
      "execution_count": null,
      "outputs": [
        {
          "output_type": "execute_result",
          "data": {
            "text/plain": [
              "15.8213216296203"
            ]
          },
          "metadata": {
            "tags": []
          },
          "execution_count": 173
        }
      ]
    },
    {
      "cell_type": "code",
      "metadata": {
        "id": "s2Qv7S0lTQFs",
        "colab_type": "code",
        "colab": {}
      },
      "source": [
        ""
      ],
      "execution_count": null,
      "outputs": []
    }
  ]
}